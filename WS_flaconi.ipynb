{
 "cells": [
  {
   "cell_type": "markdown",
   "id": "925b6d18-5061-441e-af6d-a7fb32094fc4",
   "metadata": {},
   "source": [
    "## Flaconi Web Scrapping"
   ]
  },
  {
   "cell_type": "code",
   "execution_count": 2,
   "id": "78df2ecf-25c8-4e29-bf44-fdcadae59108",
   "metadata": {},
   "outputs": [
    {
     "ename": "SessionNotCreatedException",
     "evalue": "Message: session not created: This version of ChromeDriver only supports Chrome version 114\nCurrent browser version is 123.0.6312.124 with binary path C:\\Program Files\\Google\\Chrome\\Application\\chrome.exe\nStacktrace:\nBacktrace:\n\tGetHandleVerifier [0x0120A813+48355]\n\t(No symbol) [0x0119C4B1]\n\t(No symbol) [0x010A5358]\n\t(No symbol) [0x010C61AC]\n\t(No symbol) [0x010C1EF3]\n\t(No symbol) [0x010C0579]\n\t(No symbol) [0x010F0C55]\n\t(No symbol) [0x010F093C]\n\t(No symbol) [0x010EA536]\n\t(No symbol) [0x010C82DC]\n\t(No symbol) [0x010C93DD]\n\tGetHandleVerifier [0x0146AABD+2539405]\n\tGetHandleVerifier [0x014AA78F+2800735]\n\tGetHandleVerifier [0x014A456C+2775612]\n\tGetHandleVerifier [0x012951E0+616112]\n\t(No symbol) [0x011A5F8C]\n\t(No symbol) [0x011A2328]\n\t(No symbol) [0x011A240B]\n\t(No symbol) [0x01194FF7]\n\tBaseThreadInitThunk [0x75CE7BA9+25]\n\tRtlInitializeExceptionChain [0x775BBE3B+107]\n\tRtlClearBits [0x775BBDBF+191]\n",
     "output_type": "error",
     "traceback": [
      "\u001b[1;31m---------------------------------------------------------------------------\u001b[0m",
      "\u001b[1;31mSessionNotCreatedException\u001b[0m                Traceback (most recent call last)",
      "Input \u001b[1;32mIn [2]\u001b[0m, in \u001b[0;36m<cell line: 11>\u001b[1;34m()\u001b[0m\n\u001b[0;32m      8\u001b[0m warnings\u001b[38;5;241m.\u001b[39msimplefilter(action\u001b[38;5;241m=\u001b[39m\u001b[38;5;124m'\u001b[39m\u001b[38;5;124mignore\u001b[39m\u001b[38;5;124m'\u001b[39m, category\u001b[38;5;241m=\u001b[39m\u001b[38;5;167;01mFutureWarning\u001b[39;00m)\n\u001b[0;32m     10\u001b[0m \u001b[38;5;28;01mfrom\u001b[39;00m \u001b[38;5;21;01mselenium\u001b[39;00m \u001b[38;5;28;01mimport\u001b[39;00m webdriver\n\u001b[1;32m---> 11\u001b[0m driver \u001b[38;5;241m=\u001b[39m \u001b[43mwebdriver\u001b[49m\u001b[38;5;241;43m.\u001b[39;49m\u001b[43mChrome\u001b[49m\u001b[43m(\u001b[49m\u001b[43m)\u001b[49m\n\u001b[0;32m     12\u001b[0m \u001b[38;5;28;01mfrom\u001b[39;00m \u001b[38;5;21;01mselenium\u001b[39;00m\u001b[38;5;21;01m.\u001b[39;00m\u001b[38;5;21;01mwebdriver\u001b[39;00m\u001b[38;5;21;01m.\u001b[39;00m\u001b[38;5;21;01mcommon\u001b[39;00m\u001b[38;5;21;01m.\u001b[39;00m\u001b[38;5;21;01mby\u001b[39;00m \u001b[38;5;28;01mimport\u001b[39;00m By\n\u001b[0;32m     14\u001b[0m \u001b[38;5;28;01mfrom\u001b[39;00m \u001b[38;5;21;01mtextblob_de\u001b[39;00m \u001b[38;5;28;01mimport\u001b[39;00m TextBlobDE\n",
      "File \u001b[1;32md:\\install\\conda\\lib\\site-packages\\selenium\\webdriver\\chrome\\webdriver.py:69\u001b[0m, in \u001b[0;36mWebDriver.__init__\u001b[1;34m(self, executable_path, port, options, service_args, desired_capabilities, service_log_path, chrome_options, service, keep_alive)\u001b[0m\n\u001b[0;32m     66\u001b[0m \u001b[38;5;28;01mif\u001b[39;00m \u001b[38;5;129;01mnot\u001b[39;00m service:\n\u001b[0;32m     67\u001b[0m     service \u001b[38;5;241m=\u001b[39m Service(executable_path, port, service_args, service_log_path)\n\u001b[1;32m---> 69\u001b[0m \u001b[38;5;28;43msuper\u001b[39;49m\u001b[43m(\u001b[49m\u001b[43m)\u001b[49m\u001b[38;5;241;43m.\u001b[39;49m\u001b[38;5;21;43m__init__\u001b[39;49m\u001b[43m(\u001b[49m\u001b[43mDesiredCapabilities\u001b[49m\u001b[38;5;241;43m.\u001b[39;49m\u001b[43mCHROME\u001b[49m\u001b[43m[\u001b[49m\u001b[38;5;124;43m'\u001b[39;49m\u001b[38;5;124;43mbrowserName\u001b[39;49m\u001b[38;5;124;43m'\u001b[39;49m\u001b[43m]\u001b[49m\u001b[43m,\u001b[49m\u001b[43m \u001b[49m\u001b[38;5;124;43m\"\u001b[39;49m\u001b[38;5;124;43mgoog\u001b[39;49m\u001b[38;5;124;43m\"\u001b[39;49m\u001b[43m,\u001b[49m\n\u001b[0;32m     70\u001b[0m \u001b[43m                 \u001b[49m\u001b[43mport\u001b[49m\u001b[43m,\u001b[49m\u001b[43m \u001b[49m\u001b[43moptions\u001b[49m\u001b[43m,\u001b[49m\n\u001b[0;32m     71\u001b[0m \u001b[43m                 \u001b[49m\u001b[43mservice_args\u001b[49m\u001b[43m,\u001b[49m\u001b[43m \u001b[49m\u001b[43mdesired_capabilities\u001b[49m\u001b[43m,\u001b[49m\n\u001b[0;32m     72\u001b[0m \u001b[43m                 \u001b[49m\u001b[43mservice_log_path\u001b[49m\u001b[43m,\u001b[49m\u001b[43m \u001b[49m\u001b[43mservice\u001b[49m\u001b[43m,\u001b[49m\u001b[43m \u001b[49m\u001b[43mkeep_alive\u001b[49m\u001b[43m)\u001b[49m\n",
      "File \u001b[1;32md:\\install\\conda\\lib\\site-packages\\selenium\\webdriver\\chromium\\webdriver.py:92\u001b[0m, in \u001b[0;36mChromiumDriver.__init__\u001b[1;34m(self, browser_name, vendor_prefix, port, options, service_args, desired_capabilities, service_log_path, service, keep_alive)\u001b[0m\n\u001b[0;32m     89\u001b[0m \u001b[38;5;28mself\u001b[39m\u001b[38;5;241m.\u001b[39mservice\u001b[38;5;241m.\u001b[39mstart()\n\u001b[0;32m     91\u001b[0m \u001b[38;5;28;01mtry\u001b[39;00m:\n\u001b[1;32m---> 92\u001b[0m     \u001b[38;5;28;43msuper\u001b[39;49m\u001b[43m(\u001b[49m\u001b[43m)\u001b[49m\u001b[38;5;241;43m.\u001b[39;49m\u001b[38;5;21;43m__init__\u001b[39;49m\u001b[43m(\u001b[49m\n\u001b[0;32m     93\u001b[0m \u001b[43m        \u001b[49m\u001b[43mcommand_executor\u001b[49m\u001b[38;5;241;43m=\u001b[39;49m\u001b[43mChromiumRemoteConnection\u001b[49m\u001b[43m(\u001b[49m\n\u001b[0;32m     94\u001b[0m \u001b[43m            \u001b[49m\u001b[43mremote_server_addr\u001b[49m\u001b[38;5;241;43m=\u001b[39;49m\u001b[38;5;28;43mself\u001b[39;49m\u001b[38;5;241;43m.\u001b[39;49m\u001b[43mservice\u001b[49m\u001b[38;5;241;43m.\u001b[39;49m\u001b[43mservice_url\u001b[49m\u001b[43m,\u001b[49m\n\u001b[0;32m     95\u001b[0m \u001b[43m            \u001b[49m\u001b[43mbrowser_name\u001b[49m\u001b[38;5;241;43m=\u001b[39;49m\u001b[43mbrowser_name\u001b[49m\u001b[43m,\u001b[49m\u001b[43m \u001b[49m\u001b[43mvendor_prefix\u001b[49m\u001b[38;5;241;43m=\u001b[39;49m\u001b[43mvendor_prefix\u001b[49m\u001b[43m,\u001b[49m\n\u001b[0;32m     96\u001b[0m \u001b[43m            \u001b[49m\u001b[43mkeep_alive\u001b[49m\u001b[38;5;241;43m=\u001b[39;49m\u001b[43mkeep_alive\u001b[49m\u001b[43m,\u001b[49m\u001b[43m \u001b[49m\u001b[43mignore_proxy\u001b[49m\u001b[38;5;241;43m=\u001b[39;49m\u001b[43m_ignore_proxy\u001b[49m\u001b[43m)\u001b[49m\u001b[43m,\u001b[49m\n\u001b[0;32m     97\u001b[0m \u001b[43m        \u001b[49m\u001b[43moptions\u001b[49m\u001b[38;5;241;43m=\u001b[39;49m\u001b[43moptions\u001b[49m\u001b[43m)\u001b[49m\n\u001b[0;32m     98\u001b[0m \u001b[38;5;28;01mexcept\u001b[39;00m \u001b[38;5;167;01mException\u001b[39;00m:\n\u001b[0;32m     99\u001b[0m     \u001b[38;5;28mself\u001b[39m\u001b[38;5;241m.\u001b[39mquit()\n",
      "File \u001b[1;32md:\\install\\conda\\lib\\site-packages\\selenium\\webdriver\\remote\\webdriver.py:277\u001b[0m, in \u001b[0;36mWebDriver.__init__\u001b[1;34m(self, command_executor, desired_capabilities, browser_profile, proxy, keep_alive, file_detector, options)\u001b[0m\n\u001b[0;32m    275\u001b[0m \u001b[38;5;28mself\u001b[39m\u001b[38;5;241m.\u001b[39m_authenticator_id \u001b[38;5;241m=\u001b[39m \u001b[38;5;28;01mNone\u001b[39;00m\n\u001b[0;32m    276\u001b[0m \u001b[38;5;28mself\u001b[39m\u001b[38;5;241m.\u001b[39mstart_client()\n\u001b[1;32m--> 277\u001b[0m \u001b[38;5;28;43mself\u001b[39;49m\u001b[38;5;241;43m.\u001b[39;49m\u001b[43mstart_session\u001b[49m\u001b[43m(\u001b[49m\u001b[43mcapabilities\u001b[49m\u001b[43m,\u001b[49m\u001b[43m \u001b[49m\u001b[43mbrowser_profile\u001b[49m\u001b[43m)\u001b[49m\n",
      "File \u001b[1;32md:\\install\\conda\\lib\\site-packages\\selenium\\webdriver\\remote\\webdriver.py:370\u001b[0m, in \u001b[0;36mWebDriver.start_session\u001b[1;34m(self, capabilities, browser_profile)\u001b[0m\n\u001b[0;32m    368\u001b[0m w3c_caps \u001b[38;5;241m=\u001b[39m _make_w3c_caps(capabilities)\n\u001b[0;32m    369\u001b[0m parameters \u001b[38;5;241m=\u001b[39m {\u001b[38;5;124m\"\u001b[39m\u001b[38;5;124mcapabilities\u001b[39m\u001b[38;5;124m\"\u001b[39m: w3c_caps}\n\u001b[1;32m--> 370\u001b[0m response \u001b[38;5;241m=\u001b[39m \u001b[38;5;28;43mself\u001b[39;49m\u001b[38;5;241;43m.\u001b[39;49m\u001b[43mexecute\u001b[49m\u001b[43m(\u001b[49m\u001b[43mCommand\u001b[49m\u001b[38;5;241;43m.\u001b[39;49m\u001b[43mNEW_SESSION\u001b[49m\u001b[43m,\u001b[49m\u001b[43m \u001b[49m\u001b[43mparameters\u001b[49m\u001b[43m)\u001b[49m\n\u001b[0;32m    371\u001b[0m \u001b[38;5;28;01mif\u001b[39;00m \u001b[38;5;124m'\u001b[39m\u001b[38;5;124msessionId\u001b[39m\u001b[38;5;124m'\u001b[39m \u001b[38;5;129;01mnot\u001b[39;00m \u001b[38;5;129;01min\u001b[39;00m response:\n\u001b[0;32m    372\u001b[0m     response \u001b[38;5;241m=\u001b[39m response[\u001b[38;5;124m'\u001b[39m\u001b[38;5;124mvalue\u001b[39m\u001b[38;5;124m'\u001b[39m]\n",
      "File \u001b[1;32md:\\install\\conda\\lib\\site-packages\\selenium\\webdriver\\remote\\webdriver.py:435\u001b[0m, in \u001b[0;36mWebDriver.execute\u001b[1;34m(self, driver_command, params)\u001b[0m\n\u001b[0;32m    433\u001b[0m response \u001b[38;5;241m=\u001b[39m \u001b[38;5;28mself\u001b[39m\u001b[38;5;241m.\u001b[39mcommand_executor\u001b[38;5;241m.\u001b[39mexecute(driver_command, params)\n\u001b[0;32m    434\u001b[0m \u001b[38;5;28;01mif\u001b[39;00m response:\n\u001b[1;32m--> 435\u001b[0m     \u001b[38;5;28;43mself\u001b[39;49m\u001b[38;5;241;43m.\u001b[39;49m\u001b[43merror_handler\u001b[49m\u001b[38;5;241;43m.\u001b[39;49m\u001b[43mcheck_response\u001b[49m\u001b[43m(\u001b[49m\u001b[43mresponse\u001b[49m\u001b[43m)\u001b[49m\n\u001b[0;32m    436\u001b[0m     response[\u001b[38;5;124m'\u001b[39m\u001b[38;5;124mvalue\u001b[39m\u001b[38;5;124m'\u001b[39m] \u001b[38;5;241m=\u001b[39m \u001b[38;5;28mself\u001b[39m\u001b[38;5;241m.\u001b[39m_unwrap_value(\n\u001b[0;32m    437\u001b[0m         response\u001b[38;5;241m.\u001b[39mget(\u001b[38;5;124m'\u001b[39m\u001b[38;5;124mvalue\u001b[39m\u001b[38;5;124m'\u001b[39m, \u001b[38;5;28;01mNone\u001b[39;00m))\n\u001b[0;32m    438\u001b[0m     \u001b[38;5;28;01mreturn\u001b[39;00m response\n",
      "File \u001b[1;32md:\\install\\conda\\lib\\site-packages\\selenium\\webdriver\\remote\\errorhandler.py:247\u001b[0m, in \u001b[0;36mErrorHandler.check_response\u001b[1;34m(self, response)\u001b[0m\n\u001b[0;32m    245\u001b[0m         alert_text \u001b[38;5;241m=\u001b[39m value[\u001b[38;5;124m'\u001b[39m\u001b[38;5;124malert\u001b[39m\u001b[38;5;124m'\u001b[39m]\u001b[38;5;241m.\u001b[39mget(\u001b[38;5;124m'\u001b[39m\u001b[38;5;124mtext\u001b[39m\u001b[38;5;124m'\u001b[39m)\n\u001b[0;32m    246\u001b[0m     \u001b[38;5;28;01mraise\u001b[39;00m exception_class(message, screen, stacktrace, alert_text)  \u001b[38;5;66;03m# type: ignore[call-arg]  # mypy is not smart enough here\u001b[39;00m\n\u001b[1;32m--> 247\u001b[0m \u001b[38;5;28;01mraise\u001b[39;00m exception_class(message, screen, stacktrace)\n",
      "\u001b[1;31mSessionNotCreatedException\u001b[0m: Message: session not created: This version of ChromeDriver only supports Chrome version 114\nCurrent browser version is 123.0.6312.124 with binary path C:\\Program Files\\Google\\Chrome\\Application\\chrome.exe\nStacktrace:\nBacktrace:\n\tGetHandleVerifier [0x0120A813+48355]\n\t(No symbol) [0x0119C4B1]\n\t(No symbol) [0x010A5358]\n\t(No symbol) [0x010C61AC]\n\t(No symbol) [0x010C1EF3]\n\t(No symbol) [0x010C0579]\n\t(No symbol) [0x010F0C55]\n\t(No symbol) [0x010F093C]\n\t(No symbol) [0x010EA536]\n\t(No symbol) [0x010C82DC]\n\t(No symbol) [0x010C93DD]\n\tGetHandleVerifier [0x0146AABD+2539405]\n\tGetHandleVerifier [0x014AA78F+2800735]\n\tGetHandleVerifier [0x014A456C+2775612]\n\tGetHandleVerifier [0x012951E0+616112]\n\t(No symbol) [0x011A5F8C]\n\t(No symbol) [0x011A2328]\n\t(No symbol) [0x011A240B]\n\t(No symbol) [0x01194FF7]\n\tBaseThreadInitThunk [0x75CE7BA9+25]\n\tRtlInitializeExceptionChain [0x775BBE3B+107]\n\tRtlClearBits [0x775BBDBF+191]\n"
     ]
    }
   ],
   "source": [
    "from bs4 import BeautifulSoup\n",
    "import requests\n",
    "import pandas as pd\n",
    "import re\n",
    "pd.set_option('display.max_rows', None)\n",
    "from IPython.display import display, HTML\n",
    "import warnings\n",
    "warnings.simplefilter(action='ignore', category=FutureWarning)\n",
    "\n",
    "from selenium import webdriver\n",
    "driver = webdriver.Chrome()\n",
    "from selenium.webdriver.common.by import By\n",
    "\n",
    "from textblob_de import TextBlobDE\n",
    "from datetime import datetime"
   ]
  },
  {
   "cell_type": "raw",
   "id": "00e66946-ba40-4567-bb65-cca057c05d2a",
   "metadata": {},
   "source": [
    "Alcina\n",
    "Kerastáse\n",
    "KMS\n",
    "L‘Oreal\n",
    "Olaplex\n",
    "Paul Mitchell\n",
    "Redken\n",
    "Wella\n",
    "System professtional"
   ]
  },
  {
   "cell_type": "markdown",
   "id": "8e7d6835-7bdd-47c6-b179-095550eb6a29",
   "metadata": {},
   "source": [
    "## get the page links (need to change the Input)"
   ]
  },
  {
   "cell_type": "code",
   "execution_count": 2,
   "id": "3913098c-70f2-4179-abdc-e58087b84e28",
   "metadata": {},
   "outputs": [
    {
     "name": "stdout",
     "output_type": "stream",
     "text": [
      "CPU times: total: 0 ns\n",
      "Wall time: 0 ns\n"
     ]
    },
    {
     "data": {
      "text/plain": [
       "559"
      ]
     },
     "execution_count": 2,
     "metadata": {},
     "output_type": "execute_result"
    }
   ],
   "source": [
    "%%time\n",
    "# get the pag links\n",
    "htmls = []\n",
    "\n",
    "for page in range(0,559): #if there are 3 pages, then input 3 \n",
    "        \n",
    "    page = page * 24\n",
    "    url = 'https://www.flaconi.de/pflege/?offset={}'\n",
    "    htmls.append(url.format(page))\n",
    "    \n",
    "         \n",
    "len(htmls)"
   ]
  },
  {
   "cell_type": "markdown",
   "id": "57a28fe0-dae2-4ed9-9609-e97c8b68353e",
   "metadata": {},
   "source": [
    "## get the product links.  "
   ]
  },
  {
   "cell_type": "code",
   "execution_count": 3,
   "id": "c6574cc5-9fc9-435e-8d4d-438e8ccaf4b3",
   "metadata": {},
   "outputs": [
    {
     "name": "stdout",
     "output_type": "stream",
     "text": [
      "CPU times: total: 59 s\n",
      "Wall time: 15min 58s\n"
     ]
    },
    {
     "data": {
      "text/plain": [
       "13384"
      ]
     },
     "execution_count": 3,
     "metadata": {},
     "output_type": "execute_result"
    }
   ],
   "source": [
    "%%time\n",
    "# get the product links\n",
    "\n",
    "productlinks = []\n",
    "\n",
    "for html in htmls:\n",
    "    \n",
    "\n",
    "    r = requests.get(html)\n",
    "    soup = BeautifulSoup(r.content, 'lxml')\n",
    "    \n",
    "    for item in soup.find_all('div', class_=\"ProductItemVerticalstyle__Wrapper-sc-1ihgv7p-19 efiUOb\"):\n",
    "        for link in item.find_all('a', href=True):\n",
    "            productlinks.append('https://www.flaconi.de' + link['href'])\n",
    "    \n",
    "   \n",
    "len(productlinks)"
   ]
  },
  {
   "cell_type": "code",
   "execution_count": 18,
   "id": "a42cfbda-a95b-4990-91db-7499df5e21b6",
   "metadata": {},
   "outputs": [],
   "source": [
    "def brand(soup):\n",
    "    try:\n",
    "        brand = soup.find('h1', class_='BrandProductNameAndTypestyle__Wrapper-sc-117vbmi-0 gwyTij').find('a')['title']\n",
    "    except (AttributeError, TypeError): \n",
    "        return \n",
    "    \n",
    "    return brand\n",
    "\n",
    "\n",
    "def name(soup):\n",
    "    try:\n",
    "        name = soup.find('span', class_=\"Headlines__H2-sc-2f0fsw-1 hEMkhZ\").text\n",
    "    except AttributeError: \n",
    "        return \n",
    "    \n",
    "    return name\n",
    "\n",
    "\n",
    "def id(row):\n",
    "    try:\n",
    "        id = row['data-product-sku']\n",
    "\n",
    "    \n",
    "    except AttributeError: \n",
    "        return \n",
    "    \n",
    "    return id\n",
    "\n",
    "def price1(row):\n",
    "    try:\n",
    "        price1 = row.find('div', class_ ='ProductPricestyle__PriceValue-sc-1flcbsi-1').text.replace('€','').replace('\\xa0','').replace(\",\", \".\")\n",
    "    except AttributeError: \n",
    "        return \n",
    "    \n",
    "    return price1\n",
    "\n",
    "def price2(row):\n",
    "    try:\n",
    "        price2 = row.find('div', class_ ='ProductPricestyle__Discount-sc-1flcbsi-2 bwoLlr').find('label').text.replace('€','').replace('\\xa0','').replace(\",\", \".\").replace(\"UVP\", \"\").replace(\" \", \"\")\n",
    "    except AttributeError: \n",
    "        return \n",
    "    \n",
    "    return price2\n",
    "\n",
    "\n",
    "def size(row):\n",
    "    try:\n",
    "        size = row.find('div', class_ ='ProductTitlestyle__Value-sc-18jmo3p-1 flAgYG').text\n",
    "    except AttributeError:\n",
    "        return\n",
    "    \n",
    "    return size\n",
    "\n",
    "\n",
    "def discount(row):\n",
    "    try:\n",
    "        discount1 = row.find('div', class_ ='ProductPricestyle__Discount-sc-1flcbsi-2 bwoLlr').text\n",
    "        discount =  re.split(\"\\s\", discount1)[0].replace('%','').replace('-','')\n",
    "    \n",
    "    except AttributeError: \n",
    "        return \n",
    "    \n",
    "    return discount\n",
    "\n",
    "\n",
    "def reviews(soup):\n",
    "    try:\n",
    "        reviews = re.search('\"ratingCount\":([\\d\\.]+)', soup.find_all('script', type=\"application/ld+json\")[1].text).group(1)\n",
    "    except AttributeError:\n",
    "        return 0\n",
    "    \n",
    "    return reviews\n",
    "\n",
    "\n",
    "def ratings(soup):\n",
    "    try:\n",
    "        ratings = re.search('\"ratingValue\":([\\d\\.]+)', soup.find_all('script', type=\"application/ld+json\")[1].text).group(1)\n",
    "    except AttributeError:\n",
    "        return 0\n",
    "    \n",
    "    return ratings"
   ]
  },
  {
   "cell_type": "code",
   "execution_count": 20,
   "id": "88582f5a-24f0-4a9f-a2e5-42367ddcd4de",
   "metadata": {},
   "outputs": [
    {
     "name": "stdout",
     "output_type": "stream",
     "text": [
      "CPU times: total: 44min 50s\n",
      "Wall time: 6h 54min 49s\n"
     ]
    },
    {
     "data": {
      "text/plain": [
       "(13479, 12)"
      ]
     },
     "execution_count": 20,
     "metadata": {},
     "output_type": "execute_result"
    }
   ],
   "source": [
    "%%time\n",
    "\n",
    "df  = pd.DataFrame(columns=['id','EAN','brand', 'name','discount', 'price1', 'price2','size', \"reviews\",\"ratings\",'sorting','links'])\n",
    "\n",
    "\n",
    "for i, link in enumerate(productlinks1):\n",
    "\n",
    "    driver.get(link)\n",
    "    soup = BeautifulSoup(driver.page_source, 'lxml') \n",
    "    \n",
    "    for row in soup.find_all(['div', 'label'],  {\"class\":[\"ProductVariantSelectorstyle__WrapperDiv-sc-15rhp37-1\", \"ProductVariantSelectorstyle__WrapperLabel-sc-15rhp37-0\"]}):\n",
    "      \n",
    "        link_ean = link + '#sku=' + str(id(row))\n",
    "        driver.get(link_ean)\n",
    "        soup = BeautifulSoup(driver.page_source, 'lxml') \n",
    "        EAN = soup.find('img', class_ = 'ProductPreviewSliderstyle__Image-sc-1t0tp5v-2 grpdtf')['src'].split(\".jpg\")[0].split(\"-\")[-1]\n",
    "            \n",
    "        product = {\n",
    "\n",
    "        \n",
    "        'id': [id(row)],\n",
    "        'EAN': [EAN],\n",
    "        'brand': [brand(soup)],\n",
    "        'name': [name(soup)],\n",
    "        'discount':None,\n",
    "        'price1': [price1(row)],\n",
    "        'price2': [price2(row)],\n",
    "        'size': [size(row)],\n",
    "        \"reviews\": [reviews(soup)],\n",
    "        \"ratings\": [ratings(soup)],\n",
    "        'sorting': [i],\n",
    "        'links' : [link],\n",
    "\n",
    "        }\n",
    "\n",
    "        product = pd.DataFrame(product)\n",
    "\n",
    "        \n",
    "        #df.append(product)\n",
    "        df = df.append(product)\n",
    "\n",
    "    df.append(df)\n",
    "    df = df.reset_index().drop('index',  axis=1)\n",
    "\n",
    "\n",
    "df.to_csv('raw.csv', index=False)\n",
    "df.shape"
   ]
  },
  {
   "cell_type": "code",
   "execution_count": 1,
   "id": "69f6552e-bcd8-4e1e-9461-d7585a7c3a94",
   "metadata": {},
   "outputs": [],
   "source": [
    "display(HTML(\"<div style='height: 500px'>\" + df.style.render() + \"</div>\"))\n",
    "   "
   ]
  },
  {
   "cell_type": "markdown",
   "id": "11e6fda5-ef43-4694-843c-744abb5ce3e3",
   "metadata": {},
   "source": [
    "## Data cleaning"
   ]
  },
  {
   "cell_type": "code",
   "execution_count": 19,
   "id": "5301a39d-53cf-476a-b351-008fc20e7905",
   "metadata": {},
   "outputs": [],
   "source": [
    "# convert the variables below to float\n",
    "df[[\"price1\",\"price2\",'ratings','reviews','sorting','discount']] = df[[\"price1\",\"price2\",'ratings','reviews','sorting','discount']].astype(float)\n",
    "\n",
    "\n",
    "# convert the sizes to float\n",
    "for i in range(0,df.shape[0]):\n",
    "    try:\n",
    "        df.at[i,'size'] = pd.to_numeric(df.loc[i]['size'], errors='ignore', downcast='float')\n",
    "    except ValueError:\n",
    "        pass\n",
    "\n",
    "#If price2 is empty, then price2 = price1\n",
    "for i in range(0, df.shape[0]):\n",
    "    if pd.isnull(df.loc[i]['price2']):\n",
    "        df.at[i,'price2'] = df.loc[i]['price1']\n",
    "\n",
    "\n",
    "#df['scale polarity (reviews*polarity)'] = df['reviews']*df['polarity']\n",
    "df['price2 minus price1'] = df['price2'] - df['price1']\n",
    "\n",
    "\n",
    "#price per 100 ml\n",
    "df['price1 per 100ml'] = None\n",
    "df['price2 per 100ml'] = None\n",
    "\n",
    "for i in range(0,df.shape[0]):\n",
    "    try:\n",
    "        df.at[i, 'price1 per 100ml']  = (df['price1'].iloc[i]/df['size'].iloc[i])*100\n",
    "    except TypeError:    \n",
    "        df.at[i,'price1 per 100ml'] = None\n",
    "    try:\n",
    "        df.at[i, 'price2 per 100ml']  = (df['price2'].iloc[i]/df['size'].iloc[i])*100\n",
    "    except TypeError:    \n",
    "        df.at[i,'price2 per 100ml'] = None\n",
    "        \n",
    "\n",
    "# create a new variable 'brand + name' \n",
    "df['brand + name'] = df['brand'] + ' ' + df['name'] \n",
    "for i in range(0,df.shape[0]):\n",
    "    df.at[i,'brand + name'] = str(df['brand + name'].iloc[i]).title().replace('  ',' ')\n",
    "        "
   ]
  },
  {
   "cell_type": "markdown",
   "id": "adad35c4-02fa-4611-9bac-5d9a45bc37bf",
   "metadata": {
    "jp-MarkdownHeadingCollapsed": true,
    "tags": []
   },
   "source": [
    "## flaconi Customers Comments Scrapping"
   ]
  },
  {
   "cell_type": "raw",
   "id": "38fab8df-daed-47b5-aac6-2ff55a0b01bf",
   "metadata": {},
   "source": [
    "from selenium.common.exceptions import TimeoutException\n",
    "from selenium.webdriver.support.ui import WebDriverWait\n",
    "from selenium.webdriver.support import expected_conditions as EC\n",
    "from selenium.webdriver.common.by import By\n"
   ]
  },
  {
   "cell_type": "raw",
   "id": "bcafd7a1-e843-44ba-8fd2-b090dc321cd0",
   "metadata": {},
   "source": [
    "\n",
    "def comments(driver):\n",
    "    \n",
    "    try: \n",
    "        element_present = EC.presence_of_element_located((By.CLASS_NAME, 'content-review'))\n",
    "        WebDriverWait(driver, timeout).until(element_present)\n",
    "\n",
    "        soup = BeautifulSoup(driver.page_source, 'lxml')\n",
    "\n",
    "        return ''.join([j.text for j in soup.find_all('div', class_='content-review')])\n",
    "              \n",
    "    except TimeoutException:\n",
    "        return     \n",
    "    \n",
    "    return comments "
   ]
  },
  {
   "cell_type": "raw",
   "id": "9fde8dbd-4873-4a15-b07f-feb61a4af339",
   "metadata": {},
   "source": [
    "%%time\n",
    "\n",
    "df['comments'] = None\n",
    "\n",
    "for i in range(1, df.shape[0]):\n",
    "    \n",
    "    if df['links'].iloc[i] == df['links'].iloc[i-1]:\n",
    "        df.at[i,'comments'] = df['comments'].iloc[i-1]\n",
    "    else:\n",
    "\n",
    "    \n",
    "        x = df.loc[i]['reviews']\n",
    "        if int(x / 5) < 1 and int(x / 5) == 1:\n",
    "            page = 2\n",
    "        else:\n",
    "            page = int(x / 5)+2\n",
    "\n",
    "        comment = []\n",
    "        for j in range(1, page):\n",
    "            url = df.loc[i]['links']+'?yoReviewsPage={}'\n",
    "            url.format(j)\n",
    "            driver.get(url.format(j))\n",
    "            timeout = 1\n",
    "            comment.append(comments(driver))\n",
    "\n",
    "        df.at[i,'comments'] = \" \".join(filter(None, comment))"
   ]
  },
  {
   "cell_type": "markdown",
   "id": "32519435-afed-444e-b198-2889c9e418dd",
   "metadata": {
    "jp-MarkdownHeadingCollapsed": true,
    "tags": []
   },
   "source": [
    "## Sentiment Analysis by Textblod"
   ]
  },
  {
   "cell_type": "raw",
   "id": "f7c27c6a-c237-41e7-9fb9-a93fe56cee7b",
   "metadata": {},
   "source": [
    "from textblob_de import TextBlobDE\n",
    "\n",
    "#df = pd.read_csv('flaconi_hairCare_customerComments.csv')\n",
    "df['polarity'] = None\n",
    "\n",
    "\n",
    "def sentiment(i):\n",
    "    try:\n",
    "        x = TextBlobDE(df.loc[i]['comments']).sentiment.polarity\n",
    "    except TypeError:\n",
    "        return 0\n",
    "    \n",
    "    return x\n",
    "\n",
    "%%time\n",
    "\n",
    "for i in range(0,df.shape[0]):\n",
    "    df.at[i,'polarity']  = sentiment(i)"
   ]
  },
  {
   "cell_type": "markdown",
   "id": "756ee19f-499e-47ff-bdf7-574316b29d5c",
   "metadata": {
    "jp-MarkdownHeadingCollapsed": true,
    "tags": []
   },
   "source": [
    "## delivery day"
   ]
  },
  {
   "cell_type": "raw",
   "id": "98ff09bb-76d1-4637-b1f4-19bcb5f9a4c5",
   "metadata": {},
   "source": [
    "\n",
    "for i in range(0,df.shape[0]):\n",
    "    \n",
    "        r = requests.get(df['links'].iloc[1])\n",
    "        soup = BeautifulSoup(r.content, 'lxml')\n",
    "\n",
    "        s1 = re.findall(\"\\., [0-9|\\.]*\", soup.find('p',class_='InlineInfoStringstyle__Value-sc-3relpt-2 mdKLB').text)\n",
    "        s2 = [ i[3::1] for i in s1]\n",
    "        day = datetime.strptime(s2[1],'%d.%m.%Y') - datetime.strptime(s2[0],'%d.%m.%Y')\n",
    "        df.at[i,'deliveryTime'] = day.days"
   ]
  },
  {
   "cell_type": "markdown",
   "id": "327a69d1-3668-420d-a0c2-6e808b0fccc0",
   "metadata": {
    "tags": []
   },
   "source": [
    "## label the categories"
   ]
  },
  {
   "cell_type": "code",
   "execution_count": 20,
   "id": "03ffd212-9c0a-42ff-84a0-6ec3e19dbc7c",
   "metadata": {},
   "outputs": [
    {
     "data": {
      "text/html": [
       "<div>\n",
       "<style scoped>\n",
       "    .dataframe tbody tr th:only-of-type {\n",
       "        vertical-align: middle;\n",
       "    }\n",
       "\n",
       "    .dataframe tbody tr th {\n",
       "        vertical-align: top;\n",
       "    }\n",
       "\n",
       "    .dataframe thead th {\n",
       "        text-align: right;\n",
       "    }\n",
       "</style>\n",
       "<table border=\"1\" class=\"dataframe\">\n",
       "  <thead>\n",
       "    <tr style=\"text-align: right;\">\n",
       "      <th></th>\n",
       "      <th>id</th>\n",
       "      <th>EAN</th>\n",
       "      <th>brand</th>\n",
       "      <th>name</th>\n",
       "      <th>brand + name</th>\n",
       "      <th>size</th>\n",
       "      <th>discount</th>\n",
       "      <th>price1</th>\n",
       "      <th>price2</th>\n",
       "      <th>price2 minus price1</th>\n",
       "      <th>...</th>\n",
       "      <th>price2 per 100ml</th>\n",
       "      <th>reviews</th>\n",
       "      <th>ratings</th>\n",
       "      <th>sorting</th>\n",
       "      <th>p_category</th>\n",
       "      <th>pp_category</th>\n",
       "      <th>main_category</th>\n",
       "      <th>source</th>\n",
       "      <th>links</th>\n",
       "      <th>deliveryTime</th>\n",
       "    </tr>\n",
       "  </thead>\n",
       "  <tbody>\n",
       "    <tr>\n",
       "      <th>0</th>\n",
       "      <td>80049483-50</td>\n",
       "      <td>817777003819</td>\n",
       "      <td>NIA-114</td>\n",
       "      <td>Tighten&amp;Lift Tightening Face Serum</td>\n",
       "      <td>Nia-114 Tighten&amp;Lift Tightening Face Serum</td>\n",
       "      <td>50.0</td>\n",
       "      <td>NaN</td>\n",
       "      <td>81.95</td>\n",
       "      <td>81.95</td>\n",
       "      <td>0.00</td>\n",
       "      <td>...</td>\n",
       "      <td>163.9</td>\n",
       "      <td>0.0</td>\n",
       "      <td>0.00000</td>\n",
       "      <td>0.0</td>\n",
       "      <td>None</td>\n",
       "      <td>Pflege</td>\n",
       "      <td>Pflege</td>\n",
       "      <td>flaconi</td>\n",
       "      <td>https://www.flaconi.de/pflege/strivectin/tight...</td>\n",
       "      <td>2</td>\n",
       "    </tr>\n",
       "    <tr>\n",
       "      <th>1</th>\n",
       "      <td>80050333-50</td>\n",
       "      <td>4016083059718</td>\n",
       "      <td>Hildegard Braukmann</td>\n",
       "      <td>Exquisit Creme Bleue</td>\n",
       "      <td>Hildegard Braukmann Exquisit Creme Bleue</td>\n",
       "      <td>50.0</td>\n",
       "      <td>NaN</td>\n",
       "      <td>18.95</td>\n",
       "      <td>22.00</td>\n",
       "      <td>3.05</td>\n",
       "      <td>...</td>\n",
       "      <td>44.0</td>\n",
       "      <td>3.0</td>\n",
       "      <td>4.66667</td>\n",
       "      <td>1.0</td>\n",
       "      <td>None</td>\n",
       "      <td>Pflege</td>\n",
       "      <td>Pflege</td>\n",
       "      <td>flaconi</td>\n",
       "      <td>https://www.flaconi.de/pflege/hildegard-braukm...</td>\n",
       "      <td>2</td>\n",
       "    </tr>\n",
       "    <tr>\n",
       "      <th>2</th>\n",
       "      <td>80032401-5</td>\n",
       "      <td>8809403815233</td>\n",
       "      <td>WHAMISA</td>\n",
       "      <td>Organic Flowers Water Cream</td>\n",
       "      <td>Whamisa Organic Flowers Water Cream</td>\n",
       "      <td>5.0</td>\n",
       "      <td>NaN</td>\n",
       "      <td>8.95</td>\n",
       "      <td>8.95</td>\n",
       "      <td>0.00</td>\n",
       "      <td>...</td>\n",
       "      <td>179.0</td>\n",
       "      <td>5.0</td>\n",
       "      <td>5.00000</td>\n",
       "      <td>2.0</td>\n",
       "      <td>None</td>\n",
       "      <td>Pflege</td>\n",
       "      <td>Pflege</td>\n",
       "      <td>flaconi</td>\n",
       "      <td>https://www.flaconi.de/pflege/whamisa/organic-...</td>\n",
       "      <td>2</td>\n",
       "    </tr>\n",
       "    <tr>\n",
       "      <th>3</th>\n",
       "      <td>80032401-51</td>\n",
       "      <td>8809403814960</td>\n",
       "      <td>WHAMISA</td>\n",
       "      <td>Organic Flowers Water Cream</td>\n",
       "      <td>Whamisa Organic Flowers Water Cream</td>\n",
       "      <td>51.0</td>\n",
       "      <td>NaN</td>\n",
       "      <td>45.95</td>\n",
       "      <td>52.00</td>\n",
       "      <td>6.05</td>\n",
       "      <td>...</td>\n",
       "      <td>101.960784</td>\n",
       "      <td>5.0</td>\n",
       "      <td>5.00000</td>\n",
       "      <td>2.0</td>\n",
       "      <td>None</td>\n",
       "      <td>Pflege</td>\n",
       "      <td>Pflege</td>\n",
       "      <td>flaconi</td>\n",
       "      <td>https://www.flaconi.de/pflege/whamisa/organic-...</td>\n",
       "      <td>2</td>\n",
       "    </tr>\n",
       "    <tr>\n",
       "      <th>4</th>\n",
       "      <td>80024638-150</td>\n",
       "      <td>3605975080865</td>\n",
       "      <td>Kiehl's</td>\n",
       "      <td>Ultra Facial Oil-Free Cleanser</td>\n",
       "      <td>Kiehl'S Ultra Facial Oil-Free Cleanser</td>\n",
       "      <td>150.0</td>\n",
       "      <td>NaN</td>\n",
       "      <td>16.95</td>\n",
       "      <td>16.95</td>\n",
       "      <td>0.00</td>\n",
       "      <td>...</td>\n",
       "      <td>11.3</td>\n",
       "      <td>5.0</td>\n",
       "      <td>4.60000</td>\n",
       "      <td>3.0</td>\n",
       "      <td>None</td>\n",
       "      <td>Pflege</td>\n",
       "      <td>Pflege</td>\n",
       "      <td>flaconi</td>\n",
       "      <td>https://www.flaconi.de/pflege/kiehl-s/ultra-fa...</td>\n",
       "      <td>2</td>\n",
       "    </tr>\n",
       "  </tbody>\n",
       "</table>\n",
       "<p>5 rows × 21 columns</p>\n",
       "</div>"
      ],
      "text/plain": [
       "             id            EAN                brand  \\\n",
       "0   80049483-50   817777003819              NIA-114   \n",
       "1   80050333-50  4016083059718  Hildegard Braukmann   \n",
       "2    80032401-5  8809403815233              WHAMISA   \n",
       "3   80032401-51  8809403814960              WHAMISA   \n",
       "4  80024638-150  3605975080865              Kiehl's   \n",
       "\n",
       "                                  name  \\\n",
       "0  Tighten&Lift Tightening Face Serum    \n",
       "1                Exquisit Creme Bleue    \n",
       "2         Organic Flowers Water Cream    \n",
       "3         Organic Flowers Water Cream    \n",
       "4      Ultra Facial Oil-Free Cleanser    \n",
       "\n",
       "                                   brand + name   size  discount  price1  \\\n",
       "0   Nia-114 Tighten&Lift Tightening Face Serum    50.0       NaN   81.95   \n",
       "1     Hildegard Braukmann Exquisit Creme Bleue    50.0       NaN   18.95   \n",
       "2          Whamisa Organic Flowers Water Cream     5.0       NaN    8.95   \n",
       "3          Whamisa Organic Flowers Water Cream    51.0       NaN   45.95   \n",
       "4       Kiehl'S Ultra Facial Oil-Free Cleanser   150.0       NaN   16.95   \n",
       "\n",
       "   price2  price2 minus price1  ... price2 per 100ml reviews  ratings  \\\n",
       "0   81.95                 0.00  ...            163.9     0.0  0.00000   \n",
       "1   22.00                 3.05  ...             44.0     3.0  4.66667   \n",
       "2    8.95                 0.00  ...            179.0     5.0  5.00000   \n",
       "3   52.00                 6.05  ...       101.960784     5.0  5.00000   \n",
       "4   16.95                 0.00  ...             11.3     5.0  4.60000   \n",
       "\n",
       "   sorting  p_category pp_category main_category   source  \\\n",
       "0      0.0        None     Pflege         Pflege  flaconi   \n",
       "1      1.0        None     Pflege         Pflege  flaconi   \n",
       "2      2.0        None     Pflege         Pflege  flaconi   \n",
       "3      2.0        None     Pflege         Pflege  flaconi   \n",
       "4      3.0        None     Pflege         Pflege  flaconi   \n",
       "\n",
       "                                               links deliveryTime  \n",
       "0  https://www.flaconi.de/pflege/strivectin/tight...            2  \n",
       "1  https://www.flaconi.de/pflege/hildegard-braukm...            2  \n",
       "2  https://www.flaconi.de/pflege/whamisa/organic-...            2  \n",
       "3  https://www.flaconi.de/pflege/whamisa/organic-...            2  \n",
       "4  https://www.flaconi.de/pflege/kiehl-s/ultra-fa...            2  \n",
       "\n",
       "[5 rows x 21 columns]"
      ]
     },
     "execution_count": 20,
     "metadata": {},
     "output_type": "execute_result"
    }
   ],
   "source": [
    "\n",
    "\n",
    "df['p_category'] = None ### need to change\n",
    "df['pp_category'] = 'Pflege '### need to change\n",
    "df['main_category'] = 'Pflege'### need to change\n",
    "df['source'] = 'flaconi'\n",
    "df.head()"
   ]
  },
  {
   "cell_type": "code",
   "execution_count": 21,
   "id": "4ae5907d-a680-4c1f-9133-6695c8bdc66c",
   "metadata": {},
   "outputs": [
    {
     "data": {
      "text/plain": [
       "(17020, 21)"
      ]
     },
     "execution_count": 21,
     "metadata": {},
     "output_type": "execute_result"
    }
   ],
   "source": [
    "#df = df[['id', 'EAN', 'brand', 'name', 'size', 'discount', 'price1', 'price2', 'price2 minus price1', 'price1 per 100ml','price2 per 100ml','reviews', 'ratings', 'sorting', 'p_category', 'pp_category', 'main_category', 'sourse', 'links', 'comments', 'polarity','scale polarity (reviews*polarity)','deliveryTime']]\n",
    "\n",
    "df = df[['id', 'EAN', 'brand', 'name', 'brand + name', 'size', 'discount', 'price1', 'price2', 'price2 minus price1', 'price1 per 100ml','price2 per 100ml','reviews', 'ratings', 'sorting', 'p_category', 'pp_category', 'main_category', 'source', 'links', 'deliveryTime']]\n",
    "df.shape"
   ]
  },
  {
   "cell_type": "code",
   "execution_count": 22,
   "id": "52f0cf43-94e7-4289-a0a8-65276d0821dd",
   "metadata": {},
   "outputs": [],
   "source": [
    "df.to_csv('pflege.csv', index=False)"
   ]
  },
  {
   "cell_type": "markdown",
   "id": "dcec5d7d-8547-415e-840b-2c922775144f",
   "metadata": {
    "tags": []
   },
   "source": [
    "### Combine all of datasets"
   ]
  },
  {
   "cell_type": "code",
   "execution_count": 194,
   "id": "6956b4d4-cea0-4235-9820-f708fd39cce4",
   "metadata": {},
   "outputs": [],
   "source": [
    "a = pd.read_csv(\"Gesichtspflege.csv\")\n",
    "b = pd.read_csv(\"Waschen & Pflegen_sp.csv\")\n",
    "c = pd.read_csv(\"Styling.csv\")\n",
    "d = pd.read_csv(\"Styling_sp.csv\")\n",
    "e = pd.read_csv(\"For Men.csv\")\n",
    "#f = pd.read_csv(\"Haarwachs & Gel.csv\")\n",
    "#g = pd.read_csv(\"Anti-Schuppen.csv\")\n",
    "#h = pd.read_csv(\"haarmaske.csv\")\n",
    "\n",
    "\n",
    "\n",
    "\n",
    "flaconi_raw= pd.concat([a, b, c, d ,e])\n",
    "\n",
    "flaconi_raw.to_csv('Haare.csv', index=False)"
   ]
  },
  {
   "cell_type": "raw",
   "id": "1ceaed46-c5a8-43ab-884b-97bba6747501",
   "metadata": {},
   "source": [
    "a= pd.read_csv(\"Shampoo.csv\")\n",
    "b = pd.read_csv(\"Conditioner.csv\")\n",
    "c = pd.read_csv(\"Haarkur.csv\")\n",
    "d = pd.read_csv(\"Haarserum.csv\")\n",
    "e = pd.read_csv(\"Haarspray.csv\")\n",
    "f = pd.read_csv(\"Haarwachs & Gel.csv\")\n",
    "g = pd.read_csv(\"Anti-Schuppen.csv\")\n",
    "#h = pd.read_csv(\"haarmaske.csv\")\n",
    "\n",
    "\n",
    "\n",
    "\n",
    "flaconi_raw= pd.concat([a, b, c ,d,e, f, g])\n",
    "\n",
    "flaconi_raw.to_csv('For Men.csv', index=False)"
   ]
  },
  {
   "cell_type": "raw",
   "id": "0dd9c56d-a1a8-4652-941f-a04f1c22584e",
   "metadata": {},
   "source": [
    "a = pd.read_csv(\"Stylingspray.csv\")\n",
    "b = pd.read_csv(\"Schaumfestiger.csv\")\n",
    "c = pd.read_csv(\"Stylingcreme & Lotion.csv\")\n",
    "#d = pd.read_csv(\"Haarwachs & Gel.csv\")\n",
    "e = pd.read_csv(\"Trockenshampoo.csv\")\n",
    "f = pd.read_csv(\"Hitzeschutz.csv\")\n",
    "#g = pd.read_csv(\"Haarfarbe.csv\")\n",
    "#h = pd.read_csv(\"haarmaske.csv\")\n",
    "\n",
    "\n",
    "\n",
    "\n",
    "flaconi= pd.concat([a, b, c,e, f])\n",
    "\n",
    "flaconi.to_csv('Styling_sp.csv', index=False)"
   ]
  },
  {
   "cell_type": "raw",
   "id": "5f443994-d329-42e0-9c82-f9f06131ad79",
   "metadata": {},
   "source": [
    "a= pd.read_csv(\"Shampoo.csv\")\n",
    "b = pd.read_csv(\"Conditioner.csv\")\n",
    "c = pd.read_csv(\"Haarkur.csv\")\n",
    "d = pd.read_csv(\"Haarmaske.csv\")\n",
    "e = pd.read_csv(\"Haaröl.csv\")\n",
    "f = pd.read_csv(\"Haarserum.csv\")\n",
    "g = pd.read_csv(\"Leave-In Pflege.csv\")\n",
    "#h = pd.read_csv(\"haarmaske.csv\")\n",
    "\n",
    "\n",
    "\n",
    "\n",
    "flaconi_raw= pd.concat([a, b, c ,d,e, f, g])\n",
    "\n",
    "flaconi_raw.to_csv('Waschen & Pflegen_sp.csv', index=False)"
   ]
  },
  {
   "cell_type": "code",
   "execution_count": 13,
   "id": "ce3b5c4c-db81-4a64-9273-0592fb4dee8a",
   "metadata": {},
   "outputs": [
    {
     "data": {
      "text/plain": [
       "10470"
      ]
     },
     "execution_count": 13,
     "metadata": {},
     "output_type": "execute_result"
    }
   ],
   "source": [
    "len(productlinks[2914:])"
   ]
  },
  {
   "cell_type": "code",
   "execution_count": null,
   "id": "68c4b42f-24e1-48b2-8506-4a7d30690b17",
   "metadata": {},
   "outputs": [],
   "source": [
    "https://www.flaconi.de/pflege/happybrush/rotierend/happybrush-rotierend-r2-elektrische-zahnbuerste.html"
   ]
  }
 ],
 "metadata": {
  "kernelspec": {
   "display_name": "Python 3.9.12 ('base')",
   "language": "python",
   "name": "python3"
  },
  "language_info": {
   "codemirror_mode": {
    "name": "ipython",
    "version": 3
   },
   "file_extension": ".py",
   "mimetype": "text/x-python",
   "name": "python",
   "nbconvert_exporter": "python",
   "pygments_lexer": "ipython3",
   "version": "3.9.12"
  },
  "vscode": {
   "interpreter": {
    "hash": "a371848896e3b70ceac1e8ecf37ad769db161bd8e02d0a2433ee3c19f99b9da3"
   }
  }
 },
 "nbformat": 4,
 "nbformat_minor": 5
}
