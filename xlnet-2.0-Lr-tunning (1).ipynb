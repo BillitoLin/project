{
 "cells": [
  {
   "cell_type": "code",
   "execution_count": 1,
   "id": "a4e3c2ab-aeb9-442b-8250-5bd904d27ec8",
   "metadata": {
    "tags": []
   },
   "outputs": [
    {
     "name": "stderr",
     "output_type": "stream",
     "text": [
      "2024-01-25 12:25:43.718775: E tensorflow/compiler/xla/stream_executor/cuda/cuda_dnn.cc:9342] Unable to register cuDNN factory: Attempting to register factory for plugin cuDNN when one has already been registered\n",
      "2024-01-25 12:25:43.718841: E tensorflow/compiler/xla/stream_executor/cuda/cuda_fft.cc:609] Unable to register cuFFT factory: Attempting to register factory for plugin cuFFT when one has already been registered\n",
      "2024-01-25 12:25:43.718883: E tensorflow/compiler/xla/stream_executor/cuda/cuda_blas.cc:1518] Unable to register cuBLAS factory: Attempting to register factory for plugin cuBLAS when one has already been registered\n",
      "2024-01-25 12:25:43.728862: I tensorflow/core/platform/cpu_feature_guard.cc:182] This TensorFlow binary is optimized to use available CPU instructions in performance-critical operations.\n",
      "To enable the following instructions: AVX2 FMA, in other operations, rebuild TensorFlow with the appropriate compiler flags.\n",
      "2024-01-25 12:25:44.845897: W tensorflow/compiler/tf2tensorrt/utils/py_utils.cc:38] TF-TRT Warning: Could not find TensorRT\n"
     ]
    }
   ],
   "source": [
    "\n",
    "import pandas as pd\n",
    "from sklearn.model_selection import train_test_split\n",
    "from transformers import AutoTokenizer, XLNetForSequenceClassification\n",
    "import torch\n",
    "torch.cuda.empty_cache()\n",
    "from transformers import Trainer, TrainingArguments\n",
    "from sklearn.metrics import accuracy_score, precision_recall_fscore_support\n",
    "import numpy as np\n",
    "from sklearn.metrics import confusion_matrix\n",
    "from torch.nn import CrossEntropyLoss\n",
    "import random\n",
    "import nlpaug.augmenter.word as naw\n",
    "import nltk\n",
    "from nltk.corpus import wordnet\n",
    "\n",
    "\n",
    "\n",
    "from peft import LoraConfig, TaskType\n",
    "from peft import get_peft_model\n"
   ]
  },
  {
   "cell_type": "code",
   "execution_count": 2,
   "id": "a5885023-6c73-46b3-a724-e69476968b7d",
   "metadata": {
    "tags": []
   },
   "outputs": [
    {
     "data": {
      "text/plain": [
       "Index(['policy_id', 'policy_type', 'segments', 'Segment Text', 'First Party',\n",
       "       'Third Party', 'Information Type', 'Purpose', 'Collection Process',\n",
       "       'Legal Basis for Collection', 'Third-Party Entity',\n",
       "       'Information Type_Computer information',\n",
       "       'Information Type_Contact information',\n",
       "       'Information Type_Cookies and tracking elements',\n",
       "       'Information Type_Demographic data', 'Information Type_Financial',\n",
       "       'Information Type_Generic personal information',\n",
       "       'Information Type_IP address and device IDs',\n",
       "       'Information Type_Location', 'Purpose_Advertising or marketing',\n",
       "       'Purpose_Analytics or research', 'Purpose_Essential service or feature',\n",
       "       'Purpose_Legal requirement', 'Purpose_Service operation and security',\n",
       "       'Collection Process_Collected on first-party website/app',\n",
       "       'Legal Basis for Collection_Legitimate interests of first or third party',\n",
       "       'Information Type_User online activities',\n",
       "       'Collection Process_Shared by first party with a third party'],\n",
       "      dtype='object')"
      ]
     },
     "execution_count": 2,
     "metadata": {},
     "output_type": "execute_result"
    }
   ],
   "source": [
    "df = pd.read_csv(\"en_5.0.csv\")\n",
    "df.columns[df.notnull().any()]"
   ]
  },
  {
   "cell_type": "code",
   "execution_count": 14,
   "id": "98e669eb-3946-4d64-b315-192007d03fda",
   "metadata": {
    "tags": []
   },
   "outputs": [],
   "source": [
    "target_column =   'Legal Basis for Collection'\n",
    "batch_size = 8\n",
    "epochs = 3\n"
   ]
  },
  {
   "cell_type": "markdown",
   "id": "974cd241-d2d5-4e6d-bae4-ec404ce4c6fd",
   "metadata": {
    "jp-MarkdownHeadingCollapsed": true,
    "tags": []
   },
   "source": [
    "# original"
   ]
  },
  {
   "cell_type": "code",
   "execution_count": 9,
   "id": "22bef454-7c12-45fd-aea8-e389373e72ad",
   "metadata": {
    "tags": []
   },
   "outputs": [
    {
     "name": "stderr",
     "output_type": "stream",
     "text": [
      "Some weights of XLNetForSequenceClassification were not initialized from the model checkpoint at xlnet-base-cased and are newly initialized: ['sequence_summary.summary.bias', 'sequence_summary.summary.weight', 'logits_proj.weight', 'logits_proj.bias']\n",
      "You should probably TRAIN this model on a down-stream task to be able to use it for predictions and inference.\n"
     ]
    },
    {
     "name": "stdout",
     "output_type": "stream",
     "text": [
      "Training with learning rate: 5e-05\n"
     ]
    },
    {
     "data": {
      "text/html": [
       "\n",
       "    <div>\n",
       "      \n",
       "      <progress value='972' max='972' style='width:300px; height:20px; vertical-align: middle;'></progress>\n",
       "      [972/972 08:44, Epoch 3/3]\n",
       "    </div>\n",
       "    <table border=\"1\" class=\"dataframe\">\n",
       "  <thead>\n",
       " <tr style=\"text-align: left;\">\n",
       "      <th>Step</th>\n",
       "      <th>Training Loss</th>\n",
       "      <th>Validation Loss</th>\n",
       "    </tr>\n",
       "  </thead>\n",
       "  <tbody>\n",
       "  </tbody>\n",
       "</table><p>"
      ],
      "text/plain": [
       "<IPython.core.display.HTML object>"
      ]
     },
     "metadata": {},
     "output_type": "display_data"
    },
    {
     "data": {
      "text/html": [],
      "text/plain": [
       "<IPython.core.display.HTML object>"
      ]
     },
     "metadata": {},
     "output_type": "display_data"
    },
    {
     "name": "stdout",
     "output_type": "stream",
     "text": [
      "Evaluation loss for learning rate 5e-05: 0.4012907147407532\n",
      "[[437  38]\n",
      " [ 21 152]]\n",
      "Accuracy: 0.9089506172839507\n",
      "Precision: 0.8\n",
      "Recall: 0.8786127167630058\n",
      "F1 Score: 0.8374655647382921\n"
     ]
    },
    {
     "name": "stderr",
     "output_type": "stream",
     "text": [
      "Some weights of XLNetForSequenceClassification were not initialized from the model checkpoint at xlnet-base-cased and are newly initialized: ['sequence_summary.summary.bias', 'sequence_summary.summary.weight', 'logits_proj.weight', 'logits_proj.bias']\n",
      "You should probably TRAIN this model on a down-stream task to be able to use it for predictions and inference.\n"
     ]
    },
    {
     "name": "stdout",
     "output_type": "stream",
     "text": [
      "Training with learning rate: 0.0001\n"
     ]
    },
    {
     "data": {
      "text/html": [
       "\n",
       "    <div>\n",
       "      \n",
       "      <progress value='972' max='972' style='width:300px; height:20px; vertical-align: middle;'></progress>\n",
       "      [972/972 08:43, Epoch 3/3]\n",
       "    </div>\n",
       "    <table border=\"1\" class=\"dataframe\">\n",
       "  <thead>\n",
       " <tr style=\"text-align: left;\">\n",
       "      <th>Step</th>\n",
       "      <th>Training Loss</th>\n",
       "      <th>Validation Loss</th>\n",
       "    </tr>\n",
       "  </thead>\n",
       "  <tbody>\n",
       "  </tbody>\n",
       "</table><p>"
      ],
      "text/plain": [
       "<IPython.core.display.HTML object>"
      ]
     },
     "metadata": {},
     "output_type": "display_data"
    },
    {
     "data": {
      "text/html": [],
      "text/plain": [
       "<IPython.core.display.HTML object>"
      ]
     },
     "metadata": {},
     "output_type": "display_data"
    },
    {
     "name": "stdout",
     "output_type": "stream",
     "text": [
      "Evaluation loss for learning rate 0.0001: 0.4492437243461609\n",
      "[[437  38]\n",
      " [ 78  95]]\n",
      "Accuracy: 0.8209876543209876\n",
      "Precision: 0.7142857142857143\n",
      "Recall: 0.5491329479768786\n",
      "F1 Score: 0.6209150326797386\n"
     ]
    },
    {
     "name": "stderr",
     "output_type": "stream",
     "text": [
      "Some weights of XLNetForSequenceClassification were not initialized from the model checkpoint at xlnet-base-cased and are newly initialized: ['sequence_summary.summary.bias', 'sequence_summary.summary.weight', 'logits_proj.weight', 'logits_proj.bias']\n",
      "You should probably TRAIN this model on a down-stream task to be able to use it for predictions and inference.\n"
     ]
    },
    {
     "name": "stdout",
     "output_type": "stream",
     "text": [
      "Training with learning rate: 0.0002\n"
     ]
    },
    {
     "data": {
      "text/html": [
       "\n",
       "    <div>\n",
       "      \n",
       "      <progress value='972' max='972' style='width:300px; height:20px; vertical-align: middle;'></progress>\n",
       "      [972/972 08:46, Epoch 3/3]\n",
       "    </div>\n",
       "    <table border=\"1\" class=\"dataframe\">\n",
       "  <thead>\n",
       " <tr style=\"text-align: left;\">\n",
       "      <th>Step</th>\n",
       "      <th>Training Loss</th>\n",
       "      <th>Validation Loss</th>\n",
       "    </tr>\n",
       "  </thead>\n",
       "  <tbody>\n",
       "  </tbody>\n",
       "</table><p>"
      ],
      "text/plain": [
       "<IPython.core.display.HTML object>"
      ]
     },
     "metadata": {},
     "output_type": "display_data"
    },
    {
     "data": {
      "text/html": [],
      "text/plain": [
       "<IPython.core.display.HTML object>"
      ]
     },
     "metadata": {},
     "output_type": "display_data"
    },
    {
     "name": "stdout",
     "output_type": "stream",
     "text": [
      "Evaluation loss for learning rate 0.0002: 0.5816572308540344\n",
      "[[475   0]\n",
      " [173   0]]\n",
      "Accuracy: 0.7330246913580247\n",
      "Precision: 0.0\n",
      "Recall: 0.0\n",
      "F1 Score: 0.0\n"
     ]
    },
    {
     "name": "stderr",
     "output_type": "stream",
     "text": [
      "/opt/conda/lib/python3.10/site-packages/sklearn/metrics/_classification.py:1465: UndefinedMetricWarning: Precision and F-score are ill-defined and being set to 0.0 due to no predicted samples. Use `zero_division` parameter to control this behavior.\n",
      "  _warn_prf(average, modifier, msg_start, len(result))\n",
      "Some weights of XLNetForSequenceClassification were not initialized from the model checkpoint at xlnet-base-cased and are newly initialized: ['sequence_summary.summary.bias', 'sequence_summary.summary.weight', 'logits_proj.weight', 'logits_proj.bias']\n",
      "You should probably TRAIN this model on a down-stream task to be able to use it for predictions and inference.\n"
     ]
    },
    {
     "name": "stdout",
     "output_type": "stream",
     "text": [
      "Training with learning rate: 0.0003\n"
     ]
    },
    {
     "data": {
      "text/html": [
       "\n",
       "    <div>\n",
       "      \n",
       "      <progress value='972' max='972' style='width:300px; height:20px; vertical-align: middle;'></progress>\n",
       "      [972/972 08:42, Epoch 3/3]\n",
       "    </div>\n",
       "    <table border=\"1\" class=\"dataframe\">\n",
       "  <thead>\n",
       " <tr style=\"text-align: left;\">\n",
       "      <th>Step</th>\n",
       "      <th>Training Loss</th>\n",
       "      <th>Validation Loss</th>\n",
       "    </tr>\n",
       "  </thead>\n",
       "  <tbody>\n",
       "  </tbody>\n",
       "</table><p>"
      ],
      "text/plain": [
       "<IPython.core.display.HTML object>"
      ]
     },
     "metadata": {},
     "output_type": "display_data"
    },
    {
     "data": {
      "text/html": [],
      "text/plain": [
       "<IPython.core.display.HTML object>"
      ]
     },
     "metadata": {},
     "output_type": "display_data"
    },
    {
     "name": "stdout",
     "output_type": "stream",
     "text": [
      "Evaluation loss for learning rate 0.0003: 0.5809800028800964\n",
      "[[475   0]\n",
      " [173   0]]\n",
      "Accuracy: 0.7330246913580247\n",
      "Precision: 0.0\n",
      "Recall: 0.0\n",
      "F1 Score: 0.0\n",
      "Best Learning Rate: 5e-05 with loss: 0.4012907147407532\n",
      "Best f1 Learning Rat: 5e-05 with highest f1: 0.8374655647382921\n"
     ]
    },
    {
     "name": "stderr",
     "output_type": "stream",
     "text": [
      "/opt/conda/lib/python3.10/site-packages/sklearn/metrics/_classification.py:1465: UndefinedMetricWarning: Precision and F-score are ill-defined and being set to 0.0 due to no predicted samples. Use `zero_division` parameter to control this behavior.\n",
      "  _warn_prf(average, modifier, msg_start, len(result))\n"
     ]
    }
   ],
   "source": [
    "best_lr = None\n",
    "lowest_eval_loss = float('inf')\n",
    "\n",
    "\n",
    "best_f1_lr = None\n",
    "highest_f1 = 0\n",
    "\n",
    "\n",
    "learning_rates = [5e-5, 1e-4, 2e-4, 3e-4]\n",
    "\n",
    "for lr in learning_rates:\n",
    "    \n",
    "#--------------------------------------------------------------------------------    \n",
    "\n",
    "    tokenizer = AutoTokenizer.from_pretrained(\"xlnet-base-cased\")\n",
    "\n",
    "    model = XLNetForSequenceClassification.from_pretrained(\"xlnet-base-cased\")\n",
    "\n",
    " \n",
    "#-----------------------------------------------------------------------------------           \n",
    "\n",
    "    X_train = list(df['Segment Text'].loc[(df['policy_type'] == 'TRAIN')])\n",
    "    y_train = list(df[target_column].loc[(df['policy_type'] == 'TRAIN')])\n",
    "\n",
    "\n",
    "    # Split the data into training and validation sets\n",
    "    X_train, X_val, y_train, y_val = train_test_split(X_train, y_train, test_size=0.20, random_state=0)\n",
    "\n",
    "\n",
    "    # mapping labels\n",
    "\n",
    "    label_mapping = {0: 0, 1: 1}\n",
    "    y_train_integers = [label_mapping[label] for label in y_train]\n",
    "    y_val_integers = [label_mapping[label] for label in y_val]\n",
    "\n",
    "    train_encodings = tokenizer(X_train, max_length=512, truncation=True, padding='max_length')\n",
    "    val_encodings = tokenizer(X_val, max_length=512, truncation=True, padding='max_length')\n",
    "\n",
    "    #\n",
    "    class TextDataset(torch.utils.data.Dataset):\n",
    "        def __init__(self, encodings, labels):\n",
    "            self.encodings = encodings\n",
    "            self.labels = labels\n",
    "\n",
    "        def __getitem__(self, idx):\n",
    "            item = {key: torch.tensor(val[idx]) for key, val in self.encodings.items()}\n",
    "            item['labels'] = self.labels[idx]  # Removed torch.tensor here\n",
    "            return item\n",
    "\n",
    "        def __len__(self):\n",
    "            return len(self.labels)\n",
    "\n",
    "\n",
    "    train_dataset = TextDataset(train_encodings, y_train_integers)\n",
    "    val_dataset = TextDataset(val_encodings, y_val_integers)\n",
    "    \n",
    "#---------------------------------------------------------------------------  \n",
    "    \n",
    "    # Set up training arguments with the current learning rate\n",
    "    training_args = TrainingArguments(\n",
    "        output_dir='./results',\n",
    "        learning_rate=lr,  # Set learning rate here\n",
    "        num_train_epochs=epochs ,\n",
    "        per_device_train_batch_size=batch_size,\n",
    "        per_device_eval_batch_size=8,\n",
    "        warmup_steps=500,\n",
    "        weight_decay=0.01,\n",
    "        logging_dir='./logs',\n",
    "        logging_steps=100,\n",
    "        evaluation_strategy=\"steps\",\n",
    "        eval_steps=3000\n",
    "    )\n",
    "\n",
    "    # Set up the Trainer\n",
    "    trainer = Trainer(\n",
    "        model=model,\n",
    "        args=training_args,\n",
    "        train_dataset=train_dataset,\n",
    "        eval_dataset=val_dataset\n",
    "    )\n",
    "\n",
    "\n",
    "    # Train the model with the current learning rate\n",
    "    print(f\"Training with learning rate: {lr}\")\n",
    "    trainer.train()\n",
    "    \n",
    " # Evaluate the model\n",
    "    eval_result = trainer.evaluate()\n",
    "    print(f\"Evaluation loss for learning rate {lr}: {eval_result['eval_loss']}\")\n",
    "    \n",
    "    \n",
    "    predictions = trainer.predict(val_dataset).predictions\n",
    "    predictions_label = np.argmax(predictions, axis=1)\n",
    "\n",
    "    cm=confusion_matrix( y_val_integers, predictions_label)\n",
    "    print(cm)\n",
    "\n",
    "    accuracy = accuracy_score( y_val_integers, predictions_label)\n",
    "    precision, recall, f1, _ = precision_recall_fscore_support(y_val_integers, predictions_label, average='binary')\n",
    "    print(f\"Accuracy: {accuracy}\")\n",
    "    print(f\"Precision: {precision}\")\n",
    "    print(f\"Recall: {recall}\")\n",
    "    print(f\"F1 Score: {f1}\")\n",
    "\n",
    "    if eval_result['eval_loss'] < lowest_eval_loss:\n",
    "        best_lr = lr\n",
    "        lowest_eval_loss = eval_result['eval_loss']\n",
    "\n",
    "    if f1 > highest_f1:\n",
    "        best_f1_lr = lr\n",
    "        highest_f1 = f1\n",
    "        \n",
    "\n",
    "print(f\"Best Learning Rate: {best_lr} with loss: {lowest_eval_loss}\")\n",
    "print(f\"Best f1 Learning Rat: {best_f1_lr} with highest f1: { highest_f1}\")\n"
   ]
  },
  {
   "cell_type": "markdown",
   "id": "badac47e-684e-49aa-a088-8c4eb09607b0",
   "metadata": {
    "tags": []
   },
   "source": [
    "### Retrain the model with certain learning rate\n"
   ]
  },
  {
   "cell_type": "code",
   "execution_count": 10,
   "id": "2dfbc969-e0d8-4092-81b3-c1d6b61c5090",
   "metadata": {},
   "outputs": [
    {
     "name": "stderr",
     "output_type": "stream",
     "text": [
      "Some weights of XLNetForSequenceClassification were not initialized from the model checkpoint at xlnet-base-cased and are newly initialized: ['sequence_summary.summary.bias', 'sequence_summary.summary.weight', 'logits_proj.weight', 'logits_proj.bias']\n",
      "You should probably TRAIN this model on a down-stream task to be able to use it for predictions and inference.\n"
     ]
    },
    {
     "data": {
      "text/html": [
       "\n",
       "    <div>\n",
       "      \n",
       "      <progress value='1215' max='1215' style='width:300px; height:20px; vertical-align: middle;'></progress>\n",
       "      [1215/1215 10:55, Epoch 3/3]\n",
       "    </div>\n",
       "    <table border=\"1\" class=\"dataframe\">\n",
       "  <thead>\n",
       " <tr style=\"text-align: left;\">\n",
       "      <th>Step</th>\n",
       "      <th>Training Loss</th>\n",
       "      <th>Validation Loss</th>\n",
       "    </tr>\n",
       "  </thead>\n",
       "  <tbody>\n",
       "  </tbody>\n",
       "</table><p>"
      ],
      "text/plain": [
       "<IPython.core.display.HTML object>"
      ]
     },
     "metadata": {},
     "output_type": "display_data"
    },
    {
     "data": {
      "text/html": [],
      "text/plain": [
       "<IPython.core.display.HTML object>"
      ]
     },
     "metadata": {},
     "output_type": "display_data"
    },
    {
     "name": "stdout",
     "output_type": "stream",
     "text": [
      "[[529  36]\n",
      " [ 42 130]]\n",
      "Accuracy: 0.8941655359565808\n",
      "Precision: 0.7831325301204819\n",
      "Recall: 0.7558139534883721\n",
      "F1 Score: 0.7692307692307692\n"
     ]
    }
   ],
   "source": [
    "tokenizer = AutoTokenizer.from_pretrained(\"xlnet-base-cased\")\n",
    "\n",
    "model = XLNetForSequenceClassification.from_pretrained(\"xlnet-base-cased\")\n",
    "            \n",
    "#-----------------------------------------------------------------------------------     \n",
    "\n",
    "X_train=list(df['Segment Text'].loc[(df['policy_type'] == 'TRAIN')])\n",
    "X_test=list(df['Segment Text'].loc[(df['policy_type'] == 'TEST')])\n",
    "\n",
    "y_train=list(df[target_column].loc[(df['policy_type'] == 'TRAIN')])\n",
    "y_test=list(df[target_column].loc[(df['policy_type'] == 'TEST')])\n",
    "\n",
    "\n",
    "train_encodings = tokenizer(X_train, max_length=512, truncation=True, padding='max_length')\n",
    "test_encodings = tokenizer(X_test, max_length=512, truncation=True, padding='max_length')\n",
    "\n",
    "#-----------\n",
    "\n",
    "label_mapping = {0: 0, 1: 1}\n",
    "y_train_integers = [label_mapping[label] for label in y_train]\n",
    "y_test_integers = [label_mapping[label] for label in y_test]\n",
    "\n",
    "\n",
    "class TextDataset(torch.utils.data.Dataset):\n",
    "    def __init__(self, encodings, labels):\n",
    "        self.encodings = encodings\n",
    "        self.labels = labels\n",
    "\n",
    "    def __getitem__(self, idx):\n",
    "        item = {key: torch.tensor(val[idx]) for key, val in self.encodings.items()}\n",
    "        item['labels'] = self.labels[idx]  # Removed torch.tensor here\n",
    "        return item\n",
    "\n",
    "    def __len__(self):\n",
    "        return len(self.labels)\n",
    "\n",
    "train_dataset = TextDataset(train_encodings, y_train_integers)\n",
    "test_dataset = TextDataset(test_encodings, y_test_integers)\n",
    "\n",
    "#--------------------------\n",
    "\n",
    "training_args = TrainingArguments(\n",
    "    output_dir='./results',\n",
    "    learning_rate= best_f1_lr , # Set learning rate here\n",
    "    num_train_epochs=epochs ,\n",
    "    per_device_train_batch_size=batch_size,\n",
    "    per_device_eval_batch_size=8,\n",
    "    warmup_steps=500,\n",
    "    weight_decay=0.01,\n",
    "    logging_dir='./logs',\n",
    "    logging_steps=100,\n",
    "    evaluation_strategy=\"steps\",\n",
    "    eval_steps=3000\n",
    "\n",
    ")\n",
    "\n",
    "trainer = Trainer(\n",
    "    model=model,\n",
    "    args=training_args,\n",
    "    train_dataset=train_dataset,\n",
    "    eval_dataset=test_dataset\n",
    ")\n",
    "\n",
    "trainer.train()\n",
    "\n",
    "\n",
    "predictions = trainer.predict(test_dataset).predictions\n",
    "predictions_label = np.argmax(predictions, axis=1)\n",
    "\n",
    "cm=confusion_matrix(y_test_integers, predictions_label)\n",
    "print(cm)\n",
    "\n",
    "accuracy = accuracy_score(y_test_integers, predictions_label)\n",
    "precision, recall, f1, _ = precision_recall_fscore_support(y_test_integers, predictions_label, average='binary')\n",
    "print(f\"Accuracy: {accuracy}\")\n",
    "print(f\"Precision: {precision}\")\n",
    "print(f\"Recall: {recall}\")\n",
    "print(f\"F1 Score: {f1}\")"
   ]
  },
  {
   "cell_type": "markdown",
   "id": "0f55c53f-e21c-4989-b339-db252e8d4121",
   "metadata": {
    "jp-MarkdownHeadingCollapsed": true,
    "tags": []
   },
   "source": [
    "# Fine Tuning last 2 layers "
   ]
  },
  {
   "cell_type": "code",
   "execution_count": 9,
   "id": "29f9bd88-5644-472b-9472-894f93791f91",
   "metadata": {},
   "outputs": [
    {
     "name": "stderr",
     "output_type": "stream",
     "text": [
      "Some weights of XLNetForSequenceClassification were not initialized from the model checkpoint at xlnet-base-cased and are newly initialized: ['logits_proj.weight', 'sequence_summary.summary.weight', 'logits_proj.bias', 'sequence_summary.summary.bias']\n",
      "You should probably TRAIN this model on a down-stream task to be able to use it for predictions and inference.\n"
     ]
    },
    {
     "name": "stdout",
     "output_type": "stream",
     "text": [
      "Training with learning rate: 5e-05\n"
     ]
    },
    {
     "data": {
      "text/html": [
       "\n",
       "    <div>\n",
       "      \n",
       "      <progress value='972' max='972' style='width:300px; height:20px; vertical-align: middle;'></progress>\n",
       "      [972/972 04:58, Epoch 3/3]\n",
       "    </div>\n",
       "    <table border=\"1\" class=\"dataframe\">\n",
       "  <thead>\n",
       " <tr style=\"text-align: left;\">\n",
       "      <th>Step</th>\n",
       "      <th>Training Loss</th>\n",
       "      <th>Validation Loss</th>\n",
       "    </tr>\n",
       "  </thead>\n",
       "  <tbody>\n",
       "  </tbody>\n",
       "</table><p>"
      ],
      "text/plain": [
       "<IPython.core.display.HTML object>"
      ]
     },
     "metadata": {},
     "output_type": "display_data"
    },
    {
     "data": {
      "text/html": [],
      "text/plain": [
       "<IPython.core.display.HTML object>"
      ]
     },
     "metadata": {},
     "output_type": "display_data"
    },
    {
     "name": "stdout",
     "output_type": "stream",
     "text": [
      "Evaluation loss for learning rate 5e-05: 0.06161521375179291\n",
      "[[617   5]\n",
      " [  6  20]]\n",
      "Accuracy: 0.9830246913580247\n",
      "Precision: 0.8\n",
      "Recall: 0.7692307692307693\n",
      "F1 Score: 0.7843137254901961\n"
     ]
    },
    {
     "name": "stderr",
     "output_type": "stream",
     "text": [
      "Some weights of XLNetForSequenceClassification were not initialized from the model checkpoint at xlnet-base-cased and are newly initialized: ['logits_proj.weight', 'sequence_summary.summary.weight', 'logits_proj.bias', 'sequence_summary.summary.bias']\n",
      "You should probably TRAIN this model on a down-stream task to be able to use it for predictions and inference.\n"
     ]
    },
    {
     "name": "stdout",
     "output_type": "stream",
     "text": [
      "Training with learning rate: 0.0001\n"
     ]
    },
    {
     "data": {
      "text/html": [
       "\n",
       "    <div>\n",
       "      \n",
       "      <progress value='972' max='972' style='width:300px; height:20px; vertical-align: middle;'></progress>\n",
       "      [972/972 05:05, Epoch 3/3]\n",
       "    </div>\n",
       "    <table border=\"1\" class=\"dataframe\">\n",
       "  <thead>\n",
       " <tr style=\"text-align: left;\">\n",
       "      <th>Step</th>\n",
       "      <th>Training Loss</th>\n",
       "      <th>Validation Loss</th>\n",
       "    </tr>\n",
       "  </thead>\n",
       "  <tbody>\n",
       "  </tbody>\n",
       "</table><p>"
      ],
      "text/plain": [
       "<IPython.core.display.HTML object>"
      ]
     },
     "metadata": {},
     "output_type": "display_data"
    },
    {
     "data": {
      "text/html": [],
      "text/plain": [
       "<IPython.core.display.HTML object>"
      ]
     },
     "metadata": {},
     "output_type": "display_data"
    },
    {
     "name": "stdout",
     "output_type": "stream",
     "text": [
      "Evaluation loss for learning rate 0.0001: 0.1437637358903885\n",
      "[[622   0]\n",
      " [ 22   4]]\n",
      "Accuracy: 0.9660493827160493\n",
      "Precision: 1.0\n",
      "Recall: 0.15384615384615385\n",
      "F1 Score: 0.2666666666666667\n"
     ]
    },
    {
     "name": "stderr",
     "output_type": "stream",
     "text": [
      "Some weights of XLNetForSequenceClassification were not initialized from the model checkpoint at xlnet-base-cased and are newly initialized: ['logits_proj.weight', 'sequence_summary.summary.weight', 'logits_proj.bias', 'sequence_summary.summary.bias']\n",
      "You should probably TRAIN this model on a down-stream task to be able to use it for predictions and inference.\n"
     ]
    },
    {
     "name": "stdout",
     "output_type": "stream",
     "text": [
      "Training with learning rate: 0.0002\n"
     ]
    },
    {
     "data": {
      "text/html": [
       "\n",
       "    <div>\n",
       "      \n",
       "      <progress value='972' max='972' style='width:300px; height:20px; vertical-align: middle;'></progress>\n",
       "      [972/972 05:04, Epoch 3/3]\n",
       "    </div>\n",
       "    <table border=\"1\" class=\"dataframe\">\n",
       "  <thead>\n",
       " <tr style=\"text-align: left;\">\n",
       "      <th>Step</th>\n",
       "      <th>Training Loss</th>\n",
       "      <th>Validation Loss</th>\n",
       "    </tr>\n",
       "  </thead>\n",
       "  <tbody>\n",
       "  </tbody>\n",
       "</table><p>"
      ],
      "text/plain": [
       "<IPython.core.display.HTML object>"
      ]
     },
     "metadata": {},
     "output_type": "display_data"
    },
    {
     "data": {
      "text/html": [],
      "text/plain": [
       "<IPython.core.display.HTML object>"
      ]
     },
     "metadata": {},
     "output_type": "display_data"
    },
    {
     "name": "stdout",
     "output_type": "stream",
     "text": [
      "Evaluation loss for learning rate 0.0002: 0.06060611456632614\n",
      "[[617   5]\n",
      " [  6  20]]\n",
      "Accuracy: 0.9830246913580247\n",
      "Precision: 0.8\n",
      "Recall: 0.7692307692307693\n",
      "F1 Score: 0.7843137254901961\n"
     ]
    },
    {
     "name": "stderr",
     "output_type": "stream",
     "text": [
      "Some weights of XLNetForSequenceClassification were not initialized from the model checkpoint at xlnet-base-cased and are newly initialized: ['logits_proj.weight', 'sequence_summary.summary.weight', 'logits_proj.bias', 'sequence_summary.summary.bias']\n",
      "You should probably TRAIN this model on a down-stream task to be able to use it for predictions and inference.\n"
     ]
    },
    {
     "name": "stdout",
     "output_type": "stream",
     "text": [
      "Training with learning rate: 0.0003\n"
     ]
    },
    {
     "data": {
      "text/html": [
       "\n",
       "    <div>\n",
       "      \n",
       "      <progress value='972' max='972' style='width:300px; height:20px; vertical-align: middle;'></progress>\n",
       "      [972/972 05:07, Epoch 3/3]\n",
       "    </div>\n",
       "    <table border=\"1\" class=\"dataframe\">\n",
       "  <thead>\n",
       " <tr style=\"text-align: left;\">\n",
       "      <th>Step</th>\n",
       "      <th>Training Loss</th>\n",
       "      <th>Validation Loss</th>\n",
       "    </tr>\n",
       "  </thead>\n",
       "  <tbody>\n",
       "  </tbody>\n",
       "</table><p>"
      ],
      "text/plain": [
       "<IPython.core.display.HTML object>"
      ]
     },
     "metadata": {},
     "output_type": "display_data"
    },
    {
     "data": {
      "text/html": [],
      "text/plain": [
       "<IPython.core.display.HTML object>"
      ]
     },
     "metadata": {},
     "output_type": "display_data"
    },
    {
     "name": "stdout",
     "output_type": "stream",
     "text": [
      "Evaluation loss for learning rate 0.0003: 0.06909492611885071\n",
      "[[615   7]\n",
      " [  7  19]]\n",
      "Accuracy: 0.9783950617283951\n",
      "Precision: 0.7307692307692307\n",
      "Recall: 0.7307692307692307\n",
      "F1 Score: 0.7307692307692306\n",
      "Best Learning Rate: 0.0002 with loss: 0.06060611456632614\n",
      "Best f1 Learning Rat: 5e-05 with highest f1: 0.7843137254901961\n"
     ]
    }
   ],
   "source": [
    "\n",
    "best_lr = None\n",
    "lowest_eval_loss = float('inf')\n",
    "\n",
    "best_f1_lr = None\n",
    "highest_f1 = 0\n",
    "\n",
    "learning_rates = [ 5e-5, 1e-4, 2e-4, 3e-4]\n",
    "\n",
    "for lr in learning_rates:\n",
    "    \n",
    "#--------------------------------------------------------------------------------    \n",
    "\n",
    "    tokenizer = AutoTokenizer.from_pretrained(\"xlnet-base-cased\")\n",
    "\n",
    "    model = XLNetForSequenceClassification.from_pretrained(\"xlnet-base-cased\")\n",
    "\n",
    "    # Load pre-trained XLNet model\n",
    "    # Freeze all parameters\n",
    "    for param in model.parameters():\n",
    "        param.requires_grad = False\n",
    "\n",
    "    # Unfreeze the last two layers\n",
    "    # Adapt this to the specific structure of XLNet\n",
    "    for layer in [model.transformer.layer[-2], model.transformer.layer[-1]]:\n",
    "        for param in layer.parameters():\n",
    "            param.requires_grad = True\n",
    "            \n",
    "#-----------------------------------------------------------------------------------           \n",
    "\n",
    "    X_train = list(df['Segment Text'].loc[(df['policy_type'] == 'TRAIN')])\n",
    "    y_train = list(df[target_column].loc[(df['policy_type'] == 'TRAIN')])\n",
    "\n",
    "\n",
    "    # Split the data into training and validation sets\n",
    "    X_train, X_val, y_train, y_val = train_test_split(X_train, y_train, test_size=0.20, random_state=0)\n",
    "\n",
    "\n",
    "    # mapping labels\n",
    "\n",
    "    label_mapping = {0: 0, 1: 1}\n",
    "    y_train_integers = [label_mapping[label] for label in y_train]\n",
    "    y_val_integers = [label_mapping[label] for label in y_val]\n",
    "\n",
    "    train_encodings = tokenizer(X_train, max_length=512, truncation=True, padding='max_length')\n",
    "    val_encodings = tokenizer(X_val, max_length=512, truncation=True, padding='max_length')\n",
    "\n",
    "    #\n",
    "    class TextDataset(torch.utils.data.Dataset):\n",
    "        def __init__(self, encodings, labels):\n",
    "            self.encodings = encodings\n",
    "            self.labels = labels\n",
    "\n",
    "        def __getitem__(self, idx):\n",
    "            item = {key: torch.tensor(val[idx]) for key, val in self.encodings.items()}\n",
    "            item['labels'] = self.labels[idx]  # Removed torch.tensor here\n",
    "            return item\n",
    "\n",
    "        def __len__(self):\n",
    "            return len(self.labels)\n",
    "\n",
    "\n",
    "    train_dataset = TextDataset(train_encodings, y_train_integers)\n",
    "    val_dataset = TextDataset(val_encodings, y_val_integers)\n",
    "    \n",
    "#---------------------------------------------------------------------------  \n",
    "    \n",
    "    # Set up training arguments with the current learning rate\n",
    "    training_args = TrainingArguments(\n",
    "        output_dir='./results',\n",
    "        learning_rate=lr,  # Set learning rate here\n",
    "        num_train_epochs=epochs ,\n",
    "        per_device_train_batch_size=batch_size,\n",
    "        per_device_eval_batch_size=8,\n",
    "        warmup_steps=500,\n",
    "        weight_decay=0.01,\n",
    "        logging_dir='./logs',\n",
    "        logging_steps=100,\n",
    "        evaluation_strategy=\"steps\",\n",
    "        eval_steps=3000\n",
    "    )\n",
    "\n",
    "    # Set up the Trainer\n",
    "    trainer = Trainer(\n",
    "        model=model,\n",
    "        args=training_args,\n",
    "        train_dataset=train_dataset,\n",
    "        eval_dataset=val_dataset\n",
    "    )\n",
    "\n",
    "\n",
    "    # Train the model with the current learning rate\n",
    "    print(f\"Training with learning rate: {lr}\")\n",
    "    trainer.train()\n",
    "    \n",
    " # Evaluate the model\n",
    "    eval_result = trainer.evaluate()\n",
    "    print(f\"Evaluation loss for learning rate {lr}: {eval_result['eval_loss']}\")\n",
    "    \n",
    "    \n",
    "    predictions = trainer.predict(val_dataset).predictions\n",
    "    predictions_label = np.argmax(predictions, axis=1)\n",
    "\n",
    "    cm=confusion_matrix( y_val_integers, predictions_label)\n",
    "    print(cm)\n",
    "\n",
    "    accuracy = accuracy_score( y_val_integers, predictions_label)\n",
    "    precision, recall, f1, _ = precision_recall_fscore_support(y_val_integers, predictions_label, average='binary')\n",
    "    print(f\"Accuracy: {accuracy}\")\n",
    "    print(f\"Precision: {precision}\")\n",
    "    print(f\"Recall: {recall}\")\n",
    "    print(f\"F1 Score: {f1}\")\n",
    "\n",
    "    if eval_result['eval_loss'] < lowest_eval_loss:\n",
    "        best_lr = lr\n",
    "        lowest_eval_loss = eval_result['eval_loss']\n",
    "        \n",
    "    if f1 > highest_f1:\n",
    "        best_f1_lr = lr\n",
    "        highest_f1 = f1\n",
    "        \n",
    "print(f\"Best Learning Rate: {best_lr} with loss: {lowest_eval_loss}\")\n",
    "print(f\"Best f1 Learning Rat: {best_f1_lr} with highest f1: { highest_f1}\")"
   ]
  },
  {
   "cell_type": "markdown",
   "id": "20a9979b-c0cb-4940-869b-18b799bb29fc",
   "metadata": {},
   "source": [
    "### Retrain the model with certain learning rate"
   ]
  },
  {
   "cell_type": "code",
   "execution_count": 10,
   "id": "189c2855-07e8-4417-81a0-9576982dff6b",
   "metadata": {},
   "outputs": [
    {
     "name": "stderr",
     "output_type": "stream",
     "text": [
      "Some weights of XLNetForSequenceClassification were not initialized from the model checkpoint at xlnet-base-cased and are newly initialized: ['logits_proj.weight', 'sequence_summary.summary.weight', 'logits_proj.bias', 'sequence_summary.summary.bias']\n",
      "You should probably TRAIN this model on a down-stream task to be able to use it for predictions and inference.\n"
     ]
    },
    {
     "data": {
      "text/html": [
       "\n",
       "    <div>\n",
       "      \n",
       "      <progress value='1215' max='1215' style='width:300px; height:20px; vertical-align: middle;'></progress>\n",
       "      [1215/1215 06:19, Epoch 3/3]\n",
       "    </div>\n",
       "    <table border=\"1\" class=\"dataframe\">\n",
       "  <thead>\n",
       " <tr style=\"text-align: left;\">\n",
       "      <th>Step</th>\n",
       "      <th>Training Loss</th>\n",
       "      <th>Validation Loss</th>\n",
       "    </tr>\n",
       "  </thead>\n",
       "  <tbody>\n",
       "  </tbody>\n",
       "</table><p>"
      ],
      "text/plain": [
       "<IPython.core.display.HTML object>"
      ]
     },
     "metadata": {},
     "output_type": "display_data"
    },
    {
     "data": {
      "text/html": [],
      "text/plain": [
       "<IPython.core.display.HTML object>"
      ]
     },
     "metadata": {},
     "output_type": "display_data"
    },
    {
     "name": "stdout",
     "output_type": "stream",
     "text": [
      "[[694  11]\n",
      " [ 14  18]]\n",
      "Accuracy: 0.966078697421981\n",
      "Precision: 0.6206896551724138\n",
      "Recall: 0.5625\n",
      "F1 Score: 0.5901639344262296\n"
     ]
    }
   ],
   "source": [
    "\n",
    "tokenizer = AutoTokenizer.from_pretrained(\"xlnet-base-cased\")\n",
    "\n",
    "model = XLNetForSequenceClassification.from_pretrained(\"xlnet-base-cased\")\n",
    "\n",
    "# Load pre-trained XLNet model\n",
    "# Freeze all parameters\n",
    "for param in model.parameters():\n",
    "    param.requires_grad = False\n",
    "\n",
    "# Unfreeze the last two layers\n",
    "# Adapt this to the specific structure of XLNet\n",
    "for layer in [model.transformer.layer[-2], model.transformer.layer[-1]]:\n",
    "    for param in layer.parameters():\n",
    "        param.requires_grad = True\n",
    "                       \n",
    "#-----------------------------------------------------------------------------------     \n",
    "\n",
    "X_train=list(df['Segment Text'].loc[(df['policy_type'] == 'TRAIN')])\n",
    "X_test=list(df['Segment Text'].loc[(df['policy_type'] == 'TEST')])\n",
    "\n",
    "y_train=list(df[target_column].loc[(df['policy_type'] == 'TRAIN')])\n",
    "y_test=list(df[target_column].loc[(df['policy_type'] == 'TEST')])\n",
    "\n",
    "\n",
    "train_encodings = tokenizer(X_train, max_length=512, truncation=True, padding='max_length')\n",
    "test_encodings = tokenizer(X_test, max_length=512, truncation=True, padding='max_length')\n",
    "\n",
    "#-----------\n",
    "\n",
    "label_mapping = {0: 0, 1: 1}\n",
    "y_train_integers = [label_mapping[label] for label in y_train]\n",
    "y_test_integers = [label_mapping[label] for label in y_test]\n",
    "\n",
    "\n",
    "class TextDataset(torch.utils.data.Dataset):\n",
    "    def __init__(self, encodings, labels):\n",
    "        self.encodings = encodings\n",
    "        self.labels = labels\n",
    "\n",
    "    def __getitem__(self, idx):\n",
    "        item = {key: torch.tensor(val[idx]) for key, val in self.encodings.items()}\n",
    "        item['labels'] = self.labels[idx]  # Removed torch.tensor here\n",
    "        return item\n",
    "\n",
    "    def __len__(self):\n",
    "        return len(self.labels)\n",
    "\n",
    "train_dataset = TextDataset(train_encodings, y_train_integers)\n",
    "test_dataset = TextDataset(test_encodings, y_test_integers)\n",
    "\n",
    "#--------------------------\n",
    "\n",
    "training_args = TrainingArguments(\n",
    "    output_dir='./results',\n",
    "    learning_rate= best_f1_lr , # Set learning rate here\n",
    "    num_train_epochs=epochs ,\n",
    "    per_device_train_batch_size=batch_size,\n",
    "    per_device_eval_batch_size=8,\n",
    "    warmup_steps=500,\n",
    "    weight_decay=0.01,\n",
    "    logging_dir='./logs',\n",
    "    logging_steps=100,\n",
    "    evaluation_strategy=\"steps\",\n",
    "    eval_steps=3000\n",
    "\n",
    ")\n",
    "\n",
    "trainer = Trainer(\n",
    "    model=model,\n",
    "    args=training_args,\n",
    "    train_dataset=train_dataset,\n",
    "    eval_dataset=test_dataset\n",
    ")\n",
    "\n",
    "trainer.train()\n",
    "\n",
    "predictions = trainer.predict(test_dataset).predictions\n",
    "predictions_label = np.argmax(predictions, axis=1)\n",
    "\n",
    "cm=confusion_matrix(y_test_integers, predictions_label)\n",
    "print(cm)\n",
    "\n",
    "accuracy = accuracy_score(y_test_integers, predictions_label)\n",
    "precision, recall, f1, _ = precision_recall_fscore_support(y_test_integers, predictions_label, average='binary')\n",
    "print(f\"Accuracy: {accuracy}\")\n",
    "print(f\"Precision: {precision}\")\n",
    "print(f\"Recall: {recall}\")\n",
    "print(f\"F1 Score: {f1}\")\n"
   ]
  },
  {
   "cell_type": "code",
   "execution_count": 13,
   "id": "650dfec6-cd55-4683-9ff8-2cc4ed4b458d",
   "metadata": {},
   "outputs": [
    {
     "name": "stdout",
     "output_type": "stream",
     "text": [
      "Best f1 Learning Rat: 5e-05\n"
     ]
    }
   ],
   "source": [
    "print(f\"Best f1 Learning Rat: {best_f1_lr}\")"
   ]
  },
  {
   "cell_type": "code",
   "execution_count": null,
   "id": "97fea4e1-786a-4db8-9599-1fd3f476c5b6",
   "metadata": {},
   "outputs": [],
   "source": [
    "[[694  11]\n",
    " [ 14  18]]\n",
    "Accuracy: 0.966078697421981\n",
    "Precision: 0.6206896551724138\n",
    "Recall: 0.5625\n",
    "F1 Score: 0.5901639344262296"
   ]
  },
  {
   "cell_type": "markdown",
   "id": "e01a27b1-1ed6-424f-a88b-3283e2359d28",
   "metadata": {
    "tags": []
   },
   "source": [
    "# Imbalance / PEFT /Cost sensitve learning"
   ]
  },
  {
   "cell_type": "code",
   "execution_count": 15,
   "id": "121e67b2-b716-40ef-8b1f-d21a20929d7d",
   "metadata": {},
   "outputs": [
    {
     "name": "stderr",
     "output_type": "stream",
     "text": [
      "Some weights of XLNetForSequenceClassification were not initialized from the model checkpoint at xlnet-base-cased and are newly initialized: ['logits_proj.weight', 'sequence_summary.summary.weight', 'logits_proj.bias', 'sequence_summary.summary.bias']\n",
      "You should probably TRAIN this model on a down-stream task to be able to use it for predictions and inference.\n"
     ]
    },
    {
     "name": "stdout",
     "output_type": "stream",
     "text": [
      "Counter({0: 2518, 1: 73})\n",
      "Counter({0: 627, 1: 21})\n",
      "1.028991262907069\n",
      "35.49315068493151\n",
      "Training with learning rate: 5e-05\n"
     ]
    },
    {
     "data": {
      "text/html": [
       "\n",
       "    <div>\n",
       "      \n",
       "      <progress value='972' max='972' style='width:300px; height:20px; vertical-align: middle;'></progress>\n",
       "      [972/972 05:07, Epoch 3/3]\n",
       "    </div>\n",
       "    <table border=\"1\" class=\"dataframe\">\n",
       "  <thead>\n",
       " <tr style=\"text-align: left;\">\n",
       "      <th>Step</th>\n",
       "      <th>Training Loss</th>\n",
       "      <th>Validation Loss</th>\n",
       "    </tr>\n",
       "  </thead>\n",
       "  <tbody>\n",
       "  </tbody>\n",
       "</table><p>"
      ],
      "text/plain": [
       "<IPython.core.display.HTML object>"
      ]
     },
     "metadata": {},
     "output_type": "display_data"
    },
    {
     "data": {
      "text/html": [],
      "text/plain": [
       "<IPython.core.display.HTML object>"
      ]
     },
     "metadata": {},
     "output_type": "display_data"
    },
    {
     "name": "stdout",
     "output_type": "stream",
     "text": [
      "Evaluation loss for learning rate 5e-05: 0.131798654794693\n",
      "[[623   4]\n",
      " [ 12   9]]\n",
      "Accuracy: 0.9753086419753086\n",
      "Precision: 0.6923076923076923\n",
      "Recall: 0.42857142857142855\n",
      "F1 Score: 0.5294117647058824\n"
     ]
    },
    {
     "name": "stderr",
     "output_type": "stream",
     "text": [
      "Some weights of XLNetForSequenceClassification were not initialized from the model checkpoint at xlnet-base-cased and are newly initialized: ['logits_proj.weight', 'sequence_summary.summary.weight', 'logits_proj.bias', 'sequence_summary.summary.bias']\n",
      "You should probably TRAIN this model on a down-stream task to be able to use it for predictions and inference.\n"
     ]
    },
    {
     "name": "stdout",
     "output_type": "stream",
     "text": [
      "Counter({0: 2518, 1: 73})\n",
      "Counter({0: 627, 1: 21})\n",
      "1.028991262907069\n",
      "35.49315068493151\n",
      "Training with learning rate: 0.0001\n"
     ]
    },
    {
     "data": {
      "text/html": [
       "\n",
       "    <div>\n",
       "      \n",
       "      <progress value='972' max='972' style='width:300px; height:20px; vertical-align: middle;'></progress>\n",
       "      [972/972 05:03, Epoch 3/3]\n",
       "    </div>\n",
       "    <table border=\"1\" class=\"dataframe\">\n",
       "  <thead>\n",
       " <tr style=\"text-align: left;\">\n",
       "      <th>Step</th>\n",
       "      <th>Training Loss</th>\n",
       "      <th>Validation Loss</th>\n",
       "    </tr>\n",
       "  </thead>\n",
       "  <tbody>\n",
       "  </tbody>\n",
       "</table><p>"
      ],
      "text/plain": [
       "<IPython.core.display.HTML object>"
      ]
     },
     "metadata": {},
     "output_type": "display_data"
    },
    {
     "data": {
      "text/html": [],
      "text/plain": [
       "<IPython.core.display.HTML object>"
      ]
     },
     "metadata": {},
     "output_type": "display_data"
    },
    {
     "name": "stdout",
     "output_type": "stream",
     "text": [
      "Evaluation loss for learning rate 0.0001: 0.13624346256256104\n",
      "[[620   7]\n",
      " [ 10  11]]\n",
      "Accuracy: 0.9737654320987654\n",
      "Precision: 0.6111111111111112\n",
      "Recall: 0.5238095238095238\n",
      "F1 Score: 0.5641025641025642\n"
     ]
    },
    {
     "name": "stderr",
     "output_type": "stream",
     "text": [
      "Some weights of XLNetForSequenceClassification were not initialized from the model checkpoint at xlnet-base-cased and are newly initialized: ['logits_proj.weight', 'sequence_summary.summary.weight', 'logits_proj.bias', 'sequence_summary.summary.bias']\n",
      "You should probably TRAIN this model on a down-stream task to be able to use it for predictions and inference.\n"
     ]
    },
    {
     "name": "stdout",
     "output_type": "stream",
     "text": [
      "Counter({0: 2518, 1: 73})\n",
      "Counter({0: 627, 1: 21})\n",
      "1.028991262907069\n",
      "35.49315068493151\n",
      "Training with learning rate: 0.0002\n"
     ]
    },
    {
     "data": {
      "text/html": [
       "\n",
       "    <div>\n",
       "      \n",
       "      <progress value='972' max='972' style='width:300px; height:20px; vertical-align: middle;'></progress>\n",
       "      [972/972 05:02, Epoch 3/3]\n",
       "    </div>\n",
       "    <table border=\"1\" class=\"dataframe\">\n",
       "  <thead>\n",
       " <tr style=\"text-align: left;\">\n",
       "      <th>Step</th>\n",
       "      <th>Training Loss</th>\n",
       "      <th>Validation Loss</th>\n",
       "    </tr>\n",
       "  </thead>\n",
       "  <tbody>\n",
       "  </tbody>\n",
       "</table><p>"
      ],
      "text/plain": [
       "<IPython.core.display.HTML object>"
      ]
     },
     "metadata": {},
     "output_type": "display_data"
    },
    {
     "data": {
      "text/html": [],
      "text/plain": [
       "<IPython.core.display.HTML object>"
      ]
     },
     "metadata": {},
     "output_type": "display_data"
    },
    {
     "name": "stdout",
     "output_type": "stream",
     "text": [
      "Evaluation loss for learning rate 0.0002: 0.11377318948507309\n",
      "[[620   7]\n",
      " [  9  12]]\n",
      "Accuracy: 0.9753086419753086\n",
      "Precision: 0.631578947368421\n",
      "Recall: 0.5714285714285714\n",
      "F1 Score: 0.6\n"
     ]
    },
    {
     "name": "stderr",
     "output_type": "stream",
     "text": [
      "Some weights of XLNetForSequenceClassification were not initialized from the model checkpoint at xlnet-base-cased and are newly initialized: ['logits_proj.weight', 'sequence_summary.summary.weight', 'logits_proj.bias', 'sequence_summary.summary.bias']\n",
      "You should probably TRAIN this model on a down-stream task to be able to use it for predictions and inference.\n"
     ]
    },
    {
     "name": "stdout",
     "output_type": "stream",
     "text": [
      "Counter({0: 2518, 1: 73})\n",
      "Counter({0: 627, 1: 21})\n",
      "1.028991262907069\n",
      "35.49315068493151\n",
      "Training with learning rate: 0.0003\n"
     ]
    },
    {
     "data": {
      "text/html": [
       "\n",
       "    <div>\n",
       "      \n",
       "      <progress value='972' max='972' style='width:300px; height:20px; vertical-align: middle;'></progress>\n",
       "      [972/972 05:03, Epoch 3/3]\n",
       "    </div>\n",
       "    <table border=\"1\" class=\"dataframe\">\n",
       "  <thead>\n",
       " <tr style=\"text-align: left;\">\n",
       "      <th>Step</th>\n",
       "      <th>Training Loss</th>\n",
       "      <th>Validation Loss</th>\n",
       "    </tr>\n",
       "  </thead>\n",
       "  <tbody>\n",
       "  </tbody>\n",
       "</table><p>"
      ],
      "text/plain": [
       "<IPython.core.display.HTML object>"
      ]
     },
     "metadata": {},
     "output_type": "display_data"
    },
    {
     "data": {
      "text/html": [],
      "text/plain": [
       "<IPython.core.display.HTML object>"
      ]
     },
     "metadata": {},
     "output_type": "display_data"
    },
    {
     "name": "stdout",
     "output_type": "stream",
     "text": [
      "Evaluation loss for learning rate 0.0003: 0.10171730071306229\n",
      "[[623   4]\n",
      " [ 10  11]]\n",
      "Accuracy: 0.9783950617283951\n",
      "Precision: 0.7333333333333333\n",
      "Recall: 0.5238095238095238\n",
      "F1 Score: 0.611111111111111\n",
      "Best Learning Rate: 0.0003 with loss: 0.10171730071306229\n",
      "Best f1 Learning Rat: 0.0003 with highest f1: 0.611111111111111\n"
     ]
    }
   ],
   "source": [
    "best_lr = None\n",
    "lowest_eval_loss = float('inf')\n",
    "\n",
    "\n",
    "best_f1_lr = None\n",
    "highest_f1 = 0\n",
    "\n",
    "\n",
    "learning_rates = [5e-5, 1e-4, 2e-4, 3e-4]\n",
    "\n",
    "for lr in learning_rates:\n",
    "    \n",
    "#--------------------------------------------------------------------------------    \n",
    "\n",
    "    tokenizer = AutoTokenizer.from_pretrained(\"xlnet-base-cased\")\n",
    "\n",
    "    model = XLNetForSequenceClassification.from_pretrained(\"xlnet-base-cased\")\n",
    "\n",
    "    # Load pre-trained XLNet model\n",
    "    # Freeze all parameters\n",
    "    for param in model.parameters():\n",
    "        param.requires_grad = False\n",
    "\n",
    "    # Unfreeze the last two layers\n",
    "    # Adapt this to the specific structure of XLNet\n",
    "    for layer in [model.transformer.layer[-2], model.transformer.layer[-1]]:\n",
    "        for param in layer.parameters():\n",
    "            param.requires_grad = True\n",
    "            \n",
    "#-----------------------------------------------------------------------------------           \n",
    "\n",
    "    X_train = list(df['Segment Text'].loc[(df['policy_type'] == 'TRAIN')])\n",
    "    y_train = list(df[target_column].loc[(df['policy_type'] == 'TRAIN')])\n",
    "\n",
    "\n",
    "    # Split the data into training and validation sets\n",
    "    X_train, X_val, y_train, y_val = train_test_split(X_train, y_train, test_size=0.20, random_state=0)\n",
    "\n",
    "\n",
    "    # mapping labels\n",
    "\n",
    "    label_mapping = {0: 0, 1: 1}\n",
    "    y_train_integers = [label_mapping[label] for label in y_train]\n",
    "    y_val_integers = [label_mapping[label] for label in y_val]\n",
    "\n",
    "    train_encodings = tokenizer(X_train, max_length=512, truncation=True, padding='max_length')\n",
    "    val_encodings = tokenizer(X_val, max_length=512, truncation=True, padding='max_length')\n",
    "\n",
    "    #\n",
    "    class TextDataset(torch.utils.data.Dataset):\n",
    "        def __init__(self, encodings, labels):\n",
    "            self.encodings = encodings\n",
    "            self.labels = labels\n",
    "\n",
    "        def __getitem__(self, idx):\n",
    "            item = {key: torch.tensor(val[idx]) for key, val in self.encodings.items()}\n",
    "            item['labels'] = self.labels[idx]  # Removed torch.tensor here\n",
    "            return item\n",
    "\n",
    "        def __len__(self):\n",
    "            return len(self.labels)\n",
    "\n",
    "\n",
    "    train_dataset = TextDataset(train_encodings, y_train_integers)\n",
    "    val_dataset = TextDataset(val_encodings, y_val_integers)\n",
    "    \n",
    "#---------------------------------------------------------------------------  \n",
    "\n",
    "\n",
    "    from collections import Counter\n",
    "    print(Counter(y_train))\n",
    "    print(Counter(y_val))\n",
    "    \n",
    "        # Calculate class weights (example calculation, adjust as needed)\n",
    "\n",
    "    total_samples = Counter(y_train)[0] + Counter(y_train)[1]\n",
    "    class_weights = torch.tensor([total_samples /Counter(y_train)[0], total_samples / Counter(y_train)[1]], dtype=torch.float)\n",
    "\n",
    "    print(total_samples /Counter(y_train)[0])\n",
    "    print(total_samples / Counter(y_train)[1])\n",
    "\n",
    "    # Ensure the model is on the correct device (e.g., GPU or CPU)\n",
    "    device = torch.device(\"cuda\" if torch.cuda.is_available() else \"cpu\")\n",
    "    model.to(device)  # Ensure model is on the correct device\n",
    "\n",
    "    # Move class_weights to the same device as the model\n",
    "    class_weights = class_weights.to(device)\n",
    "\n",
    "\n",
    "\n",
    "    class CustomTrainer(Trainer):\n",
    "        def __init__(self, *args, **kwargs):\n",
    "            super().__init__(*args, **kwargs)\n",
    "            self.loss_fct = CrossEntropyLoss(weight=class_weights).to(device)\n",
    "\n",
    "        def compute_loss(self, model, inputs, return_outputs=False):\n",
    "            inputs = {k: v.to(device) for k, v in inputs.items()}\n",
    "            labels = inputs.get(\"labels\").to(device)\n",
    "\n",
    "            outputs = model(**inputs)\n",
    "            logits = outputs.logits\n",
    "\n",
    "            loss = self.loss_fct(logits, labels)\n",
    "            return (loss, outputs) if return_outputs else loss\n",
    "\n",
    "    #-------------------------------------------------\n",
    "    \n",
    "    \n",
    "    \n",
    "    \n",
    "    # Set up training arguments with the current learning rate\n",
    "    training_args = TrainingArguments(\n",
    "        output_dir='./results',\n",
    "        learning_rate=lr,  # Set learning rate here\n",
    "        num_train_epochs=epochs ,\n",
    "        per_device_train_batch_size=batch_size,\n",
    "        per_device_eval_batch_size=8,\n",
    "        warmup_steps=500,\n",
    "        weight_decay=0.01,\n",
    "        logging_dir='./logs',\n",
    "        logging_steps=100,\n",
    "        evaluation_strategy=\"steps\",\n",
    "        eval_steps=3000\n",
    "    )\n",
    "\n",
    "    # Set up the Trainer\n",
    "    trainer = Trainer(\n",
    "        model=model,\n",
    "        args=training_args,\n",
    "        train_dataset=train_dataset,\n",
    "        eval_dataset=val_dataset\n",
    "    )\n",
    "\n",
    "\n",
    "\n",
    "    # Train the model with the current learning rate\n",
    "    print(f\"Training with learning rate: {lr}\")\n",
    "    trainer.train()\n",
    "    \n",
    " # Evaluate the model\n",
    "    eval_result = trainer.evaluate()\n",
    "    print(f\"Evaluation loss for learning rate {lr}: {eval_result['eval_loss']}\")\n",
    "    \n",
    "    \n",
    "    predictions = trainer.predict(val_dataset).predictions\n",
    "    predictions_label = np.argmax(predictions, axis=1)\n",
    "\n",
    "    cm=confusion_matrix( y_val_integers, predictions_label)\n",
    "    print(cm)\n",
    "\n",
    "    accuracy = accuracy_score( y_val_integers, predictions_label)\n",
    "    precision, recall, f1, _ = precision_recall_fscore_support(y_val_integers, predictions_label, average='binary')\n",
    "    print(f\"Accuracy: {accuracy}\")\n",
    "    print(f\"Precision: {precision}\")\n",
    "    print(f\"Recall: {recall}\")\n",
    "    print(f\"F1 Score: {f1}\")\n",
    "\n",
    "    if eval_result['eval_loss'] < lowest_eval_loss:\n",
    "        best_lr = lr\n",
    "        lowest_eval_loss = eval_result['eval_loss']\n",
    "\n",
    "    if f1 > highest_f1:\n",
    "        best_f1_lr = lr\n",
    "        highest_f1 = f1\n",
    "        \n",
    "\n",
    "print(f\"Best Learning Rate: {best_lr} with loss: {lowest_eval_loss}\")\n",
    "print(f\"Best f1 Learning Rat: {best_f1_lr} with highest f1: { highest_f1}\")\n"
   ]
  },
  {
   "cell_type": "markdown",
   "id": "8833afef-e3e3-4c4b-9ca8-4c8b1555de83",
   "metadata": {},
   "source": [
    "### Retrain the model with certain learning rate"
   ]
  },
  {
   "cell_type": "code",
   "execution_count": 16,
   "id": "5e7f07f8-c834-4581-beb8-e114a67602b0",
   "metadata": {},
   "outputs": [
    {
     "name": "stderr",
     "output_type": "stream",
     "text": [
      "Some weights of XLNetForSequenceClassification were not initialized from the model checkpoint at xlnet-base-cased and are newly initialized: ['logits_proj.weight', 'sequence_summary.summary.weight', 'logits_proj.bias', 'sequence_summary.summary.bias']\n",
      "You should probably TRAIN this model on a down-stream task to be able to use it for predictions and inference.\n"
     ]
    },
    {
     "name": "stdout",
     "output_type": "stream",
     "text": [
      "Counter({0: 3145, 1: 94})\n",
      "Counter({0: 691, 1: 46})\n",
      "1.0298887122416533\n",
      "34.45744680851064\n"
     ]
    },
    {
     "data": {
      "text/html": [
       "\n",
       "    <div>\n",
       "      \n",
       "      <progress value='1215' max='1215' style='width:300px; height:20px; vertical-align: middle;'></progress>\n",
       "      [1215/1215 06:19, Epoch 3/3]\n",
       "    </div>\n",
       "    <table border=\"1\" class=\"dataframe\">\n",
       "  <thead>\n",
       " <tr style=\"text-align: left;\">\n",
       "      <th>Step</th>\n",
       "      <th>Training Loss</th>\n",
       "      <th>Validation Loss</th>\n",
       "    </tr>\n",
       "  </thead>\n",
       "  <tbody>\n",
       "  </tbody>\n",
       "</table><p>"
      ],
      "text/plain": [
       "<IPython.core.display.HTML object>"
      ]
     },
     "metadata": {},
     "output_type": "display_data"
    },
    {
     "data": {
      "text/html": [],
      "text/plain": [
       "<IPython.core.display.HTML object>"
      ]
     },
     "metadata": {},
     "output_type": "display_data"
    },
    {
     "name": "stdout",
     "output_type": "stream",
     "text": [
      "[[687   4]\n",
      " [ 13  33]]\n",
      "Accuracy: 0.9769335142469471\n",
      "Precision: 0.8918918918918919\n",
      "Recall: 0.717391304347826\n",
      "F1 Score: 0.7951807228915664\n",
      "Best f1 Learning Rat: 0.0003\n"
     ]
    }
   ],
   "source": [
    "tokenizer = AutoTokenizer.from_pretrained(\"xlnet-base-cased\")\n",
    "\n",
    "model = XLNetForSequenceClassification.from_pretrained(\"xlnet-base-cased\")\n",
    "\n",
    "# Load pre-trained XLNet model\n",
    "# Freeze all parameters\n",
    "for param in model.parameters():\n",
    "    param.requires_grad = False\n",
    "\n",
    "# Unfreeze the last two layers\n",
    "# Adapt this to the specific structure of XLNet\n",
    "for layer in [model.transformer.layer[-2], model.transformer.layer[-1]]:\n",
    "    for param in layer.parameters():\n",
    "        param.requires_grad = True\n",
    "                       \n",
    "#-----------------------------------------------------------------------------------     \n",
    "\n",
    "X_train=list(df['Segment Text'].loc[(df['policy_type'] == 'TRAIN')])\n",
    "X_test=list(df['Segment Text'].loc[(df['policy_type'] == 'TEST')])\n",
    "\n",
    "y_train=list(df[target_column].loc[(df['policy_type'] == 'TRAIN')])\n",
    "y_test=list(df[target_column].loc[(df['policy_type'] == 'TEST')])\n",
    "\n",
    "\n",
    "train_encodings = tokenizer(X_train, max_length=512, truncation=True, padding='max_length')\n",
    "test_encodings = tokenizer(X_test, max_length=512, truncation=True, padding='max_length')\n",
    "\n",
    "#-----------\n",
    "\n",
    "label_mapping = {0: 0, 1: 1}\n",
    "y_train_integers = [label_mapping[label] for label in y_train]\n",
    "y_test_integers = [label_mapping[label] for label in y_test]\n",
    "\n",
    "\n",
    "class TextDataset(torch.utils.data.Dataset):\n",
    "    def __init__(self, encodings, labels):\n",
    "        self.encodings = encodings\n",
    "        self.labels = labels\n",
    "\n",
    "    def __getitem__(self, idx):\n",
    "        item = {key: torch.tensor(val[idx]) for key, val in self.encodings.items()}\n",
    "        item['labels'] = self.labels[idx]  # Removed torch.tensor here\n",
    "        return item\n",
    "\n",
    "    def __len__(self):\n",
    "        return len(self.labels)\n",
    "\n",
    "train_dataset = TextDataset(train_encodings, y_train_integers)\n",
    "test_dataset = TextDataset(test_encodings, y_test_integers)\n",
    "\n",
    "#--------------------------\n",
    "\n",
    "\n",
    "from collections import Counter\n",
    "print(Counter(y_train))\n",
    "print(Counter(y_test))\n",
    "\n",
    "\n",
    "# Calculate class weights (example calculation, adjust as needed)\n",
    "\n",
    "total_samples = Counter(y_train)[0] + Counter(y_train)[1]\n",
    "class_weights = torch.tensor([total_samples /Counter(y_train)[0], total_samples / Counter(y_train)[1]], dtype=torch.float)\n",
    "\n",
    "print(total_samples /Counter(y_train)[0])\n",
    "print(total_samples / Counter(y_train)[1])\n",
    "\n",
    "# Ensure the model is on the correct device (e.g., GPU or CPU)\n",
    "device = torch.device(\"cuda\" if torch.cuda.is_available() else \"cpu\")\n",
    "model.to(device)  # Ensure model is on the correct device\n",
    "\n",
    "# Move class_weights to the same device as the model\n",
    "class_weights = class_weights.to(device)\n",
    "\n",
    "\n",
    "\n",
    "class CustomTrainer(Trainer):\n",
    "    def __init__(self, *args, **kwargs):\n",
    "        super().__init__(*args, **kwargs)\n",
    "        self.loss_fct = CrossEntropyLoss(weight=class_weights).to(device)\n",
    "\n",
    "    def compute_loss(self, model, inputs, return_outputs=False):\n",
    "        inputs = {k: v.to(device) for k, v in inputs.items()}\n",
    "        labels = inputs.get(\"labels\").to(device)\n",
    "\n",
    "        outputs = model(**inputs)\n",
    "        logits = outputs.logits\n",
    "\n",
    "        loss = self.loss_fct(logits, labels)\n",
    "        return (loss, outputs) if return_outputs else loss\n",
    "\n",
    "#-------------------------------------------------\n",
    "\n",
    "\n",
    "training_args = TrainingArguments(\n",
    "    learning_rate= best_f1_lr,\n",
    "    output_dir='./results',\n",
    "    num_train_epochs=epochs,\n",
    "    per_device_train_batch_size=batch_size,\n",
    "    per_device_eval_batch_size=8,\n",
    "    warmup_steps=500,\n",
    "    weight_decay=0.01,\n",
    "    #logging_dir='./logs',\n",
    "    logging_steps=100,\n",
    "    evaluation_strategy=\"steps\",\n",
    "    eval_steps=3000\n",
    "\n",
    ")\n",
    "\n",
    "trainer = CustomTrainer(\n",
    "    model=model,  # Your model\n",
    "    args=training_args,\n",
    "    train_dataset=train_dataset,\n",
    "    eval_dataset=test_dataset\n",
    ")\n",
    "\n",
    "\n",
    "trainer.train()\n",
    "\n",
    "\n",
    "predictions = trainer.predict(test_dataset).predictions\n",
    "predictions_label = np.argmax(predictions, axis=1)\n",
    "\n",
    "cm=confusion_matrix(y_test_integers, predictions_label)\n",
    "print(cm)\n",
    "\n",
    "accuracy = accuracy_score(y_test_integers, predictions_label)\n",
    "precision, recall, f1, _ = precision_recall_fscore_support(y_test_integers, predictions_label, average='binary')\n",
    "\n",
    "print(f\"Accuracy: {accuracy}\")\n",
    "print(f\"Precision: {precision}\")\n",
    "print(f\"Recall: {recall}\")\n",
    "print(f\"F1 Score: {f1}\")\n",
    "\n",
    "print(f\"Best f1 Learning Rat: {best_f1_lr}\")"
   ]
  },
  {
   "cell_type": "code",
   "execution_count": null,
   "id": "8da1fcc1-3aec-4215-999c-f79f9ac014d4",
   "metadata": {},
   "outputs": [],
   "source": []
  },
  {
   "cell_type": "code",
   "execution_count": null,
   "id": "c5d3ed66-e597-45f9-8539-94a50ee6d494",
   "metadata": {},
   "outputs": [],
   "source": []
  },
  {
   "cell_type": "markdown",
   "id": "1ae1210f-2cb6-4826-86d0-2012d89dece3",
   "metadata": {
    "jp-MarkdownHeadingCollapsed": true,
    "tags": []
   },
   "source": [
    "# Imbalance / AEDA"
   ]
  },
  {
   "cell_type": "code",
   "execution_count": null,
   "id": "0cc8c5bc-ed81-498b-b403-934c35c2cf19",
   "metadata": {},
   "outputs": [],
   "source": []
  },
  {
   "cell_type": "code",
   "execution_count": 4,
   "id": "2595f46e-0c7a-4548-95c4-d57bdbc0cee4",
   "metadata": {},
   "outputs": [],
   "source": [
    "\n",
    "def aeda(text):\n",
    "    \"\"\"\n",
    "    Apply AEDA augmentation to a given text.\n",
    "\n",
    "    :param text: The input text string to be augmented.\n",
    "    :return: Augmented sentence.\n",
    "    \"\"\"\n",
    "    punctuation_marks = [\".\", \";\", \"?\", \":\", \"!\", \"\"]\n",
    "    words = text.split()\n",
    "\n",
    "    n_insertions = random.randint(1, max(1, len(words) // 3))\n",
    "    insert_positions = np.random.choice(len(words), n_insertions, replace=False)\n",
    "\n",
    "    for pos in sorted(insert_positions, reverse=True):\n",
    "        words.insert(pos, random.choice(punctuation_marks))\n",
    "\n",
    "    return ' '.join(words)\n",
    "\n",
    "def balance_classes(df, column_name, text_column , modification_function=aeda):\n",
    "    \"\"\"\n",
    "    Balances the classes in a DataFrame.\n",
    "\n",
    "    Parameters:\n",
    "    - df: pandas DataFrame to balance.\n",
    "    - column_name: the name of the column to balance by (e.g., 'Third Party').\n",
    "    - text_column: the name of the text column to modify (e.g., 'Segment Text').\n",
    "    - modification_function: the function to apply to modify the text (default: aeda).\n",
    "\n",
    "    Returns:\n",
    "    - A balanced DataFrame.\n",
    "    \"\"\"\n",
    "    # Count the instances of each class\n",
    "    class_counts = df[column_name].value_counts()\n",
    "    max_class = class_counts.idxmax()\n",
    "    min_class = class_counts.idxmin()\n",
    "\n",
    "    # Calculate the number of samples needed to balance the classes\n",
    "    count_diff = class_counts[max_class] - class_counts[min_class]\n",
    "\n",
    "\n",
    "    # Select rows of the minority class and duplicate them\n",
    "    df_minority = df[df[column_name] == min_class]\n",
    "    df_minority_augmented = df_minority.sample(count_diff, replace=True)\n",
    "\n",
    "    # Apply the modification function to the text column\n",
    "    df_minority_augmented[text_column] = df_minority_augmented[text_column].apply(modification_function)\n",
    "\n",
    "    # Combine the original DataFrame with the augmented rows\n",
    "    df_balanced = pd.concat([df, df_minority_augmented], ignore_index=True)\n",
    "\n",
    "    return df_balanced\n",
    "\n"
   ]
  },
  {
   "cell_type": "code",
   "execution_count": 6,
   "id": "519f21e0-4bdb-489f-be51-84596dbbf74f",
   "metadata": {},
   "outputs": [
    {
     "name": "stderr",
     "output_type": "stream",
     "text": [
      "Some weights of XLNetForSequenceClassification were not initialized from the model checkpoint at xlnet-base-cased and are newly initialized: ['logits_proj.weight', 'sequence_summary.summary.weight', 'logits_proj.bias', 'sequence_summary.summary.bias']\n",
      "You should probably TRAIN this model on a down-stream task to be able to use it for predictions and inference.\n"
     ]
    },
    {
     "name": "stdout",
     "output_type": "stream",
     "text": [
      "Purpose\n",
      "0    1899\n",
      "1     692\n",
      "Name: count, dtype: int64\n",
      "Purpose\n",
      "0    1899\n",
      "1    1899\n",
      "Name: count, dtype: int64\n",
      "Training with learning rate: 5e-05\n"
     ]
    },
    {
     "data": {
      "text/html": [
       "\n",
       "    <div>\n",
       "      \n",
       "      <progress value='1425' max='1425' style='width:300px; height:20px; vertical-align: middle;'></progress>\n",
       "      [1425/1425 07:24, Epoch 3/3]\n",
       "    </div>\n",
       "    <table border=\"1\" class=\"dataframe\">\n",
       "  <thead>\n",
       " <tr style=\"text-align: left;\">\n",
       "      <th>Step</th>\n",
       "      <th>Training Loss</th>\n",
       "      <th>Validation Loss</th>\n",
       "    </tr>\n",
       "  </thead>\n",
       "  <tbody>\n",
       "  </tbody>\n",
       "</table><p>"
      ],
      "text/plain": [
       "<IPython.core.display.HTML object>"
      ]
     },
     "metadata": {},
     "output_type": "display_data"
    },
    {
     "data": {
      "text/html": [],
      "text/plain": [
       "<IPython.core.display.HTML object>"
      ]
     },
     "metadata": {},
     "output_type": "display_data"
    },
    {
     "name": "stdout",
     "output_type": "stream",
     "text": [
      "Evaluation loss for learning rate 5e-05: 0.4174136817455292\n",
      "[[432  43]\n",
      " [ 31 142]]\n",
      "Accuracy: 0.8858024691358025\n",
      "Precision: 0.7675675675675676\n",
      "Recall: 0.8208092485549133\n",
      "F1 Score: 0.7932960893854748\n"
     ]
    },
    {
     "name": "stderr",
     "output_type": "stream",
     "text": [
      "Some weights of XLNetForSequenceClassification were not initialized from the model checkpoint at xlnet-base-cased and are newly initialized: ['logits_proj.weight', 'sequence_summary.summary.weight', 'logits_proj.bias', 'sequence_summary.summary.bias']\n",
      "You should probably TRAIN this model on a down-stream task to be able to use it for predictions and inference.\n"
     ]
    },
    {
     "name": "stdout",
     "output_type": "stream",
     "text": [
      "Purpose\n",
      "0    1899\n",
      "1     692\n",
      "Name: count, dtype: int64\n",
      "Purpose\n",
      "0    1899\n",
      "1    1899\n",
      "Name: count, dtype: int64\n",
      "Training with learning rate: 0.0001\n"
     ]
    },
    {
     "data": {
      "text/html": [
       "\n",
       "    <div>\n",
       "      \n",
       "      <progress value='1425' max='1425' style='width:300px; height:20px; vertical-align: middle;'></progress>\n",
       "      [1425/1425 07:21, Epoch 3/3]\n",
       "    </div>\n",
       "    <table border=\"1\" class=\"dataframe\">\n",
       "  <thead>\n",
       " <tr style=\"text-align: left;\">\n",
       "      <th>Step</th>\n",
       "      <th>Training Loss</th>\n",
       "      <th>Validation Loss</th>\n",
       "    </tr>\n",
       "  </thead>\n",
       "  <tbody>\n",
       "  </tbody>\n",
       "</table><p>"
      ],
      "text/plain": [
       "<IPython.core.display.HTML object>"
      ]
     },
     "metadata": {},
     "output_type": "display_data"
    },
    {
     "data": {
      "text/html": [],
      "text/plain": [
       "<IPython.core.display.HTML object>"
      ]
     },
     "metadata": {},
     "output_type": "display_data"
    },
    {
     "name": "stdout",
     "output_type": "stream",
     "text": [
      "Evaluation loss for learning rate 0.0001: 0.43371525406837463\n",
      "[[436  39]\n",
      " [ 26 147]]\n",
      "Accuracy: 0.8996913580246914\n",
      "Precision: 0.7903225806451613\n",
      "Recall: 0.8497109826589595\n",
      "F1 Score: 0.8189415041782729\n"
     ]
    },
    {
     "name": "stderr",
     "output_type": "stream",
     "text": [
      "Some weights of XLNetForSequenceClassification were not initialized from the model checkpoint at xlnet-base-cased and are newly initialized: ['logits_proj.weight', 'sequence_summary.summary.weight', 'logits_proj.bias', 'sequence_summary.summary.bias']\n",
      "You should probably TRAIN this model on a down-stream task to be able to use it for predictions and inference.\n"
     ]
    },
    {
     "name": "stdout",
     "output_type": "stream",
     "text": [
      "Purpose\n",
      "0    1899\n",
      "1     692\n",
      "Name: count, dtype: int64\n",
      "Purpose\n",
      "0    1899\n",
      "1    1899\n",
      "Name: count, dtype: int64\n",
      "Training with learning rate: 0.0002\n"
     ]
    },
    {
     "data": {
      "text/html": [
       "\n",
       "    <div>\n",
       "      \n",
       "      <progress value='1425' max='1425' style='width:300px; height:20px; vertical-align: middle;'></progress>\n",
       "      [1425/1425 07:30, Epoch 3/3]\n",
       "    </div>\n",
       "    <table border=\"1\" class=\"dataframe\">\n",
       "  <thead>\n",
       " <tr style=\"text-align: left;\">\n",
       "      <th>Step</th>\n",
       "      <th>Training Loss</th>\n",
       "      <th>Validation Loss</th>\n",
       "    </tr>\n",
       "  </thead>\n",
       "  <tbody>\n",
       "  </tbody>\n",
       "</table><p>"
      ],
      "text/plain": [
       "<IPython.core.display.HTML object>"
      ]
     },
     "metadata": {},
     "output_type": "display_data"
    },
    {
     "data": {
      "text/html": [],
      "text/plain": [
       "<IPython.core.display.HTML object>"
      ]
     },
     "metadata": {},
     "output_type": "display_data"
    },
    {
     "name": "stdout",
     "output_type": "stream",
     "text": [
      "Evaluation loss for learning rate 0.0002: 0.40075409412384033\n",
      "[[441  34]\n",
      " [ 28 145]]\n",
      "Accuracy: 0.904320987654321\n",
      "Precision: 0.8100558659217877\n",
      "Recall: 0.838150289017341\n",
      "F1 Score: 0.8238636363636362\n"
     ]
    },
    {
     "name": "stderr",
     "output_type": "stream",
     "text": [
      "Some weights of XLNetForSequenceClassification were not initialized from the model checkpoint at xlnet-base-cased and are newly initialized: ['logits_proj.weight', 'sequence_summary.summary.weight', 'logits_proj.bias', 'sequence_summary.summary.bias']\n",
      "You should probably TRAIN this model on a down-stream task to be able to use it for predictions and inference.\n"
     ]
    },
    {
     "name": "stdout",
     "output_type": "stream",
     "text": [
      "Purpose\n",
      "0    1899\n",
      "1     692\n",
      "Name: count, dtype: int64\n",
      "Purpose\n",
      "0    1899\n",
      "1    1899\n",
      "Name: count, dtype: int64\n",
      "Training with learning rate: 0.0003\n"
     ]
    },
    {
     "data": {
      "text/html": [
       "\n",
       "    <div>\n",
       "      \n",
       "      <progress value='1425' max='1425' style='width:300px; height:20px; vertical-align: middle;'></progress>\n",
       "      [1425/1425 07:30, Epoch 3/3]\n",
       "    </div>\n",
       "    <table border=\"1\" class=\"dataframe\">\n",
       "  <thead>\n",
       " <tr style=\"text-align: left;\">\n",
       "      <th>Step</th>\n",
       "      <th>Training Loss</th>\n",
       "      <th>Validation Loss</th>\n",
       "    </tr>\n",
       "  </thead>\n",
       "  <tbody>\n",
       "  </tbody>\n",
       "</table><p>"
      ],
      "text/plain": [
       "<IPython.core.display.HTML object>"
      ]
     },
     "metadata": {},
     "output_type": "display_data"
    },
    {
     "data": {
      "text/html": [],
      "text/plain": [
       "<IPython.core.display.HTML object>"
      ]
     },
     "metadata": {},
     "output_type": "display_data"
    },
    {
     "name": "stdout",
     "output_type": "stream",
     "text": [
      "Evaluation loss for learning rate 0.0003: 0.3943680226802826\n",
      "[[439  36]\n",
      " [ 34 139]]\n",
      "Accuracy: 0.8919753086419753\n",
      "Precision: 0.7942857142857143\n",
      "Recall: 0.8034682080924855\n",
      "F1 Score: 0.7988505747126438\n",
      "Best Learning Rate: 0.0003 with loss: 0.3943680226802826\n",
      "Best f1 Learning Rat: 0.0002 with highest f1: 0.8238636363636362\n"
     ]
    }
   ],
   "source": [
    "\n",
    "best_lr = None\n",
    "lowest_eval_loss = float('inf')\n",
    "\n",
    "best_f1_lr = None\n",
    "highest_f1 = 0\n",
    "\n",
    "learning_rates = [5e-5, 1e-4, 2e-4, 3e-4]\n",
    "for lr in learning_rates:\n",
    "    \n",
    "#--------------------------------------------------------------------------------    \n",
    "\n",
    "    tokenizer = AutoTokenizer.from_pretrained(\"xlnet-base-cased\")\n",
    "\n",
    "    model = XLNetForSequenceClassification.from_pretrained(\"xlnet-base-cased\")\n",
    "\n",
    "    # Load pre-trained XLNet model\n",
    "    # Freeze all parameters\n",
    "    for param in model.parameters():\n",
    "        param.requires_grad = False\n",
    "\n",
    "    # Unfreeze the last two layers\n",
    "    # Adapt this to the specific structure of XLNet\n",
    "    for layer in [model.transformer.layer[-2], model.transformer.layer[-1]]:\n",
    "        for param in layer.parameters():\n",
    "            param.requires_grad = True\n",
    "            \n",
    "#-----------------------------------------------------------------------------------  \n",
    "    df_train = df[['Segment Text',target_column]].loc[df['policy_type'] == 'TRAIN']\n",
    "    \n",
    "    X = df_train['Segment Text']\n",
    "    y = df_train[target_column]\n",
    "\n",
    "\n",
    "    X_train, X_val, y_train, y_val = train_test_split(X, y, test_size=0.20, random_state=0)\n",
    "\n",
    "    df_train = pd.concat([X_train, y_train], axis=1)\n",
    "    print(df_train[target_column].value_counts())\n",
    "\n",
    "    df_train_aug = balance_classes(df_train,target_column,'Segment Text' )\n",
    "    print(df_train_aug[target_column].value_counts())\n",
    "\n",
    "    X_train=list(df_train_aug['Segment Text'])\n",
    "    y_train=list(df_train_aug[target_column])\n",
    "    \n",
    "\n",
    "    X_val=list(X_val)\n",
    "    y_val=list( y_val)\n",
    "\n",
    "\n",
    "    # mapping labels\n",
    "\n",
    "    label_mapping = {0: 0, 1: 1}\n",
    "    y_train_integers = [label_mapping[label] for label in y_train]\n",
    "    y_val_integers = [label_mapping[label] for label in y_val]\n",
    "\n",
    "    train_encodings = tokenizer(X_train, max_length=512, truncation=True, padding='max_length')\n",
    "    val_encodings = tokenizer(X_val, max_length=512, truncation=True, padding='max_length')\n",
    "\n",
    "\n",
    "    #\n",
    "    class TextDataset(torch.utils.data.Dataset):\n",
    "        def __init__(self, encodings, labels):\n",
    "            self.encodings = encodings\n",
    "            self.labels = labels\n",
    "\n",
    "        def __getitem__(self, idx):\n",
    "            item = {key: torch.tensor(val[idx]) for key, val in self.encodings.items()}\n",
    "            item['labels'] = self.labels[idx]  # Removed torch.tensor here\n",
    "            return item\n",
    "\n",
    "        def __len__(self):\n",
    "            return len(self.labels)\n",
    "\n",
    "\n",
    "    train_dataset = TextDataset(train_encodings, y_train_integers)\n",
    "    val_dataset = TextDataset(val_encodings, y_val_integers)\n",
    "\n",
    "\n",
    "\n",
    "#---------------------------------------------------------------------------  \n",
    "    \n",
    "    # Set up training arguments with the current learning rate\n",
    "    training_args = TrainingArguments(\n",
    "        output_dir='./results',\n",
    "        learning_rate=lr,  # Set learning rate here\n",
    "        num_train_epochs=epochs ,\n",
    "        per_device_train_batch_size=batch_size,\n",
    "        per_device_eval_batch_size=8,\n",
    "        warmup_steps=500,\n",
    "        weight_decay=0.01,\n",
    "        logging_dir='./logs',\n",
    "        logging_steps=100,\n",
    "        evaluation_strategy=\"steps\",\n",
    "        eval_steps=3000\n",
    "    )\n",
    "\n",
    "    # Set up the Trainer\n",
    "    trainer = Trainer(\n",
    "        model=model,\n",
    "        args=training_args,\n",
    "        train_dataset=train_dataset,\n",
    "        eval_dataset=val_dataset\n",
    "    )\n",
    "\n",
    "\n",
    "    # Train the model with the current learning rate\n",
    "    print(f\"Training with learning rate: {lr}\")\n",
    "    trainer.train()\n",
    "    \n",
    " # Evaluate the model\n",
    "    eval_result = trainer.evaluate()\n",
    "    print(f\"Evaluation loss for learning rate {lr}: {eval_result['eval_loss']}\")\n",
    "    \n",
    "    \n",
    "    predictions = trainer.predict(val_dataset).predictions\n",
    "    predictions_label = np.argmax(predictions, axis=1)\n",
    "\n",
    "    cm=confusion_matrix( y_val_integers, predictions_label)\n",
    "    print(cm)\n",
    "\n",
    "    accuracy = accuracy_score( y_val_integers, predictions_label)\n",
    "    precision, recall, f1, _ = precision_recall_fscore_support(y_val_integers, predictions_label, average='binary')\n",
    "    print(f\"Accuracy: {accuracy}\")\n",
    "    print(f\"Precision: {precision}\")\n",
    "    print(f\"Recall: {recall}\")\n",
    "    print(f\"F1 Score: {f1}\")\n",
    "\n",
    "    if eval_result['eval_loss'] < lowest_eval_loss:\n",
    "        best_lr = lr\n",
    "        lowest_eval_loss = eval_result['eval_loss']\n",
    "            \n",
    "    if f1 > highest_f1:\n",
    "        best_f1_lr = lr\n",
    "        highest_f1 = f1\n",
    "        \n",
    "\n",
    "print(f\"Best Learning Rate: {best_lr} with loss: {lowest_eval_loss}\")\n",
    "print(f\"Best f1 Learning Rat: {best_f1_lr} with highest f1: { highest_f1}\")"
   ]
  },
  {
   "cell_type": "markdown",
   "id": "a96252fd-27fe-4466-94cd-9a7adf5fb906",
   "metadata": {},
   "source": [
    "### Retrain the model with certain learning rate"
   ]
  },
  {
   "cell_type": "code",
   "execution_count": 7,
   "id": "ea38fd22-f998-4bfe-8be1-9db5020dc22c",
   "metadata": {},
   "outputs": [
    {
     "name": "stderr",
     "output_type": "stream",
     "text": [
      "Some weights of XLNetForSequenceClassification were not initialized from the model checkpoint at xlnet-base-cased and are newly initialized: ['logits_proj.weight', 'sequence_summary.summary.weight', 'logits_proj.bias', 'sequence_summary.summary.bias']\n",
      "You should probably TRAIN this model on a down-stream task to be able to use it for predictions and inference.\n"
     ]
    },
    {
     "name": "stdout",
     "output_type": "stream",
     "text": [
      "Purpose\n",
      "0    2374\n",
      "1     865\n",
      "Name: count, dtype: int64\n",
      "Purpose\n",
      "0    2374\n",
      "1    2374\n",
      "Name: count, dtype: int64\n",
      "Counter({0: 2374, 1: 2374})\n",
      "Counter({0: 565, 1: 172})\n"
     ]
    },
    {
     "data": {
      "text/html": [
       "\n",
       "    <div>\n",
       "      \n",
       "      <progress value='1782' max='1782' style='width:300px; height:20px; vertical-align: middle;'></progress>\n",
       "      [1782/1782 09:13, Epoch 3/3]\n",
       "    </div>\n",
       "    <table border=\"1\" class=\"dataframe\">\n",
       "  <thead>\n",
       " <tr style=\"text-align: left;\">\n",
       "      <th>Step</th>\n",
       "      <th>Training Loss</th>\n",
       "      <th>Validation Loss</th>\n",
       "    </tr>\n",
       "  </thead>\n",
       "  <tbody>\n",
       "  </tbody>\n",
       "</table><p>"
      ],
      "text/plain": [
       "<IPython.core.display.HTML object>"
      ]
     },
     "metadata": {},
     "output_type": "display_data"
    },
    {
     "data": {
      "text/html": [],
      "text/plain": [
       "<IPython.core.display.HTML object>"
      ]
     },
     "metadata": {},
     "output_type": "display_data"
    },
    {
     "name": "stdout",
     "output_type": "stream",
     "text": [
      "[[530  35]\n",
      " [ 38 134]]\n",
      "Accuracy: 0.9009497964721845\n",
      "Precision: 0.7928994082840237\n",
      "Recall: 0.7790697674418605\n",
      "F1 Score: 0.7859237536656891\n"
     ]
    }
   ],
   "source": [
    "\n",
    "tokenizer = AutoTokenizer.from_pretrained(\"xlnet-base-cased\")\n",
    "\n",
    "model = XLNetForSequenceClassification.from_pretrained(\"xlnet-base-cased\")\n",
    "\n",
    "# Load pre-trained XLNet model\n",
    "# Freeze all parameters\n",
    "for param in model.parameters():\n",
    "    param.requires_grad = False\n",
    "\n",
    "# Unfreeze the last two layers\n",
    "# Adapt this to the specific structure of XLNet\n",
    "for layer in [model.transformer.layer[-2], model.transformer.layer[-1]]:\n",
    "    for param in layer.parameters():\n",
    "        param.requires_grad = True\n",
    "                       \n",
    "#-----------------------------------------------------------------------------------     \n",
    "df_train = df[['Segment Text',target_column]].loc[df['policy_type'] == 'TRAIN']\n",
    "print(df_train[target_column].value_counts())\n",
    "\n",
    "df_train_aug = balance_classes(df_train,target_column,'Segment Text' )\n",
    "print(df_train_aug[target_column].value_counts())\n",
    "\n",
    "\n",
    "X_train=list(df_train_aug['Segment Text'])\n",
    "y_train=list(df_train_aug[target_column])\n",
    "\n",
    "X_test=list(df['Segment Text'].loc[(df['policy_type'] == 'TEST')])\n",
    "y_test=list(df[target_column].loc[(df['policy_type'] == 'TEST')])\n",
    "\n",
    "\n",
    "train_encodings = tokenizer(X_train, max_length=512, truncation=True, padding='max_length')\n",
    "test_encodings = tokenizer(X_test, max_length=512, truncation=True, padding='max_length')\n",
    "\n",
    "\n",
    "label_mapping = {0: 0, 1: 1}\n",
    "y_train_integers = [label_mapping[label] for label in y_train]\n",
    "y_test_integers = [label_mapping[label] for label in y_test]\n",
    "\n",
    "\n",
    "class TextDataset(torch.utils.data.Dataset):\n",
    "    def __init__(self, encodings, labels):\n",
    "        self.encodings = encodings\n",
    "        self.labels = labels\n",
    "\n",
    "    def __getitem__(self, idx):\n",
    "        item = {key: torch.tensor(val[idx]) for key, val in self.encodings.items()}\n",
    "        item['labels'] = self.labels[idx]  # Removed torch.tensor here\n",
    "        return item\n",
    "\n",
    "    def __len__(self):\n",
    "        return len(self.labels)\n",
    "\n",
    "train_dataset = TextDataset(train_encodings, y_train_integers)\n",
    "test_dataset = TextDataset(test_encodings, y_test_integers)\n",
    "\n",
    "\n",
    "#------------------------\n",
    "from collections import Counter\n",
    "print(Counter(y_train))\n",
    "print(Counter(y_test))\n",
    "\n",
    "#--------------------------\n",
    "\n",
    "training_args = TrainingArguments(\n",
    "    output_dir='./results',\n",
    "    learning_rate= best_f1_lr , # Set learning rate here\n",
    "    num_train_epochs=epochs ,\n",
    "    per_device_train_batch_size=batch_size,\n",
    "    per_device_eval_batch_size=8,\n",
    "    warmup_steps=500,\n",
    "    weight_decay=0.01,\n",
    "    logging_dir='./logs',\n",
    "    logging_steps=100,\n",
    "    evaluation_strategy=\"steps\",\n",
    "    eval_steps=3000\n",
    "\n",
    ")\n",
    "\n",
    "trainer = Trainer(\n",
    "    model=model,\n",
    "    args=training_args,\n",
    "    train_dataset=train_dataset,\n",
    "    eval_dataset=test_dataset\n",
    ")\n",
    "\n",
    "trainer.train()\n",
    "\n",
    "predictions = trainer.predict(test_dataset).predictions\n",
    "predictions_label = np.argmax(predictions, axis=1)\n",
    "\n",
    "cm=confusion_matrix(y_test_integers, predictions_label)\n",
    "print(cm)\n",
    "\n",
    "accuracy = accuracy_score(y_test_integers, predictions_label)\n",
    "precision, recall, f1, _ = precision_recall_fscore_support(y_test_integers, predictions_label, average='binary')\n",
    "print(f\"Accuracy: {accuracy}\")\n",
    "print(f\"Precision: {precision}\")\n",
    "print(f\"Recall: {recall}\")\n",
    "print(f\"F1 Score: {f1}\")\n"
   ]
  },
  {
   "cell_type": "code",
   "execution_count": null,
   "id": "289d16d1-0bfa-43bd-8433-8773235f05d4",
   "metadata": {},
   "outputs": [],
   "source": [
    "\n"
   ]
  },
  {
   "cell_type": "code",
   "execution_count": null,
   "id": "3b60116d-f2e3-4eb9-9369-7b1d3d274f2f",
   "metadata": {},
   "outputs": [],
   "source": []
  },
  {
   "cell_type": "code",
   "execution_count": null,
   "id": "f2425ac5-f2a7-49e6-a4a6-2e84f0f76321",
   "metadata": {},
   "outputs": [],
   "source": []
  }
 ],
 "metadata": {
  "kernelspec": {
   "display_name": "Python 3 (ipykernel)",
   "language": "python",
   "name": "python3"
  },
  "language_info": {
   "codemirror_mode": {
    "name": "ipython",
    "version": 3
   },
   "file_extension": ".py",
   "mimetype": "text/x-python",
   "name": "python",
   "nbconvert_exporter": "python",
   "pygments_lexer": "ipython3",
   "version": "3.10.12"
  }
 },
 "nbformat": 4,
 "nbformat_minor": 5
}
