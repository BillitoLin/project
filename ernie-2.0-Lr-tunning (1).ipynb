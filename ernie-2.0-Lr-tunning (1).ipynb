{
 "cells": [
  {
   "cell_type": "code",
   "execution_count": 1,
   "id": "a4e3c2ab-aeb9-442b-8250-5bd904d27ec8",
   "metadata": {
    "tags": []
   },
   "outputs": [],
   "source": [
    "\n",
    "import pandas as pd\n",
    "from sklearn.model_selection import train_test_split\n",
    "from transformers import AutoTokenizer, ErnieForSequenceClassification\n",
    "import torch\n",
    "torch.cuda.empty_cache()\n",
    "from transformers import Trainer, TrainingArguments\n",
    "from sklearn.metrics import accuracy_score, precision_recall_fscore_support\n",
    "import numpy as np\n",
    "from sklearn.metrics import confusion_matrix\n",
    "from torch.nn import CrossEntropyLoss\n",
    "import random\n",
    "import nlpaug.augmenter.word as naw\n",
    "import nltk\n",
    "from nltk.corpus import wordnet\n",
    "\n",
    "\n",
    "\n",
    "from peft import LoraConfig, TaskType\n",
    "from peft import get_peft_model\n"
   ]
  },
  {
   "cell_type": "code",
   "execution_count": 2,
   "id": "a5885023-6c73-46b3-a724-e69476968b7d",
   "metadata": {
    "tags": []
   },
   "outputs": [
    {
     "data": {
      "text/plain": [
       "Index(['policy_id', 'policy_type', 'segments', 'Segment Text', 'First Party',\n",
       "       'Third Party', 'Information Type', 'Purpose', 'Collection Process',\n",
       "       'Legal Basis for Collection', 'Third-Party Entity',\n",
       "       'Information Type_Computer information',\n",
       "       'Information Type_Contact information',\n",
       "       'Information Type_Cookies and tracking elements',\n",
       "       'Information Type_Demographic data', 'Information Type_Financial',\n",
       "       'Information Type_Generic personal information',\n",
       "       'Information Type_IP address and device IDs',\n",
       "       'Information Type_Location', 'Purpose_Advertising or marketing',\n",
       "       'Purpose_Analytics or research', 'Purpose_Essential service or feature',\n",
       "       'Purpose_Legal requirement', 'Purpose_Service operation and security',\n",
       "       'Collection Process_Collected on first-party website/app',\n",
       "       'Legal Basis for Collection_Legitimate interests of first or third party',\n",
       "       'Information Type_User online activities',\n",
       "       'Collection Process_Shared by first party with a third party'],\n",
       "      dtype='object')"
      ]
     },
     "execution_count": 2,
     "metadata": {},
     "output_type": "execute_result"
    }
   ],
   "source": [
    "df = pd.read_csv(\"en_5.0.csv\")\n",
    "df.columns[df.notnull().any()]"
   ]
  },
  {
   "cell_type": "code",
   "execution_count": 28,
   "id": "98e669eb-3946-4d64-b315-192007d03fda",
   "metadata": {
    "tags": []
   },
   "outputs": [],
   "source": [
    "target_column =  'Collection Process_Collected on first-party website/app'\n",
    "batch_size = 8\n",
    "epochs = 3\n"
   ]
  },
  {
   "cell_type": "markdown",
   "id": "974cd241-d2d5-4e6d-bae4-ec404ce4c6fd",
   "metadata": {
    "tags": []
   },
   "source": [
    "# original"
   ]
  },
  {
   "cell_type": "code",
   "execution_count": 26,
   "id": "22bef454-7c12-45fd-aea8-e389373e72ad",
   "metadata": {
    "tags": []
   },
   "outputs": [
    {
     "name": "stderr",
     "output_type": "stream",
     "text": [
      "Some weights of ErnieForSequenceClassification were not initialized from the model checkpoint at nghuyong/ernie-2.0-base-en and are newly initialized: ['classifier.weight', 'classifier.bias']\n",
      "You should probably TRAIN this model on a down-stream task to be able to use it for predictions and inference.\n"
     ]
    },
    {
     "name": "stdout",
     "output_type": "stream",
     "text": [
      "Training with learning rate: 1e-05\n"
     ]
    },
    {
     "data": {
      "text/html": [
       "\n",
       "    <div>\n",
       "      \n",
       "      <progress value='972' max='972' style='width:300px; height:20px; vertical-align: middle;'></progress>\n",
       "      [972/972 03:41, Epoch 3/3]\n",
       "    </div>\n",
       "    <table border=\"1\" class=\"dataframe\">\n",
       "  <thead>\n",
       " <tr style=\"text-align: left;\">\n",
       "      <th>Step</th>\n",
       "      <th>Training Loss</th>\n",
       "      <th>Validation Loss</th>\n",
       "    </tr>\n",
       "  </thead>\n",
       "  <tbody>\n",
       "  </tbody>\n",
       "</table><p>"
      ],
      "text/plain": [
       "<IPython.core.display.HTML object>"
      ]
     },
     "metadata": {},
     "output_type": "display_data"
    },
    {
     "data": {
      "text/html": [],
      "text/plain": [
       "<IPython.core.display.HTML object>"
      ]
     },
     "metadata": {},
     "output_type": "display_data"
    },
    {
     "name": "stdout",
     "output_type": "stream",
     "text": [
      "Evaluation loss for learning rate 1e-05: 0.062117695808410645\n",
      "[[621   9]\n",
      " [  4  14]]\n",
      "Accuracy: 0.9799382716049383\n",
      "Precision: 0.6086956521739131\n",
      "Recall: 0.7777777777777778\n",
      "F1 Score: 0.6829268292682927\n"
     ]
    },
    {
     "name": "stderr",
     "output_type": "stream",
     "text": [
      "Some weights of ErnieForSequenceClassification were not initialized from the model checkpoint at nghuyong/ernie-2.0-base-en and are newly initialized: ['classifier.weight', 'classifier.bias']\n",
      "You should probably TRAIN this model on a down-stream task to be able to use it for predictions and inference.\n"
     ]
    },
    {
     "name": "stdout",
     "output_type": "stream",
     "text": [
      "Training with learning rate: 2e-05\n"
     ]
    },
    {
     "data": {
      "text/html": [
       "\n",
       "    <div>\n",
       "      \n",
       "      <progress value='972' max='972' style='width:300px; height:20px; vertical-align: middle;'></progress>\n",
       "      [972/972 03:41, Epoch 3/3]\n",
       "    </div>\n",
       "    <table border=\"1\" class=\"dataframe\">\n",
       "  <thead>\n",
       " <tr style=\"text-align: left;\">\n",
       "      <th>Step</th>\n",
       "      <th>Training Loss</th>\n",
       "      <th>Validation Loss</th>\n",
       "    </tr>\n",
       "  </thead>\n",
       "  <tbody>\n",
       "  </tbody>\n",
       "</table><p>"
      ],
      "text/plain": [
       "<IPython.core.display.HTML object>"
      ]
     },
     "metadata": {},
     "output_type": "display_data"
    },
    {
     "data": {
      "text/html": [],
      "text/plain": [
       "<IPython.core.display.HTML object>"
      ]
     },
     "metadata": {},
     "output_type": "display_data"
    },
    {
     "name": "stdout",
     "output_type": "stream",
     "text": [
      "Evaluation loss for learning rate 2e-05: 0.0657379999756813\n",
      "[[618  12]\n",
      " [  2  16]]\n",
      "Accuracy: 0.9783950617283951\n",
      "Precision: 0.5714285714285714\n",
      "Recall: 0.8888888888888888\n",
      "F1 Score: 0.6956521739130435\n"
     ]
    },
    {
     "name": "stderr",
     "output_type": "stream",
     "text": [
      "Some weights of ErnieForSequenceClassification were not initialized from the model checkpoint at nghuyong/ernie-2.0-base-en and are newly initialized: ['classifier.weight', 'classifier.bias']\n",
      "You should probably TRAIN this model on a down-stream task to be able to use it for predictions and inference.\n"
     ]
    },
    {
     "name": "stdout",
     "output_type": "stream",
     "text": [
      "Training with learning rate: 3e-05\n"
     ]
    },
    {
     "data": {
      "text/html": [
       "\n",
       "    <div>\n",
       "      \n",
       "      <progress value='972' max='972' style='width:300px; height:20px; vertical-align: middle;'></progress>\n",
       "      [972/972 03:42, Epoch 3/3]\n",
       "    </div>\n",
       "    <table border=\"1\" class=\"dataframe\">\n",
       "  <thead>\n",
       " <tr style=\"text-align: left;\">\n",
       "      <th>Step</th>\n",
       "      <th>Training Loss</th>\n",
       "      <th>Validation Loss</th>\n",
       "    </tr>\n",
       "  </thead>\n",
       "  <tbody>\n",
       "  </tbody>\n",
       "</table><p>"
      ],
      "text/plain": [
       "<IPython.core.display.HTML object>"
      ]
     },
     "metadata": {},
     "output_type": "display_data"
    },
    {
     "data": {
      "text/html": [],
      "text/plain": [
       "<IPython.core.display.HTML object>"
      ]
     },
     "metadata": {},
     "output_type": "display_data"
    },
    {
     "name": "stdout",
     "output_type": "stream",
     "text": [
      "Evaluation loss for learning rate 3e-05: 0.05122268199920654\n",
      "[[621   9]\n",
      " [  2  16]]\n",
      "Accuracy: 0.9830246913580247\n",
      "Precision: 0.64\n",
      "Recall: 0.8888888888888888\n",
      "F1 Score: 0.7441860465116279\n"
     ]
    },
    {
     "name": "stderr",
     "output_type": "stream",
     "text": [
      "Some weights of ErnieForSequenceClassification were not initialized from the model checkpoint at nghuyong/ernie-2.0-base-en and are newly initialized: ['classifier.weight', 'classifier.bias']\n",
      "You should probably TRAIN this model on a down-stream task to be able to use it for predictions and inference.\n"
     ]
    },
    {
     "name": "stdout",
     "output_type": "stream",
     "text": [
      "Training with learning rate: 5e-05\n"
     ]
    },
    {
     "data": {
      "text/html": [
       "\n",
       "    <div>\n",
       "      \n",
       "      <progress value='972' max='972' style='width:300px; height:20px; vertical-align: middle;'></progress>\n",
       "      [972/972 03:41, Epoch 3/3]\n",
       "    </div>\n",
       "    <table border=\"1\" class=\"dataframe\">\n",
       "  <thead>\n",
       " <tr style=\"text-align: left;\">\n",
       "      <th>Step</th>\n",
       "      <th>Training Loss</th>\n",
       "      <th>Validation Loss</th>\n",
       "    </tr>\n",
       "  </thead>\n",
       "  <tbody>\n",
       "  </tbody>\n",
       "</table><p>"
      ],
      "text/plain": [
       "<IPython.core.display.HTML object>"
      ]
     },
     "metadata": {},
     "output_type": "display_data"
    },
    {
     "data": {
      "text/html": [],
      "text/plain": [
       "<IPython.core.display.HTML object>"
      ]
     },
     "metadata": {},
     "output_type": "display_data"
    },
    {
     "name": "stdout",
     "output_type": "stream",
     "text": [
      "Evaluation loss for learning rate 5e-05: 0.11569096148014069\n",
      "[[626   4]\n",
      " [ 10   8]]\n",
      "Accuracy: 0.9783950617283951\n",
      "Precision: 0.6666666666666666\n",
      "Recall: 0.4444444444444444\n",
      "F1 Score: 0.5333333333333333\n"
     ]
    },
    {
     "name": "stderr",
     "output_type": "stream",
     "text": [
      "Some weights of ErnieForSequenceClassification were not initialized from the model checkpoint at nghuyong/ernie-2.0-base-en and are newly initialized: ['classifier.weight', 'classifier.bias']\n",
      "You should probably TRAIN this model on a down-stream task to be able to use it for predictions and inference.\n"
     ]
    },
    {
     "name": "stdout",
     "output_type": "stream",
     "text": [
      "Training with learning rate: 0.0001\n"
     ]
    },
    {
     "data": {
      "text/html": [
       "\n",
       "    <div>\n",
       "      \n",
       "      <progress value='972' max='972' style='width:300px; height:20px; vertical-align: middle;'></progress>\n",
       "      [972/972 03:41, Epoch 3/3]\n",
       "    </div>\n",
       "    <table border=\"1\" class=\"dataframe\">\n",
       "  <thead>\n",
       " <tr style=\"text-align: left;\">\n",
       "      <th>Step</th>\n",
       "      <th>Training Loss</th>\n",
       "      <th>Validation Loss</th>\n",
       "    </tr>\n",
       "  </thead>\n",
       "  <tbody>\n",
       "  </tbody>\n",
       "</table><p>"
      ],
      "text/plain": [
       "<IPython.core.display.HTML object>"
      ]
     },
     "metadata": {},
     "output_type": "display_data"
    },
    {
     "data": {
      "text/html": [],
      "text/plain": [
       "<IPython.core.display.HTML object>"
      ]
     },
     "metadata": {},
     "output_type": "display_data"
    },
    {
     "name": "stdout",
     "output_type": "stream",
     "text": [
      "Evaluation loss for learning rate 0.0001: 0.1488148421049118\n",
      "[[630   0]\n",
      " [ 18   0]]\n",
      "Accuracy: 0.9722222222222222\n",
      "Precision: 0.0\n",
      "Recall: 0.0\n",
      "F1 Score: 0.0\n"
     ]
    },
    {
     "name": "stderr",
     "output_type": "stream",
     "text": [
      "/opt/conda/lib/python3.10/site-packages/sklearn/metrics/_classification.py:1465: UndefinedMetricWarning: Precision and F-score are ill-defined and being set to 0.0 due to no predicted samples. Use `zero_division` parameter to control this behavior.\n",
      "  _warn_prf(average, modifier, msg_start, len(result))\n",
      "Some weights of ErnieForSequenceClassification were not initialized from the model checkpoint at nghuyong/ernie-2.0-base-en and are newly initialized: ['classifier.weight', 'classifier.bias']\n",
      "You should probably TRAIN this model on a down-stream task to be able to use it for predictions and inference.\n"
     ]
    },
    {
     "name": "stdout",
     "output_type": "stream",
     "text": [
      "Training with learning rate: 0.0002\n"
     ]
    },
    {
     "data": {
      "text/html": [
       "\n",
       "    <div>\n",
       "      \n",
       "      <progress value='972' max='972' style='width:300px; height:20px; vertical-align: middle;'></progress>\n",
       "      [972/972 03:42, Epoch 3/3]\n",
       "    </div>\n",
       "    <table border=\"1\" class=\"dataframe\">\n",
       "  <thead>\n",
       " <tr style=\"text-align: left;\">\n",
       "      <th>Step</th>\n",
       "      <th>Training Loss</th>\n",
       "      <th>Validation Loss</th>\n",
       "    </tr>\n",
       "  </thead>\n",
       "  <tbody>\n",
       "  </tbody>\n",
       "</table><p>"
      ],
      "text/plain": [
       "<IPython.core.display.HTML object>"
      ]
     },
     "metadata": {},
     "output_type": "display_data"
    },
    {
     "data": {
      "text/html": [],
      "text/plain": [
       "<IPython.core.display.HTML object>"
      ]
     },
     "metadata": {},
     "output_type": "display_data"
    },
    {
     "name": "stdout",
     "output_type": "stream",
     "text": [
      "Evaluation loss for learning rate 0.0002: 0.1518235057592392\n",
      "[[630   0]\n",
      " [ 18   0]]\n",
      "Accuracy: 0.9722222222222222\n",
      "Precision: 0.0\n",
      "Recall: 0.0\n",
      "F1 Score: 0.0\n"
     ]
    },
    {
     "name": "stderr",
     "output_type": "stream",
     "text": [
      "/opt/conda/lib/python3.10/site-packages/sklearn/metrics/_classification.py:1465: UndefinedMetricWarning: Precision and F-score are ill-defined and being set to 0.0 due to no predicted samples. Use `zero_division` parameter to control this behavior.\n",
      "  _warn_prf(average, modifier, msg_start, len(result))\n",
      "Some weights of ErnieForSequenceClassification were not initialized from the model checkpoint at nghuyong/ernie-2.0-base-en and are newly initialized: ['classifier.weight', 'classifier.bias']\n",
      "You should probably TRAIN this model on a down-stream task to be able to use it for predictions and inference.\n"
     ]
    },
    {
     "name": "stdout",
     "output_type": "stream",
     "text": [
      "Training with learning rate: 0.0003\n"
     ]
    },
    {
     "data": {
      "text/html": [
       "\n",
       "    <div>\n",
       "      \n",
       "      <progress value='972' max='972' style='width:300px; height:20px; vertical-align: middle;'></progress>\n",
       "      [972/972 03:41, Epoch 3/3]\n",
       "    </div>\n",
       "    <table border=\"1\" class=\"dataframe\">\n",
       "  <thead>\n",
       " <tr style=\"text-align: left;\">\n",
       "      <th>Step</th>\n",
       "      <th>Training Loss</th>\n",
       "      <th>Validation Loss</th>\n",
       "    </tr>\n",
       "  </thead>\n",
       "  <tbody>\n",
       "  </tbody>\n",
       "</table><p>"
      ],
      "text/plain": [
       "<IPython.core.display.HTML object>"
      ]
     },
     "metadata": {},
     "output_type": "display_data"
    },
    {
     "data": {
      "text/html": [],
      "text/plain": [
       "<IPython.core.display.HTML object>"
      ]
     },
     "metadata": {},
     "output_type": "display_data"
    },
    {
     "name": "stdout",
     "output_type": "stream",
     "text": [
      "Evaluation loss for learning rate 0.0003: 0.1542862355709076\n",
      "[[630   0]\n",
      " [ 18   0]]\n",
      "Accuracy: 0.9722222222222222\n",
      "Precision: 0.0\n",
      "Recall: 0.0\n",
      "F1 Score: 0.0\n",
      "Best Learning Rate: 3e-05 with loss: 0.05122268199920654\n",
      "Best f1 Learning Rat: 3e-05 with highest f1: 0.7441860465116279\n"
     ]
    },
    {
     "name": "stderr",
     "output_type": "stream",
     "text": [
      "/opt/conda/lib/python3.10/site-packages/sklearn/metrics/_classification.py:1465: UndefinedMetricWarning: Precision and F-score are ill-defined and being set to 0.0 due to no predicted samples. Use `zero_division` parameter to control this behavior.\n",
      "  _warn_prf(average, modifier, msg_start, len(result))\n"
     ]
    }
   ],
   "source": [
    "best_lr = None\n",
    "lowest_eval_loss = float('inf')\n",
    "\n",
    "\n",
    "best_f1_lr = None\n",
    "highest_f1 = 0\n",
    "\n",
    "\n",
    "learning_rates =[1e-5, 2e-5, 3e-5, 5e-5, 1e-4, 2e-4, 3e-4]\n",
    "\n",
    "for lr in learning_rates:\n",
    "    \n",
    "#--------------------------------------------------------------------------------    \n",
    "    tokenizer = AutoTokenizer.from_pretrained(\"nghuyong/ernie-2.0-base-en\")\n",
    "\n",
    "    model = ErnieForSequenceClassification.from_pretrained(\"nghuyong/ernie-2.0-base-en\")\n",
    "\n",
    " \n",
    "#-----------------------------------------------------------------------------------           \n",
    "\n",
    "    X_train = list(df['Segment Text'].loc[(df['policy_type'] == 'TRAIN')])\n",
    "    y_train = list(df[target_column].loc[(df['policy_type'] == 'TRAIN')])\n",
    "\n",
    "\n",
    "    # Split the data into training and validation sets\n",
    "    X_train, X_val, y_train, y_val = train_test_split(X_train, y_train, test_size=0.20, random_state=0)\n",
    "\n",
    "\n",
    "    # mapping labels\n",
    "\n",
    "    label_mapping = {0: 0, 1: 1}\n",
    "    y_train_integers = [label_mapping[label] for label in y_train]\n",
    "    y_val_integers = [label_mapping[label] for label in y_val]\n",
    "\n",
    "    train_encodings = tokenizer(X_train, max_length=512, truncation=True, padding='max_length')\n",
    "    val_encodings = tokenizer(X_val, max_length=512, truncation=True, padding='max_length')\n",
    "\n",
    "    #\n",
    "    class TextDataset(torch.utils.data.Dataset):\n",
    "        def __init__(self, encodings, labels):\n",
    "            self.encodings = encodings\n",
    "            self.labels = labels\n",
    "\n",
    "        def __getitem__(self, idx):\n",
    "            item = {key: torch.tensor(val[idx]) for key, val in self.encodings.items()}\n",
    "            item['labels'] = self.labels[idx]  # Removed torch.tensor here\n",
    "            return item\n",
    "\n",
    "        def __len__(self):\n",
    "            return len(self.labels)\n",
    "\n",
    "\n",
    "    train_dataset = TextDataset(train_encodings, y_train_integers)\n",
    "    val_dataset = TextDataset(val_encodings, y_val_integers)\n",
    "    \n",
    "#---------------------------------------------------------------------------  \n",
    "    \n",
    "    # Set up training arguments with the current learning rate\n",
    "    training_args = TrainingArguments(\n",
    "        output_dir='./results',\n",
    "        learning_rate=lr,  # Set learning rate here\n",
    "        num_train_epochs=epochs ,\n",
    "        per_device_train_batch_size=batch_size,\n",
    "        per_device_eval_batch_size=8,\n",
    "        warmup_steps=500,\n",
    "        weight_decay=0.01,\n",
    "        logging_dir='./logs',\n",
    "        logging_steps=100,\n",
    "        evaluation_strategy=\"steps\",\n",
    "        eval_steps=3000\n",
    "    )\n",
    "\n",
    "    # Set up the Trainer\n",
    "    trainer = Trainer(\n",
    "        model=model,\n",
    "        args=training_args,\n",
    "        train_dataset=train_dataset,\n",
    "        eval_dataset=val_dataset\n",
    "    )\n",
    "\n",
    "\n",
    "    # Train the model with the current learning rate\n",
    "    print(f\"Training with learning rate: {lr}\")\n",
    "    trainer.train()\n",
    "    \n",
    " # Evaluate the model\n",
    "    eval_result = trainer.evaluate()\n",
    "    print(f\"Evaluation loss for learning rate {lr}: {eval_result['eval_loss']}\")\n",
    "    \n",
    "    \n",
    "    predictions = trainer.predict(val_dataset).predictions\n",
    "    predictions_label = np.argmax(predictions, axis=1)\n",
    "\n",
    "    cm=confusion_matrix( y_val_integers, predictions_label)\n",
    "    print(cm)\n",
    "\n",
    "    accuracy = accuracy_score( y_val_integers, predictions_label)\n",
    "    precision, recall, f1, _ = precision_recall_fscore_support(y_val_integers, predictions_label, average='binary')\n",
    "    print(f\"Accuracy: {accuracy}\")\n",
    "    print(f\"Precision: {precision}\")\n",
    "    print(f\"Recall: {recall}\")\n",
    "    print(f\"F1 Score: {f1}\")\n",
    "\n",
    "    if eval_result['eval_loss'] < lowest_eval_loss:\n",
    "        best_lr = lr\n",
    "        lowest_eval_loss = eval_result['eval_loss']\n",
    "\n",
    "    if f1 > highest_f1:\n",
    "        best_f1_lr = lr\n",
    "        highest_f1 = f1\n",
    "        \n",
    "\n",
    "print(f\"Best Learning Rate: {best_lr} with loss: {lowest_eval_loss}\")\n",
    "print(f\"Best f1 Learning Rat: {best_f1_lr} with highest f1: { highest_f1}\")\n"
   ]
  },
  {
   "cell_type": "markdown",
   "id": "badac47e-684e-49aa-a088-8c4eb09607b0",
   "metadata": {
    "tags": []
   },
   "source": [
    "### Retrain the model with certain learning rate\n"
   ]
  },
  {
   "cell_type": "code",
   "execution_count": 27,
   "id": "2dfbc969-e0d8-4092-81b3-c1d6b61c5090",
   "metadata": {},
   "outputs": [
    {
     "name": "stderr",
     "output_type": "stream",
     "text": [
      "Some weights of ErnieForSequenceClassification were not initialized from the model checkpoint at nghuyong/ernie-2.0-base-en and are newly initialized: ['classifier.weight', 'classifier.bias']\n",
      "You should probably TRAIN this model on a down-stream task to be able to use it for predictions and inference.\n"
     ]
    },
    {
     "data": {
      "text/html": [
       "\n",
       "    <div>\n",
       "      \n",
       "      <progress value='1215' max='1215' style='width:300px; height:20px; vertical-align: middle;'></progress>\n",
       "      [1215/1215 04:41, Epoch 3/3]\n",
       "    </div>\n",
       "    <table border=\"1\" class=\"dataframe\">\n",
       "  <thead>\n",
       " <tr style=\"text-align: left;\">\n",
       "      <th>Step</th>\n",
       "      <th>Training Loss</th>\n",
       "      <th>Validation Loss</th>\n",
       "    </tr>\n",
       "  </thead>\n",
       "  <tbody>\n",
       "  </tbody>\n",
       "</table><p>"
      ],
      "text/plain": [
       "<IPython.core.display.HTML object>"
      ]
     },
     "metadata": {},
     "output_type": "display_data"
    },
    {
     "data": {
      "text/html": [],
      "text/plain": [
       "<IPython.core.display.HTML object>"
      ]
     },
     "metadata": {},
     "output_type": "display_data"
    },
    {
     "name": "stdout",
     "output_type": "stream",
     "text": [
      "[[717   3]\n",
      " [  5  12]]\n",
      "Accuracy: 0.989145183175034\n",
      "Precision: 0.8\n",
      "Recall: 0.7058823529411765\n",
      "F1 Score: 0.7500000000000001\n",
      "Best f1 Learning Rat: 3e-05\n"
     ]
    }
   ],
   "source": [
    "tokenizer = AutoTokenizer.from_pretrained(\"nghuyong/ernie-2.0-base-en\")\n",
    "\n",
    "model = ErnieForSequenceClassification.from_pretrained(\"nghuyong/ernie-2.0-base-en\")\n",
    "            \n",
    "#-----------------------------------------------------------------------------------     \n",
    "\n",
    "X_train=list(df['Segment Text'].loc[(df['policy_type'] == 'TRAIN')])\n",
    "X_test=list(df['Segment Text'].loc[(df['policy_type'] == 'TEST')])\n",
    "\n",
    "y_train=list(df[target_column].loc[(df['policy_type'] == 'TRAIN')])\n",
    "y_test=list(df[target_column].loc[(df['policy_type'] == 'TEST')])\n",
    "\n",
    "\n",
    "train_encodings = tokenizer(X_train, max_length=512, truncation=True, padding='max_length')\n",
    "test_encodings = tokenizer(X_test, max_length=512, truncation=True, padding='max_length')\n",
    "\n",
    "#-----------\n",
    "\n",
    "label_mapping = {0: 0, 1: 1}\n",
    "y_train_integers = [label_mapping[label] for label in y_train]\n",
    "y_test_integers = [label_mapping[label] for label in y_test]\n",
    "\n",
    "\n",
    "class TextDataset(torch.utils.data.Dataset):\n",
    "    def __init__(self, encodings, labels):\n",
    "        self.encodings = encodings\n",
    "        self.labels = labels\n",
    "\n",
    "    def __getitem__(self, idx):\n",
    "        item = {key: torch.tensor(val[idx]) for key, val in self.encodings.items()}\n",
    "        item['labels'] = self.labels[idx]  # Removed torch.tensor here\n",
    "        return item\n",
    "\n",
    "    def __len__(self):\n",
    "        return len(self.labels)\n",
    "\n",
    "train_dataset = TextDataset(train_encodings, y_train_integers)\n",
    "test_dataset = TextDataset(test_encodings, y_test_integers)\n",
    "\n",
    "#--------------------------\n",
    "\n",
    "training_args = TrainingArguments(\n",
    "    output_dir='./results',\n",
    "    learning_rate= best_f1_lr , # Set learning rate here\n",
    "    num_train_epochs=epochs ,\n",
    "    per_device_train_batch_size=batch_size,\n",
    "    per_device_eval_batch_size=8,\n",
    "    warmup_steps=500,\n",
    "    weight_decay=0.01,\n",
    "    logging_dir='./logs',\n",
    "    logging_steps=100,\n",
    "    evaluation_strategy=\"steps\",\n",
    "    eval_steps=3000\n",
    "\n",
    ")\n",
    "\n",
    "trainer = Trainer(\n",
    "    model=model,\n",
    "    args=training_args,\n",
    "    train_dataset=train_dataset,\n",
    "    eval_dataset=test_dataset\n",
    ")\n",
    "\n",
    "trainer.train()\n",
    "\n",
    "\n",
    "predictions = trainer.predict(test_dataset).predictions\n",
    "predictions_label = np.argmax(predictions, axis=1)\n",
    "\n",
    "cm=confusion_matrix(y_test_integers, predictions_label)\n",
    "print(cm)\n",
    "\n",
    "accuracy = accuracy_score(y_test_integers, predictions_label)\n",
    "precision, recall, f1, _ = precision_recall_fscore_support(y_test_integers, predictions_label, average='binary')\n",
    "print(f\"Accuracy: {accuracy}\")\n",
    "print(f\"Precision: {precision}\")\n",
    "print(f\"Recall: {recall}\")\n",
    "print(f\"F1 Score: {f1}\")\n",
    "\n",
    "print(f\"Best f1 Learning Rat: {best_f1_lr}\")"
   ]
  },
  {
   "cell_type": "code",
   "execution_count": null,
   "id": "425c7e19-182b-4acf-8bcb-8f7912275825",
   "metadata": {},
   "outputs": [],
   "source": []
  },
  {
   "cell_type": "code",
   "execution_count": null,
   "id": "55069e38-b8da-4792-9e7b-953ee43484fe",
   "metadata": {},
   "outputs": [],
   "source": []
  },
  {
   "cell_type": "markdown",
   "id": "0f55c53f-e21c-4989-b339-db252e8d4121",
   "metadata": {
    "jp-MarkdownHeadingCollapsed": true,
    "tags": []
   },
   "source": [
    "# Fine Tuning last 2 layers "
   ]
  },
  {
   "cell_type": "code",
   "execution_count": 23,
   "id": "29f9bd88-5644-472b-9472-894f93791f91",
   "metadata": {},
   "outputs": [
    {
     "name": "stderr",
     "output_type": "stream",
     "text": [
      "Some weights of ErnieForSequenceClassification were not initialized from the model checkpoint at nghuyong/ernie-2.0-base-en and are newly initialized: ['classifier.weight', 'classifier.bias']\n",
      "You should probably TRAIN this model on a down-stream task to be able to use it for predictions and inference.\n"
     ]
    },
    {
     "name": "stdout",
     "output_type": "stream",
     "text": [
      "Training with learning rate: 1e-05\n"
     ]
    },
    {
     "data": {
      "text/html": [
       "\n",
       "    <div>\n",
       "      \n",
       "      <progress value='972' max='972' style='width:300px; height:20px; vertical-align: middle;'></progress>\n",
       "      [972/972 01:40, Epoch 3/3]\n",
       "    </div>\n",
       "    <table border=\"1\" class=\"dataframe\">\n",
       "  <thead>\n",
       " <tr style=\"text-align: left;\">\n",
       "      <th>Step</th>\n",
       "      <th>Training Loss</th>\n",
       "      <th>Validation Loss</th>\n",
       "    </tr>\n",
       "  </thead>\n",
       "  <tbody>\n",
       "  </tbody>\n",
       "</table><p>"
      ],
      "text/plain": [
       "<IPython.core.display.HTML object>"
      ]
     },
     "metadata": {},
     "output_type": "display_data"
    },
    {
     "data": {
      "text/html": [],
      "text/plain": [
       "<IPython.core.display.HTML object>"
      ]
     },
     "metadata": {},
     "output_type": "display_data"
    },
    {
     "name": "stdout",
     "output_type": "stream",
     "text": [
      "Evaluation loss for learning rate 1e-05: 0.08479280024766922\n",
      "[[601  16]\n",
      " [  7  24]]\n",
      "Accuracy: 0.9645061728395061\n",
      "Precision: 0.6\n",
      "Recall: 0.7741935483870968\n",
      "F1 Score: 0.676056338028169\n"
     ]
    },
    {
     "name": "stderr",
     "output_type": "stream",
     "text": [
      "Some weights of ErnieForSequenceClassification were not initialized from the model checkpoint at nghuyong/ernie-2.0-base-en and are newly initialized: ['classifier.weight', 'classifier.bias']\n",
      "You should probably TRAIN this model on a down-stream task to be able to use it for predictions and inference.\n"
     ]
    },
    {
     "name": "stdout",
     "output_type": "stream",
     "text": [
      "Training with learning rate: 2e-05\n"
     ]
    },
    {
     "data": {
      "text/html": [
       "\n",
       "    <div>\n",
       "      \n",
       "      <progress value='972' max='972' style='width:300px; height:20px; vertical-align: middle;'></progress>\n",
       "      [972/972 01:40, Epoch 3/3]\n",
       "    </div>\n",
       "    <table border=\"1\" class=\"dataframe\">\n",
       "  <thead>\n",
       " <tr style=\"text-align: left;\">\n",
       "      <th>Step</th>\n",
       "      <th>Training Loss</th>\n",
       "      <th>Validation Loss</th>\n",
       "    </tr>\n",
       "  </thead>\n",
       "  <tbody>\n",
       "  </tbody>\n",
       "</table><p>"
      ],
      "text/plain": [
       "<IPython.core.display.HTML object>"
      ]
     },
     "metadata": {},
     "output_type": "display_data"
    },
    {
     "data": {
      "text/html": [],
      "text/plain": [
       "<IPython.core.display.HTML object>"
      ]
     },
     "metadata": {},
     "output_type": "display_data"
    },
    {
     "name": "stdout",
     "output_type": "stream",
     "text": [
      "Evaluation loss for learning rate 2e-05: 0.10813398659229279\n",
      "[[595  22]\n",
      " [  8  23]]\n",
      "Accuracy: 0.9537037037037037\n",
      "Precision: 0.5111111111111111\n",
      "Recall: 0.7419354838709677\n",
      "F1 Score: 0.6052631578947368\n"
     ]
    },
    {
     "name": "stderr",
     "output_type": "stream",
     "text": [
      "Some weights of ErnieForSequenceClassification were not initialized from the model checkpoint at nghuyong/ernie-2.0-base-en and are newly initialized: ['classifier.weight', 'classifier.bias']\n",
      "You should probably TRAIN this model on a down-stream task to be able to use it for predictions and inference.\n"
     ]
    },
    {
     "name": "stdout",
     "output_type": "stream",
     "text": [
      "Training with learning rate: 3e-05\n"
     ]
    },
    {
     "data": {
      "text/html": [
       "\n",
       "    <div>\n",
       "      \n",
       "      <progress value='972' max='972' style='width:300px; height:20px; vertical-align: middle;'></progress>\n",
       "      [972/972 01:40, Epoch 3/3]\n",
       "    </div>\n",
       "    <table border=\"1\" class=\"dataframe\">\n",
       "  <thead>\n",
       " <tr style=\"text-align: left;\">\n",
       "      <th>Step</th>\n",
       "      <th>Training Loss</th>\n",
       "      <th>Validation Loss</th>\n",
       "    </tr>\n",
       "  </thead>\n",
       "  <tbody>\n",
       "  </tbody>\n",
       "</table><p>"
      ],
      "text/plain": [
       "<IPython.core.display.HTML object>"
      ]
     },
     "metadata": {},
     "output_type": "display_data"
    },
    {
     "data": {
      "text/html": [],
      "text/plain": [
       "<IPython.core.display.HTML object>"
      ]
     },
     "metadata": {},
     "output_type": "display_data"
    },
    {
     "name": "stdout",
     "output_type": "stream",
     "text": [
      "Evaluation loss for learning rate 3e-05: 0.10972175747156143\n",
      "[[597  20]\n",
      " [  6  25]]\n",
      "Accuracy: 0.9598765432098766\n",
      "Precision: 0.5555555555555556\n",
      "Recall: 0.8064516129032258\n",
      "F1 Score: 0.6578947368421053\n"
     ]
    },
    {
     "name": "stderr",
     "output_type": "stream",
     "text": [
      "Some weights of ErnieForSequenceClassification were not initialized from the model checkpoint at nghuyong/ernie-2.0-base-en and are newly initialized: ['classifier.weight', 'classifier.bias']\n",
      "You should probably TRAIN this model on a down-stream task to be able to use it for predictions and inference.\n"
     ]
    },
    {
     "name": "stdout",
     "output_type": "stream",
     "text": [
      "Training with learning rate: 5e-05\n"
     ]
    },
    {
     "data": {
      "text/html": [
       "\n",
       "    <div>\n",
       "      \n",
       "      <progress value='972' max='972' style='width:300px; height:20px; vertical-align: middle;'></progress>\n",
       "      [972/972 01:41, Epoch 3/3]\n",
       "    </div>\n",
       "    <table border=\"1\" class=\"dataframe\">\n",
       "  <thead>\n",
       " <tr style=\"text-align: left;\">\n",
       "      <th>Step</th>\n",
       "      <th>Training Loss</th>\n",
       "      <th>Validation Loss</th>\n",
       "    </tr>\n",
       "  </thead>\n",
       "  <tbody>\n",
       "  </tbody>\n",
       "</table><p>"
      ],
      "text/plain": [
       "<IPython.core.display.HTML object>"
      ]
     },
     "metadata": {},
     "output_type": "display_data"
    },
    {
     "data": {
      "text/html": [],
      "text/plain": [
       "<IPython.core.display.HTML object>"
      ]
     },
     "metadata": {},
     "output_type": "display_data"
    },
    {
     "name": "stdout",
     "output_type": "stream",
     "text": [
      "Evaluation loss for learning rate 5e-05: 0.11369504779577255\n",
      "[[595  22]\n",
      " [  5  26]]\n",
      "Accuracy: 0.9583333333333334\n",
      "Precision: 0.5416666666666666\n",
      "Recall: 0.8387096774193549\n",
      "F1 Score: 0.6582278481012658\n"
     ]
    },
    {
     "name": "stderr",
     "output_type": "stream",
     "text": [
      "Some weights of ErnieForSequenceClassification were not initialized from the model checkpoint at nghuyong/ernie-2.0-base-en and are newly initialized: ['classifier.weight', 'classifier.bias']\n",
      "You should probably TRAIN this model on a down-stream task to be able to use it for predictions and inference.\n"
     ]
    },
    {
     "name": "stdout",
     "output_type": "stream",
     "text": [
      "Training with learning rate: 0.0001\n"
     ]
    },
    {
     "data": {
      "text/html": [
       "\n",
       "    <div>\n",
       "      \n",
       "      <progress value='972' max='972' style='width:300px; height:20px; vertical-align: middle;'></progress>\n",
       "      [972/972 01:41, Epoch 3/3]\n",
       "    </div>\n",
       "    <table border=\"1\" class=\"dataframe\">\n",
       "  <thead>\n",
       " <tr style=\"text-align: left;\">\n",
       "      <th>Step</th>\n",
       "      <th>Training Loss</th>\n",
       "      <th>Validation Loss</th>\n",
       "    </tr>\n",
       "  </thead>\n",
       "  <tbody>\n",
       "  </tbody>\n",
       "</table><p>"
      ],
      "text/plain": [
       "<IPython.core.display.HTML object>"
      ]
     },
     "metadata": {},
     "output_type": "display_data"
    },
    {
     "data": {
      "text/html": [],
      "text/plain": [
       "<IPython.core.display.HTML object>"
      ]
     },
     "metadata": {},
     "output_type": "display_data"
    },
    {
     "name": "stdout",
     "output_type": "stream",
     "text": [
      "Evaluation loss for learning rate 0.0001: 0.09745791554450989\n",
      "[[595  22]\n",
      " [  4  27]]\n",
      "Accuracy: 0.9598765432098766\n",
      "Precision: 0.5510204081632653\n",
      "Recall: 0.8709677419354839\n",
      "F1 Score: 0.6749999999999999\n"
     ]
    },
    {
     "name": "stderr",
     "output_type": "stream",
     "text": [
      "Some weights of ErnieForSequenceClassification were not initialized from the model checkpoint at nghuyong/ernie-2.0-base-en and are newly initialized: ['classifier.weight', 'classifier.bias']\n",
      "You should probably TRAIN this model on a down-stream task to be able to use it for predictions and inference.\n"
     ]
    },
    {
     "name": "stdout",
     "output_type": "stream",
     "text": [
      "Training with learning rate: 0.0002\n"
     ]
    },
    {
     "data": {
      "text/html": [
       "\n",
       "    <div>\n",
       "      \n",
       "      <progress value='972' max='972' style='width:300px; height:20px; vertical-align: middle;'></progress>\n",
       "      [972/972 01:40, Epoch 3/3]\n",
       "    </div>\n",
       "    <table border=\"1\" class=\"dataframe\">\n",
       "  <thead>\n",
       " <tr style=\"text-align: left;\">\n",
       "      <th>Step</th>\n",
       "      <th>Training Loss</th>\n",
       "      <th>Validation Loss</th>\n",
       "    </tr>\n",
       "  </thead>\n",
       "  <tbody>\n",
       "  </tbody>\n",
       "</table><p>"
      ],
      "text/plain": [
       "<IPython.core.display.HTML object>"
      ]
     },
     "metadata": {},
     "output_type": "display_data"
    },
    {
     "data": {
      "text/html": [],
      "text/plain": [
       "<IPython.core.display.HTML object>"
      ]
     },
     "metadata": {},
     "output_type": "display_data"
    },
    {
     "name": "stdout",
     "output_type": "stream",
     "text": [
      "Evaluation loss for learning rate 0.0002: 0.0965372622013092\n",
      "[[595  22]\n",
      " [  5  26]]\n",
      "Accuracy: 0.9583333333333334\n",
      "Precision: 0.5416666666666666\n",
      "Recall: 0.8387096774193549\n",
      "F1 Score: 0.6582278481012658\n"
     ]
    },
    {
     "name": "stderr",
     "output_type": "stream",
     "text": [
      "Some weights of ErnieForSequenceClassification were not initialized from the model checkpoint at nghuyong/ernie-2.0-base-en and are newly initialized: ['classifier.weight', 'classifier.bias']\n",
      "You should probably TRAIN this model on a down-stream task to be able to use it for predictions and inference.\n"
     ]
    },
    {
     "name": "stdout",
     "output_type": "stream",
     "text": [
      "Training with learning rate: 0.0003\n"
     ]
    },
    {
     "data": {
      "text/html": [
       "\n",
       "    <div>\n",
       "      \n",
       "      <progress value='972' max='972' style='width:300px; height:20px; vertical-align: middle;'></progress>\n",
       "      [972/972 01:41, Epoch 3/3]\n",
       "    </div>\n",
       "    <table border=\"1\" class=\"dataframe\">\n",
       "  <thead>\n",
       " <tr style=\"text-align: left;\">\n",
       "      <th>Step</th>\n",
       "      <th>Training Loss</th>\n",
       "      <th>Validation Loss</th>\n",
       "    </tr>\n",
       "  </thead>\n",
       "  <tbody>\n",
       "  </tbody>\n",
       "</table><p>"
      ],
      "text/plain": [
       "<IPython.core.display.HTML object>"
      ]
     },
     "metadata": {},
     "output_type": "display_data"
    },
    {
     "data": {
      "text/html": [],
      "text/plain": [
       "<IPython.core.display.HTML object>"
      ]
     },
     "metadata": {},
     "output_type": "display_data"
    },
    {
     "name": "stdout",
     "output_type": "stream",
     "text": [
      "Evaluation loss for learning rate 0.0003: 0.09088344126939774\n",
      "[[594  23]\n",
      " [  6  25]]\n",
      "Accuracy: 0.9552469135802469\n",
      "Precision: 0.5208333333333334\n",
      "Recall: 0.8064516129032258\n",
      "F1 Score: 0.6329113924050633\n",
      "Best Learning Rate: 1e-05 with loss: 0.08479280024766922\n",
      "Best f1 Learning Rat: 1e-05 with highest f1: 0.676056338028169\n"
     ]
    }
   ],
   "source": [
    "\n",
    "best_lr = None\n",
    "lowest_eval_loss = float('inf')\n",
    "\n",
    "best_f1_lr = None\n",
    "highest_f1 = 0\n",
    "\n",
    "learning_rates =[1e-5, 2e-5, 3e-5, 5e-5, 1e-4, 2e-4, 3e-4]# [5e-5, 1e-4, 2e-4, 3e-4][ 1e-5, 2e-5, 3e-5][1e-5, 2e-5, 3e-5, 5e-5, 1e-4, 2e-4, 3e-4]\n",
    "\n",
    "for lr in learning_rates:\n",
    "    \n",
    "#--------------------------------------------------------------------------------    \n",
    "    tokenizer = AutoTokenizer.from_pretrained(\"nghuyong/ernie-2.0-base-en\")\n",
    "\n",
    "    model = ErnieForSequenceClassification.from_pretrained(\"nghuyong/ernie-2.0-base-en\")\n",
    "\n",
    "    for param in model.parameters():\n",
    "        param.requires_grad = False\n",
    "\n",
    "    # Unfreeze the last two layers of the ErnieEncoder\n",
    "    for param in model.ernie.encoder.layer[-2:].parameters():\n",
    "        param.requires_grad = True\n",
    "            \n",
    "#-----------------------------------------------------------------------------------           \n",
    "\n",
    "    X_train = list(df['Segment Text'].loc[(df['policy_type'] == 'TRAIN')])\n",
    "    y_train = list(df[target_column].loc[(df['policy_type'] == 'TRAIN')])\n",
    "\n",
    "\n",
    "    # Split the data into training and validation sets\n",
    "    X_train, X_val, y_train, y_val = train_test_split(X_train, y_train, test_size=0.20, random_state=0)\n",
    "\n",
    "\n",
    "    # mapping labels\n",
    "\n",
    "    label_mapping = {0: 0, 1: 1}\n",
    "    y_train_integers = [label_mapping[label] for label in y_train]\n",
    "    y_val_integers = [label_mapping[label] for label in y_val]\n",
    "\n",
    "    train_encodings = tokenizer(X_train, max_length=512, truncation=True, padding='max_length')\n",
    "    val_encodings = tokenizer(X_val, max_length=512, truncation=True, padding='max_length')\n",
    "\n",
    "    #\n",
    "    class TextDataset(torch.utils.data.Dataset):\n",
    "        def __init__(self, encodings, labels):\n",
    "            self.encodings = encodings\n",
    "            self.labels = labels\n",
    "\n",
    "        def __getitem__(self, idx):\n",
    "            item = {key: torch.tensor(val[idx]) for key, val in self.encodings.items()}\n",
    "            item['labels'] = self.labels[idx]  # Removed torch.tensor here\n",
    "            return item\n",
    "\n",
    "        def __len__(self):\n",
    "            return len(self.labels)\n",
    "\n",
    "\n",
    "    train_dataset = TextDataset(train_encodings, y_train_integers)\n",
    "    val_dataset = TextDataset(val_encodings, y_val_integers)\n",
    "    \n",
    "#---------------------------------------------------------------------------  \n",
    "    \n",
    "    # Set up training arguments with the current learning rate\n",
    "    training_args = TrainingArguments(\n",
    "        output_dir='./results',\n",
    "        learning_rate=lr,  # Set learning rate here\n",
    "        num_train_epochs=epochs ,\n",
    "        per_device_train_batch_size=batch_size,\n",
    "        per_device_eval_batch_size=8,\n",
    "        warmup_steps=500,\n",
    "        weight_decay=0.01,\n",
    "        logging_dir='./logs',\n",
    "        logging_steps=100,\n",
    "        evaluation_strategy=\"steps\",\n",
    "        eval_steps=3000\n",
    "    )\n",
    "\n",
    "    # Set up the Trainer\n",
    "    trainer = Trainer(\n",
    "        model=model,\n",
    "        args=training_args,\n",
    "        train_dataset=train_dataset,\n",
    "        eval_dataset=val_dataset\n",
    "    )\n",
    "\n",
    "\n",
    "    # Train the model with the current learning rate\n",
    "    print(f\"Training with learning rate: {lr}\")\n",
    "    trainer.train()\n",
    "    \n",
    " # Evaluate the model\n",
    "    eval_result = trainer.evaluate()\n",
    "    print(f\"Evaluation loss for learning rate {lr}: {eval_result['eval_loss']}\")\n",
    "    \n",
    "    \n",
    "    predictions = trainer.predict(val_dataset).predictions\n",
    "    predictions_label = np.argmax(predictions, axis=1)\n",
    "\n",
    "    cm=confusion_matrix( y_val_integers, predictions_label)\n",
    "    print(cm)\n",
    "\n",
    "    accuracy = accuracy_score( y_val_integers, predictions_label)\n",
    "    precision, recall, f1, _ = precision_recall_fscore_support(y_val_integers, predictions_label, average='binary')\n",
    "    print(f\"Accuracy: {accuracy}\")\n",
    "    print(f\"Precision: {precision}\")\n",
    "    print(f\"Recall: {recall}\")\n",
    "    print(f\"F1 Score: {f1}\")\n",
    "\n",
    "    if eval_result['eval_loss'] < lowest_eval_loss:\n",
    "        best_lr = lr\n",
    "        lowest_eval_loss = eval_result['eval_loss']\n",
    "        \n",
    "    if f1 > highest_f1:\n",
    "        best_f1_lr = lr\n",
    "        highest_f1 = f1\n",
    "        \n",
    "print(f\"Best Learning Rate: {best_lr} with loss: {lowest_eval_loss}\")\n",
    "print(f\"Best f1 Learning Rat: {best_f1_lr} with highest f1: { highest_f1}\")"
   ]
  },
  {
   "cell_type": "markdown",
   "id": "20a9979b-c0cb-4940-869b-18b799bb29fc",
   "metadata": {},
   "source": [
    "### Retrain the model with certain learning rate"
   ]
  },
  {
   "cell_type": "code",
   "execution_count": 24,
   "id": "189c2855-07e8-4417-81a0-9576982dff6b",
   "metadata": {
    "tags": []
   },
   "outputs": [
    {
     "name": "stderr",
     "output_type": "stream",
     "text": [
      "Some weights of ErnieForSequenceClassification were not initialized from the model checkpoint at nghuyong/ernie-2.0-base-en and are newly initialized: ['classifier.weight', 'classifier.bias']\n",
      "You should probably TRAIN this model on a down-stream task to be able to use it for predictions and inference.\n"
     ]
    },
    {
     "data": {
      "text/html": [
       "\n",
       "    <div>\n",
       "      \n",
       "      <progress value='1215' max='1215' style='width:300px; height:20px; vertical-align: middle;'></progress>\n",
       "      [1215/1215 02:06, Epoch 3/3]\n",
       "    </div>\n",
       "    <table border=\"1\" class=\"dataframe\">\n",
       "  <thead>\n",
       " <tr style=\"text-align: left;\">\n",
       "      <th>Step</th>\n",
       "      <th>Training Loss</th>\n",
       "      <th>Validation Loss</th>\n",
       "    </tr>\n",
       "  </thead>\n",
       "  <tbody>\n",
       "  </tbody>\n",
       "</table><p>"
      ],
      "text/plain": [
       "<IPython.core.display.HTML object>"
      ]
     },
     "metadata": {},
     "output_type": "display_data"
    },
    {
     "data": {
      "text/html": [],
      "text/plain": [
       "<IPython.core.display.HTML object>"
      ]
     },
     "metadata": {},
     "output_type": "display_data"
    },
    {
     "name": "stdout",
     "output_type": "stream",
     "text": [
      "[[709   9]\n",
      " [  5  14]]\n",
      "Accuracy: 0.9810040705563093\n",
      "Precision: 0.6086956521739131\n",
      "Recall: 0.7368421052631579\n",
      "F1 Score: 0.6666666666666666\n",
      "Best f1 Learning Rat: 1e-05 \n"
     ]
    }
   ],
   "source": [
    "tokenizer = AutoTokenizer.from_pretrained(\"nghuyong/ernie-2.0-base-en\")\n",
    "\n",
    "model = ErnieForSequenceClassification.from_pretrained(\"nghuyong/ernie-2.0-base-en\")\n",
    "\n",
    "# Freeze all parameters\n",
    "for param in model.parameters():\n",
    "    param.requires_grad = False\n",
    "\n",
    "# Unfreeze the last two layers of the ErnieEncoder\n",
    "for param in model.ernie.encoder.layer[-2:].parameters():\n",
    "    param.requires_grad = True\n",
    "#-----------------------------------------------------------------------------------     \n",
    "\n",
    "X_train=list(df['Segment Text'].loc[(df['policy_type'] == 'TRAIN')])\n",
    "X_test=list(df['Segment Text'].loc[(df['policy_type'] == 'TEST')])\n",
    "\n",
    "y_train=list(df[target_column].loc[(df['policy_type'] == 'TRAIN')])\n",
    "y_test=list(df[target_column].loc[(df['policy_type'] == 'TEST')])\n",
    "\n",
    "\n",
    "train_encodings = tokenizer(X_train, max_length=512, truncation=True, padding='max_length')\n",
    "test_encodings = tokenizer(X_test, max_length=512, truncation=True, padding='max_length')\n",
    "\n",
    "#-----------\n",
    "\n",
    "label_mapping = {0: 0, 1: 1}\n",
    "y_train_integers = [label_mapping[label] for label in y_train]\n",
    "y_test_integers = [label_mapping[label] for label in y_test]\n",
    "\n",
    "\n",
    "class TextDataset(torch.utils.data.Dataset):\n",
    "    def __init__(self, encodings, labels):\n",
    "        self.encodings = encodings\n",
    "        self.labels = labels\n",
    "\n",
    "    def __getitem__(self, idx):\n",
    "        item = {key: torch.tensor(val[idx]) for key, val in self.encodings.items()}\n",
    "        item['labels'] = self.labels[idx]  # Removed torch.tensor here\n",
    "        return item\n",
    "\n",
    "    def __len__(self):\n",
    "        return len(self.labels)\n",
    "\n",
    "train_dataset = TextDataset(train_encodings, y_train_integers)\n",
    "test_dataset = TextDataset(test_encodings, y_test_integers)\n",
    "\n",
    "#--------------------------\n",
    "\n",
    "training_args = TrainingArguments(\n",
    "    output_dir='./results',\n",
    "    learning_rate= best_f1_lr , # Set learning rate here\n",
    "    num_train_epochs=epochs ,\n",
    "    per_device_train_batch_size=batch_size,\n",
    "    per_device_eval_batch_size=8,\n",
    "    warmup_steps=500,\n",
    "    weight_decay=0.01,\n",
    "    logging_dir='./logs',\n",
    "    logging_steps=100,\n",
    "    evaluation_strategy=\"steps\",\n",
    "    eval_steps=3000\n",
    "\n",
    ")\n",
    "\n",
    "trainer = Trainer(\n",
    "    model=model,\n",
    "    args=training_args,\n",
    "    train_dataset=train_dataset,\n",
    "    eval_dataset=test_dataset\n",
    ")\n",
    "\n",
    "trainer.train()\n",
    "\n",
    "predictions = trainer.predict(test_dataset).predictions\n",
    "predictions_label = np.argmax(predictions, axis=1)\n",
    "\n",
    "cm=confusion_matrix(y_test_integers, predictions_label)\n",
    "print(cm)\n",
    "\n",
    "accuracy = accuracy_score(y_test_integers, predictions_label)\n",
    "precision, recall, f1, _ = precision_recall_fscore_support(y_test_integers, predictions_label, average='binary')\n",
    "print(f\"Accuracy: {accuracy}\")\n",
    "print(f\"Precision: {precision}\")\n",
    "print(f\"Recall: {recall}\")\n",
    "print(f\"F1 Score: {f1}\")\n",
    "\n",
    "print(f\"Best f1 Learning Rat: {best_f1_lr} \")"
   ]
  },
  {
   "cell_type": "markdown",
   "id": "e01a27b1-1ed6-424f-a88b-3283e2359d28",
   "metadata": {
    "tags": []
   },
   "source": [
    "# Imbalance / PEFT /Cost sensitve learning"
   ]
  },
  {
   "cell_type": "code",
   "execution_count": 13,
   "id": "121e67b2-b716-40ef-8b1f-d21a20929d7d",
   "metadata": {},
   "outputs": [
    {
     "name": "stderr",
     "output_type": "stream",
     "text": [
      "Some weights of ErnieForSequenceClassification were not initialized from the model checkpoint at nghuyong/ernie-2.0-base-en and are newly initialized: ['classifier.weight', 'classifier.bias']\n",
      "You should probably TRAIN this model on a down-stream task to be able to use it for predictions and inference.\n"
     ]
    },
    {
     "name": "stdout",
     "output_type": "stream",
     "text": [
      "Counter({0: 2558, 1: 33})\n",
      "Counter({0: 640, 1: 8})\n",
      "1.012900703674746\n",
      "78.51515151515152\n",
      "Training with learning rate: 1e-05\n"
     ]
    },
    {
     "data": {
      "text/html": [
       "\n",
       "    <div>\n",
       "      \n",
       "      <progress value='972' max='972' style='width:300px; height:20px; vertical-align: middle;'></progress>\n",
       "      [972/972 01:41, Epoch 3/3]\n",
       "    </div>\n",
       "    <table border=\"1\" class=\"dataframe\">\n",
       "  <thead>\n",
       " <tr style=\"text-align: left;\">\n",
       "      <th>Step</th>\n",
       "      <th>Training Loss</th>\n",
       "      <th>Validation Loss</th>\n",
       "    </tr>\n",
       "  </thead>\n",
       "  <tbody>\n",
       "  </tbody>\n",
       "</table><p>"
      ],
      "text/plain": [
       "<IPython.core.display.HTML object>"
      ]
     },
     "metadata": {},
     "output_type": "display_data"
    },
    {
     "data": {
      "text/html": [],
      "text/plain": [
       "<IPython.core.display.HTML object>"
      ]
     },
     "metadata": {},
     "output_type": "display_data"
    },
    {
     "name": "stdout",
     "output_type": "stream",
     "text": [
      "Evaluation loss for learning rate 1e-05: 0.0627056136727333\n",
      "[[640   0]\n",
      " [  8   0]]\n",
      "Accuracy: 0.9876543209876543\n",
      "Precision: 0.0\n",
      "Recall: 0.0\n",
      "F1 Score: 0.0\n"
     ]
    },
    {
     "name": "stderr",
     "output_type": "stream",
     "text": [
      "/opt/conda/lib/python3.10/site-packages/sklearn/metrics/_classification.py:1465: UndefinedMetricWarning: Precision and F-score are ill-defined and being set to 0.0 due to no predicted samples. Use `zero_division` parameter to control this behavior.\n",
      "  _warn_prf(average, modifier, msg_start, len(result))\n",
      "Some weights of ErnieForSequenceClassification were not initialized from the model checkpoint at nghuyong/ernie-2.0-base-en and are newly initialized: ['classifier.weight', 'classifier.bias']\n",
      "You should probably TRAIN this model on a down-stream task to be able to use it for predictions and inference.\n"
     ]
    },
    {
     "name": "stdout",
     "output_type": "stream",
     "text": [
      "Counter({0: 2558, 1: 33})\n",
      "Counter({0: 640, 1: 8})\n",
      "1.012900703674746\n",
      "78.51515151515152\n",
      "Training with learning rate: 2e-05\n"
     ]
    },
    {
     "data": {
      "text/html": [
       "\n",
       "    <div>\n",
       "      \n",
       "      <progress value='972' max='972' style='width:300px; height:20px; vertical-align: middle;'></progress>\n",
       "      [972/972 01:42, Epoch 3/3]\n",
       "    </div>\n",
       "    <table border=\"1\" class=\"dataframe\">\n",
       "  <thead>\n",
       " <tr style=\"text-align: left;\">\n",
       "      <th>Step</th>\n",
       "      <th>Training Loss</th>\n",
       "      <th>Validation Loss</th>\n",
       "    </tr>\n",
       "  </thead>\n",
       "  <tbody>\n",
       "  </tbody>\n",
       "</table><p>"
      ],
      "text/plain": [
       "<IPython.core.display.HTML object>"
      ]
     },
     "metadata": {},
     "output_type": "display_data"
    },
    {
     "data": {
      "text/html": [],
      "text/plain": [
       "<IPython.core.display.HTML object>"
      ]
     },
     "metadata": {},
     "output_type": "display_data"
    },
    {
     "name": "stdout",
     "output_type": "stream",
     "text": [
      "Evaluation loss for learning rate 2e-05: 0.027622675523161888\n",
      "[[639   1]\n",
      " [  7   1]]\n",
      "Accuracy: 0.9876543209876543\n",
      "Precision: 0.5\n",
      "Recall: 0.125\n",
      "F1 Score: 0.2\n"
     ]
    },
    {
     "name": "stderr",
     "output_type": "stream",
     "text": [
      "Some weights of ErnieForSequenceClassification were not initialized from the model checkpoint at nghuyong/ernie-2.0-base-en and are newly initialized: ['classifier.weight', 'classifier.bias']\n",
      "You should probably TRAIN this model on a down-stream task to be able to use it for predictions and inference.\n"
     ]
    },
    {
     "name": "stdout",
     "output_type": "stream",
     "text": [
      "Counter({0: 2558, 1: 33})\n",
      "Counter({0: 640, 1: 8})\n",
      "1.012900703674746\n",
      "78.51515151515152\n",
      "Training with learning rate: 3e-05\n"
     ]
    },
    {
     "data": {
      "text/html": [
       "\n",
       "    <div>\n",
       "      \n",
       "      <progress value='972' max='972' style='width:300px; height:20px; vertical-align: middle;'></progress>\n",
       "      [972/972 01:41, Epoch 3/3]\n",
       "    </div>\n",
       "    <table border=\"1\" class=\"dataframe\">\n",
       "  <thead>\n",
       " <tr style=\"text-align: left;\">\n",
       "      <th>Step</th>\n",
       "      <th>Training Loss</th>\n",
       "      <th>Validation Loss</th>\n",
       "    </tr>\n",
       "  </thead>\n",
       "  <tbody>\n",
       "  </tbody>\n",
       "</table><p>"
      ],
      "text/plain": [
       "<IPython.core.display.HTML object>"
      ]
     },
     "metadata": {},
     "output_type": "display_data"
    },
    {
     "data": {
      "text/html": [],
      "text/plain": [
       "<IPython.core.display.HTML object>"
      ]
     },
     "metadata": {},
     "output_type": "display_data"
    },
    {
     "name": "stdout",
     "output_type": "stream",
     "text": [
      "Evaluation loss for learning rate 3e-05: 0.029483383521437645\n",
      "[[638   2]\n",
      " [  5   3]]\n",
      "Accuracy: 0.9891975308641975\n",
      "Precision: 0.6\n",
      "Recall: 0.375\n",
      "F1 Score: 0.4615384615384615\n"
     ]
    },
    {
     "name": "stderr",
     "output_type": "stream",
     "text": [
      "Some weights of ErnieForSequenceClassification were not initialized from the model checkpoint at nghuyong/ernie-2.0-base-en and are newly initialized: ['classifier.weight', 'classifier.bias']\n",
      "You should probably TRAIN this model on a down-stream task to be able to use it for predictions and inference.\n"
     ]
    },
    {
     "name": "stdout",
     "output_type": "stream",
     "text": [
      "Counter({0: 2558, 1: 33})\n",
      "Counter({0: 640, 1: 8})\n",
      "1.012900703674746\n",
      "78.51515151515152\n",
      "Training with learning rate: 5e-05\n"
     ]
    },
    {
     "data": {
      "text/html": [
       "\n",
       "    <div>\n",
       "      \n",
       "      <progress value='972' max='972' style='width:300px; height:20px; vertical-align: middle;'></progress>\n",
       "      [972/972 01:41, Epoch 3/3]\n",
       "    </div>\n",
       "    <table border=\"1\" class=\"dataframe\">\n",
       "  <thead>\n",
       " <tr style=\"text-align: left;\">\n",
       "      <th>Step</th>\n",
       "      <th>Training Loss</th>\n",
       "      <th>Validation Loss</th>\n",
       "    </tr>\n",
       "  </thead>\n",
       "  <tbody>\n",
       "  </tbody>\n",
       "</table><p>"
      ],
      "text/plain": [
       "<IPython.core.display.HTML object>"
      ]
     },
     "metadata": {},
     "output_type": "display_data"
    },
    {
     "data": {
      "text/html": [],
      "text/plain": [
       "<IPython.core.display.HTML object>"
      ]
     },
     "metadata": {},
     "output_type": "display_data"
    },
    {
     "name": "stdout",
     "output_type": "stream",
     "text": [
      "Evaluation loss for learning rate 5e-05: 0.030799565836787224\n",
      "[[639   1]\n",
      " [  5   3]]\n",
      "Accuracy: 0.9907407407407407\n",
      "Precision: 0.75\n",
      "Recall: 0.375\n",
      "F1 Score: 0.5\n"
     ]
    },
    {
     "name": "stderr",
     "output_type": "stream",
     "text": [
      "Some weights of ErnieForSequenceClassification were not initialized from the model checkpoint at nghuyong/ernie-2.0-base-en and are newly initialized: ['classifier.weight', 'classifier.bias']\n",
      "You should probably TRAIN this model on a down-stream task to be able to use it for predictions and inference.\n"
     ]
    },
    {
     "name": "stdout",
     "output_type": "stream",
     "text": [
      "Counter({0: 2558, 1: 33})\n",
      "Counter({0: 640, 1: 8})\n",
      "1.012900703674746\n",
      "78.51515151515152\n",
      "Training with learning rate: 0.0001\n"
     ]
    },
    {
     "data": {
      "text/html": [
       "\n",
       "    <div>\n",
       "      \n",
       "      <progress value='972' max='972' style='width:300px; height:20px; vertical-align: middle;'></progress>\n",
       "      [972/972 01:42, Epoch 3/3]\n",
       "    </div>\n",
       "    <table border=\"1\" class=\"dataframe\">\n",
       "  <thead>\n",
       " <tr style=\"text-align: left;\">\n",
       "      <th>Step</th>\n",
       "      <th>Training Loss</th>\n",
       "      <th>Validation Loss</th>\n",
       "    </tr>\n",
       "  </thead>\n",
       "  <tbody>\n",
       "  </tbody>\n",
       "</table><p>"
      ],
      "text/plain": [
       "<IPython.core.display.HTML object>"
      ]
     },
     "metadata": {},
     "output_type": "display_data"
    },
    {
     "data": {
      "text/html": [],
      "text/plain": [
       "<IPython.core.display.HTML object>"
      ]
     },
     "metadata": {},
     "output_type": "display_data"
    },
    {
     "name": "stdout",
     "output_type": "stream",
     "text": [
      "Evaluation loss for learning rate 0.0001: 0.04429016634821892\n",
      "[[639   1]\n",
      " [  6   2]]\n",
      "Accuracy: 0.9891975308641975\n",
      "Precision: 0.6666666666666666\n",
      "Recall: 0.25\n",
      "F1 Score: 0.36363636363636365\n"
     ]
    },
    {
     "name": "stderr",
     "output_type": "stream",
     "text": [
      "Some weights of ErnieForSequenceClassification were not initialized from the model checkpoint at nghuyong/ernie-2.0-base-en and are newly initialized: ['classifier.weight', 'classifier.bias']\n",
      "You should probably TRAIN this model on a down-stream task to be able to use it for predictions and inference.\n"
     ]
    },
    {
     "name": "stdout",
     "output_type": "stream",
     "text": [
      "Counter({0: 2558, 1: 33})\n",
      "Counter({0: 640, 1: 8})\n",
      "1.012900703674746\n",
      "78.51515151515152\n",
      "Training with learning rate: 0.0002\n"
     ]
    },
    {
     "data": {
      "text/html": [
       "\n",
       "    <div>\n",
       "      \n",
       "      <progress value='972' max='972' style='width:300px; height:20px; vertical-align: middle;'></progress>\n",
       "      [972/972 01:41, Epoch 3/3]\n",
       "    </div>\n",
       "    <table border=\"1\" class=\"dataframe\">\n",
       "  <thead>\n",
       " <tr style=\"text-align: left;\">\n",
       "      <th>Step</th>\n",
       "      <th>Training Loss</th>\n",
       "      <th>Validation Loss</th>\n",
       "    </tr>\n",
       "  </thead>\n",
       "  <tbody>\n",
       "  </tbody>\n",
       "</table><p>"
      ],
      "text/plain": [
       "<IPython.core.display.HTML object>"
      ]
     },
     "metadata": {},
     "output_type": "display_data"
    },
    {
     "data": {
      "text/html": [],
      "text/plain": [
       "<IPython.core.display.HTML object>"
      ]
     },
     "metadata": {},
     "output_type": "display_data"
    },
    {
     "name": "stdout",
     "output_type": "stream",
     "text": [
      "Evaluation loss for learning rate 0.0002: 0.027863502502441406\n",
      "[[637   3]\n",
      " [  5   3]]\n",
      "Accuracy: 0.9876543209876543\n",
      "Precision: 0.5\n",
      "Recall: 0.375\n",
      "F1 Score: 0.42857142857142855\n"
     ]
    },
    {
     "name": "stderr",
     "output_type": "stream",
     "text": [
      "Some weights of ErnieForSequenceClassification were not initialized from the model checkpoint at nghuyong/ernie-2.0-base-en and are newly initialized: ['classifier.weight', 'classifier.bias']\n",
      "You should probably TRAIN this model on a down-stream task to be able to use it for predictions and inference.\n"
     ]
    },
    {
     "name": "stdout",
     "output_type": "stream",
     "text": [
      "Counter({0: 2558, 1: 33})\n",
      "Counter({0: 640, 1: 8})\n",
      "1.012900703674746\n",
      "78.51515151515152\n",
      "Training with learning rate: 0.0003\n"
     ]
    },
    {
     "data": {
      "text/html": [
       "\n",
       "    <div>\n",
       "      \n",
       "      <progress value='972' max='972' style='width:300px; height:20px; vertical-align: middle;'></progress>\n",
       "      [972/972 01:42, Epoch 3/3]\n",
       "    </div>\n",
       "    <table border=\"1\" class=\"dataframe\">\n",
       "  <thead>\n",
       " <tr style=\"text-align: left;\">\n",
       "      <th>Step</th>\n",
       "      <th>Training Loss</th>\n",
       "      <th>Validation Loss</th>\n",
       "    </tr>\n",
       "  </thead>\n",
       "  <tbody>\n",
       "  </tbody>\n",
       "</table><p>"
      ],
      "text/plain": [
       "<IPython.core.display.HTML object>"
      ]
     },
     "metadata": {},
     "output_type": "display_data"
    },
    {
     "data": {
      "text/html": [],
      "text/plain": [
       "<IPython.core.display.HTML object>"
      ]
     },
     "metadata": {},
     "output_type": "display_data"
    },
    {
     "name": "stdout",
     "output_type": "stream",
     "text": [
      "Evaluation loss for learning rate 0.0003: 0.03434814140200615\n",
      "[[640   0]\n",
      " [  8   0]]\n",
      "Accuracy: 0.9876543209876543\n",
      "Precision: 0.0\n",
      "Recall: 0.0\n",
      "F1 Score: 0.0\n",
      "Best Learning Rate: 2e-05 with loss: 0.027622675523161888\n",
      "Best f1 Learning Rat: 5e-05 with highest f1: 0.5\n"
     ]
    },
    {
     "name": "stderr",
     "output_type": "stream",
     "text": [
      "/opt/conda/lib/python3.10/site-packages/sklearn/metrics/_classification.py:1465: UndefinedMetricWarning: Precision and F-score are ill-defined and being set to 0.0 due to no predicted samples. Use `zero_division` parameter to control this behavior.\n",
      "  _warn_prf(average, modifier, msg_start, len(result))\n"
     ]
    }
   ],
   "source": [
    "best_lr = None\n",
    "lowest_eval_loss = float('inf')\n",
    "\n",
    "\n",
    "best_f1_lr = None\n",
    "highest_f1 = 0\n",
    "\n",
    "\n",
    "learning_rates =[1e-5, 2e-5, 3e-5, 5e-5, 1e-4, 2e-4, 3e-4]\n",
    "\n",
    "for lr in learning_rates:\n",
    "    \n",
    "#--------------------------------------------------------------------------------    \n",
    "    tokenizer = AutoTokenizer.from_pretrained(\"nghuyong/ernie-2.0-base-en\")\n",
    "\n",
    "    model = ErnieForSequenceClassification.from_pretrained(\"nghuyong/ernie-2.0-base-en\")\n",
    "\n",
    "    # Freeze all parameters\n",
    "    for param in model.parameters():\n",
    "        param.requires_grad = False\n",
    "\n",
    "    # Unfreeze the last two layers of the ErnieEncoder\n",
    "    for param in model.ernie.encoder.layer[-2:].parameters():\n",
    "        param.requires_grad = True\n",
    "            \n",
    "#-----------------------------------------------------------------------------------           \n",
    "\n",
    "    X_train = list(df['Segment Text'].loc[(df['policy_type'] == 'TRAIN')])\n",
    "    y_train = list(df[target_column].loc[(df['policy_type'] == 'TRAIN')])\n",
    "\n",
    "\n",
    "    # Split the data into training and validation sets\n",
    "    X_train, X_val, y_train, y_val = train_test_split(X_train, y_train, test_size=0.20, random_state=0)\n",
    "\n",
    "\n",
    "    # mapping labels\n",
    "\n",
    "    label_mapping = {0: 0, 1: 1}\n",
    "    y_train_integers = [label_mapping[label] for label in y_train]\n",
    "    y_val_integers = [label_mapping[label] for label in y_val]\n",
    "\n",
    "    train_encodings = tokenizer(X_train, max_length=512, truncation=True, padding='max_length')\n",
    "    val_encodings = tokenizer(X_val, max_length=512, truncation=True, padding='max_length')\n",
    "\n",
    "    #\n",
    "    class TextDataset(torch.utils.data.Dataset):\n",
    "        def __init__(self, encodings, labels):\n",
    "            self.encodings = encodings\n",
    "            self.labels = labels\n",
    "\n",
    "        def __getitem__(self, idx):\n",
    "            item = {key: torch.tensor(val[idx]) for key, val in self.encodings.items()}\n",
    "            item['labels'] = self.labels[idx]  # Removed torch.tensor here\n",
    "            return item\n",
    "\n",
    "        def __len__(self):\n",
    "            return len(self.labels)\n",
    "\n",
    "\n",
    "    train_dataset = TextDataset(train_encodings, y_train_integers)\n",
    "    val_dataset = TextDataset(val_encodings, y_val_integers)\n",
    "    \n",
    "#---------------------------------------------------------------------------  \n",
    "\n",
    "\n",
    "    from collections import Counter\n",
    "    print(Counter(y_train))\n",
    "    print(Counter(y_val))\n",
    "    \n",
    "        # Calculate class weights (example calculation, adjust as needed)\n",
    "\n",
    "    total_samples = Counter(y_train)[0] + Counter(y_train)[1]\n",
    "    class_weights = torch.tensor([total_samples /Counter(y_train)[0], total_samples / Counter(y_train)[1]], dtype=torch.float)\n",
    "\n",
    "    print(total_samples /Counter(y_train)[0])\n",
    "    print(total_samples / Counter(y_train)[1])\n",
    "\n",
    "    # Ensure the model is on the correct device (e.g., GPU or CPU)\n",
    "    device = torch.device(\"cuda\" if torch.cuda.is_available() else \"cpu\")\n",
    "    model.to(device)  # Ensure model is on the correct device\n",
    "\n",
    "    # Move class_weights to the same device as the model\n",
    "    class_weights = class_weights.to(device)\n",
    "\n",
    "\n",
    "\n",
    "    class CustomTrainer(Trainer):\n",
    "        def __init__(self, *args, **kwargs):\n",
    "            super().__init__(*args, **kwargs)\n",
    "            self.loss_fct = CrossEntropyLoss(weight=class_weights).to(device)\n",
    "\n",
    "        def compute_loss(self, model, inputs, return_outputs=False):\n",
    "            inputs = {k: v.to(device) for k, v in inputs.items()}\n",
    "            labels = inputs.get(\"labels\").to(device)\n",
    "\n",
    "            outputs = model(**inputs)\n",
    "            logits = outputs.logits\n",
    "\n",
    "            loss = self.loss_fct(logits, labels)\n",
    "            return (loss, outputs) if return_outputs else loss\n",
    "\n",
    "    #-------------------------------------------------\n",
    "    \n",
    "    \n",
    "    \n",
    "    \n",
    "    # Set up training arguments with the current learning rate\n",
    "    training_args = TrainingArguments(\n",
    "        output_dir='./results',\n",
    "        learning_rate=lr,  # Set learning rate here\n",
    "        num_train_epochs=epochs ,\n",
    "        per_device_train_batch_size=batch_size,\n",
    "        per_device_eval_batch_size=8,\n",
    "        warmup_steps=500,\n",
    "        weight_decay=0.01,\n",
    "        logging_dir='./logs',\n",
    "        logging_steps=100,\n",
    "        evaluation_strategy=\"steps\",\n",
    "        eval_steps=3000\n",
    "    )\n",
    "\n",
    "    # Set up the Trainer\n",
    "    trainer = Trainer(\n",
    "        model=model,\n",
    "        args=training_args,\n",
    "        train_dataset=train_dataset,\n",
    "        eval_dataset=val_dataset\n",
    "    )\n",
    "\n",
    "\n",
    "\n",
    "    # Train the model with the current learning rate\n",
    "    print(f\"Training with learning rate: {lr}\")\n",
    "    trainer.train()\n",
    "    \n",
    " # Evaluate the model\n",
    "    eval_result = trainer.evaluate()\n",
    "    print(f\"Evaluation loss for learning rate {lr}: {eval_result['eval_loss']}\")\n",
    "    \n",
    "    \n",
    "    predictions = trainer.predict(val_dataset).predictions\n",
    "    predictions_label = np.argmax(predictions, axis=1)\n",
    "\n",
    "    cm=confusion_matrix( y_val_integers, predictions_label)\n",
    "    print(cm)\n",
    "\n",
    "    accuracy = accuracy_score( y_val_integers, predictions_label)\n",
    "    precision, recall, f1, _ = precision_recall_fscore_support(y_val_integers, predictions_label, average='binary')\n",
    "    print(f\"Accuracy: {accuracy}\")\n",
    "    print(f\"Precision: {precision}\")\n",
    "    print(f\"Recall: {recall}\")\n",
    "    print(f\"F1 Score: {f1}\")\n",
    "\n",
    "    if eval_result['eval_loss'] < lowest_eval_loss:\n",
    "        best_lr = lr\n",
    "        lowest_eval_loss = eval_result['eval_loss']\n",
    "\n",
    "    if f1 > highest_f1:\n",
    "        best_f1_lr = lr\n",
    "        highest_f1 = f1\n",
    "        \n",
    "\n",
    "print(f\"Best Learning Rate: {best_lr} with loss: {lowest_eval_loss}\")\n",
    "print(f\"Best f1 Learning Rat: {best_f1_lr} with highest f1: { highest_f1}\")\n"
   ]
  },
  {
   "cell_type": "markdown",
   "id": "8833afef-e3e3-4c4b-9ca8-4c8b1555de83",
   "metadata": {},
   "source": [
    "### Retrain the model with certain learning rate"
   ]
  },
  {
   "cell_type": "code",
   "execution_count": 14,
   "id": "5e7f07f8-c834-4581-beb8-e114a67602b0",
   "metadata": {},
   "outputs": [
    {
     "name": "stderr",
     "output_type": "stream",
     "text": [
      "Some weights of ErnieForSequenceClassification were not initialized from the model checkpoint at nghuyong/ernie-2.0-base-en and are newly initialized: ['classifier.weight', 'classifier.bias']\n",
      "You should probably TRAIN this model on a down-stream task to be able to use it for predictions and inference.\n"
     ]
    },
    {
     "name": "stdout",
     "output_type": "stream",
     "text": [
      "Counter({0: 3198, 1: 41})\n",
      "Counter({0: 715, 1: 22})\n",
      "1.0128205128205128\n",
      "79.0\n"
     ]
    },
    {
     "data": {
      "text/html": [
       "\n",
       "    <div>\n",
       "      \n",
       "      <progress value='1215' max='1215' style='width:300px; height:20px; vertical-align: middle;'></progress>\n",
       "      [1215/1215 02:08, Epoch 3/3]\n",
       "    </div>\n",
       "    <table border=\"1\" class=\"dataframe\">\n",
       "  <thead>\n",
       " <tr style=\"text-align: left;\">\n",
       "      <th>Step</th>\n",
       "      <th>Training Loss</th>\n",
       "      <th>Validation Loss</th>\n",
       "    </tr>\n",
       "  </thead>\n",
       "  <tbody>\n",
       "  </tbody>\n",
       "</table><p>"
      ],
      "text/plain": [
       "<IPython.core.display.HTML object>"
      ]
     },
     "metadata": {},
     "output_type": "display_data"
    },
    {
     "data": {
      "text/html": [],
      "text/plain": [
       "<IPython.core.display.HTML object>"
      ]
     },
     "metadata": {},
     "output_type": "display_data"
    },
    {
     "name": "stdout",
     "output_type": "stream",
     "text": [
      "[[712   3]\n",
      " [  5  17]]\n",
      "Accuracy: 0.989145183175034\n",
      "Precision: 0.85\n",
      "Recall: 0.7727272727272727\n",
      "F1 Score: 0.8095238095238095\n",
      "Best f1 Learning Rat: 5e-05\n"
     ]
    }
   ],
   "source": [
    "tokenizer = AutoTokenizer.from_pretrained(\"nghuyong/ernie-2.0-base-en\")\n",
    "\n",
    "model = ErnieForSequenceClassification.from_pretrained(\"nghuyong/ernie-2.0-base-en\")\n",
    "\n",
    "# Freeze all parameters\n",
    "for param in model.parameters():\n",
    "    param.requires_grad = False\n",
    "\n",
    "# Unfreeze the last two layers of the ErnieEncoder\n",
    "for param in model.ernie.encoder.layer[-2:].parameters():\n",
    "    param.requires_grad = True\n",
    "                       \n",
    "#-----------------------------------------------------------------------------------     \n",
    "\n",
    "X_train=list(df['Segment Text'].loc[(df['policy_type'] == 'TRAIN')])\n",
    "X_test=list(df['Segment Text'].loc[(df['policy_type'] == 'TEST')])\n",
    "\n",
    "y_train=list(df[target_column].loc[(df['policy_type'] == 'TRAIN')])\n",
    "y_test=list(df[target_column].loc[(df['policy_type'] == 'TEST')])\n",
    "\n",
    "\n",
    "train_encodings = tokenizer(X_train, max_length=512, truncation=True, padding='max_length')\n",
    "test_encodings = tokenizer(X_test, max_length=512, truncation=True, padding='max_length')\n",
    "\n",
    "#-----------\n",
    "\n",
    "label_mapping = {0: 0, 1: 1}\n",
    "y_train_integers = [label_mapping[label] for label in y_train]\n",
    "y_test_integers = [label_mapping[label] for label in y_test]\n",
    "\n",
    "\n",
    "class TextDataset(torch.utils.data.Dataset):\n",
    "    def __init__(self, encodings, labels):\n",
    "        self.encodings = encodings\n",
    "        self.labels = labels\n",
    "\n",
    "    def __getitem__(self, idx):\n",
    "        item = {key: torch.tensor(val[idx]) for key, val in self.encodings.items()}\n",
    "        item['labels'] = self.labels[idx]  # Removed torch.tensor here\n",
    "        return item\n",
    "\n",
    "    def __len__(self):\n",
    "        return len(self.labels)\n",
    "\n",
    "train_dataset = TextDataset(train_encodings, y_train_integers)\n",
    "test_dataset = TextDataset(test_encodings, y_test_integers)\n",
    "\n",
    "#--------------------------\n",
    "\n",
    "\n",
    "from collections import Counter\n",
    "print(Counter(y_train))\n",
    "print(Counter(y_test))\n",
    "\n",
    "\n",
    "# Calculate class weights (example calculation, adjust as needed)\n",
    "\n",
    "total_samples = Counter(y_train)[0] + Counter(y_train)[1]\n",
    "class_weights = torch.tensor([total_samples /Counter(y_train)[0], total_samples / Counter(y_train)[1]], dtype=torch.float)\n",
    "\n",
    "print(total_samples /Counter(y_train)[0])\n",
    "print(total_samples / Counter(y_train)[1])\n",
    "\n",
    "# Ensure the model is on the correct device (e.g., GPU or CPU)\n",
    "device = torch.device(\"cuda\" if torch.cuda.is_available() else \"cpu\")\n",
    "model.to(device)  # Ensure model is on the correct device\n",
    "\n",
    "# Move class_weights to the same device as the model\n",
    "class_weights = class_weights.to(device)\n",
    "\n",
    "\n",
    "\n",
    "class CustomTrainer(Trainer):\n",
    "    def __init__(self, *args, **kwargs):\n",
    "        super().__init__(*args, **kwargs)\n",
    "        self.loss_fct = CrossEntropyLoss(weight=class_weights).to(device)\n",
    "\n",
    "    def compute_loss(self, model, inputs, return_outputs=False):\n",
    "        inputs = {k: v.to(device) for k, v in inputs.items()}\n",
    "        labels = inputs.get(\"labels\").to(device)\n",
    "\n",
    "        outputs = model(**inputs)\n",
    "        logits = outputs.logits\n",
    "\n",
    "        loss = self.loss_fct(logits, labels)\n",
    "        return (loss, outputs) if return_outputs else loss\n",
    "\n",
    "#-------------------------------------------------\n",
    "\n",
    "\n",
    "training_args = TrainingArguments(\n",
    "    learning_rate= best_f1_lr,\n",
    "    output_dir='./results',\n",
    "    num_train_epochs=epochs,\n",
    "    per_device_train_batch_size=batch_size,\n",
    "    per_device_eval_batch_size=8,\n",
    "    warmup_steps=500,\n",
    "    weight_decay=0.01,\n",
    "    #logging_dir='./logs',\n",
    "    logging_steps=100,\n",
    "    evaluation_strategy=\"steps\",\n",
    "    eval_steps=3000\n",
    "\n",
    ")\n",
    "\n",
    "trainer = CustomTrainer(\n",
    "    model=model,  # Your model\n",
    "    args=training_args,\n",
    "    train_dataset=train_dataset,\n",
    "    eval_dataset=test_dataset\n",
    ")\n",
    "\n",
    "\n",
    "trainer.train()\n",
    "\n",
    "\n",
    "predictions = trainer.predict(test_dataset).predictions\n",
    "predictions_label = np.argmax(predictions, axis=1)\n",
    "\n",
    "cm=confusion_matrix(y_test_integers, predictions_label)\n",
    "print(cm)\n",
    "\n",
    "accuracy = accuracy_score(y_test_integers, predictions_label)\n",
    "precision, recall, f1, _ = precision_recall_fscore_support(y_test_integers, predictions_label, average='binary')\n",
    "\n",
    "print(f\"Accuracy: {accuracy}\")\n",
    "print(f\"Precision: {precision}\")\n",
    "print(f\"Recall: {recall}\")\n",
    "print(f\"F1 Score: {f1}\")\n",
    "\n",
    "print(f\"Best f1 Learning Rat: {best_f1_lr}\")"
   ]
  },
  {
   "cell_type": "code",
   "execution_count": null,
   "id": "c5d3ed66-e597-45f9-8539-94a50ee6d494",
   "metadata": {},
   "outputs": [],
   "source": []
  },
  {
   "cell_type": "markdown",
   "id": "1ae1210f-2cb6-4826-86d0-2012d89dece3",
   "metadata": {
    "tags": []
   },
   "source": [
    "# Imbalance / AEDA"
   ]
  },
  {
   "cell_type": "code",
   "execution_count": null,
   "id": "0cc8c5bc-ed81-498b-b403-934c35c2cf19",
   "metadata": {},
   "outputs": [],
   "source": []
  },
  {
   "cell_type": "code",
   "execution_count": 29,
   "id": "2595f46e-0c7a-4548-95c4-d57bdbc0cee4",
   "metadata": {},
   "outputs": [],
   "source": [
    "\n",
    "def aeda(text):\n",
    "    \"\"\"\n",
    "    Apply AEDA augmentation to a given text.\n",
    "\n",
    "    :param text: The input text string to be augmented.\n",
    "    :return: Augmented sentence.\n",
    "    \"\"\"\n",
    "    punctuation_marks = [\".\", \";\", \"?\", \":\", \"!\", \"\"]\n",
    "    words = text.split()\n",
    "\n",
    "    n_insertions = random.randint(1, max(1, len(words) // 3))\n",
    "    insert_positions = np.random.choice(len(words), n_insertions, replace=False)\n",
    "\n",
    "    for pos in sorted(insert_positions, reverse=True):\n",
    "        words.insert(pos, random.choice(punctuation_marks))\n",
    "\n",
    "    return ' '.join(words)\n",
    "\n",
    "def balance_classes(df, column_name, text_column , modification_function=aeda):\n",
    "    \"\"\"\n",
    "    Balances the classes in a DataFrame.\n",
    "\n",
    "    Parameters:\n",
    "    - df: pandas DataFrame to balance.\n",
    "    - column_name: the name of the column to balance by (e.g., 'Third Party').\n",
    "    - text_column: the name of the text column to modify (e.g., 'Segment Text').\n",
    "    - modification_function: the function to apply to modify the text (default: aeda).\n",
    "\n",
    "    Returns:\n",
    "    - A balanced DataFrame.\n",
    "    \"\"\"\n",
    "    # Count the instances of each class\n",
    "    class_counts = df[column_name].value_counts()\n",
    "    max_class = class_counts.idxmax()\n",
    "    min_class = class_counts.idxmin()\n",
    "\n",
    "    # Calculate the number of samples needed to balance the classes\n",
    "    count_diff = class_counts[max_class] - class_counts[min_class]\n",
    "\n",
    "\n",
    "    # Select rows of the minority class and duplicate them\n",
    "    df_minority = df[df[column_name] == min_class]\n",
    "    df_minority_augmented = df_minority.sample(count_diff, replace=True)\n",
    "\n",
    "    # Apply the modification function to the text column\n",
    "    df_minority_augmented[text_column] = df_minority_augmented[text_column].apply(modification_function)\n",
    "\n",
    "    # Combine the original DataFrame with the augmented rows\n",
    "    df_balanced = pd.concat([df, df_minority_augmented], ignore_index=True)\n",
    "\n",
    "    return df_balanced\n",
    "\n"
   ]
  },
  {
   "cell_type": "code",
   "execution_count": 30,
   "id": "519f21e0-4bdb-489f-be51-84596dbbf74f",
   "metadata": {},
   "outputs": [
    {
     "name": "stderr",
     "output_type": "stream",
     "text": [
      "Some weights of ErnieForSequenceClassification were not initialized from the model checkpoint at nghuyong/ernie-2.0-base-en and are newly initialized: ['classifier.weight', 'classifier.bias']\n",
      "You should probably TRAIN this model on a down-stream task to be able to use it for predictions and inference.\n"
     ]
    },
    {
     "name": "stdout",
     "output_type": "stream",
     "text": [
      "Collection Process_Collected on first-party website/app\n",
      "0    2372\n",
      "1     219\n",
      "Name: count, dtype: int64\n",
      "Collection Process_Collected on first-party website/app\n",
      "0    2372\n",
      "1    2372\n",
      "Name: count, dtype: int64\n",
      "Training with learning rate: 1e-05\n"
     ]
    },
    {
     "data": {
      "text/html": [
       "\n",
       "    <div>\n",
       "      \n",
       "      <progress value='1779' max='1779' style='width:300px; height:20px; vertical-align: middle;'></progress>\n",
       "      [1779/1779 03:05, Epoch 3/3]\n",
       "    </div>\n",
       "    <table border=\"1\" class=\"dataframe\">\n",
       "  <thead>\n",
       " <tr style=\"text-align: left;\">\n",
       "      <th>Step</th>\n",
       "      <th>Training Loss</th>\n",
       "      <th>Validation Loss</th>\n",
       "    </tr>\n",
       "  </thead>\n",
       "  <tbody>\n",
       "  </tbody>\n",
       "</table><p>"
      ],
      "text/plain": [
       "<IPython.core.display.HTML object>"
      ]
     },
     "metadata": {},
     "output_type": "display_data"
    },
    {
     "data": {
      "text/html": [],
      "text/plain": [
       "<IPython.core.display.HTML object>"
      ]
     },
     "metadata": {},
     "output_type": "display_data"
    },
    {
     "name": "stdout",
     "output_type": "stream",
     "text": [
      "Evaluation loss for learning rate 1e-05: 0.26696377992630005\n",
      "[[580  13]\n",
      " [ 33  22]]\n",
      "Accuracy: 0.9290123456790124\n",
      "Precision: 0.6285714285714286\n",
      "Recall: 0.4\n",
      "F1 Score: 0.488888888888889\n"
     ]
    },
    {
     "name": "stderr",
     "output_type": "stream",
     "text": [
      "Some weights of ErnieForSequenceClassification were not initialized from the model checkpoint at nghuyong/ernie-2.0-base-en and are newly initialized: ['classifier.weight', 'classifier.bias']\n",
      "You should probably TRAIN this model on a down-stream task to be able to use it for predictions and inference.\n"
     ]
    },
    {
     "name": "stdout",
     "output_type": "stream",
     "text": [
      "Collection Process_Collected on first-party website/app\n",
      "0    2372\n",
      "1     219\n",
      "Name: count, dtype: int64\n",
      "Collection Process_Collected on first-party website/app\n",
      "0    2372\n",
      "1    2372\n",
      "Name: count, dtype: int64\n",
      "Training with learning rate: 2e-05\n"
     ]
    },
    {
     "data": {
      "text/html": [
       "\n",
       "    <div>\n",
       "      \n",
       "      <progress value='1779' max='1779' style='width:300px; height:20px; vertical-align: middle;'></progress>\n",
       "      [1779/1779 03:13, Epoch 3/3]\n",
       "    </div>\n",
       "    <table border=\"1\" class=\"dataframe\">\n",
       "  <thead>\n",
       " <tr style=\"text-align: left;\">\n",
       "      <th>Step</th>\n",
       "      <th>Training Loss</th>\n",
       "      <th>Validation Loss</th>\n",
       "    </tr>\n",
       "  </thead>\n",
       "  <tbody>\n",
       "  </tbody>\n",
       "</table><p>"
      ],
      "text/plain": [
       "<IPython.core.display.HTML object>"
      ]
     },
     "metadata": {},
     "output_type": "display_data"
    },
    {
     "data": {
      "text/html": [],
      "text/plain": [
       "<IPython.core.display.HTML object>"
      ]
     },
     "metadata": {},
     "output_type": "display_data"
    },
    {
     "name": "stdout",
     "output_type": "stream",
     "text": [
      "Evaluation loss for learning rate 2e-05: 0.2481098175048828\n",
      "[[578  15]\n",
      " [ 26  29]]\n",
      "Accuracy: 0.9367283950617284\n",
      "Precision: 0.6590909090909091\n",
      "Recall: 0.5272727272727272\n",
      "F1 Score: 0.5858585858585857\n"
     ]
    },
    {
     "name": "stderr",
     "output_type": "stream",
     "text": [
      "Some weights of ErnieForSequenceClassification were not initialized from the model checkpoint at nghuyong/ernie-2.0-base-en and are newly initialized: ['classifier.weight', 'classifier.bias']\n",
      "You should probably TRAIN this model on a down-stream task to be able to use it for predictions and inference.\n"
     ]
    },
    {
     "name": "stdout",
     "output_type": "stream",
     "text": [
      "Collection Process_Collected on first-party website/app\n",
      "0    2372\n",
      "1     219\n",
      "Name: count, dtype: int64\n",
      "Collection Process_Collected on first-party website/app\n",
      "0    2372\n",
      "1    2372\n",
      "Name: count, dtype: int64\n",
      "Training with learning rate: 3e-05\n"
     ]
    },
    {
     "data": {
      "text/html": [
       "\n",
       "    <div>\n",
       "      \n",
       "      <progress value='1779' max='1779' style='width:300px; height:20px; vertical-align: middle;'></progress>\n",
       "      [1779/1779 03:07, Epoch 3/3]\n",
       "    </div>\n",
       "    <table border=\"1\" class=\"dataframe\">\n",
       "  <thead>\n",
       " <tr style=\"text-align: left;\">\n",
       "      <th>Step</th>\n",
       "      <th>Training Loss</th>\n",
       "      <th>Validation Loss</th>\n",
       "    </tr>\n",
       "  </thead>\n",
       "  <tbody>\n",
       "  </tbody>\n",
       "</table><p>"
      ],
      "text/plain": [
       "<IPython.core.display.HTML object>"
      ]
     },
     "metadata": {},
     "output_type": "display_data"
    },
    {
     "data": {
      "text/html": [],
      "text/plain": [
       "<IPython.core.display.HTML object>"
      ]
     },
     "metadata": {},
     "output_type": "display_data"
    },
    {
     "name": "stdout",
     "output_type": "stream",
     "text": [
      "Evaluation loss for learning rate 3e-05: 0.22485728561878204\n",
      "[[580  13]\n",
      " [ 25  30]]\n",
      "Accuracy: 0.941358024691358\n",
      "Precision: 0.6976744186046512\n",
      "Recall: 0.5454545454545454\n",
      "F1 Score: 0.6122448979591837\n"
     ]
    },
    {
     "name": "stderr",
     "output_type": "stream",
     "text": [
      "Some weights of ErnieForSequenceClassification were not initialized from the model checkpoint at nghuyong/ernie-2.0-base-en and are newly initialized: ['classifier.weight', 'classifier.bias']\n",
      "You should probably TRAIN this model on a down-stream task to be able to use it for predictions and inference.\n"
     ]
    },
    {
     "name": "stdout",
     "output_type": "stream",
     "text": [
      "Collection Process_Collected on first-party website/app\n",
      "0    2372\n",
      "1     219\n",
      "Name: count, dtype: int64\n",
      "Collection Process_Collected on first-party website/app\n",
      "0    2372\n",
      "1    2372\n",
      "Name: count, dtype: int64\n",
      "Training with learning rate: 5e-05\n"
     ]
    },
    {
     "data": {
      "text/html": [
       "\n",
       "    <div>\n",
       "      \n",
       "      <progress value='1779' max='1779' style='width:300px; height:20px; vertical-align: middle;'></progress>\n",
       "      [1779/1779 03:09, Epoch 3/3]\n",
       "    </div>\n",
       "    <table border=\"1\" class=\"dataframe\">\n",
       "  <thead>\n",
       " <tr style=\"text-align: left;\">\n",
       "      <th>Step</th>\n",
       "      <th>Training Loss</th>\n",
       "      <th>Validation Loss</th>\n",
       "    </tr>\n",
       "  </thead>\n",
       "  <tbody>\n",
       "  </tbody>\n",
       "</table><p>"
      ],
      "text/plain": [
       "<IPython.core.display.HTML object>"
      ]
     },
     "metadata": {},
     "output_type": "display_data"
    },
    {
     "data": {
      "text/html": [],
      "text/plain": [
       "<IPython.core.display.HTML object>"
      ]
     },
     "metadata": {},
     "output_type": "display_data"
    },
    {
     "name": "stdout",
     "output_type": "stream",
     "text": [
      "Evaluation loss for learning rate 5e-05: 0.21738296747207642\n",
      "[[578  15]\n",
      " [ 29  26]]\n",
      "Accuracy: 0.9320987654320988\n",
      "Precision: 0.6341463414634146\n",
      "Recall: 0.4727272727272727\n",
      "F1 Score: 0.5416666666666666\n"
     ]
    },
    {
     "name": "stderr",
     "output_type": "stream",
     "text": [
      "Some weights of ErnieForSequenceClassification were not initialized from the model checkpoint at nghuyong/ernie-2.0-base-en and are newly initialized: ['classifier.weight', 'classifier.bias']\n",
      "You should probably TRAIN this model on a down-stream task to be able to use it for predictions and inference.\n"
     ]
    },
    {
     "name": "stdout",
     "output_type": "stream",
     "text": [
      "Collection Process_Collected on first-party website/app\n",
      "0    2372\n",
      "1     219\n",
      "Name: count, dtype: int64\n",
      "Collection Process_Collected on first-party website/app\n",
      "0    2372\n",
      "1    2372\n",
      "Name: count, dtype: int64\n",
      "Training with learning rate: 0.0001\n"
     ]
    },
    {
     "data": {
      "text/html": [
       "\n",
       "    <div>\n",
       "      \n",
       "      <progress value='1779' max='1779' style='width:300px; height:20px; vertical-align: middle;'></progress>\n",
       "      [1779/1779 03:06, Epoch 3/3]\n",
       "    </div>\n",
       "    <table border=\"1\" class=\"dataframe\">\n",
       "  <thead>\n",
       " <tr style=\"text-align: left;\">\n",
       "      <th>Step</th>\n",
       "      <th>Training Loss</th>\n",
       "      <th>Validation Loss</th>\n",
       "    </tr>\n",
       "  </thead>\n",
       "  <tbody>\n",
       "  </tbody>\n",
       "</table><p>"
      ],
      "text/plain": [
       "<IPython.core.display.HTML object>"
      ]
     },
     "metadata": {},
     "output_type": "display_data"
    },
    {
     "data": {
      "text/html": [],
      "text/plain": [
       "<IPython.core.display.HTML object>"
      ]
     },
     "metadata": {},
     "output_type": "display_data"
    },
    {
     "name": "stdout",
     "output_type": "stream",
     "text": [
      "Evaluation loss for learning rate 0.0001: 0.21494674682617188\n",
      "[[575  18]\n",
      " [ 29  26]]\n",
      "Accuracy: 0.9274691358024691\n",
      "Precision: 0.5909090909090909\n",
      "Recall: 0.4727272727272727\n",
      "F1 Score: 0.5252525252525252\n"
     ]
    },
    {
     "name": "stderr",
     "output_type": "stream",
     "text": [
      "Some weights of ErnieForSequenceClassification were not initialized from the model checkpoint at nghuyong/ernie-2.0-base-en and are newly initialized: ['classifier.weight', 'classifier.bias']\n",
      "You should probably TRAIN this model on a down-stream task to be able to use it for predictions and inference.\n"
     ]
    },
    {
     "name": "stdout",
     "output_type": "stream",
     "text": [
      "Collection Process_Collected on first-party website/app\n",
      "0    2372\n",
      "1     219\n",
      "Name: count, dtype: int64\n",
      "Collection Process_Collected on first-party website/app\n",
      "0    2372\n",
      "1    2372\n",
      "Name: count, dtype: int64\n",
      "Training with learning rate: 0.0002\n"
     ]
    },
    {
     "data": {
      "text/html": [
       "\n",
       "    <div>\n",
       "      \n",
       "      <progress value='1779' max='1779' style='width:300px; height:20px; vertical-align: middle;'></progress>\n",
       "      [1779/1779 03:06, Epoch 3/3]\n",
       "    </div>\n",
       "    <table border=\"1\" class=\"dataframe\">\n",
       "  <thead>\n",
       " <tr style=\"text-align: left;\">\n",
       "      <th>Step</th>\n",
       "      <th>Training Loss</th>\n",
       "      <th>Validation Loss</th>\n",
       "    </tr>\n",
       "  </thead>\n",
       "  <tbody>\n",
       "  </tbody>\n",
       "</table><p>"
      ],
      "text/plain": [
       "<IPython.core.display.HTML object>"
      ]
     },
     "metadata": {},
     "output_type": "display_data"
    },
    {
     "data": {
      "text/html": [],
      "text/plain": [
       "<IPython.core.display.HTML object>"
      ]
     },
     "metadata": {},
     "output_type": "display_data"
    },
    {
     "name": "stdout",
     "output_type": "stream",
     "text": [
      "Evaluation loss for learning rate 0.0002: 0.2396884709596634\n",
      "[[579  14]\n",
      " [ 40  15]]\n",
      "Accuracy: 0.9166666666666666\n",
      "Precision: 0.5172413793103449\n",
      "Recall: 0.2727272727272727\n",
      "F1 Score: 0.3571428571428571\n"
     ]
    },
    {
     "name": "stderr",
     "output_type": "stream",
     "text": [
      "Some weights of ErnieForSequenceClassification were not initialized from the model checkpoint at nghuyong/ernie-2.0-base-en and are newly initialized: ['classifier.weight', 'classifier.bias']\n",
      "You should probably TRAIN this model on a down-stream task to be able to use it for predictions and inference.\n"
     ]
    },
    {
     "name": "stdout",
     "output_type": "stream",
     "text": [
      "Collection Process_Collected on first-party website/app\n",
      "0    2372\n",
      "1     219\n",
      "Name: count, dtype: int64\n",
      "Collection Process_Collected on first-party website/app\n",
      "0    2372\n",
      "1    2372\n",
      "Name: count, dtype: int64\n",
      "Training with learning rate: 0.0003\n"
     ]
    },
    {
     "data": {
      "text/html": [
       "\n",
       "    <div>\n",
       "      \n",
       "      <progress value='1779' max='1779' style='width:300px; height:20px; vertical-align: middle;'></progress>\n",
       "      [1779/1779 03:07, Epoch 3/3]\n",
       "    </div>\n",
       "    <table border=\"1\" class=\"dataframe\">\n",
       "  <thead>\n",
       " <tr style=\"text-align: left;\">\n",
       "      <th>Step</th>\n",
       "      <th>Training Loss</th>\n",
       "      <th>Validation Loss</th>\n",
       "    </tr>\n",
       "  </thead>\n",
       "  <tbody>\n",
       "  </tbody>\n",
       "</table><p>"
      ],
      "text/plain": [
       "<IPython.core.display.HTML object>"
      ]
     },
     "metadata": {},
     "output_type": "display_data"
    },
    {
     "data": {
      "text/html": [],
      "text/plain": [
       "<IPython.core.display.HTML object>"
      ]
     },
     "metadata": {},
     "output_type": "display_data"
    },
    {
     "name": "stdout",
     "output_type": "stream",
     "text": [
      "Evaluation loss for learning rate 0.0003: 0.21375030279159546\n",
      "[[573  20]\n",
      " [ 24  31]]\n",
      "Accuracy: 0.9320987654320988\n",
      "Precision: 0.6078431372549019\n",
      "Recall: 0.5636363636363636\n",
      "F1 Score: 0.5849056603773585\n",
      "Best Learning Rate: 0.0003 with loss: 0.21375030279159546\n",
      "Best f1 Learning Rat: 3e-05 with highest f1: 0.6122448979591837\n"
     ]
    }
   ],
   "source": [
    "\n",
    "best_lr = None\n",
    "lowest_eval_loss = float('inf')\n",
    "\n",
    "best_f1_lr = None\n",
    "highest_f1 = 0\n",
    "\n",
    "learning_rates = [1e-5, 2e-5, 3e-5, 5e-5, 1e-4, 2e-4, 3e-4]\n",
    "for lr in learning_rates:\n",
    "    \n",
    "#--------------------------------------------------------------------------------    \n",
    "\n",
    "    tokenizer = AutoTokenizer.from_pretrained(\"nghuyong/ernie-2.0-base-en\")\n",
    "\n",
    "    model = ErnieForSequenceClassification.from_pretrained(\"nghuyong/ernie-2.0-base-en\")\n",
    "\n",
    "    # Freeze all parameters\n",
    "    for param in model.parameters():\n",
    "        param.requires_grad = False\n",
    "\n",
    "    # Unfreeze the last two layers of the ErnieEncoder\n",
    "    for param in model.ernie.encoder.layer[-2:].parameters():\n",
    "        param.requires_grad = True\n",
    "            \n",
    "#-----------------------------------------------------------------------------------  \n",
    "    df_train = df[['Segment Text',target_column]].loc[df['policy_type'] == 'TRAIN']\n",
    "    \n",
    "    X = df_train['Segment Text']\n",
    "    y = df_train[target_column]\n",
    "\n",
    "\n",
    "    X_train, X_val, y_train, y_val = train_test_split(X, y, test_size=0.20, random_state=0)\n",
    "\n",
    "    df_train = pd.concat([X_train, y_train], axis=1)\n",
    "    print(df_train[target_column].value_counts())\n",
    "\n",
    "    df_train_aug = balance_classes(df_train,target_column,'Segment Text' )\n",
    "    print(df_train_aug[target_column].value_counts())\n",
    "\n",
    "    X_train=list(df_train_aug['Segment Text'])\n",
    "    y_train=list(df_train_aug[target_column])\n",
    "    \n",
    "\n",
    "    X_val=list(X_val)\n",
    "    y_val=list( y_val)\n",
    "\n",
    "\n",
    "    # mapping labels\n",
    "\n",
    "    label_mapping = {0: 0, 1: 1}\n",
    "    y_train_integers = [label_mapping[label] for label in y_train]\n",
    "    y_val_integers = [label_mapping[label] for label in y_val]\n",
    "\n",
    "    train_encodings = tokenizer(X_train, max_length=512, truncation=True, padding='max_length')\n",
    "    val_encodings = tokenizer(X_val, max_length=512, truncation=True, padding='max_length')\n",
    "\n",
    "\n",
    "    #\n",
    "    class TextDataset(torch.utils.data.Dataset):\n",
    "        def __init__(self, encodings, labels):\n",
    "            self.encodings = encodings\n",
    "            self.labels = labels\n",
    "\n",
    "        def __getitem__(self, idx):\n",
    "            item = {key: torch.tensor(val[idx]) for key, val in self.encodings.items()}\n",
    "            item['labels'] = self.labels[idx]  # Removed torch.tensor here\n",
    "            return item\n",
    "\n",
    "        def __len__(self):\n",
    "            return len(self.labels)\n",
    "\n",
    "\n",
    "    train_dataset = TextDataset(train_encodings, y_train_integers)\n",
    "    val_dataset = TextDataset(val_encodings, y_val_integers)\n",
    "\n",
    "\n",
    "\n",
    "#---------------------------------------------------------------------------  \n",
    "    \n",
    "    # Set up training arguments with the current learning rate\n",
    "    training_args = TrainingArguments(\n",
    "        output_dir='./results',\n",
    "        learning_rate=lr,  # Set learning rate here\n",
    "        num_train_epochs=epochs ,\n",
    "        per_device_train_batch_size=batch_size,\n",
    "        per_device_eval_batch_size=8,\n",
    "        warmup_steps=500,\n",
    "        weight_decay=0.01,\n",
    "        logging_dir='./logs',\n",
    "        logging_steps=100,\n",
    "        evaluation_strategy=\"steps\",\n",
    "        eval_steps=3000\n",
    "    )\n",
    "\n",
    "    # Set up the Trainer\n",
    "    trainer = Trainer(\n",
    "        model=model,\n",
    "        args=training_args,\n",
    "        train_dataset=train_dataset,\n",
    "        eval_dataset=val_dataset\n",
    "    )\n",
    "\n",
    "\n",
    "    # Train the model with the current learning rate\n",
    "    print(f\"Training with learning rate: {lr}\")\n",
    "    trainer.train()\n",
    "    \n",
    " # Evaluate the model\n",
    "    eval_result = trainer.evaluate()\n",
    "    print(f\"Evaluation loss for learning rate {lr}: {eval_result['eval_loss']}\")\n",
    "    \n",
    "    \n",
    "    predictions = trainer.predict(val_dataset).predictions\n",
    "    predictions_label = np.argmax(predictions, axis=1)\n",
    "\n",
    "    cm=confusion_matrix( y_val_integers, predictions_label)\n",
    "    print(cm)\n",
    "\n",
    "    accuracy = accuracy_score( y_val_integers, predictions_label)\n",
    "    precision, recall, f1, _ = precision_recall_fscore_support(y_val_integers, predictions_label, average='binary')\n",
    "    print(f\"Accuracy: {accuracy}\")\n",
    "    print(f\"Precision: {precision}\")\n",
    "    print(f\"Recall: {recall}\")\n",
    "    print(f\"F1 Score: {f1}\")\n",
    "\n",
    "    if eval_result['eval_loss'] < lowest_eval_loss:\n",
    "        best_lr = lr\n",
    "        lowest_eval_loss = eval_result['eval_loss']\n",
    "            \n",
    "    if f1 > highest_f1:\n",
    "        best_f1_lr = lr\n",
    "        highest_f1 = f1\n",
    "        \n",
    "\n",
    "print(f\"Best Learning Rate: {best_lr} with loss: {lowest_eval_loss}\")\n",
    "print(f\"Best f1 Learning Rat: {best_f1_lr} with highest f1: { highest_f1}\")"
   ]
  },
  {
   "cell_type": "markdown",
   "id": "a96252fd-27fe-4466-94cd-9a7adf5fb906",
   "metadata": {},
   "source": [
    "### Retrain the model with certain learning rate"
   ]
  },
  {
   "cell_type": "code",
   "execution_count": 31,
   "id": "ea38fd22-f998-4bfe-8be1-9db5020dc22c",
   "metadata": {},
   "outputs": [
    {
     "name": "stderr",
     "output_type": "stream",
     "text": [
      "Some weights of ErnieForSequenceClassification were not initialized from the model checkpoint at nghuyong/ernie-2.0-base-en and are newly initialized: ['classifier.weight', 'classifier.bias']\n",
      "You should probably TRAIN this model on a down-stream task to be able to use it for predictions and inference.\n"
     ]
    },
    {
     "name": "stdout",
     "output_type": "stream",
     "text": [
      "Collection Process_Collected on first-party website/app\n",
      "0    2965\n",
      "1     274\n",
      "Name: count, dtype: int64\n",
      "Collection Process_Collected on first-party website/app\n",
      "1    2965\n",
      "0    2965\n",
      "Name: count, dtype: int64\n",
      "Counter({1: 2965, 0: 2965})\n",
      "Counter({0: 680, 1: 57})\n"
     ]
    },
    {
     "data": {
      "text/html": [
       "\n",
       "    <div>\n",
       "      \n",
       "      <progress value='2226' max='2226' style='width:300px; height:20px; vertical-align: middle;'></progress>\n",
       "      [2226/2226 03:54, Epoch 3/3]\n",
       "    </div>\n",
       "    <table border=\"1\" class=\"dataframe\">\n",
       "  <thead>\n",
       " <tr style=\"text-align: left;\">\n",
       "      <th>Step</th>\n",
       "      <th>Training Loss</th>\n",
       "      <th>Validation Loss</th>\n",
       "    </tr>\n",
       "  </thead>\n",
       "  <tbody>\n",
       "  </tbody>\n",
       "</table><p>"
      ],
      "text/plain": [
       "<IPython.core.display.HTML object>"
      ]
     },
     "metadata": {},
     "output_type": "display_data"
    },
    {
     "data": {
      "text/html": [],
      "text/plain": [
       "<IPython.core.display.HTML object>"
      ]
     },
     "metadata": {},
     "output_type": "display_data"
    },
    {
     "name": "stdout",
     "output_type": "stream",
     "text": [
      "[[664  16]\n",
      " [ 36  21]]\n",
      "Accuracy: 0.9294436906377205\n",
      "Precision: 0.5675675675675675\n",
      "Recall: 0.3684210526315789\n",
      "F1 Score: 0.44680851063829785\n",
      "Best f1 Learning Rat: 3e-05 \n"
     ]
    }
   ],
   "source": [
    "tokenizer = AutoTokenizer.from_pretrained(\"nghuyong/ernie-2.0-base-en\")\n",
    "\n",
    "model = ErnieForSequenceClassification.from_pretrained(\"nghuyong/ernie-2.0-base-en\")\n",
    "\n",
    "# Freeze all parameters\n",
    "for param in model.parameters():\n",
    "    param.requires_grad = False\n",
    "\n",
    "# Unfreeze the last two layers of the ErnieEncoder\n",
    "for param in model.ernie.encoder.layer[-2:].parameters():\n",
    "    param.requires_grad = True\n",
    "                       \n",
    "#-----------------------------------------------------------------------------------     \n",
    "df_train = df[['Segment Text',target_column]].loc[df['policy_type'] == 'TRAIN']\n",
    "print(df_train[target_column].value_counts())\n",
    "\n",
    "df_train_aug = balance_classes(df_train,target_column,'Segment Text' )\n",
    "print(df_train_aug[target_column].value_counts())\n",
    "\n",
    "\n",
    "X_train=list(df_train_aug['Segment Text'])\n",
    "y_train=list(df_train_aug[target_column])\n",
    "\n",
    "X_test=list(df['Segment Text'].loc[(df['policy_type'] == 'TEST')])\n",
    "y_test=list(df[target_column].loc[(df['policy_type'] == 'TEST')])\n",
    "\n",
    "\n",
    "train_encodings = tokenizer(X_train, max_length=512, truncation=True, padding='max_length')\n",
    "test_encodings = tokenizer(X_test, max_length=512, truncation=True, padding='max_length')\n",
    "\n",
    "\n",
    "label_mapping = {0: 0, 1: 1}\n",
    "y_train_integers = [label_mapping[label] for label in y_train]\n",
    "y_test_integers = [label_mapping[label] for label in y_test]\n",
    "\n",
    "\n",
    "class TextDataset(torch.utils.data.Dataset):\n",
    "    def __init__(self, encodings, labels):\n",
    "        self.encodings = encodings\n",
    "        self.labels = labels\n",
    "\n",
    "    def __getitem__(self, idx):\n",
    "        item = {key: torch.tensor(val[idx]) for key, val in self.encodings.items()}\n",
    "        item['labels'] = self.labels[idx]  # Removed torch.tensor here\n",
    "        return item\n",
    "\n",
    "    def __len__(self):\n",
    "        return len(self.labels)\n",
    "\n",
    "train_dataset = TextDataset(train_encodings, y_train_integers)\n",
    "test_dataset = TextDataset(test_encodings, y_test_integers)\n",
    "\n",
    "\n",
    "#------------------------\n",
    "from collections import Counter\n",
    "print(Counter(y_train))\n",
    "print(Counter(y_test))\n",
    "\n",
    "#--------------------------\n",
    "\n",
    "training_args = TrainingArguments(\n",
    "    output_dir='./results',\n",
    "    learning_rate= best_f1_lr , # Set learning rate here\n",
    "    num_train_epochs=epochs ,\n",
    "    per_device_train_batch_size=batch_size,\n",
    "    per_device_eval_batch_size=8,\n",
    "    warmup_steps=500,\n",
    "    weight_decay=0.01,\n",
    "    logging_dir='./logs',\n",
    "    logging_steps=100,\n",
    "    evaluation_strategy=\"steps\",\n",
    "    eval_steps=3000\n",
    "\n",
    ")\n",
    "\n",
    "trainer = Trainer(\n",
    "    model=model,\n",
    "    args=training_args,\n",
    "    train_dataset=train_dataset,\n",
    "    eval_dataset=test_dataset\n",
    ")\n",
    "\n",
    "trainer.train()\n",
    "\n",
    "predictions = trainer.predict(test_dataset).predictions\n",
    "predictions_label = np.argmax(predictions, axis=1)\n",
    "\n",
    "cm=confusion_matrix(y_test_integers, predictions_label)\n",
    "print(cm)\n",
    "\n",
    "accuracy = accuracy_score(y_test_integers, predictions_label)\n",
    "precision, recall, f1, _ = precision_recall_fscore_support(y_test_integers, predictions_label, average='binary')\n",
    "print(f\"Accuracy: {accuracy}\")\n",
    "print(f\"Precision: {precision}\")\n",
    "print(f\"Recall: {recall}\")\n",
    "print(f\"F1 Score: {f1}\")\n",
    "\n",
    "print(f\"Best f1 Learning Rat: {best_f1_lr} \")"
   ]
  },
  {
   "cell_type": "code",
   "execution_count": null,
   "id": "3b60116d-f2e3-4eb9-9369-7b1d3d274f2f",
   "metadata": {},
   "outputs": [],
   "source": []
  },
  {
   "cell_type": "code",
   "execution_count": null,
   "id": "f2425ac5-f2a7-49e6-a4a6-2e84f0f76321",
   "metadata": {},
   "outputs": [],
   "source": []
  }
 ],
 "metadata": {
  "kernelspec": {
   "display_name": "Python 3 (ipykernel)",
   "language": "python",
   "name": "python3"
  },
  "language_info": {
   "codemirror_mode": {
    "name": "ipython",
    "version": 3
   },
   "file_extension": ".py",
   "mimetype": "text/x-python",
   "name": "python",
   "nbconvert_exporter": "python",
   "pygments_lexer": "ipython3",
   "version": "3.10.13"
  }
 },
 "nbformat": 4,
 "nbformat_minor": 5
}
