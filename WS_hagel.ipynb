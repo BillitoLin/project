{
 "cells": [
  {
   "cell_type": "code",
   "execution_count": 1,
   "id": "35a96073-b66b-468c-ae53-10e5cc948576",
   "metadata": {},
   "outputs": [],
   "source": [
    "#make sure you install everyhings\n",
    "\n",
    "from bs4 import BeautifulSoup\n",
    "import requests\n",
    "import pandas as pd\n",
    "import re\n",
    "from IPython.display import display, HTML\n",
    "pd.set_option('display.max_rows', None)\n",
    "\n",
    "import warnings\n",
    "warnings.simplefilter(action='ignore', category=FutureWarning)\n",
    "\n",
    "\n",
    "pd.set_option('display.max_rows', None)\n",
    "# firefox or Chrome|\n",
    "\n",
    "\n",
    "from IPython.display import display, HTML\n",
    "\n",
    "from textblob_de import TextBlobDE\n"
   ]
  },
  {
   "cell_type": "markdown",
   "id": "e65954ea-270a-4050-b59a-df4631e83023",
   "metadata": {},
   "source": [
    "#### get the page links (need to change the Input)"
   ]
  },
  {
   "cell_type": "code",
   "execution_count": 2,
   "id": "309968b5-662b-4702-a6fc-81a7f91c990f",
   "metadata": {},
   "outputs": [
    {
     "name": "stdout",
     "output_type": "stream",
     "text": [
      "CPU times: total: 0 ns\n",
      "Wall time: 0 ns\n"
     ]
    },
    {
     "data": {
      "text/plain": [
       "379"
      ]
     },
     "execution_count": 2,
     "metadata": {},
     "output_type": "execute_result"
    }
   ],
   "source": [
    "%%time\n",
    "# get the pag links\n",
    "htmls = []\n",
    "\n",
    "for page in range(1,380):  # change 165 to the 'total pages +1', e.g. the total pages are 33, you need to insert 33+1 = '34'\n",
    "    \n",
    "    url = 'https://www.hagel-shop.de/hautpflege.html?p={}'  # insert the new link with changing the 200 to {}!!!!\n",
    "    htmls.append(url.format(page))\n",
    "    \n",
    "    \n",
    "\n",
    "len(htmls)"
   ]
  },
  {
   "cell_type": "markdown",
   "id": "d5956d8f-e21b-49e1-873c-5bc39f60b7f6",
   "metadata": {},
   "source": [
    "#### get the product links.  "
   ]
  },
  {
   "cell_type": "code",
   "execution_count": 3,
   "id": "7d4938a5-e608-4f1e-9e5c-df8c486aa435",
   "metadata": {},
   "outputs": [
    {
     "name": "stdout",
     "output_type": "stream",
     "text": [
      "CPU times: total: 1min 29s\n",
      "Wall time: 14min 52s\n"
     ]
    },
    {
     "data": {
      "text/plain": [
       "7561"
      ]
     },
     "execution_count": 3,
     "metadata": {},
     "output_type": "execute_result"
    }
   ],
   "source": [
    "%%time\n",
    "# get the product links\n",
    "\n",
    "productlinks = []\n",
    "\n",
    "for html in htmls:\n",
    "    \n",
    "    #page = 1\n",
    "    r = requests.get(html)\n",
    "    soup = BeautifulSoup(r.content, 'lxml')\n",
    "    productlist = soup.find_all('li', class_='item')\n",
    "    \n",
    "    for item in productlist:\n",
    "        for link in item.find_all('a', class_='product-image', href=True, limit=1):\n",
    "           productlinks.append(link['href'])\n",
    "    \n",
    "    #page = page + 1\n",
    "len(productlinks)\n"
   ]
  },
  {
   "cell_type": "markdown",
   "id": "4e480c87-a445-4433-8484-cb8322482fda",
   "metadata": {},
   "source": [
    "#### basic setup. "
   ]
  },
  {
   "cell_type": "code",
   "execution_count": 4,
   "id": "f2415599-3e95-4b43-8fa6-61edb4a92b52",
   "metadata": {},
   "outputs": [],
   "source": [
    "############## soup\n",
    "\n",
    "def brand(soup):\n",
    "    try:\n",
    "        brand = soup.find('span', itemprop=\"brand\").text.replace('-','').replace(\"%\", \".\")\n",
    "    except AttributeError: \n",
    "        return \n",
    "    \n",
    "    return brand\n",
    "\n",
    "\n",
    "def name1(soup):\n",
    "    try:\n",
    "        name = soup.find('h1', itemprop=\"name\").text.replace('\\n', ',')\n",
    "    except AttributeError: \n",
    "        return \n",
    "    \n",
    "    return name\n",
    "\n",
    "def reviews(soup):\n",
    "    try:\n",
    "        reviews = soup.find('span', itemprop=\"ratingCount\").text.replace('\\n', '').replace(' ', '')\n",
    "    except AttributeError:\n",
    "        return 0\n",
    "    \n",
    "    return reviews\n",
    "\n",
    "\n",
    "def ratings(soup):\n",
    "    try:\n",
    "        ratings = soup.find('span', itemprop=\"ratingValue\").text.replace('\\n', '').replace(' ', '')\n",
    "    except AttributeError:\n",
    "        return 0\n",
    "    \n",
    "    return ratings\n",
    "\n",
    "\n",
    "def discount(soup):\n",
    "    try:\n",
    "        discount = soup.find('div', class_=\"product-label percent\").text.replace('-','').replace(\"%\", \".\")\n",
    "    except AttributeError:\n",
    "        return \n",
    "    \n",
    "    return discount\n",
    "\n",
    "def EAN(soup):\n",
    "    try:\n",
    "        EAN = soup.find('meta', itemprop=\"gtin13\")['content']\n",
    "    except (AttributeError,TypeError):\n",
    "        return \n",
    "    \n",
    "    return EAN\n",
    "\n",
    "\n",
    "def comments(soup):\n",
    "    try:\n",
    "        comments = ''.join([j.text.replace('\\n','') for j in soup.find('ol',class_=\"reviews-list\").find_all('p')])\n",
    "    except AttributeError: \n",
    "        return \n",
    "    \n",
    "    return comments \n",
    "\n",
    "def check(soup):\n",
    "    try:\n",
    "        check = soup.find('span', class_=\"text\").text.split(' ')[1]\n",
    "    except IndexError: \n",
    "        check = 'Nope'\n",
    "    \n",
    "    return check\n",
    "\n",
    "############### row\n",
    "\n",
    "def priceOne(row):\n",
    "    try:\n",
    "       # price = row.find('p', class_=\"special-price\").text.replace('Jetzt', '').replace('€', '').replace('\\n','').replace(' ','').replace(\",\", \".\")\n",
    "        price1 = row.find('p', class_='special-price').text.replace('Jetzt', '').replace('€', '').replace('\\n','').replace(' ','').replace(\",\", \".\")\n",
    "    except AttributeError:\n",
    "        price1 = row.find('div', class_='price-box').text.replace('Jetzt', '').replace('€', '').replace('\\n','').replace(' ','').replace(\",\", \".\")\n",
    "    \n",
    "    return price1\n",
    "\n",
    "\n",
    "def priceTwo(row):\n",
    "    try:\n",
    "       # price = row.find('p', class_=\"special-price\").text.replace('Jetzt', '').replace('€', '').replace('\\n','').replace(' ','').replace(\",\", \".\")\n",
    "        price2 = row.find('p', class_='old-price').text.replace('€', '').replace('\\n','').replace(' ','').replace(\",\", \".\").replace('RegulärerPreis:', '')\n",
    "    except AttributeError:\n",
    "        price2 = priceOne(row)\n",
    "    \n",
    "    return price2\n",
    "\n",
    "\n",
    "def size1(row):\n",
    "    try:\n",
    "        size = row.find('span', class_=\"text\").text.replace('ml', '')\n",
    "    except AttributeError:\n",
    "        return\n",
    "    \n",
    "    return size\n",
    "\n",
    "\n",
    "def identity(row):\n",
    "    try:\n",
    "        id = row.find('span', class_ = 'sku').text.replace('\\n','').replace(' ','').replace('Art.Nr.','')\n",
    "    except (AttributeError, TypeError):\n",
    "        return\n",
    "    \n",
    "    return id\n",
    "\n",
    "def deliveryTime1(row):\n",
    "    try: \n",
    "        time = row.find('td',class_='item-stock-wrapper').find('span',class_='text').text.replace('Werktage', '').replace('Lieferzeit', '').replace(' ', '').split('-')[1]\n",
    "    except AttributeError:\n",
    "        return\n",
    "    \n",
    "    return time"
   ]
  },
  {
   "cell_type": "markdown",
   "id": "64da9126-d229-49f1-a96f-81add4a63748",
   "metadata": {},
   "source": [
    "#### start to Scrap.  "
   ]
  },
  {
   "cell_type": "code",
   "execution_count": 10,
   "id": "743cfaa2-56b1-4b45-89c6-472b297fd7f0",
   "metadata": {},
   "outputs": [
    {
     "name": "stdout",
     "output_type": "stream",
     "text": [
      "CPU times: total: 18min 15s\n",
      "Wall time: 2h 28min 22s\n"
     ]
    },
    {
     "data": {
      "text/plain": [
       "(8009, 14)"
      ]
     },
     "execution_count": 10,
     "metadata": {},
     "output_type": "execute_result"
    }
   ],
   "source": [
    "%%time\n",
    "\n",
    "df  = pd.DataFrame(columns=['id','EAN','brand', 'name', 'discount','price1','price2', 'size',\"reviews\",\"ratings\",'sorting','links','deliveryTime','comment'])\n",
    "\n",
    "\n",
    "for i, link in enumerate(productlinks):\n",
    "\n",
    "     r = requests.get(link)\n",
    "     soup = BeautifulSoup(r.content, 'lxml') \n",
    "    \n",
    "    \n",
    "    #try: \n",
    "            #brands = soup.find('span', itemprop=\"brand\").text.replace('-','').replace(\"%\", \".\")\n",
    "     #except AttributeError:\n",
    "        #brands = None\n",
    "    \n",
    "     #if brands in ['Kerastase','Olaplex','Alcina','KMS',\"L'OREAL\",'Paul Mitchell','Wella','Redken','Wella SP',\"L'Oréal\", 'Wella Deluxe']:\n",
    "\n",
    "    \n",
    "\n",
    "     if bool(len(soup.find('div',class_='product-essential').find_all('tr', class_='item')) == 0) is True:    \n",
    "\n",
    "\n",
    "        try:\n",
    "            price1 = soup.find('div', class_=\"price-details\").find('span',itemprop=\"price\").text.replace(\",\", \".\")\n",
    "        except AttributeError:\n",
    "            price1 = None\n",
    "\n",
    "        try:\n",
    "            price2 = soup.find('p', class_=\"old-price\").find('span',class_='price').text.replace('€', '').replace('\\n','').replace(' ','').replace(\",\", \".\")#.replace('RegulärerPreis:', '')\n",
    "        except AttributeError:\n",
    "            price2 = price1\n",
    "        size = re.findall(\".{6}ml$|.{6}g$\",name1(soup))\n",
    "        size = ','.join(size) # covert list to string\n",
    "\n",
    "        try:\n",
    "            size = size.split(' ')[-2]\n",
    "        except IndexError:\n",
    "            size = None\n",
    "\n",
    "        id = soup.find('span', itemprop=\"sku\").text\n",
    "        try:\n",
    "            deliveryTime = soup.find('div',class_ ='availability in-stock').find('span',class_='text').text.replace('Werktage', '').replace('Lieferzeit', '').replace(' ', '').split('-')[1]\n",
    "        except AttributeError:\n",
    "            deliveryTime = 2\n",
    "\n",
    "\n",
    "        product = {\n",
    "\n",
    "            'id': id ,\n",
    "            'EAN': EAN(soup),\n",
    "            'brand': brand(soup),\n",
    "            'name': name1(soup),\n",
    "            'discount': discount(soup),\n",
    "            'price1': price1,\n",
    "            'price2': price2,\n",
    "            'size': size,\n",
    "            \"reviews\": reviews(soup),\n",
    "            \"ratings\": ratings(soup),\n",
    "            'sorting': i,\n",
    "            'links' : link,\n",
    "            'deliveryTime':deliveryTime,\n",
    "            'comments': comments(soup)\n",
    "\n",
    "            }\n",
    "\n",
    "\n",
    "        df = df.append(product, ignore_index=True) \n",
    "\n",
    "\n",
    "\n",
    "     elif check(soup) in ['ml','g']:\n",
    "\n",
    "            for row in soup.find('div',class_='product-essential').find_all('tr', class_='item'):\n",
    "\n",
    "                product = {\n",
    "\n",
    "\n",
    "                'id': [identity(row)],\n",
    "                'EAN': [EAN(soup)],\n",
    "                'brand': [brand(soup)],\n",
    "                'name': [name1(soup)],\n",
    "                'discount': [discount(soup)],\n",
    "                'price1': [priceOne(row)],\n",
    "                'price2': [priceTwo(row)],\n",
    "                'size': [size1(row)],\n",
    "                \"reviews\": [reviews(soup)],\n",
    "                \"ratings\": [ratings(soup)],\n",
    "                'sorting': [i],\n",
    "                'links' : [link],\n",
    "                'deliveryTime':[deliveryTime1(row)],\n",
    "                'comments': [comments(soup)]\n",
    "\n",
    "                }\n",
    "\n",
    "                product = pd.DataFrame(product)\n",
    "\n",
    "                #df.append(product)\n",
    "                df = df.append(product)\n",
    "\n",
    "\n",
    "            df.append(df)\n",
    "            df = df.reset_index().drop('index',  axis=1)\n",
    "\n",
    "\n",
    "     else:\n",
    "\n",
    "            color_in_name = soup.find('span', class_=\"text\").text\n",
    "            color_in_name = color_in_name.title().split()\n",
    "            for row in soup.find('div',class_='product-essential').find_all('tr', class_='item'):\n",
    "\n",
    "                color = row.find('span', class_=\"text\").text\n",
    "                inital_name = soup.find('h1', itemprop=\"name\").text.replace('\\n', ',')\n",
    "\n",
    "                color = color.title().split()\n",
    "                inital_name = inital_name.title().split()\n",
    "\n",
    "\n",
    "                if any(x in inital_name for x in color_in_name):\n",
    "                    for i in color_in_name:\n",
    "                        try:\n",
    "                            inital_name.remove(i) \n",
    "                        except ValueError:\n",
    "                             inital_name\n",
    "                        name = inital_name + color\n",
    "                else:\n",
    "                    name = inital_name+color\n",
    "\n",
    "\n",
    "\n",
    "                product = {\n",
    "\n",
    "\n",
    "                'id': [identity(row)],\n",
    "                'EAN': [EAN(soup)],\n",
    "                'brand': [brand(soup)],\n",
    "                'name': ' '.join(name),\n",
    "                'discount': [discount(soup)],\n",
    "                'price1': [priceOne(row)],\n",
    "                'price2': [priceTwo(row)],\n",
    "                'size': link.split(\"-\")[-2],\n",
    "                \"reviews\": [reviews(soup)],\n",
    "                \"ratings\": [ratings(soup)],\n",
    "                'sorting': [i],\n",
    "                'links' : [link],\n",
    "                'deliveryTime':[deliveryTime1(row)],\n",
    "                'comments': [comments(soup)]\n",
    "\n",
    "                }\n",
    "\n",
    "                product = pd.DataFrame(product)\n",
    "\n",
    "                #df.append(product)\n",
    "                df = df.append(product)\n",
    "\n",
    "\n",
    "            df.append(df)\n",
    "            df = df.reset_index().drop('index',  axis=1)\n",
    "                      \n",
    "df.to_excel('raw.xlsx', index=False)  \n",
    "df.shape\n",
    "    "
   ]
  },
  {
   "cell_type": "code",
   "execution_count": null,
   "id": "3c67e57b-9259-4c47-823a-506b908a7872",
   "metadata": {},
   "outputs": [],
   "source": [
    "display(HTML(\"<div style='height: 500px'>\" + df.style.render() + \"</div>\"))"
   ]
  },
  {
   "cell_type": "markdown",
   "id": "f57ef08d-022f-4717-92ee-4313d1731018",
   "metadata": {},
   "source": [
    "## Data Cleaning"
   ]
  },
  {
   "cell_type": "code",
   "execution_count": 64,
   "id": "526808d6-fa63-40c1-94ba-debac4c1615b",
   "metadata": {},
   "outputs": [
    {
     "name": "stdout",
     "output_type": "stream",
     "text": [
      "CPU times: total: 30min 19s\n",
      "Wall time: 30min 23s\n"
     ]
    }
   ],
   "source": [
    "%%time\n",
    "\n",
    "# remove sizes from names\n",
    "\n",
    "for i in range(0,df.shape[0]):\n",
    "    df.at[i,'size'] = str(df['size'].iloc[i]).replace(' ','').replace(',','.').replace('g','')\n",
    "    \n",
    "for j in range(0,df.shape[0]):\n",
    "    \n",
    "    if df['size'].iloc[j] != None:\n",
    "          size_ml = str(df['size'].iloc[j]) + ' ' + 'ml'\n",
    "          size_g = str(df['size'].iloc[j]) + ' ' + 'g'\n",
    "\n",
    "        \n",
    "    if df.iloc[j]['size']  in df.iloc[j]['name'].split():\n",
    "        df.at[j,'name'] = re.sub(size_ml,  '', df['name'].iloc[j])\n",
    "        df.at[j,'name'] = re.sub(size_g,  '', df['name'].iloc[j])\n",
    "    else: \n",
    "        for i in range(0,df.shape[0]):\n",
    "\n",
    "            if df['size'].iloc[i] != None:\n",
    "                  size_ml = str(df['size'].iloc[i]) + ' ' + 'ml'\n",
    "                  size_g = str(df['size'].iloc[i]) + ' ' + 'g'\n",
    "\n",
    "            if df.iloc[i]['size']  in df.iloc[j]['name'].split():\n",
    "                    df.at[j,'name'] = re.sub(size_ml,  '', df['name'].iloc[j])\n",
    "                    df.at[j,'name'] = re.sub(size_g,  '', df['name'].iloc[j])\n",
    "                    break\n",
    "\n",
    "\n",
    "df.to_excel('raw1.xlsx', index=False) "
   ]
  },
  {
   "cell_type": "code",
   "execution_count": 8,
   "id": "64b48cac-4329-412c-ad49-61e594a60560",
   "metadata": {},
   "outputs": [],
   "source": [
    "\n",
    "#Remove brands from names\n",
    "\n",
    "for i in range(0,df.shape[0]):\n",
    "    df.at[i,'size'] = str(df['size'].iloc[i]).replace(' ','').replace(',','.').replace('g','')\n",
    "    df.at[i,'name'] = re.sub(str(df.iloc[i]['brand']).title(),  '', str(df.iloc[i]['name']).title())\n",
    "\n",
    "# reset the sorting/ ranking  \n",
    "df.at[0,'sorting'] = 0\n",
    "for i in range(1,df.shape[0]):\n",
    "    \n",
    "    if df['name'].iloc[i] == df['name'].iloc[i-1]:\n",
    "        df.at[i,'sorting'] = df['sorting'].iloc[i-1]\n",
    "    else:\n",
    "        df.at[i,'sorting'] = df['sorting'].iloc[i-1] +1\n",
    "        \n",
    "# convert the variables below to float\n",
    "df[[\"price1\",\"price2\",'ratings','reviews','sorting','discount']] = df[[\"price1\",\"price2\",'ratings','reviews','sorting','discount']].astype(float)\n",
    "\n",
    "\n",
    "# convert the sizes to float\n",
    "for i in range(0,df.shape[0]):\n",
    "    try:\n",
    "        df.at[i,'size'] = pd.to_numeric(df.loc[i]['size'], errors='ignore', downcast='float')\n",
    "    except ValueError:\n",
    "        pass\n",
    "\n",
    "#If price2 is empty, then price2 = price1\n",
    "for i in range(0, df.shape[0]):\n",
    "    if pd.isnull(df.loc[i]['price2']):\n",
    "        df.at[i,'price2'] = df.loc[i]['price1']\n",
    "\n",
    "\n",
    "\n",
    "df['price2 minus price1'] = df['price2'] - df['price1']\n",
    "\n",
    "\n",
    "#price per 100 ml\n",
    "df['price1 per 100ml'] = None\n",
    "df['price2 per 100ml'] = None\n",
    "\n",
    "for i in range(0,df.shape[0]):\n",
    "    try:\n",
    "        df.at[i, 'price1 per 100ml']  = (df['price1'].iloc[i]/df['size'].iloc[i])*100\n",
    "    except TypeError:    \n",
    "        df.at[i,'price1 per 100ml'] = None\n",
    "\n",
    "    try:\n",
    "        df.at[i, 'price2 per 100ml']  = (df['price2'].iloc[i]/df['size'].iloc[i])*100\n",
    "    except TypeError:    \n",
    "        df.at[i,'price2 per 100ml'] = None\n",
    "        \n",
    "\n",
    "# create a new variable 'brand + name' \n",
    "df['brand + name'] = df['brand'] + ' ' + df['name'] \n",
    "for i in range(0,df.shape[0]):\n",
    "    df.at[i,'brand + name'] = str(df.iloc[i]['brand + name']).title().replace('  ',' ')\n",
    "        "
   ]
  },
  {
   "cell_type": "markdown",
   "id": "b2e91d62-0142-46df-9a71-c6566b06d800",
   "metadata": {
    "tags": []
   },
   "source": [
    "#### Sentiment Analysis by Textblod"
   ]
  },
  {
   "cell_type": "raw",
   "id": "0cbab419-8159-4081-819f-df50a6e547d8",
   "metadata": {},
   "source": [
    "df['polarity'] = None\n",
    "\n",
    "def sentiment(i):\n",
    "    try:\n",
    "        x = TextBlobDE(df.loc[i]['comments']).sentiment.polarity\n",
    "    except TypeError:\n",
    "        return 0\n",
    "    \n",
    "    return x\n",
    "\n",
    "for i in range(0,df.shape[0]):\n",
    "    df.at[i,'polarity']  = sentiment(i)\n",
    "   \n",
    "df['scale polarity (reviews*polarity)'] = df['reviews']*df['polarity']"
   ]
  },
  {
   "cell_type": "markdown",
   "id": "60e9130c-e302-46b3-b33f-995e6cb53137",
   "metadata": {},
   "source": [
    "#### add category columns"
   ]
  },
  {
   "cell_type": "code",
   "execution_count": 17,
   "id": "17f229b3-3137-4ec8-88ea-3d74ce0ebf41",
   "metadata": {},
   "outputs": [
    {
     "data": {
      "text/plain": [
       "(8009, 21)"
      ]
     },
     "execution_count": 17,
     "metadata": {},
     "output_type": "execute_result"
    }
   ],
   "source": [
    "### need to change\n",
    "\n",
    "df['p_category'] = None # Change\n",
    "df['pp_category'] = 'Hautpflege' # Change\n",
    "df['main_category'] = 'Hautpflege' # Change\n",
    "df['source'] = 'hagel' #Change\n",
    "\n",
    "df.shape"
   ]
  },
  {
   "cell_type": "code",
   "execution_count": 22,
   "id": "ff5b6337-cd52-42dd-8e6b-2fb980022709",
   "metadata": {},
   "outputs": [],
   "source": [
    "#f = df[['id', 'EAN', 'brand', 'name', 'size', 'discount', 'price1', 'price2', 'price2 minus price1', 'price1 per 100ml','price2 per 100ml','reviews', 'ratings', 'sorting', 'p_category', 'pp_category', 'main_category', 'sourse', 'links', 'comments', 'polarity','scale polarity (reviews*polarity)','deliveryTime']]\n",
    "#df = df[['id', 'EAN', 'brand', 'name', 'brand + name', 'size', 'discount', 'price1', 'price2', 'price2 minus price1', 'price1 per 100ml','price2 per 100ml','reviews', 'ratings', 'sorting', 'p_category', 'pp_category', 'main_category', 'source', 'links', 'deliveryTime']]\n",
    "\n",
    "#df = df[['id', 'EAN', 'brand', 'name', 'brand + name','size', 'discount', 'price1', 'price2', 'price2 minus price1', 'price1 per 100ml', 'price2 per 100ml', 'reviews', 'ratings',  'sorting', 'p_category', 'pp_category', 'main_category','source' ,'links', 'deliveryTime']]"
   ]
  },
  {
   "cell_type": "code",
   "execution_count": 23,
   "id": "0d6ef5fa-495a-499e-87fb-6e12c2ec4a09",
   "metadata": {},
   "outputs": [],
   "source": [
    "df.to_excel('Hautpflege.xlsx', index=False)  #change the name. but the format is '.xlsx'\n",
    "\n",
    "df1 = pd.read_excel('Hautpflege.xlsx')  #change the name. but the format is '.xlsx'\n",
    "\n",
    "df1.to_csv('Hautpflege.csv', index=False) #change the name. but the format is '.csv'!!!!"
   ]
  },
  {
   "cell_type": "markdown",
   "id": "065c868c-20c2-4daa-8f6e-da816c1e476d",
   "metadata": {},
   "source": [
    "\n",
    "#### combine all over categories you have scrapped!"
   ]
  },
  {
   "cell_type": "code",
   "execution_count": 44,
   "id": "a5321060-b229-409b-86e9-696b8f1c8815",
   "metadata": {},
   "outputs": [
    {
     "data": {
      "text/plain": [
       "(1315, 18)"
      ]
     },
     "execution_count": 44,
     "metadata": {},
     "output_type": "execute_result"
    }
   ],
   "source": [
    "\n",
    "\n",
    "\n",
    "a = pd.read_csv(\"Farbe1.csv\")  # Change\n",
    "b = pd.read_csv(\"Strähnen, Haarkreide & Make-Up.csv\")  # Change\n",
    "c= pd.read_csv(\"Blondierung.csv\")# Change\n",
    "d= pd.read_csv(\"Tönung.csv\")# Change\n",
    "e= pd.read_csv(\"Zubehör.csv\")# Change\n",
    "#f = pd.read_csv(\"Reisegrößen.csv\")\n",
    "#haarpflegeset = pd.read_csv(\"haarpflegeset_flaconi.csv\")\n",
    "#haarserum = pd.read_csv(\"haarserum.csv\")\n",
    "#pflege = pd.read_csv(\"leave-in-pflege_flaconi.csv\")\n",
    "#haarmaske = pd.read_csv(\"haarmaske_flaconi.csv\")\n",
    "# Change\n",
    "\n",
    "\n",
    "\n",
    "df = pd.concat([a, b, c,d,e])# Change\n",
    "df = df.reset_index().drop('index',  axis=1)\n",
    "df.shape"
   ]
  }
 ],
 "metadata": {
  "kernelspec": {
   "display_name": "Python 3 (ipykernel)",
   "language": "python",
   "name": "python3"
  },
  "language_info": {
   "codemirror_mode": {
    "name": "ipython",
    "version": 3
   },
   "file_extension": ".py",
   "mimetype": "text/x-python",
   "name": "python",
   "nbconvert_exporter": "python",
   "pygments_lexer": "ipython3",
   "version": "3.9.12 (main, Apr  4 2022, 05:22:27) [MSC v.1916 64 bit (AMD64)]"
  },
  "vscode": {
   "interpreter": {
    "hash": "a371848896e3b70ceac1e8ecf37ad769db161bd8e02d0a2433ee3c19f99b9da3"
   }
  }
 },
 "nbformat": 4,
 "nbformat_minor": 5
}
