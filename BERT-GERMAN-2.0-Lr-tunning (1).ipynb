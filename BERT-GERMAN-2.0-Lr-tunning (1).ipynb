{
 "cells": [
  {
   "cell_type": "code",
   "execution_count": 1,
   "id": "a4e3c2ab-aeb9-442b-8250-5bd904d27ec8",
   "metadata": {
    "tags": []
   },
   "outputs": [
    {
     "name": "stderr",
     "output_type": "stream",
     "text": [
      "2024-02-25 10:29:02.846741: E tensorflow/compiler/xla/stream_executor/cuda/cuda_dnn.cc:9342] Unable to register cuDNN factory: Attempting to register factory for plugin cuDNN when one has already been registered\n",
      "2024-02-25 10:29:02.846805: E tensorflow/compiler/xla/stream_executor/cuda/cuda_fft.cc:609] Unable to register cuFFT factory: Attempting to register factory for plugin cuFFT when one has already been registered\n",
      "2024-02-25 10:29:02.846843: E tensorflow/compiler/xla/stream_executor/cuda/cuda_blas.cc:1518] Unable to register cuBLAS factory: Attempting to register factory for plugin cuBLAS when one has already been registered\n",
      "2024-02-25 10:29:02.968736: I tensorflow/core/platform/cpu_feature_guard.cc:182] This TensorFlow binary is optimized to use available CPU instructions in performance-critical operations.\n",
      "To enable the following instructions: AVX2 FMA, in other operations, rebuild TensorFlow with the appropriate compiler flags.\n",
      "2024-02-25 10:29:05.577794: W tensorflow/compiler/tf2tensorrt/utils/py_utils.cc:38] TF-TRT Warning: Could not find TensorRT\n"
     ]
    }
   ],
   "source": [
    "\n",
    "import pandas as pd\n",
    "from sklearn.model_selection import train_test_split\n",
    "from transformers import AutoTokenizer, BertForSequenceClassification\n",
    "import torch\n",
    "torch.cuda.empty_cache()\n",
    "from transformers import Trainer, TrainingArguments\n",
    "from sklearn.metrics import accuracy_score, precision_recall_fscore_support\n",
    "import numpy as np\n",
    "from sklearn.metrics import confusion_matrix\n",
    "from torch.nn import CrossEntropyLoss\n",
    "import random\n",
    "import nlpaug.augmenter.word as naw\n",
    "import nltk\n",
    "from nltk.corpus import wordnet\n",
    "\n",
    "\n",
    "\n",
    "from peft import LoraConfig, TaskType\n",
    "from peft import get_peft_model\n"
   ]
  },
  {
   "cell_type": "code",
   "execution_count": 2,
   "id": "a5885023-6c73-46b3-a724-e69476968b7d",
   "metadata": {
    "tags": []
   },
   "outputs": [
    {
     "data": {
      "text/plain": [
       "Index(['Unnamed: 0', 'policy_id', 'policy_type', 'segments', 'Segment Text',\n",
       "       'First Party', 'Third Party', 'Information Type', 'Purpose',\n",
       "       'Collection Process', 'Legal Basis for Collection',\n",
       "       'Third-Party Entity', 'Information Type_Computer information',\n",
       "       'Information Type_Contact information',\n",
       "       'Information Type_Cookies and tracking elements',\n",
       "       'Information Type_Demographic data', 'Information Type_Financial',\n",
       "       'Information Type_Generic personal information',\n",
       "       'Information Type_IP address and device IDs',\n",
       "       'Information Type_Location', 'Purpose_Advertising or marketing',\n",
       "       'Purpose_Analytics or research', 'Purpose_Essential service or feature',\n",
       "       'Purpose_Legal requirement', 'Purpose_Service operation and security',\n",
       "       'Collection Process_Collected on first-party website/app',\n",
       "       'Legal Basis for Collection_Legitimate interests of first or third party',\n",
       "       'Information Type_User online activities',\n",
       "       'Collection Process_Shared by first party with a third party'],\n",
       "      dtype='object')"
      ]
     },
     "execution_count": 2,
     "metadata": {},
     "output_type": "execute_result"
    }
   ],
   "source": [
    "df = pd.read_csv(\"de_4.0.csv\")\n",
    "df.columns[df.notnull().any()]"
   ]
  },
  {
   "cell_type": "code",
   "execution_count": 7,
   "id": "98e669eb-3946-4d64-b315-192007d03fda",
   "metadata": {
    "tags": []
   },
   "outputs": [],
   "source": [
    "target_column =   'Purpose_Advertising or marketing'\n",
    "batch_size = 8\n",
    "epochs = 3\n",
    "\n",
    "learning_rates = [1e-5, 2e-5, 3e-5, 5e-5, 1e-4, 2e-4, 3e-4]"
   ]
  },
  {
   "cell_type": "markdown",
   "id": "974cd241-d2d5-4e6d-bae4-ec404ce4c6fd",
   "metadata": {
    "jp-MarkdownHeadingCollapsed": true,
    "tags": []
   },
   "source": [
    "# original"
   ]
  },
  {
   "cell_type": "code",
   "execution_count": 6,
   "id": "22bef454-7c12-45fd-aea8-e389373e72ad",
   "metadata": {
    "tags": []
   },
   "outputs": [
    {
     "name": "stderr",
     "output_type": "stream",
     "text": [
      "Some weights of BertForSequenceClassification were not initialized from the model checkpoint at bert-base-german-cased and are newly initialized: ['classifier.weight', 'classifier.bias']\n",
      "You should probably TRAIN this model on a down-stream task to be able to use it for predictions and inference.\n"
     ]
    },
    {
     "name": "stdout",
     "output_type": "stream",
     "text": [
      "Training with learning rate: 1e-05\n"
     ]
    },
    {
     "data": {
      "text/html": [
       "\n",
       "    <div>\n",
       "      \n",
       "      <progress value='1701' max='1701' style='width:300px; height:20px; vertical-align: middle;'></progress>\n",
       "      [1701/1701 06:51, Epoch 3/3]\n",
       "    </div>\n",
       "    <table border=\"1\" class=\"dataframe\">\n",
       "  <thead>\n",
       " <tr style=\"text-align: left;\">\n",
       "      <th>Step</th>\n",
       "      <th>Training Loss</th>\n",
       "      <th>Validation Loss</th>\n",
       "    </tr>\n",
       "  </thead>\n",
       "  <tbody>\n",
       "  </tbody>\n",
       "</table><p>"
      ],
      "text/plain": [
       "<IPython.core.display.HTML object>"
      ]
     },
     "metadata": {},
     "output_type": "display_data"
    },
    {
     "data": {
      "text/html": [],
      "text/plain": [
       "<IPython.core.display.HTML object>"
      ]
     },
     "metadata": {},
     "output_type": "display_data"
    },
    {
     "name": "stdout",
     "output_type": "stream",
     "text": [
      "Evaluation loss for learning rate 1e-05: 0.17081333696842194\n",
      "[[1050   18]\n",
      " [  27   39]]\n",
      "Accuracy: 0.9603174603174603\n",
      "Precision: 0.6842105263157895\n",
      "Recall: 0.5909090909090909\n",
      "F1 Score: 0.6341463414634148\n"
     ]
    },
    {
     "name": "stderr",
     "output_type": "stream",
     "text": [
      "Some weights of BertForSequenceClassification were not initialized from the model checkpoint at bert-base-german-cased and are newly initialized: ['classifier.weight', 'classifier.bias']\n",
      "You should probably TRAIN this model on a down-stream task to be able to use it for predictions and inference.\n"
     ]
    },
    {
     "name": "stdout",
     "output_type": "stream",
     "text": [
      "Training with learning rate: 2e-05\n"
     ]
    },
    {
     "data": {
      "text/html": [
       "\n",
       "    <div>\n",
       "      \n",
       "      <progress value='1701' max='1701' style='width:300px; height:20px; vertical-align: middle;'></progress>\n",
       "      [1701/1701 13:28, Epoch 3/3]\n",
       "    </div>\n",
       "    <table border=\"1\" class=\"dataframe\">\n",
       "  <thead>\n",
       " <tr style=\"text-align: left;\">\n",
       "      <th>Step</th>\n",
       "      <th>Training Loss</th>\n",
       "      <th>Validation Loss</th>\n",
       "    </tr>\n",
       "  </thead>\n",
       "  <tbody>\n",
       "  </tbody>\n",
       "</table><p>"
      ],
      "text/plain": [
       "<IPython.core.display.HTML object>"
      ]
     },
     "metadata": {},
     "output_type": "display_data"
    },
    {
     "data": {
      "text/html": [],
      "text/plain": [
       "<IPython.core.display.HTML object>"
      ]
     },
     "metadata": {},
     "output_type": "display_data"
    },
    {
     "name": "stdout",
     "output_type": "stream",
     "text": [
      "Evaluation loss for learning rate 2e-05: 0.2060079127550125\n",
      "[[1043   25]\n",
      " [  23   43]]\n",
      "Accuracy: 0.9576719576719577\n",
      "Precision: 0.6323529411764706\n",
      "Recall: 0.6515151515151515\n",
      "F1 Score: 0.6417910447761194\n"
     ]
    },
    {
     "name": "stderr",
     "output_type": "stream",
     "text": [
      "Some weights of BertForSequenceClassification were not initialized from the model checkpoint at bert-base-german-cased and are newly initialized: ['classifier.weight', 'classifier.bias']\n",
      "You should probably TRAIN this model on a down-stream task to be able to use it for predictions and inference.\n"
     ]
    },
    {
     "name": "stdout",
     "output_type": "stream",
     "text": [
      "Training with learning rate: 3e-05\n"
     ]
    },
    {
     "data": {
      "text/html": [
       "\n",
       "    <div>\n",
       "      \n",
       "      <progress value='684' max='1701' style='width:300px; height:20px; vertical-align: middle;'></progress>\n",
       "      [ 684/1701 06:27 < 09:38, 1.76 it/s, Epoch 1.20/3]\n",
       "    </div>\n",
       "    <table border=\"1\" class=\"dataframe\">\n",
       "  <thead>\n",
       " <tr style=\"text-align: left;\">\n",
       "      <th>Step</th>\n",
       "      <th>Training Loss</th>\n",
       "      <th>Validation Loss</th>\n",
       "    </tr>\n",
       "  </thead>\n",
       "  <tbody>\n",
       "  </tbody>\n",
       "</table><p>"
      ],
      "text/plain": [
       "<IPython.core.display.HTML object>"
      ]
     },
     "metadata": {},
     "output_type": "display_data"
    },
    {
     "ename": "KeyboardInterrupt",
     "evalue": "",
     "output_type": "error",
     "traceback": [
      "\u001b[0;31m---------------------------------------------------------------------------\u001b[0m",
      "\u001b[0;31mKeyboardInterrupt\u001b[0m                         Traceback (most recent call last)",
      "Cell \u001b[0;32mIn[6], line 82\u001b[0m\n\u001b[1;32m     80\u001b[0m    \u001b[38;5;66;03m# Train the model with the current learning rate\u001b[39;00m\n\u001b[1;32m     81\u001b[0m    \u001b[38;5;28mprint\u001b[39m(\u001b[38;5;124mf\u001b[39m\u001b[38;5;124m\"\u001b[39m\u001b[38;5;124mTraining with learning rate: \u001b[39m\u001b[38;5;132;01m{\u001b[39;00mlr\u001b[38;5;132;01m}\u001b[39;00m\u001b[38;5;124m\"\u001b[39m)\n\u001b[0;32m---> 82\u001b[0m    \u001b[43mtrainer\u001b[49m\u001b[38;5;241;43m.\u001b[39;49m\u001b[43mtrain\u001b[49m\u001b[43m(\u001b[49m\u001b[43m)\u001b[49m\n\u001b[1;32m     84\u001b[0m \u001b[38;5;66;03m# Evaluate the model\u001b[39;00m\n\u001b[1;32m     85\u001b[0m    eval_result \u001b[38;5;241m=\u001b[39m trainer\u001b[38;5;241m.\u001b[39mevaluate()\n",
      "File \u001b[0;32m~/.local/lib/python3.10/site-packages/transformers/trainer.py:1555\u001b[0m, in \u001b[0;36mTrainer.train\u001b[0;34m(self, resume_from_checkpoint, trial, ignore_keys_for_eval, **kwargs)\u001b[0m\n\u001b[1;32m   1553\u001b[0m         hf_hub_utils\u001b[38;5;241m.\u001b[39menable_progress_bars()\n\u001b[1;32m   1554\u001b[0m \u001b[38;5;28;01melse\u001b[39;00m:\n\u001b[0;32m-> 1555\u001b[0m     \u001b[38;5;28;01mreturn\u001b[39;00m \u001b[43minner_training_loop\u001b[49m\u001b[43m(\u001b[49m\n\u001b[1;32m   1556\u001b[0m \u001b[43m        \u001b[49m\u001b[43margs\u001b[49m\u001b[38;5;241;43m=\u001b[39;49m\u001b[43margs\u001b[49m\u001b[43m,\u001b[49m\n\u001b[1;32m   1557\u001b[0m \u001b[43m        \u001b[49m\u001b[43mresume_from_checkpoint\u001b[49m\u001b[38;5;241;43m=\u001b[39;49m\u001b[43mresume_from_checkpoint\u001b[49m\u001b[43m,\u001b[49m\n\u001b[1;32m   1558\u001b[0m \u001b[43m        \u001b[49m\u001b[43mtrial\u001b[49m\u001b[38;5;241;43m=\u001b[39;49m\u001b[43mtrial\u001b[49m\u001b[43m,\u001b[49m\n\u001b[1;32m   1559\u001b[0m \u001b[43m        \u001b[49m\u001b[43mignore_keys_for_eval\u001b[49m\u001b[38;5;241;43m=\u001b[39;49m\u001b[43mignore_keys_for_eval\u001b[49m\u001b[43m,\u001b[49m\n\u001b[1;32m   1560\u001b[0m \u001b[43m    \u001b[49m\u001b[43m)\u001b[49m\n",
      "File \u001b[0;32m~/.local/lib/python3.10/site-packages/transformers/trainer.py:1860\u001b[0m, in \u001b[0;36mTrainer._inner_training_loop\u001b[0;34m(self, batch_size, args, resume_from_checkpoint, trial, ignore_keys_for_eval)\u001b[0m\n\u001b[1;32m   1857\u001b[0m     \u001b[38;5;28mself\u001b[39m\u001b[38;5;241m.\u001b[39mcontrol \u001b[38;5;241m=\u001b[39m \u001b[38;5;28mself\u001b[39m\u001b[38;5;241m.\u001b[39mcallback_handler\u001b[38;5;241m.\u001b[39mon_step_begin(args, \u001b[38;5;28mself\u001b[39m\u001b[38;5;241m.\u001b[39mstate, \u001b[38;5;28mself\u001b[39m\u001b[38;5;241m.\u001b[39mcontrol)\n\u001b[1;32m   1859\u001b[0m \u001b[38;5;28;01mwith\u001b[39;00m \u001b[38;5;28mself\u001b[39m\u001b[38;5;241m.\u001b[39maccelerator\u001b[38;5;241m.\u001b[39maccumulate(model):\n\u001b[0;32m-> 1860\u001b[0m     tr_loss_step \u001b[38;5;241m=\u001b[39m \u001b[38;5;28;43mself\u001b[39;49m\u001b[38;5;241;43m.\u001b[39;49m\u001b[43mtraining_step\u001b[49m\u001b[43m(\u001b[49m\u001b[43mmodel\u001b[49m\u001b[43m,\u001b[49m\u001b[43m \u001b[49m\u001b[43minputs\u001b[49m\u001b[43m)\u001b[49m\n\u001b[1;32m   1862\u001b[0m \u001b[38;5;28;01mif\u001b[39;00m (\n\u001b[1;32m   1863\u001b[0m     args\u001b[38;5;241m.\u001b[39mlogging_nan_inf_filter\n\u001b[1;32m   1864\u001b[0m     \u001b[38;5;129;01mand\u001b[39;00m \u001b[38;5;129;01mnot\u001b[39;00m is_torch_tpu_available()\n\u001b[1;32m   1865\u001b[0m     \u001b[38;5;129;01mand\u001b[39;00m (torch\u001b[38;5;241m.\u001b[39misnan(tr_loss_step) \u001b[38;5;129;01mor\u001b[39;00m torch\u001b[38;5;241m.\u001b[39misinf(tr_loss_step))\n\u001b[1;32m   1866\u001b[0m ):\n\u001b[1;32m   1867\u001b[0m     \u001b[38;5;66;03m# if loss is nan or inf simply add the average of previous logged losses\u001b[39;00m\n\u001b[1;32m   1868\u001b[0m     tr_loss \u001b[38;5;241m+\u001b[39m\u001b[38;5;241m=\u001b[39m tr_loss \u001b[38;5;241m/\u001b[39m (\u001b[38;5;241m1\u001b[39m \u001b[38;5;241m+\u001b[39m \u001b[38;5;28mself\u001b[39m\u001b[38;5;241m.\u001b[39mstate\u001b[38;5;241m.\u001b[39mglobal_step \u001b[38;5;241m-\u001b[39m \u001b[38;5;28mself\u001b[39m\u001b[38;5;241m.\u001b[39m_globalstep_last_logged)\n",
      "File \u001b[0;32m~/.local/lib/python3.10/site-packages/transformers/trainer.py:2734\u001b[0m, in \u001b[0;36mTrainer.training_step\u001b[0;34m(self, model, inputs)\u001b[0m\n\u001b[1;32m   2732\u001b[0m         scaled_loss\u001b[38;5;241m.\u001b[39mbackward()\n\u001b[1;32m   2733\u001b[0m \u001b[38;5;28;01melse\u001b[39;00m:\n\u001b[0;32m-> 2734\u001b[0m     \u001b[38;5;28;43mself\u001b[39;49m\u001b[38;5;241;43m.\u001b[39;49m\u001b[43maccelerator\u001b[49m\u001b[38;5;241;43m.\u001b[39;49m\u001b[43mbackward\u001b[49m\u001b[43m(\u001b[49m\u001b[43mloss\u001b[49m\u001b[43m)\u001b[49m\n\u001b[1;32m   2736\u001b[0m \u001b[38;5;28;01mreturn\u001b[39;00m loss\u001b[38;5;241m.\u001b[39mdetach() \u001b[38;5;241m/\u001b[39m \u001b[38;5;28mself\u001b[39m\u001b[38;5;241m.\u001b[39margs\u001b[38;5;241m.\u001b[39mgradient_accumulation_steps\n",
      "File \u001b[0;32m~/.local/lib/python3.10/site-packages/accelerate/accelerator.py:1905\u001b[0m, in \u001b[0;36mAccelerator.backward\u001b[0;34m(self, loss, **kwargs)\u001b[0m\n\u001b[1;32m   1903\u001b[0m     \u001b[38;5;28mself\u001b[39m\u001b[38;5;241m.\u001b[39mscaler\u001b[38;5;241m.\u001b[39mscale(loss)\u001b[38;5;241m.\u001b[39mbackward(\u001b[38;5;241m*\u001b[39m\u001b[38;5;241m*\u001b[39mkwargs)\n\u001b[1;32m   1904\u001b[0m \u001b[38;5;28;01melse\u001b[39;00m:\n\u001b[0;32m-> 1905\u001b[0m     \u001b[43mloss\u001b[49m\u001b[38;5;241;43m.\u001b[39;49m\u001b[43mbackward\u001b[49m\u001b[43m(\u001b[49m\u001b[38;5;241;43m*\u001b[39;49m\u001b[38;5;241;43m*\u001b[39;49m\u001b[43mkwargs\u001b[49m\u001b[43m)\u001b[49m\n",
      "File \u001b[0;32m/opt/conda/lib/python3.10/site-packages/torch/_tensor.py:487\u001b[0m, in \u001b[0;36mTensor.backward\u001b[0;34m(self, gradient, retain_graph, create_graph, inputs)\u001b[0m\n\u001b[1;32m    477\u001b[0m \u001b[38;5;28;01mif\u001b[39;00m has_torch_function_unary(\u001b[38;5;28mself\u001b[39m):\n\u001b[1;32m    478\u001b[0m     \u001b[38;5;28;01mreturn\u001b[39;00m handle_torch_function(\n\u001b[1;32m    479\u001b[0m         Tensor\u001b[38;5;241m.\u001b[39mbackward,\n\u001b[1;32m    480\u001b[0m         (\u001b[38;5;28mself\u001b[39m,),\n\u001b[0;32m   (...)\u001b[0m\n\u001b[1;32m    485\u001b[0m         inputs\u001b[38;5;241m=\u001b[39minputs,\n\u001b[1;32m    486\u001b[0m     )\n\u001b[0;32m--> 487\u001b[0m \u001b[43mtorch\u001b[49m\u001b[38;5;241;43m.\u001b[39;49m\u001b[43mautograd\u001b[49m\u001b[38;5;241;43m.\u001b[39;49m\u001b[43mbackward\u001b[49m\u001b[43m(\u001b[49m\n\u001b[1;32m    488\u001b[0m \u001b[43m    \u001b[49m\u001b[38;5;28;43mself\u001b[39;49m\u001b[43m,\u001b[49m\u001b[43m \u001b[49m\u001b[43mgradient\u001b[49m\u001b[43m,\u001b[49m\u001b[43m \u001b[49m\u001b[43mretain_graph\u001b[49m\u001b[43m,\u001b[49m\u001b[43m \u001b[49m\u001b[43mcreate_graph\u001b[49m\u001b[43m,\u001b[49m\u001b[43m \u001b[49m\u001b[43minputs\u001b[49m\u001b[38;5;241;43m=\u001b[39;49m\u001b[43minputs\u001b[49m\n\u001b[1;32m    489\u001b[0m \u001b[43m\u001b[49m\u001b[43m)\u001b[49m\n",
      "File \u001b[0;32m/opt/conda/lib/python3.10/site-packages/torch/autograd/__init__.py:200\u001b[0m, in \u001b[0;36mbackward\u001b[0;34m(tensors, grad_tensors, retain_graph, create_graph, grad_variables, inputs)\u001b[0m\n\u001b[1;32m    195\u001b[0m     retain_graph \u001b[38;5;241m=\u001b[39m create_graph\n\u001b[1;32m    197\u001b[0m \u001b[38;5;66;03m# The reason we repeat same the comment below is that\u001b[39;00m\n\u001b[1;32m    198\u001b[0m \u001b[38;5;66;03m# some Python versions print out the first line of a multi-line function\u001b[39;00m\n\u001b[1;32m    199\u001b[0m \u001b[38;5;66;03m# calls in the traceback and some print out the last line\u001b[39;00m\n\u001b[0;32m--> 200\u001b[0m \u001b[43mVariable\u001b[49m\u001b[38;5;241;43m.\u001b[39;49m\u001b[43m_execution_engine\u001b[49m\u001b[38;5;241;43m.\u001b[39;49m\u001b[43mrun_backward\u001b[49m\u001b[43m(\u001b[49m\u001b[43m  \u001b[49m\u001b[38;5;66;43;03m# Calls into the C++ engine to run the backward pass\u001b[39;49;00m\n\u001b[1;32m    201\u001b[0m \u001b[43m    \u001b[49m\u001b[43mtensors\u001b[49m\u001b[43m,\u001b[49m\u001b[43m \u001b[49m\u001b[43mgrad_tensors_\u001b[49m\u001b[43m,\u001b[49m\u001b[43m \u001b[49m\u001b[43mretain_graph\u001b[49m\u001b[43m,\u001b[49m\u001b[43m \u001b[49m\u001b[43mcreate_graph\u001b[49m\u001b[43m,\u001b[49m\u001b[43m \u001b[49m\u001b[43minputs\u001b[49m\u001b[43m,\u001b[49m\n\u001b[1;32m    202\u001b[0m \u001b[43m    \u001b[49m\u001b[43mallow_unreachable\u001b[49m\u001b[38;5;241;43m=\u001b[39;49m\u001b[38;5;28;43;01mTrue\u001b[39;49;00m\u001b[43m,\u001b[49m\u001b[43m \u001b[49m\u001b[43maccumulate_grad\u001b[49m\u001b[38;5;241;43m=\u001b[39;49m\u001b[38;5;28;43;01mTrue\u001b[39;49;00m\u001b[43m)\u001b[49m\n",
      "\u001b[0;31mKeyboardInterrupt\u001b[0m: "
     ]
    }
   ],
   "source": [
    "best_lr = None\n",
    "lowest_eval_loss = float('inf')\n",
    "\n",
    "\n",
    "best_f1_lr = None\n",
    "highest_f1 = 0\n",
    "\n",
    "\n",
    "for lr in learning_rates:\n",
    "    \n",
    "#--------------------------------------------------------------------------------    \n",
    "    tokenizer = AutoTokenizer.from_pretrained(\"bert-base-german-cased\")\n",
    "    model = BertForSequenceClassification.from_pretrained(\"bert-base-german-cased\")\n",
    "\n",
    "\n",
    " \n",
    "#-----------------------------------------------------------------------------------           \n",
    "\n",
    "    X_train = list(df['Segment Text'].loc[(df['policy_type'] == 'TRAIN')])\n",
    "    y_train = list(df[target_column].loc[(df['policy_type'] == 'TRAIN')])\n",
    "\n",
    "\n",
    "    # Split the data into training and validation sets\n",
    "    X_train, X_val, y_train, y_val = train_test_split(X_train, y_train, test_size=0.20, random_state=0)\n",
    "\n",
    "\n",
    "    # mapping labels\n",
    "\n",
    "    label_mapping = {0: 0, 1: 1}\n",
    "    y_train_integers = [label_mapping[label] for label in y_train]\n",
    "    y_val_integers = [label_mapping[label] for label in y_val]\n",
    "\n",
    "    train_encodings = tokenizer(X_train, max_length=512, truncation=True, padding='max_length')\n",
    "    val_encodings = tokenizer(X_val, max_length=512, truncation=True, padding='max_length')\n",
    "\n",
    "    #\n",
    "    class TextDataset(torch.utils.data.Dataset):\n",
    "        def __init__(self, encodings, labels):\n",
    "            self.encodings = encodings\n",
    "            self.labels = labels\n",
    "\n",
    "        def __getitem__(self, idx):\n",
    "            item = {key: torch.tensor(val[idx]) for key, val in self.encodings.items()}\n",
    "            item['labels'] = self.labels[idx]  # Removed torch.tensor here\n",
    "            return item\n",
    "\n",
    "        def __len__(self):\n",
    "            return len(self.labels)\n",
    "\n",
    "\n",
    "    train_dataset = TextDataset(train_encodings, y_train_integers)\n",
    "    val_dataset = TextDataset(val_encodings, y_val_integers)\n",
    "    \n",
    "#---------------------------------------------------------------------------  \n",
    "    \n",
    "    # Set up training arguments with the current learning rate\n",
    "    training_args = TrainingArguments(\n",
    "        output_dir='./results',\n",
    "        learning_rate=lr,  # Set learning rate here\n",
    "        num_train_epochs=epochs ,\n",
    "        per_device_train_batch_size=batch_size,\n",
    "        per_device_eval_batch_size=8,\n",
    "        warmup_steps=500,\n",
    "        weight_decay=0.01,\n",
    "        logging_dir='./logs',\n",
    "        logging_steps=100,\n",
    "        evaluation_strategy=\"steps\",\n",
    "        eval_steps=3000\n",
    "    )\n",
    "\n",
    "    # Set up the Trainer\n",
    "    trainer = Trainer(\n",
    "        model=model,\n",
    "        args=training_args,\n",
    "        train_dataset=train_dataset,\n",
    "        eval_dataset=val_dataset\n",
    "    )\n",
    "\n",
    "\n",
    "    # Train the model with the current learning rate\n",
    "    print(f\"Training with learning rate: {lr}\")\n",
    "    trainer.train()\n",
    "    \n",
    " # Evaluate the model\n",
    "    eval_result = trainer.evaluate()\n",
    "    print(f\"Evaluation loss for learning rate {lr}: {eval_result['eval_loss']}\")\n",
    "    \n",
    "    \n",
    "    predictions = trainer.predict(val_dataset).predictions\n",
    "    predictions_label = np.argmax(predictions, axis=1)\n",
    "\n",
    "    cm=confusion_matrix( y_val_integers, predictions_label)\n",
    "    print(cm)\n",
    "\n",
    "    accuracy = accuracy_score( y_val_integers, predictions_label)\n",
    "    precision, recall, f1, _ = precision_recall_fscore_support(y_val_integers, predictions_label, average='binary')\n",
    "    print(f\"Accuracy: {accuracy}\")\n",
    "    print(f\"Precision: {precision}\")\n",
    "    print(f\"Recall: {recall}\")\n",
    "    print(f\"F1 Score: {f1}\")\n",
    "\n",
    "    if eval_result['eval_loss'] < lowest_eval_loss:\n",
    "        best_lr = lr\n",
    "        lowest_eval_loss = eval_result['eval_loss']\n",
    "\n",
    "    if f1 > highest_f1:\n",
    "        best_f1_lr = lr\n",
    "        highest_f1 = f1\n",
    "        \n",
    "\n",
    "print(f\"Best Learning Rate: {best_lr} with loss: {lowest_eval_loss}\")\n",
    "print(f\"Best f1 Learning Rat: {best_f1_lr} with highest f1: { highest_f1}\")\n"
   ]
  },
  {
   "cell_type": "markdown",
   "id": "badac47e-684e-49aa-a088-8c4eb09607b0",
   "metadata": {
    "tags": []
   },
   "source": [
    "### Retrain the model with certain learning rate\n"
   ]
  },
  {
   "cell_type": "code",
   "execution_count": null,
   "id": "2dfbc969-e0d8-4092-81b3-c1d6b61c5090",
   "metadata": {},
   "outputs": [],
   "source": [
    "tokenizer = AutoTokenizer.from_pretrained(\"bert-base-german-cased\")\n",
    "model = BertForSequenceClassification.from_pretrained(\"bert-base-german-cased\")\n",
    "\n",
    "#-----------------------------------------------------------------------------------     \n",
    "\n",
    "X_train=list(df['Segment Text'].loc[(df['policy_type'] == 'TRAIN')])\n",
    "X_test=list(df['Segment Text'].loc[(df['policy_type'] == 'TEST')])\n",
    "\n",
    "y_train=list(df[target_column].loc[(df['policy_type'] == 'TRAIN')])\n",
    "y_test=list(df[target_column].loc[(df['policy_type'] == 'TEST')])\n",
    "\n",
    "\n",
    "train_encodings = tokenizer(X_train, max_length=512, truncation=True, padding='max_length')\n",
    "test_encodings = tokenizer(X_test, max_length=512, truncation=True, padding='max_length')\n",
    "\n",
    "#-----------\n",
    "\n",
    "label_mapping = {0: 0, 1: 1}\n",
    "y_train_integers = [label_mapping[label] for label in y_train]\n",
    "y_test_integers = [label_mapping[label] for label in y_test]\n",
    "\n",
    "\n",
    "class TextDataset(torch.utils.data.Dataset):\n",
    "    def __init__(self, encodings, labels):\n",
    "        self.encodings = encodings\n",
    "        self.labels = labels\n",
    "\n",
    "    def __getitem__(self, idx):\n",
    "        item = {key: torch.tensor(val[idx]) for key, val in self.encodings.items()}\n",
    "        item['labels'] = self.labels[idx]  # Removed torch.tensor here\n",
    "        return item\n",
    "\n",
    "    def __len__(self):\n",
    "        return len(self.labels)\n",
    "\n",
    "train_dataset = TextDataset(train_encodings, y_train_integers)\n",
    "test_dataset = TextDataset(test_encodings, y_test_integers)\n",
    "\n",
    "#--------------------------\n",
    "\n",
    "training_args = TrainingArguments(\n",
    "    output_dir='./results',\n",
    "    learning_rate= best_f1_lr , # Set learning rate here\n",
    "    num_train_epochs=epochs ,\n",
    "    per_device_train_batch_size=batch_size,\n",
    "    per_device_eval_batch_size=8,\n",
    "    warmup_steps=500,\n",
    "    weight_decay=0.01,\n",
    "    logging_dir='./logs',\n",
    "    logging_steps=100,\n",
    "    evaluation_strategy=\"steps\",\n",
    "    eval_steps=3000\n",
    "\n",
    ")\n",
    "\n",
    "trainer = Trainer(\n",
    "    model=model,\n",
    "    args=training_args,\n",
    "    train_dataset=train_dataset,\n",
    "    eval_dataset=test_dataset\n",
    ")\n",
    "\n",
    "trainer.train()\n",
    "\n",
    "\n",
    "predictions = trainer.predict(test_dataset).predictions\n",
    "predictions_label = np.argmax(predictions, axis=1)\n",
    "\n",
    "cm=confusion_matrix(y_test_integers, predictions_label)\n",
    "print(cm)\n",
    "\n",
    "accuracy = accuracy_score(y_test_integers, predictions_label)\n",
    "precision, recall, f1, _ = precision_recall_fscore_support(y_test_integers, predictions_label, average='binary')\n",
    "print(f\"Accuracy: {accuracy}\")\n",
    "print(f\"Precision: {precision}\")\n",
    "print(f\"Recall: {recall}\")\n",
    "print(f\"F1 Score: {f1}\")\n",
    "\n",
    "print(f\"Best f1 Learning Rat: {best_f1_lr}\")"
   ]
  },
  {
   "cell_type": "code",
   "execution_count": null,
   "id": "425c7e19-182b-4acf-8bcb-8f7912275825",
   "metadata": {},
   "outputs": [],
   "source": []
  },
  {
   "cell_type": "code",
   "execution_count": null,
   "id": "55069e38-b8da-4792-9e7b-953ee43484fe",
   "metadata": {},
   "outputs": [],
   "source": []
  },
  {
   "cell_type": "markdown",
   "id": "0f55c53f-e21c-4989-b339-db252e8d4121",
   "metadata": {
    "jp-MarkdownHeadingCollapsed": true,
    "tags": []
   },
   "source": [
    "# Fine Tuning last 2 layers "
   ]
  },
  {
   "cell_type": "code",
   "execution_count": 8,
   "id": "29f9bd88-5644-472b-9472-894f93791f91",
   "metadata": {},
   "outputs": [
    {
     "name": "stderr",
     "output_type": "stream",
     "text": [
      "Some weights of BertForSequenceClassification were not initialized from the model checkpoint at bert-base-german-cased and are newly initialized: ['classifier.bias', 'classifier.weight']\n",
      "You should probably TRAIN this model on a down-stream task to be able to use it for predictions and inference.\n"
     ]
    },
    {
     "name": "stdout",
     "output_type": "stream",
     "text": [
      "Training with learning rate: 1e-05\n"
     ]
    },
    {
     "data": {
      "text/html": [
       "\n",
       "    <div>\n",
       "      \n",
       "      <progress value='1701' max='1701' style='width:300px; height:20px; vertical-align: middle;'></progress>\n",
       "      [1701/1701 03:00, Epoch 3/3]\n",
       "    </div>\n",
       "    <table border=\"1\" class=\"dataframe\">\n",
       "  <thead>\n",
       " <tr style=\"text-align: left;\">\n",
       "      <th>Step</th>\n",
       "      <th>Training Loss</th>\n",
       "      <th>Validation Loss</th>\n",
       "    </tr>\n",
       "  </thead>\n",
       "  <tbody>\n",
       "  </tbody>\n",
       "</table><p>"
      ],
      "text/plain": [
       "<IPython.core.display.HTML object>"
      ]
     },
     "metadata": {},
     "output_type": "display_data"
    },
    {
     "data": {
      "text/html": [],
      "text/plain": [
       "<IPython.core.display.HTML object>"
      ]
     },
     "metadata": {},
     "output_type": "display_data"
    },
    {
     "name": "stdout",
     "output_type": "stream",
     "text": [
      "Evaluation loss for learning rate 1e-05: 0.1692201793193817\n",
      "[[1051   11]\n",
      " [  55   17]]\n",
      "Accuracy: 0.9417989417989417\n",
      "Precision: 0.6071428571428571\n",
      "Recall: 0.2361111111111111\n",
      "F1 Score: 0.34\n"
     ]
    },
    {
     "name": "stderr",
     "output_type": "stream",
     "text": [
      "Some weights of BertForSequenceClassification were not initialized from the model checkpoint at bert-base-german-cased and are newly initialized: ['classifier.bias', 'classifier.weight']\n",
      "You should probably TRAIN this model on a down-stream task to be able to use it for predictions and inference.\n"
     ]
    },
    {
     "name": "stdout",
     "output_type": "stream",
     "text": [
      "Training with learning rate: 2e-05\n"
     ]
    },
    {
     "data": {
      "text/html": [
       "\n",
       "    <div>\n",
       "      \n",
       "      <progress value='1701' max='1701' style='width:300px; height:20px; vertical-align: middle;'></progress>\n",
       "      [1701/1701 03:02, Epoch 3/3]\n",
       "    </div>\n",
       "    <table border=\"1\" class=\"dataframe\">\n",
       "  <thead>\n",
       " <tr style=\"text-align: left;\">\n",
       "      <th>Step</th>\n",
       "      <th>Training Loss</th>\n",
       "      <th>Validation Loss</th>\n",
       "    </tr>\n",
       "  </thead>\n",
       "  <tbody>\n",
       "  </tbody>\n",
       "</table><p>"
      ],
      "text/plain": [
       "<IPython.core.display.HTML object>"
      ]
     },
     "metadata": {},
     "output_type": "display_data"
    },
    {
     "data": {
      "text/html": [],
      "text/plain": [
       "<IPython.core.display.HTML object>"
      ]
     },
     "metadata": {},
     "output_type": "display_data"
    },
    {
     "name": "stdout",
     "output_type": "stream",
     "text": [
      "Evaluation loss for learning rate 2e-05: 0.14008954167366028\n",
      "[[1046   16]\n",
      " [  39   33]]\n",
      "Accuracy: 0.9514991181657848\n",
      "Precision: 0.673469387755102\n",
      "Recall: 0.4583333333333333\n",
      "F1 Score: 0.5454545454545454\n"
     ]
    },
    {
     "name": "stderr",
     "output_type": "stream",
     "text": [
      "Some weights of BertForSequenceClassification were not initialized from the model checkpoint at bert-base-german-cased and are newly initialized: ['classifier.bias', 'classifier.weight']\n",
      "You should probably TRAIN this model on a down-stream task to be able to use it for predictions and inference.\n"
     ]
    },
    {
     "name": "stdout",
     "output_type": "stream",
     "text": [
      "Training with learning rate: 3e-05\n"
     ]
    },
    {
     "data": {
      "text/html": [
       "\n",
       "    <div>\n",
       "      \n",
       "      <progress value='1701' max='1701' style='width:300px; height:20px; vertical-align: middle;'></progress>\n",
       "      [1701/1701 03:03, Epoch 3/3]\n",
       "    </div>\n",
       "    <table border=\"1\" class=\"dataframe\">\n",
       "  <thead>\n",
       " <tr style=\"text-align: left;\">\n",
       "      <th>Step</th>\n",
       "      <th>Training Loss</th>\n",
       "      <th>Validation Loss</th>\n",
       "    </tr>\n",
       "  </thead>\n",
       "  <tbody>\n",
       "  </tbody>\n",
       "</table><p>"
      ],
      "text/plain": [
       "<IPython.core.display.HTML object>"
      ]
     },
     "metadata": {},
     "output_type": "display_data"
    },
    {
     "data": {
      "text/html": [],
      "text/plain": [
       "<IPython.core.display.HTML object>"
      ]
     },
     "metadata": {},
     "output_type": "display_data"
    },
    {
     "name": "stdout",
     "output_type": "stream",
     "text": [
      "Evaluation loss for learning rate 3e-05: 0.13471214473247528\n",
      "[[1047   15]\n",
      " [  34   38]]\n",
      "Accuracy: 0.9567901234567902\n",
      "Precision: 0.7169811320754716\n",
      "Recall: 0.5277777777777778\n",
      "F1 Score: 0.608\n"
     ]
    },
    {
     "name": "stderr",
     "output_type": "stream",
     "text": [
      "Some weights of BertForSequenceClassification were not initialized from the model checkpoint at bert-base-german-cased and are newly initialized: ['classifier.bias', 'classifier.weight']\n",
      "You should probably TRAIN this model on a down-stream task to be able to use it for predictions and inference.\n"
     ]
    },
    {
     "name": "stdout",
     "output_type": "stream",
     "text": [
      "Training with learning rate: 5e-05\n"
     ]
    },
    {
     "data": {
      "text/html": [
       "\n",
       "    <div>\n",
       "      \n",
       "      <progress value='1701' max='1701' style='width:300px; height:20px; vertical-align: middle;'></progress>\n",
       "      [1701/1701 03:08, Epoch 3/3]\n",
       "    </div>\n",
       "    <table border=\"1\" class=\"dataframe\">\n",
       "  <thead>\n",
       " <tr style=\"text-align: left;\">\n",
       "      <th>Step</th>\n",
       "      <th>Training Loss</th>\n",
       "      <th>Validation Loss</th>\n",
       "    </tr>\n",
       "  </thead>\n",
       "  <tbody>\n",
       "  </tbody>\n",
       "</table><p>"
      ],
      "text/plain": [
       "<IPython.core.display.HTML object>"
      ]
     },
     "metadata": {},
     "output_type": "display_data"
    },
    {
     "data": {
      "text/html": [],
      "text/plain": [
       "<IPython.core.display.HTML object>"
      ]
     },
     "metadata": {},
     "output_type": "display_data"
    },
    {
     "name": "stdout",
     "output_type": "stream",
     "text": [
      "Evaluation loss for learning rate 5e-05: 0.13186660408973694\n",
      "[[1045   17]\n",
      " [  32   40]]\n",
      "Accuracy: 0.9567901234567902\n",
      "Precision: 0.7017543859649122\n",
      "Recall: 0.5555555555555556\n",
      "F1 Score: 0.6201550387596899\n"
     ]
    },
    {
     "name": "stderr",
     "output_type": "stream",
     "text": [
      "Some weights of BertForSequenceClassification were not initialized from the model checkpoint at bert-base-german-cased and are newly initialized: ['classifier.bias', 'classifier.weight']\n",
      "You should probably TRAIN this model on a down-stream task to be able to use it for predictions and inference.\n"
     ]
    },
    {
     "name": "stdout",
     "output_type": "stream",
     "text": [
      "Training with learning rate: 0.0001\n"
     ]
    },
    {
     "data": {
      "text/html": [
       "\n",
       "    <div>\n",
       "      \n",
       "      <progress value='1701' max='1701' style='width:300px; height:20px; vertical-align: middle;'></progress>\n",
       "      [1701/1701 03:14, Epoch 3/3]\n",
       "    </div>\n",
       "    <table border=\"1\" class=\"dataframe\">\n",
       "  <thead>\n",
       " <tr style=\"text-align: left;\">\n",
       "      <th>Step</th>\n",
       "      <th>Training Loss</th>\n",
       "      <th>Validation Loss</th>\n",
       "    </tr>\n",
       "  </thead>\n",
       "  <tbody>\n",
       "  </tbody>\n",
       "</table><p>"
      ],
      "text/plain": [
       "<IPython.core.display.HTML object>"
      ]
     },
     "metadata": {},
     "output_type": "display_data"
    },
    {
     "data": {
      "text/html": [],
      "text/plain": [
       "<IPython.core.display.HTML object>"
      ]
     },
     "metadata": {},
     "output_type": "display_data"
    },
    {
     "name": "stdout",
     "output_type": "stream",
     "text": [
      "Evaluation loss for learning rate 0.0001: 0.13086770474910736\n",
      "[[1043   19]\n",
      " [  29   43]]\n",
      "Accuracy: 0.9576719576719577\n",
      "Precision: 0.6935483870967742\n",
      "Recall: 0.5972222222222222\n",
      "F1 Score: 0.6417910447761195\n"
     ]
    },
    {
     "name": "stderr",
     "output_type": "stream",
     "text": [
      "Some weights of BertForSequenceClassification were not initialized from the model checkpoint at bert-base-german-cased and are newly initialized: ['classifier.bias', 'classifier.weight']\n",
      "You should probably TRAIN this model on a down-stream task to be able to use it for predictions and inference.\n"
     ]
    },
    {
     "name": "stdout",
     "output_type": "stream",
     "text": [
      "Training with learning rate: 0.0002\n"
     ]
    },
    {
     "data": {
      "text/html": [
       "\n",
       "    <div>\n",
       "      \n",
       "      <progress value='1701' max='1701' style='width:300px; height:20px; vertical-align: middle;'></progress>\n",
       "      [1701/1701 03:02, Epoch 3/3]\n",
       "    </div>\n",
       "    <table border=\"1\" class=\"dataframe\">\n",
       "  <thead>\n",
       " <tr style=\"text-align: left;\">\n",
       "      <th>Step</th>\n",
       "      <th>Training Loss</th>\n",
       "      <th>Validation Loss</th>\n",
       "    </tr>\n",
       "  </thead>\n",
       "  <tbody>\n",
       "  </tbody>\n",
       "</table><p>"
      ],
      "text/plain": [
       "<IPython.core.display.HTML object>"
      ]
     },
     "metadata": {},
     "output_type": "display_data"
    },
    {
     "data": {
      "text/html": [],
      "text/plain": [
       "<IPython.core.display.HTML object>"
      ]
     },
     "metadata": {},
     "output_type": "display_data"
    },
    {
     "name": "stdout",
     "output_type": "stream",
     "text": [
      "Evaluation loss for learning rate 0.0002: 0.12353627383708954\n",
      "[[1048   14]\n",
      " [  32   40]]\n",
      "Accuracy: 0.9594356261022927\n",
      "Precision: 0.7407407407407407\n",
      "Recall: 0.5555555555555556\n",
      "F1 Score: 0.634920634920635\n"
     ]
    },
    {
     "name": "stderr",
     "output_type": "stream",
     "text": [
      "Some weights of BertForSequenceClassification were not initialized from the model checkpoint at bert-base-german-cased and are newly initialized: ['classifier.bias', 'classifier.weight']\n",
      "You should probably TRAIN this model on a down-stream task to be able to use it for predictions and inference.\n"
     ]
    },
    {
     "name": "stdout",
     "output_type": "stream",
     "text": [
      "Training with learning rate: 0.0003\n"
     ]
    },
    {
     "data": {
      "text/html": [
       "\n",
       "    <div>\n",
       "      \n",
       "      <progress value='1701' max='1701' style='width:300px; height:20px; vertical-align: middle;'></progress>\n",
       "      [1701/1701 03:03, Epoch 3/3]\n",
       "    </div>\n",
       "    <table border=\"1\" class=\"dataframe\">\n",
       "  <thead>\n",
       " <tr style=\"text-align: left;\">\n",
       "      <th>Step</th>\n",
       "      <th>Training Loss</th>\n",
       "      <th>Validation Loss</th>\n",
       "    </tr>\n",
       "  </thead>\n",
       "  <tbody>\n",
       "  </tbody>\n",
       "</table><p>"
      ],
      "text/plain": [
       "<IPython.core.display.HTML object>"
      ]
     },
     "metadata": {},
     "output_type": "display_data"
    },
    {
     "data": {
      "text/html": [],
      "text/plain": [
       "<IPython.core.display.HTML object>"
      ]
     },
     "metadata": {},
     "output_type": "display_data"
    },
    {
     "name": "stdout",
     "output_type": "stream",
     "text": [
      "Evaluation loss for learning rate 0.0003: 0.13139434158802032\n",
      "[[1051   11]\n",
      " [  36   36]]\n",
      "Accuracy: 0.9585537918871252\n",
      "Precision: 0.7659574468085106\n",
      "Recall: 0.5\n",
      "F1 Score: 0.6050420168067226\n",
      "Best Learning Rate: 0.0002 with loss: 0.12353627383708954\n",
      "Best f1 Learning Rat: 0.0001 with highest f1: 0.6417910447761195\n"
     ]
    }
   ],
   "source": [
    "\n",
    "best_lr = None\n",
    "lowest_eval_loss = float('inf')\n",
    "\n",
    "best_f1_lr = None\n",
    "highest_f1 = 0\n",
    "\n",
    "\n",
    "\n",
    "for lr in learning_rates:\n",
    "    \n",
    "#--------------------------------------------------------------------------------    \n",
    "    tokenizer = AutoTokenizer.from_pretrained(\"bert-base-german-cased\")\n",
    "    model = BertForSequenceClassification.from_pretrained(\"bert-base-german-cased\")\n",
    "\n",
    "\n",
    "\n",
    "    # Freeze all parameters\n",
    "    for param in model.parameters():\n",
    "        param.requires_grad = False\n",
    "\n",
    "    # Unfreeze the last two layers of the BERT model\n",
    "    # BERT uses an encoder structure, so you will need to access its layers accordingly\n",
    "    for module in [ model.bert.encoder.layer[-2], model.bert.encoder.layer[-1]]:\n",
    "        for param in module.parameters():\n",
    "            param.requires_grad = True\n",
    "            \n",
    "#-----------------------------------------------------------------------------------           \n",
    "\n",
    "    X_train = list(df['Segment Text'].loc[(df['policy_type'] == 'TRAIN')])\n",
    "    y_train = list(df[target_column].loc[(df['policy_type'] == 'TRAIN')])\n",
    "\n",
    "\n",
    "    # Split the data into training and validation sets\n",
    "    X_train, X_val, y_train, y_val = train_test_split(X_train, y_train, test_size=0.20, random_state=0)\n",
    "\n",
    "\n",
    "    # mapping labels\n",
    "\n",
    "    label_mapping = {0: 0, 1: 1}\n",
    "    y_train_integers = [label_mapping[label] for label in y_train]\n",
    "    y_val_integers = [label_mapping[label] for label in y_val]\n",
    "\n",
    "    train_encodings = tokenizer(X_train, max_length=512, truncation=True, padding='max_length')\n",
    "    val_encodings = tokenizer(X_val, max_length=512, truncation=True, padding='max_length')\n",
    "\n",
    "    #\n",
    "    class TextDataset(torch.utils.data.Dataset):\n",
    "        def __init__(self, encodings, labels):\n",
    "            self.encodings = encodings\n",
    "            self.labels = labels\n",
    "\n",
    "        def __getitem__(self, idx):\n",
    "            item = {key: torch.tensor(val[idx]) for key, val in self.encodings.items()}\n",
    "            item['labels'] = self.labels[idx]  # Removed torch.tensor here\n",
    "            return item\n",
    "\n",
    "        def __len__(self):\n",
    "            return len(self.labels)\n",
    "\n",
    "\n",
    "    train_dataset = TextDataset(train_encodings, y_train_integers)\n",
    "    val_dataset = TextDataset(val_encodings, y_val_integers)\n",
    "    \n",
    "#---------------------------------------------------------------------------  \n",
    "    \n",
    "    # Set up training arguments with the current learning rate\n",
    "    training_args = TrainingArguments(\n",
    "        output_dir='./results',\n",
    "        learning_rate=lr,  # Set learning rate here\n",
    "        num_train_epochs=epochs ,\n",
    "        per_device_train_batch_size=batch_size,\n",
    "        per_device_eval_batch_size=8,\n",
    "        warmup_steps=500,\n",
    "        weight_decay=0.01,\n",
    "        logging_dir='./logs',\n",
    "        logging_steps=100,\n",
    "        evaluation_strategy=\"steps\",\n",
    "        eval_steps=3000\n",
    "    )\n",
    "\n",
    "    # Set up the Trainer\n",
    "    trainer = Trainer(\n",
    "        model=model,\n",
    "        args=training_args,\n",
    "        train_dataset=train_dataset,\n",
    "        eval_dataset=val_dataset\n",
    "    )\n",
    "\n",
    "\n",
    "    # Train the model with the current learning rate\n",
    "    print(f\"Training with learning rate: {lr}\")\n",
    "    trainer.train()\n",
    "    \n",
    " # Evaluate the model\n",
    "    eval_result = trainer.evaluate()\n",
    "    print(f\"Evaluation loss for learning rate {lr}: {eval_result['eval_loss']}\")\n",
    "    \n",
    "    \n",
    "    predictions = trainer.predict(val_dataset).predictions\n",
    "    predictions_label = np.argmax(predictions, axis=1)\n",
    "\n",
    "    cm=confusion_matrix( y_val_integers, predictions_label)\n",
    "    print(cm)\n",
    "\n",
    "    accuracy = accuracy_score( y_val_integers, predictions_label)\n",
    "    precision, recall, f1, _ = precision_recall_fscore_support(y_val_integers, predictions_label, average='binary')\n",
    "    print(f\"Accuracy: {accuracy}\")\n",
    "    print(f\"Precision: {precision}\")\n",
    "    print(f\"Recall: {recall}\")\n",
    "    print(f\"F1 Score: {f1}\")\n",
    "\n",
    "    if eval_result['eval_loss'] < lowest_eval_loss:\n",
    "        best_lr = lr\n",
    "        lowest_eval_loss = eval_result['eval_loss']\n",
    "        \n",
    "    if f1 > highest_f1:\n",
    "        best_f1_lr = lr\n",
    "        highest_f1 = f1\n",
    "        \n",
    "print(f\"Best Learning Rate: {best_lr} with loss: {lowest_eval_loss}\")\n",
    "print(f\"Best f1 Learning Rat: {best_f1_lr} with highest f1: { highest_f1}\")"
   ]
  },
  {
   "cell_type": "markdown",
   "id": "20a9979b-c0cb-4940-869b-18b799bb29fc",
   "metadata": {},
   "source": [
    "### Retrain the model with certain learning rate"
   ]
  },
  {
   "cell_type": "code",
   "execution_count": 9,
   "id": "189c2855-07e8-4417-81a0-9576982dff6b",
   "metadata": {
    "tags": []
   },
   "outputs": [
    {
     "name": "stderr",
     "output_type": "stream",
     "text": [
      "Some weights of BertForSequenceClassification were not initialized from the model checkpoint at bert-base-german-cased and are newly initialized: ['classifier.bias', 'classifier.weight']\n",
      "You should probably TRAIN this model on a down-stream task to be able to use it for predictions and inference.\n"
     ]
    },
    {
     "data": {
      "text/html": [
       "\n",
       "    <div>\n",
       "      \n",
       "      <progress value='2127' max='2127' style='width:300px; height:20px; vertical-align: middle;'></progress>\n",
       "      [2127/2127 03:47, Epoch 3/3]\n",
       "    </div>\n",
       "    <table border=\"1\" class=\"dataframe\">\n",
       "  <thead>\n",
       " <tr style=\"text-align: left;\">\n",
       "      <th>Step</th>\n",
       "      <th>Training Loss</th>\n",
       "      <th>Validation Loss</th>\n",
       "    </tr>\n",
       "  </thead>\n",
       "  <tbody>\n",
       "  </tbody>\n",
       "</table><p>"
      ],
      "text/plain": [
       "<IPython.core.display.HTML object>"
      ]
     },
     "metadata": {},
     "output_type": "display_data"
    },
    {
     "data": {
      "text/html": [],
      "text/plain": [
       "<IPython.core.display.HTML object>"
      ]
     },
     "metadata": {},
     "output_type": "display_data"
    },
    {
     "name": "stdout",
     "output_type": "stream",
     "text": [
      "[[1120   33]\n",
      " [  17   33]]\n",
      "Accuracy: 0.9584372402327515\n",
      "Precision: 0.5\n",
      "Recall: 0.66\n",
      "F1 Score: 0.5689655172413792\n",
      "Best f1 Learning Rat: 0.0001 \n"
     ]
    }
   ],
   "source": [
    "tokenizer = AutoTokenizer.from_pretrained(\"bert-base-german-cased\")\n",
    "model = BertForSequenceClassification.from_pretrained(\"bert-base-german-cased\")\n",
    "\n",
    "\n",
    "\n",
    "# Freeze all parameters\n",
    "for param in model.parameters():\n",
    "    param.requires_grad = False\n",
    "\n",
    "# Unfreeze the last two layers of the BERT model\n",
    "# BERT uses an encoder structure, so you will need to access its layers accordingly\n",
    "for module in [ model.bert.encoder.layer[-2], model.bert.encoder.layer[-1]]:\n",
    "    for param in module.parameters():\n",
    "        param.requires_grad = True\n",
    "#-----------------------------------------------------------------------------------     \n",
    "\n",
    "X_train=list(df['Segment Text'].loc[(df['policy_type'] == 'TRAIN')])\n",
    "X_test=list(df['Segment Text'].loc[(df['policy_type'] == 'TEST')])\n",
    "\n",
    "y_train=list(df[target_column].loc[(df['policy_type'] == 'TRAIN')])\n",
    "y_test=list(df[target_column].loc[(df['policy_type'] == 'TEST')])\n",
    "\n",
    "\n",
    "train_encodings = tokenizer(X_train, max_length=512, truncation=True, padding='max_length')\n",
    "test_encodings = tokenizer(X_test, max_length=512, truncation=True, padding='max_length')\n",
    "\n",
    "#-----------\n",
    "\n",
    "label_mapping = {0: 0, 1: 1}\n",
    "y_train_integers = [label_mapping[label] for label in y_train]\n",
    "y_test_integers = [label_mapping[label] for label in y_test]\n",
    "\n",
    "\n",
    "class TextDataset(torch.utils.data.Dataset):\n",
    "    def __init__(self, encodings, labels):\n",
    "        self.encodings = encodings\n",
    "        self.labels = labels\n",
    "\n",
    "    def __getitem__(self, idx):\n",
    "        item = {key: torch.tensor(val[idx]) for key, val in self.encodings.items()}\n",
    "        item['labels'] = self.labels[idx]  # Removed torch.tensor here\n",
    "        return item\n",
    "\n",
    "    def __len__(self):\n",
    "        return len(self.labels)\n",
    "\n",
    "train_dataset = TextDataset(train_encodings, y_train_integers)\n",
    "test_dataset = TextDataset(test_encodings, y_test_integers)\n",
    "\n",
    "#--------------------------\n",
    "\n",
    "training_args = TrainingArguments(\n",
    "    output_dir='./results',\n",
    "    learning_rate= best_f1_lr , # Set learning rate here\n",
    "    num_train_epochs=epochs ,\n",
    "    per_device_train_batch_size=batch_size,\n",
    "    per_device_eval_batch_size=8,\n",
    "    warmup_steps=500,\n",
    "    weight_decay=0.01,\n",
    "    logging_dir='./logs',\n",
    "    logging_steps=100,\n",
    "    evaluation_strategy=\"steps\",\n",
    "    eval_steps=3000\n",
    "\n",
    ")\n",
    "\n",
    "trainer = Trainer(\n",
    "    model=model,\n",
    "    args=training_args,\n",
    "    train_dataset=train_dataset,\n",
    "    eval_dataset=test_dataset\n",
    ")\n",
    "\n",
    "trainer.train()\n",
    "\n",
    "predictions = trainer.predict(test_dataset).predictions\n",
    "predictions_label = np.argmax(predictions, axis=1)\n",
    "\n",
    "cm=confusion_matrix(y_test_integers, predictions_label)\n",
    "print(cm)\n",
    "\n",
    "accuracy = accuracy_score(y_test_integers, predictions_label)\n",
    "precision, recall, f1, _ = precision_recall_fscore_support(y_test_integers, predictions_label, average='binary')\n",
    "print(f\"Accuracy: {accuracy}\")\n",
    "print(f\"Precision: {precision}\")\n",
    "print(f\"Recall: {recall}\")\n",
    "print(f\"F1 Score: {f1}\")\n",
    "\n",
    "print(f\"Best f1 Learning Rat: {best_f1_lr} \")"
   ]
  },
  {
   "cell_type": "code",
   "execution_count": null,
   "id": "3370f43d-3509-41a0-9af9-5dc35f443bab",
   "metadata": {},
   "outputs": [],
   "source": []
  },
  {
   "cell_type": "markdown",
   "id": "e01a27b1-1ed6-424f-a88b-3283e2359d28",
   "metadata": {
    "tags": []
   },
   "source": [
    "# Imbalance / PEFT /Cost sensitve learning"
   ]
  },
  {
   "cell_type": "code",
   "execution_count": 8,
   "id": "121e67b2-b716-40ef-8b1f-d21a20929d7d",
   "metadata": {},
   "outputs": [
    {
     "name": "stderr",
     "output_type": "stream",
     "text": [
      "Some weights of BertForSequenceClassification were not initialized from the model checkpoint at bert-base-german-cased and are newly initialized: ['classifier.weight', 'classifier.bias']\n",
      "You should probably TRAIN this model on a down-stream task to be able to use it for predictions and inference.\n"
     ]
    },
    {
     "name": "stdout",
     "output_type": "stream",
     "text": [
      "Counter({0: 4304, 1: 230})\n",
      "Counter({0: 1066, 1: 68})\n",
      "1.053438661710037\n",
      "19.713043478260868\n",
      "Training with learning rate: 1e-05\n"
     ]
    },
    {
     "data": {
      "text/html": [
       "\n",
       "    <div>\n",
       "      \n",
       "      <progress value='1701' max='1701' style='width:300px; height:20px; vertical-align: middle;'></progress>\n",
       "      [1701/1701 05:01, Epoch 3/3]\n",
       "    </div>\n",
       "    <table border=\"1\" class=\"dataframe\">\n",
       "  <thead>\n",
       " <tr style=\"text-align: left;\">\n",
       "      <th>Step</th>\n",
       "      <th>Training Loss</th>\n",
       "      <th>Validation Loss</th>\n",
       "    </tr>\n",
       "  </thead>\n",
       "  <tbody>\n",
       "  </tbody>\n",
       "</table><p>"
      ],
      "text/plain": [
       "<IPython.core.display.HTML object>"
      ]
     },
     "metadata": {},
     "output_type": "display_data"
    },
    {
     "data": {
      "text/html": [],
      "text/plain": [
       "<IPython.core.display.HTML object>"
      ]
     },
     "metadata": {},
     "output_type": "display_data"
    },
    {
     "name": "stdout",
     "output_type": "stream",
     "text": [
      "Evaluation loss for learning rate 1e-05: 0.1683615744113922\n",
      "[[1063    3]\n",
      " [  55   13]]\n",
      "Accuracy: 0.9488536155202821\n",
      "Precision: 0.8125\n",
      "Recall: 0.19117647058823528\n",
      "F1 Score: 0.30952380952380953\n"
     ]
    },
    {
     "name": "stderr",
     "output_type": "stream",
     "text": [
      "Some weights of BertForSequenceClassification were not initialized from the model checkpoint at bert-base-german-cased and are newly initialized: ['classifier.weight', 'classifier.bias']\n",
      "You should probably TRAIN this model on a down-stream task to be able to use it for predictions and inference.\n"
     ]
    },
    {
     "name": "stdout",
     "output_type": "stream",
     "text": [
      "Counter({0: 4304, 1: 230})\n",
      "Counter({0: 1066, 1: 68})\n",
      "1.053438661710037\n",
      "19.713043478260868\n",
      "Training with learning rate: 2e-05\n"
     ]
    },
    {
     "data": {
      "text/html": [
       "\n",
       "    <div>\n",
       "      \n",
       "      <progress value='1701' max='1701' style='width:300px; height:20px; vertical-align: middle;'></progress>\n",
       "      [1701/1701 03:16, Epoch 3/3]\n",
       "    </div>\n",
       "    <table border=\"1\" class=\"dataframe\">\n",
       "  <thead>\n",
       " <tr style=\"text-align: left;\">\n",
       "      <th>Step</th>\n",
       "      <th>Training Loss</th>\n",
       "      <th>Validation Loss</th>\n",
       "    </tr>\n",
       "  </thead>\n",
       "  <tbody>\n",
       "  </tbody>\n",
       "</table><p>"
      ],
      "text/plain": [
       "<IPython.core.display.HTML object>"
      ]
     },
     "metadata": {},
     "output_type": "display_data"
    },
    {
     "data": {
      "text/html": [],
      "text/plain": [
       "<IPython.core.display.HTML object>"
      ]
     },
     "metadata": {},
     "output_type": "display_data"
    },
    {
     "name": "stdout",
     "output_type": "stream",
     "text": [
      "Evaluation loss for learning rate 2e-05: 0.15171542763710022\n",
      "[[1055   11]\n",
      " [  41   27]]\n",
      "Accuracy: 0.9541446208112875\n",
      "Precision: 0.7105263157894737\n",
      "Recall: 0.39705882352941174\n",
      "F1 Score: 0.5094339622641509\n"
     ]
    },
    {
     "name": "stderr",
     "output_type": "stream",
     "text": [
      "Some weights of BertForSequenceClassification were not initialized from the model checkpoint at bert-base-german-cased and are newly initialized: ['classifier.weight', 'classifier.bias']\n",
      "You should probably TRAIN this model on a down-stream task to be able to use it for predictions and inference.\n"
     ]
    },
    {
     "name": "stdout",
     "output_type": "stream",
     "text": [
      "Counter({0: 4304, 1: 230})\n",
      "Counter({0: 1066, 1: 68})\n",
      "1.053438661710037\n",
      "19.713043478260868\n",
      "Training with learning rate: 3e-05\n"
     ]
    },
    {
     "data": {
      "text/html": [
       "\n",
       "    <div>\n",
       "      \n",
       "      <progress value='1701' max='1701' style='width:300px; height:20px; vertical-align: middle;'></progress>\n",
       "      [1701/1701 03:13, Epoch 3/3]\n",
       "    </div>\n",
       "    <table border=\"1\" class=\"dataframe\">\n",
       "  <thead>\n",
       " <tr style=\"text-align: left;\">\n",
       "      <th>Step</th>\n",
       "      <th>Training Loss</th>\n",
       "      <th>Validation Loss</th>\n",
       "    </tr>\n",
       "  </thead>\n",
       "  <tbody>\n",
       "  </tbody>\n",
       "</table><p>"
      ],
      "text/plain": [
       "<IPython.core.display.HTML object>"
      ]
     },
     "metadata": {},
     "output_type": "display_data"
    },
    {
     "data": {
      "text/html": [],
      "text/plain": [
       "<IPython.core.display.HTML object>"
      ]
     },
     "metadata": {},
     "output_type": "display_data"
    },
    {
     "name": "stdout",
     "output_type": "stream",
     "text": [
      "Evaluation loss for learning rate 3e-05: 0.14689600467681885\n",
      "[[1056   10]\n",
      " [  39   29]]\n",
      "Accuracy: 0.9567901234567902\n",
      "Precision: 0.7435897435897436\n",
      "Recall: 0.4264705882352941\n",
      "F1 Score: 0.5420560747663551\n"
     ]
    },
    {
     "name": "stderr",
     "output_type": "stream",
     "text": [
      "Some weights of BertForSequenceClassification were not initialized from the model checkpoint at bert-base-german-cased and are newly initialized: ['classifier.weight', 'classifier.bias']\n",
      "You should probably TRAIN this model on a down-stream task to be able to use it for predictions and inference.\n"
     ]
    },
    {
     "name": "stdout",
     "output_type": "stream",
     "text": [
      "Counter({0: 4304, 1: 230})\n",
      "Counter({0: 1066, 1: 68})\n",
      "1.053438661710037\n",
      "19.713043478260868\n",
      "Training with learning rate: 5e-05\n"
     ]
    },
    {
     "data": {
      "text/html": [
       "\n",
       "    <div>\n",
       "      \n",
       "      <progress value='1701' max='1701' style='width:300px; height:20px; vertical-align: middle;'></progress>\n",
       "      [1701/1701 03:13, Epoch 3/3]\n",
       "    </div>\n",
       "    <table border=\"1\" class=\"dataframe\">\n",
       "  <thead>\n",
       " <tr style=\"text-align: left;\">\n",
       "      <th>Step</th>\n",
       "      <th>Training Loss</th>\n",
       "      <th>Validation Loss</th>\n",
       "    </tr>\n",
       "  </thead>\n",
       "  <tbody>\n",
       "  </tbody>\n",
       "</table><p>"
      ],
      "text/plain": [
       "<IPython.core.display.HTML object>"
      ]
     },
     "metadata": {},
     "output_type": "display_data"
    },
    {
     "data": {
      "text/html": [],
      "text/plain": [
       "<IPython.core.display.HTML object>"
      ]
     },
     "metadata": {},
     "output_type": "display_data"
    },
    {
     "name": "stdout",
     "output_type": "stream",
     "text": [
      "Evaluation loss for learning rate 5e-05: 0.13738825917243958\n",
      "[[1055   11]\n",
      " [  37   31]]\n",
      "Accuracy: 0.9576719576719577\n",
      "Precision: 0.7380952380952381\n",
      "Recall: 0.45588235294117646\n",
      "F1 Score: 0.5636363636363637\n"
     ]
    },
    {
     "name": "stderr",
     "output_type": "stream",
     "text": [
      "Some weights of BertForSequenceClassification were not initialized from the model checkpoint at bert-base-german-cased and are newly initialized: ['classifier.weight', 'classifier.bias']\n",
      "You should probably TRAIN this model on a down-stream task to be able to use it for predictions and inference.\n"
     ]
    },
    {
     "name": "stdout",
     "output_type": "stream",
     "text": [
      "Counter({0: 4304, 1: 230})\n",
      "Counter({0: 1066, 1: 68})\n",
      "1.053438661710037\n",
      "19.713043478260868\n",
      "Training with learning rate: 0.0001\n"
     ]
    },
    {
     "data": {
      "text/html": [
       "\n",
       "    <div>\n",
       "      \n",
       "      <progress value='1701' max='1701' style='width:300px; height:20px; vertical-align: middle;'></progress>\n",
       "      [1701/1701 03:13, Epoch 3/3]\n",
       "    </div>\n",
       "    <table border=\"1\" class=\"dataframe\">\n",
       "  <thead>\n",
       " <tr style=\"text-align: left;\">\n",
       "      <th>Step</th>\n",
       "      <th>Training Loss</th>\n",
       "      <th>Validation Loss</th>\n",
       "    </tr>\n",
       "  </thead>\n",
       "  <tbody>\n",
       "  </tbody>\n",
       "</table><p>"
      ],
      "text/plain": [
       "<IPython.core.display.HTML object>"
      ]
     },
     "metadata": {},
     "output_type": "display_data"
    },
    {
     "data": {
      "text/html": [],
      "text/plain": [
       "<IPython.core.display.HTML object>"
      ]
     },
     "metadata": {},
     "output_type": "display_data"
    },
    {
     "name": "stdout",
     "output_type": "stream",
     "text": [
      "Evaluation loss for learning rate 0.0001: 0.14424413442611694\n",
      "[[1057    9]\n",
      " [  40   28]]\n",
      "Accuracy: 0.9567901234567902\n",
      "Precision: 0.7567567567567568\n",
      "Recall: 0.4117647058823529\n",
      "F1 Score: 0.5333333333333332\n"
     ]
    },
    {
     "name": "stderr",
     "output_type": "stream",
     "text": [
      "Some weights of BertForSequenceClassification were not initialized from the model checkpoint at bert-base-german-cased and are newly initialized: ['classifier.weight', 'classifier.bias']\n",
      "You should probably TRAIN this model on a down-stream task to be able to use it for predictions and inference.\n"
     ]
    },
    {
     "name": "stdout",
     "output_type": "stream",
     "text": [
      "Counter({0: 4304, 1: 230})\n",
      "Counter({0: 1066, 1: 68})\n",
      "1.053438661710037\n",
      "19.713043478260868\n",
      "Training with learning rate: 0.0002\n"
     ]
    },
    {
     "data": {
      "text/html": [
       "\n",
       "    <div>\n",
       "      \n",
       "      <progress value='1701' max='1701' style='width:300px; height:20px; vertical-align: middle;'></progress>\n",
       "      [1701/1701 03:14, Epoch 3/3]\n",
       "    </div>\n",
       "    <table border=\"1\" class=\"dataframe\">\n",
       "  <thead>\n",
       " <tr style=\"text-align: left;\">\n",
       "      <th>Step</th>\n",
       "      <th>Training Loss</th>\n",
       "      <th>Validation Loss</th>\n",
       "    </tr>\n",
       "  </thead>\n",
       "  <tbody>\n",
       "  </tbody>\n",
       "</table><p>"
      ],
      "text/plain": [
       "<IPython.core.display.HTML object>"
      ]
     },
     "metadata": {},
     "output_type": "display_data"
    },
    {
     "data": {
      "text/html": [],
      "text/plain": [
       "<IPython.core.display.HTML object>"
      ]
     },
     "metadata": {},
     "output_type": "display_data"
    },
    {
     "name": "stdout",
     "output_type": "stream",
     "text": [
      "Evaluation loss for learning rate 0.0002: 0.17267821729183197\n",
      "[[1053   13]\n",
      " [  40   28]]\n",
      "Accuracy: 0.95326278659612\n",
      "Precision: 0.6829268292682927\n",
      "Recall: 0.4117647058823529\n",
      "F1 Score: 0.5137614678899082\n"
     ]
    },
    {
     "name": "stderr",
     "output_type": "stream",
     "text": [
      "Some weights of BertForSequenceClassification were not initialized from the model checkpoint at bert-base-german-cased and are newly initialized: ['classifier.weight', 'classifier.bias']\n",
      "You should probably TRAIN this model on a down-stream task to be able to use it for predictions and inference.\n"
     ]
    },
    {
     "name": "stdout",
     "output_type": "stream",
     "text": [
      "Counter({0: 4304, 1: 230})\n",
      "Counter({0: 1066, 1: 68})\n",
      "1.053438661710037\n",
      "19.713043478260868\n",
      "Training with learning rate: 0.0003\n"
     ]
    },
    {
     "data": {
      "text/html": [
       "\n",
       "    <div>\n",
       "      \n",
       "      <progress value='1701' max='1701' style='width:300px; height:20px; vertical-align: middle;'></progress>\n",
       "      [1701/1701 03:13, Epoch 3/3]\n",
       "    </div>\n",
       "    <table border=\"1\" class=\"dataframe\">\n",
       "  <thead>\n",
       " <tr style=\"text-align: left;\">\n",
       "      <th>Step</th>\n",
       "      <th>Training Loss</th>\n",
       "      <th>Validation Loss</th>\n",
       "    </tr>\n",
       "  </thead>\n",
       "  <tbody>\n",
       "  </tbody>\n",
       "</table><p>"
      ],
      "text/plain": [
       "<IPython.core.display.HTML object>"
      ]
     },
     "metadata": {},
     "output_type": "display_data"
    },
    {
     "data": {
      "text/html": [],
      "text/plain": [
       "<IPython.core.display.HTML object>"
      ]
     },
     "metadata": {},
     "output_type": "display_data"
    },
    {
     "name": "stdout",
     "output_type": "stream",
     "text": [
      "Evaluation loss for learning rate 0.0003: 0.15542080998420715\n",
      "[[1049   17]\n",
      " [  36   32]]\n",
      "Accuracy: 0.95326278659612\n",
      "Precision: 0.6530612244897959\n",
      "Recall: 0.47058823529411764\n",
      "F1 Score: 0.547008547008547\n",
      "Best Learning Rate: 5e-05 with loss: 0.13738825917243958\n",
      "Best f1 Learning Rat: 5e-05 with highest f1: 0.5636363636363637\n"
     ]
    }
   ],
   "source": [
    "best_lr = None\n",
    "lowest_eval_loss = float('inf')\n",
    "\n",
    "\n",
    "best_f1_lr = None\n",
    "highest_f1 = 0\n",
    "\n",
    "\n",
    "\n",
    "\n",
    "for lr in learning_rates:\n",
    "    \n",
    "#--------------------------------------------------------------------------------    \n",
    "    tokenizer = AutoTokenizer.from_pretrained(\"bert-base-german-cased\")\n",
    "    model = BertForSequenceClassification.from_pretrained(\"bert-base-german-cased\")\n",
    "\n",
    "\n",
    "\n",
    "    # Freeze all parameters\n",
    "    for param in model.parameters():\n",
    "        param.requires_grad = False\n",
    "\n",
    "    # Unfreeze the last two layers of the BERT model\n",
    "    # BERT uses an encoder structure, so you will need to access its layers accordingly\n",
    "    for module in [ model.bert.encoder.layer[-2], model.bert.encoder.layer[-1]]:\n",
    "        for param in module.parameters():\n",
    "            param.requires_grad = True\n",
    "#-----------------------------------------------------------------------------------           \n",
    "\n",
    "    X_train = list(df['Segment Text'].loc[(df['policy_type'] == 'TRAIN')])\n",
    "    y_train = list(df[target_column].loc[(df['policy_type'] == 'TRAIN')])\n",
    "\n",
    "\n",
    "    # Split the data into training and validation sets\n",
    "    X_train, X_val, y_train, y_val = train_test_split(X_train, y_train, test_size=0.20, random_state=0)\n",
    "\n",
    "\n",
    "    # mapping labels\n",
    "\n",
    "    label_mapping = {0: 0, 1: 1}\n",
    "    y_train_integers = [label_mapping[label] for label in y_train]\n",
    "    y_val_integers = [label_mapping[label] for label in y_val]\n",
    "\n",
    "    train_encodings = tokenizer(X_train, max_length=512, truncation=True, padding='max_length')\n",
    "    val_encodings = tokenizer(X_val, max_length=512, truncation=True, padding='max_length')\n",
    "\n",
    "    #\n",
    "    class TextDataset(torch.utils.data.Dataset):\n",
    "        def __init__(self, encodings, labels):\n",
    "            self.encodings = encodings\n",
    "            self.labels = labels\n",
    "\n",
    "        def __getitem__(self, idx):\n",
    "            item = {key: torch.tensor(val[idx]) for key, val in self.encodings.items()}\n",
    "            item['labels'] = self.labels[idx]  # Removed torch.tensor here\n",
    "            return item\n",
    "\n",
    "        def __len__(self):\n",
    "            return len(self.labels)\n",
    "\n",
    "\n",
    "    train_dataset = TextDataset(train_encodings, y_train_integers)\n",
    "    val_dataset = TextDataset(val_encodings, y_val_integers)\n",
    "    \n",
    "#---------------------------------------------------------------------------  \n",
    "\n",
    "\n",
    "    from collections import Counter\n",
    "    print(Counter(y_train))\n",
    "    print(Counter(y_val))\n",
    "    \n",
    "        # Calculate class weights (example calculation, adjust as needed)\n",
    "\n",
    "    total_samples = Counter(y_train)[0] + Counter(y_train)[1]\n",
    "    class_weights = torch.tensor([total_samples /Counter(y_train)[0], total_samples / Counter(y_train)[1]], dtype=torch.float)\n",
    "\n",
    "    print(total_samples /Counter(y_train)[0])\n",
    "    print(total_samples / Counter(y_train)[1])\n",
    "\n",
    "    # Ensure the model is on the correct device (e.g., GPU or CPU)\n",
    "    device = torch.device(\"cuda\" if torch.cuda.is_available() else \"cpu\")\n",
    "    model.to(device)  # Ensure model is on the correct device\n",
    "\n",
    "    # Move class_weights to the same device as the model\n",
    "    class_weights = class_weights.to(device)\n",
    "\n",
    "\n",
    "\n",
    "    class CustomTrainer(Trainer):\n",
    "        def __init__(self, *args, **kwargs):\n",
    "            super().__init__(*args, **kwargs)\n",
    "            self.loss_fct = CrossEntropyLoss(weight=class_weights).to(device)\n",
    "\n",
    "        def compute_loss(self, model, inputs, return_outputs=False):\n",
    "            inputs = {k: v.to(device) for k, v in inputs.items()}\n",
    "            labels = inputs.get(\"labels\").to(device)\n",
    "\n",
    "            outputs = model(**inputs)\n",
    "            logits = outputs.logits\n",
    "\n",
    "            loss = self.loss_fct(logits, labels)\n",
    "            return (loss, outputs) if return_outputs else loss\n",
    "\n",
    "    #-------------------------------------------------\n",
    "    \n",
    "    \n",
    "    \n",
    "    \n",
    "    # Set up training arguments with the current learning rate\n",
    "    training_args = TrainingArguments(\n",
    "        output_dir='./results',\n",
    "        learning_rate=lr,  # Set learning rate here\n",
    "        num_train_epochs=epochs ,\n",
    "        per_device_train_batch_size=batch_size,\n",
    "        per_device_eval_batch_size=8,\n",
    "        warmup_steps=500,\n",
    "        weight_decay=0.01,\n",
    "        logging_dir='./logs',\n",
    "        logging_steps=100,\n",
    "        evaluation_strategy=\"steps\",\n",
    "        eval_steps=3000\n",
    "    )\n",
    "\n",
    "    # Set up the Trainer\n",
    "    trainer = Trainer(\n",
    "        model=model,\n",
    "        args=training_args,\n",
    "        train_dataset=train_dataset,\n",
    "        eval_dataset=val_dataset\n",
    "    )\n",
    "\n",
    "\n",
    "\n",
    "    # Train the model with the current learning rate\n",
    "    print(f\"Training with learning rate: {lr}\")\n",
    "    trainer.train()\n",
    "    \n",
    " # Evaluate the model\n",
    "    eval_result = trainer.evaluate()\n",
    "    print(f\"Evaluation loss for learning rate {lr}: {eval_result['eval_loss']}\")\n",
    "    \n",
    "    \n",
    "    predictions = trainer.predict(val_dataset).predictions\n",
    "    predictions_label = np.argmax(predictions, axis=1)\n",
    "\n",
    "    cm=confusion_matrix( y_val_integers, predictions_label)\n",
    "    print(cm)\n",
    "\n",
    "    accuracy = accuracy_score( y_val_integers, predictions_label)\n",
    "    precision, recall, f1, _ = precision_recall_fscore_support(y_val_integers, predictions_label, average='binary')\n",
    "    print(f\"Accuracy: {accuracy}\")\n",
    "    print(f\"Precision: {precision}\")\n",
    "    print(f\"Recall: {recall}\")\n",
    "    print(f\"F1 Score: {f1}\")\n",
    "\n",
    "    if eval_result['eval_loss'] < lowest_eval_loss:\n",
    "        best_lr = lr\n",
    "        lowest_eval_loss = eval_result['eval_loss']\n",
    "\n",
    "    if f1 > highest_f1:\n",
    "        best_f1_lr = lr\n",
    "        highest_f1 = f1\n",
    "        \n",
    "\n",
    "print(f\"Best Learning Rate: {best_lr} with loss: {lowest_eval_loss}\")\n",
    "print(f\"Best f1 Learning Rat: {best_f1_lr} with highest f1: { highest_f1}\")\n"
   ]
  },
  {
   "cell_type": "markdown",
   "id": "8833afef-e3e3-4c4b-9ca8-4c8b1555de83",
   "metadata": {},
   "source": [
    "### Retrain the model with certain learning rate"
   ]
  },
  {
   "cell_type": "code",
   "execution_count": 9,
   "id": "5e7f07f8-c834-4581-beb8-e114a67602b0",
   "metadata": {},
   "outputs": [
    {
     "name": "stderr",
     "output_type": "stream",
     "text": [
      "Some weights of BertForSequenceClassification were not initialized from the model checkpoint at bert-base-german-cased and are newly initialized: ['classifier.weight', 'classifier.bias']\n",
      "You should probably TRAIN this model on a down-stream task to be able to use it for predictions and inference.\n"
     ]
    },
    {
     "name": "stdout",
     "output_type": "stream",
     "text": [
      "Counter({0: 5370, 1: 298})\n",
      "Counter({0: 1113, 1: 90})\n",
      "1.0554934823091249\n",
      "19.02013422818792\n"
     ]
    },
    {
     "data": {
      "text/html": [
       "\n",
       "    <div>\n",
       "      \n",
       "      <progress value='2127' max='2127' style='width:300px; height:20px; vertical-align: middle;'></progress>\n",
       "      [2127/2127 04:05, Epoch 3/3]\n",
       "    </div>\n",
       "    <table border=\"1\" class=\"dataframe\">\n",
       "  <thead>\n",
       " <tr style=\"text-align: left;\">\n",
       "      <th>Step</th>\n",
       "      <th>Training Loss</th>\n",
       "      <th>Validation Loss</th>\n",
       "    </tr>\n",
       "  </thead>\n",
       "  <tbody>\n",
       "  </tbody>\n",
       "</table><p>"
      ],
      "text/plain": [
       "<IPython.core.display.HTML object>"
      ]
     },
     "metadata": {},
     "output_type": "display_data"
    },
    {
     "data": {
      "text/html": [],
      "text/plain": [
       "<IPython.core.display.HTML object>"
      ]
     },
     "metadata": {},
     "output_type": "display_data"
    },
    {
     "name": "stdout",
     "output_type": "stream",
     "text": [
      "[[1078   35]\n",
      " [  38   52]]\n",
      "Accuracy: 0.9393183707398172\n",
      "Precision: 0.5977011494252874\n",
      "Recall: 0.5777777777777777\n",
      "F1 Score: 0.5875706214689267\n",
      "Best f1 Learning Rat: 5e-05\n"
     ]
    }
   ],
   "source": [
    "tokenizer = AutoTokenizer.from_pretrained(\"bert-base-german-cased\")\n",
    "model = BertForSequenceClassification.from_pretrained(\"bert-base-german-cased\")\n",
    "\n",
    "\n",
    "\n",
    "# Freeze all parameters\n",
    "for param in model.parameters():\n",
    "    param.requires_grad = False\n",
    "\n",
    "# Unfreeze the last two layers of the BERT model\n",
    "# BERT uses an encoder structure, so you will need to access its layers accordingly\n",
    "for module in [ model.bert.encoder.layer[-2], model.bert.encoder.layer[-1]]:\n",
    "    for param in module.parameters():\n",
    "        param.requires_grad = True\n",
    "                       \n",
    "#-----------------------------------------------------------------------------------     \n",
    "\n",
    "X_train=list(df['Segment Text'].loc[(df['policy_type'] == 'TRAIN')])\n",
    "X_test=list(df['Segment Text'].loc[(df['policy_type'] == 'TEST')])\n",
    "\n",
    "y_train=list(df[target_column].loc[(df['policy_type'] == 'TRAIN')])\n",
    "y_test=list(df[target_column].loc[(df['policy_type'] == 'TEST')])\n",
    "\n",
    "\n",
    "train_encodings = tokenizer(X_train, max_length=512, truncation=True, padding='max_length')\n",
    "test_encodings = tokenizer(X_test, max_length=512, truncation=True, padding='max_length')\n",
    "\n",
    "#-----------\n",
    "\n",
    "label_mapping = {0: 0, 1: 1}\n",
    "y_train_integers = [label_mapping[label] for label in y_train]\n",
    "y_test_integers = [label_mapping[label] for label in y_test]\n",
    "\n",
    "\n",
    "class TextDataset(torch.utils.data.Dataset):\n",
    "    def __init__(self, encodings, labels):\n",
    "        self.encodings = encodings\n",
    "        self.labels = labels\n",
    "\n",
    "    def __getitem__(self, idx):\n",
    "        item = {key: torch.tensor(val[idx]) for key, val in self.encodings.items()}\n",
    "        item['labels'] = self.labels[idx]  # Removed torch.tensor here\n",
    "        return item\n",
    "\n",
    "    def __len__(self):\n",
    "        return len(self.labels)\n",
    "\n",
    "train_dataset = TextDataset(train_encodings, y_train_integers)\n",
    "test_dataset = TextDataset(test_encodings, y_test_integers)\n",
    "\n",
    "#--------------------------\n",
    "\n",
    "\n",
    "from collections import Counter\n",
    "print(Counter(y_train))\n",
    "print(Counter(y_test))\n",
    "\n",
    "\n",
    "# Calculate class weights (example calculation, adjust as needed)\n",
    "\n",
    "total_samples = Counter(y_train)[0] + Counter(y_train)[1]\n",
    "class_weights = torch.tensor([total_samples /Counter(y_train)[0], total_samples / Counter(y_train)[1]], dtype=torch.float)\n",
    "\n",
    "print(total_samples /Counter(y_train)[0])\n",
    "print(total_samples / Counter(y_train)[1])\n",
    "\n",
    "# Ensure the model is on the correct device (e.g., GPU or CPU)\n",
    "device = torch.device(\"cuda\" if torch.cuda.is_available() else \"cpu\")\n",
    "model.to(device)  # Ensure model is on the correct device\n",
    "\n",
    "# Move class_weights to the same device as the model\n",
    "class_weights = class_weights.to(device)\n",
    "\n",
    "\n",
    "\n",
    "class CustomTrainer(Trainer):\n",
    "    def __init__(self, *args, **kwargs):\n",
    "        super().__init__(*args, **kwargs)\n",
    "        self.loss_fct = CrossEntropyLoss(weight=class_weights).to(device)\n",
    "\n",
    "    def compute_loss(self, model, inputs, return_outputs=False):\n",
    "        inputs = {k: v.to(device) for k, v in inputs.items()}\n",
    "        labels = inputs.get(\"labels\").to(device)\n",
    "\n",
    "        outputs = model(**inputs)\n",
    "        logits = outputs.logits\n",
    "\n",
    "        loss = self.loss_fct(logits, labels)\n",
    "        return (loss, outputs) if return_outputs else loss\n",
    "\n",
    "#-------------------------------------------------\n",
    "\n",
    "\n",
    "training_args = TrainingArguments(\n",
    "    learning_rate= best_f1_lr,\n",
    "    output_dir='./results',\n",
    "    num_train_epochs=epochs,\n",
    "    per_device_train_batch_size=batch_size,\n",
    "    per_device_eval_batch_size=8,\n",
    "    warmup_steps=500,\n",
    "    weight_decay=0.01,\n",
    "    #logging_dir='./logs',\n",
    "    logging_steps=100,\n",
    "    evaluation_strategy=\"steps\",\n",
    "    eval_steps=3000\n",
    "\n",
    ")\n",
    "\n",
    "trainer = CustomTrainer(\n",
    "    model=model,  # Your model\n",
    "    args=training_args,\n",
    "    train_dataset=train_dataset,\n",
    "    eval_dataset=test_dataset\n",
    ")\n",
    "\n",
    "\n",
    "trainer.train()\n",
    "\n",
    "\n",
    "predictions = trainer.predict(test_dataset).predictions\n",
    "predictions_label = np.argmax(predictions, axis=1)\n",
    "\n",
    "cm=confusion_matrix(y_test_integers, predictions_label)\n",
    "print(cm)\n",
    "\n",
    "accuracy = accuracy_score(y_test_integers, predictions_label)\n",
    "precision, recall, f1, _ = precision_recall_fscore_support(y_test_integers, predictions_label, average='binary')\n",
    "\n",
    "print(f\"Accuracy: {accuracy}\")\n",
    "print(f\"Precision: {precision}\")\n",
    "print(f\"Recall: {recall}\")\n",
    "print(f\"F1 Score: {f1}\")\n",
    "\n",
    "print(f\"Best f1 Learning Rat: {best_f1_lr}\")"
   ]
  },
  {
   "cell_type": "code",
   "execution_count": null,
   "id": "c5d3ed66-e597-45f9-8539-94a50ee6d494",
   "metadata": {},
   "outputs": [],
   "source": []
  },
  {
   "cell_type": "markdown",
   "id": "1ae1210f-2cb6-4826-86d0-2012d89dece3",
   "metadata": {
    "jp-MarkdownHeadingCollapsed": true,
    "tags": []
   },
   "source": [
    "# Imbalance / AEDA"
   ]
  },
  {
   "cell_type": "code",
   "execution_count": null,
   "id": "0cc8c5bc-ed81-498b-b403-934c35c2cf19",
   "metadata": {},
   "outputs": [],
   "source": []
  },
  {
   "cell_type": "code",
   "execution_count": 13,
   "id": "2595f46e-0c7a-4548-95c4-d57bdbc0cee4",
   "metadata": {},
   "outputs": [],
   "source": [
    "\n",
    "def aeda(text):\n",
    "    \"\"\"\n",
    "    Apply AEDA augmentation to a given text.\n",
    "\n",
    "    :param text: The input text string to be augmented.\n",
    "    :return: Augmented sentence.\n",
    "    \"\"\"\n",
    "    punctuation_marks = [\".\", \";\", \"?\", \":\", \"!\", \"\"]\n",
    "    words = text.split()\n",
    "\n",
    "    n_insertions = random.randint(1, max(1, len(words) // 3))\n",
    "    insert_positions = np.random.choice(len(words), n_insertions, replace=False)\n",
    "\n",
    "    for pos in sorted(insert_positions, reverse=True):\n",
    "        words.insert(pos, random.choice(punctuation_marks))\n",
    "\n",
    "    return ' '.join(words)\n",
    "\n",
    "def balance_classes(df, column_name, text_column , modification_function=aeda):\n",
    "    \"\"\"\n",
    "    Balances the classes in a DataFrame.\n",
    "\n",
    "    Parameters:\n",
    "    - df: pandas DataFrame to balance.\n",
    "    - column_name: the name of the column to balance by (e.g., 'Third Party').\n",
    "    - text_column: the name of the text column to modify (e.g., 'Segment Text').\n",
    "    - modification_function: the function to apply to modify the text (default: aeda).\n",
    "\n",
    "    Returns:\n",
    "    - A balanced DataFrame.\n",
    "    \"\"\"\n",
    "    # Count the instances of each class\n",
    "    class_counts = df[column_name].value_counts()\n",
    "    max_class = class_counts.idxmax()\n",
    "    min_class = class_counts.idxmin()\n",
    "\n",
    "    # Calculate the number of samples needed to balance the classes\n",
    "    count_diff = class_counts[max_class] - class_counts[min_class]\n",
    "\n",
    "\n",
    "    # Select rows of the minority class and duplicate them\n",
    "    df_minority = df[df[column_name] == min_class]\n",
    "    df_minority_augmented = df_minority.sample(count_diff, replace=True)\n",
    "\n",
    "    # Apply the modification function to the text column\n",
    "    df_minority_augmented[text_column] = df_minority_augmented[text_column].apply(modification_function)\n",
    "\n",
    "    # Combine the original DataFrame with the augmented rows\n",
    "    df_balanced = pd.concat([df, df_minority_augmented], ignore_index=True)\n",
    "\n",
    "    return df_balanced\n",
    "\n"
   ]
  },
  {
   "cell_type": "code",
   "execution_count": 14,
   "id": "519f21e0-4bdb-489f-be51-84596dbbf74f",
   "metadata": {},
   "outputs": [
    {
     "name": "stderr",
     "output_type": "stream",
     "text": [
      "Some weights of BertForSequenceClassification were not initialized from the model checkpoint at bert-base-german-cased and are newly initialized: ['classifier.bias', 'classifier.weight']\n",
      "You should probably TRAIN this model on a down-stream task to be able to use it for predictions and inference.\n"
     ]
    },
    {
     "name": "stdout",
     "output_type": "stream",
     "text": [
      "Collection Process\n",
      "0    4136\n",
      "1     398\n",
      "Name: count, dtype: int64\n",
      "Collection Process\n",
      "0    4136\n",
      "1    4136\n",
      "Name: count, dtype: int64\n",
      "Training with learning rate: 1e-05\n"
     ]
    },
    {
     "data": {
      "text/html": [
       "\n",
       "    <div>\n",
       "      \n",
       "      <progress value='3102' max='3102' style='width:300px; height:20px; vertical-align: middle;'></progress>\n",
       "      [3102/3102 05:42, Epoch 3/3]\n",
       "    </div>\n",
       "    <table border=\"1\" class=\"dataframe\">\n",
       "  <thead>\n",
       " <tr style=\"text-align: left;\">\n",
       "      <th>Step</th>\n",
       "      <th>Training Loss</th>\n",
       "      <th>Validation Loss</th>\n",
       "    </tr>\n",
       "  </thead>\n",
       "  <tbody>\n",
       "    <tr>\n",
       "      <td>3000</td>\n",
       "      <td>0.128300</td>\n",
       "      <td>0.371673</td>\n",
       "    </tr>\n",
       "  </tbody>\n",
       "</table><p>"
      ],
      "text/plain": [
       "<IPython.core.display.HTML object>"
      ]
     },
     "metadata": {},
     "output_type": "display_data"
    },
    {
     "data": {
      "text/html": [],
      "text/plain": [
       "<IPython.core.display.HTML object>"
      ]
     },
     "metadata": {},
     "output_type": "display_data"
    },
    {
     "name": "stdout",
     "output_type": "stream",
     "text": [
      "Evaluation loss for learning rate 1e-05: 0.3782637119293213\n",
      "[[950  67]\n",
      " [ 53  64]]\n",
      "Accuracy: 0.8941798941798942\n",
      "Precision: 0.48854961832061067\n",
      "Recall: 0.5470085470085471\n",
      "F1 Score: 0.5161290322580645\n"
     ]
    },
    {
     "name": "stderr",
     "output_type": "stream",
     "text": [
      "Some weights of BertForSequenceClassification were not initialized from the model checkpoint at bert-base-german-cased and are newly initialized: ['classifier.bias', 'classifier.weight']\n",
      "You should probably TRAIN this model on a down-stream task to be able to use it for predictions and inference.\n"
     ]
    },
    {
     "name": "stdout",
     "output_type": "stream",
     "text": [
      "Collection Process\n",
      "0    4136\n",
      "1     398\n",
      "Name: count, dtype: int64\n",
      "Collection Process\n",
      "0    4136\n",
      "1    4136\n",
      "Name: count, dtype: int64\n",
      "Training with learning rate: 2e-05\n"
     ]
    },
    {
     "data": {
      "text/html": [
       "\n",
       "    <div>\n",
       "      \n",
       "      <progress value='3102' max='3102' style='width:300px; height:20px; vertical-align: middle;'></progress>\n",
       "      [3102/3102 05:43, Epoch 3/3]\n",
       "    </div>\n",
       "    <table border=\"1\" class=\"dataframe\">\n",
       "  <thead>\n",
       " <tr style=\"text-align: left;\">\n",
       "      <th>Step</th>\n",
       "      <th>Training Loss</th>\n",
       "      <th>Validation Loss</th>\n",
       "    </tr>\n",
       "  </thead>\n",
       "  <tbody>\n",
       "    <tr>\n",
       "      <td>3000</td>\n",
       "      <td>0.088100</td>\n",
       "      <td>0.385995</td>\n",
       "    </tr>\n",
       "  </tbody>\n",
       "</table><p>"
      ],
      "text/plain": [
       "<IPython.core.display.HTML object>"
      ]
     },
     "metadata": {},
     "output_type": "display_data"
    },
    {
     "data": {
      "text/html": [],
      "text/plain": [
       "<IPython.core.display.HTML object>"
      ]
     },
     "metadata": {},
     "output_type": "display_data"
    },
    {
     "name": "stdout",
     "output_type": "stream",
     "text": [
      "Evaluation loss for learning rate 2e-05: 0.39945146441459656\n",
      "[[952  65]\n",
      " [ 49  68]]\n",
      "Accuracy: 0.8994708994708994\n",
      "Precision: 0.5112781954887218\n",
      "Recall: 0.5811965811965812\n",
      "F1 Score: 0.544\n"
     ]
    },
    {
     "name": "stderr",
     "output_type": "stream",
     "text": [
      "Some weights of BertForSequenceClassification were not initialized from the model checkpoint at bert-base-german-cased and are newly initialized: ['classifier.bias', 'classifier.weight']\n",
      "You should probably TRAIN this model on a down-stream task to be able to use it for predictions and inference.\n"
     ]
    },
    {
     "name": "stdout",
     "output_type": "stream",
     "text": [
      "Collection Process\n",
      "0    4136\n",
      "1     398\n",
      "Name: count, dtype: int64\n",
      "Collection Process\n",
      "0    4136\n",
      "1    4136\n",
      "Name: count, dtype: int64\n",
      "Training with learning rate: 3e-05\n"
     ]
    },
    {
     "data": {
      "text/html": [
       "\n",
       "    <div>\n",
       "      \n",
       "      <progress value='3102' max='3102' style='width:300px; height:20px; vertical-align: middle;'></progress>\n",
       "      [3102/3102 05:41, Epoch 3/3]\n",
       "    </div>\n",
       "    <table border=\"1\" class=\"dataframe\">\n",
       "  <thead>\n",
       " <tr style=\"text-align: left;\">\n",
       "      <th>Step</th>\n",
       "      <th>Training Loss</th>\n",
       "      <th>Validation Loss</th>\n",
       "    </tr>\n",
       "  </thead>\n",
       "  <tbody>\n",
       "    <tr>\n",
       "      <td>3000</td>\n",
       "      <td>0.071200</td>\n",
       "      <td>0.397506</td>\n",
       "    </tr>\n",
       "  </tbody>\n",
       "</table><p>"
      ],
      "text/plain": [
       "<IPython.core.display.HTML object>"
      ]
     },
     "metadata": {},
     "output_type": "display_data"
    },
    {
     "data": {
      "text/html": [],
      "text/plain": [
       "<IPython.core.display.HTML object>"
      ]
     },
     "metadata": {},
     "output_type": "display_data"
    },
    {
     "name": "stdout",
     "output_type": "stream",
     "text": [
      "Evaluation loss for learning rate 3e-05: 0.41345664858818054\n",
      "[[953  64]\n",
      " [ 47  70]]\n",
      "Accuracy: 0.9021164021164021\n",
      "Precision: 0.5223880597014925\n",
      "Recall: 0.5982905982905983\n",
      "F1 Score: 0.5577689243027888\n"
     ]
    },
    {
     "name": "stderr",
     "output_type": "stream",
     "text": [
      "Some weights of BertForSequenceClassification were not initialized from the model checkpoint at bert-base-german-cased and are newly initialized: ['classifier.bias', 'classifier.weight']\n",
      "You should probably TRAIN this model on a down-stream task to be able to use it for predictions and inference.\n"
     ]
    },
    {
     "name": "stdout",
     "output_type": "stream",
     "text": [
      "Collection Process\n",
      "0    4136\n",
      "1     398\n",
      "Name: count, dtype: int64\n",
      "Collection Process\n",
      "0    4136\n",
      "1    4136\n",
      "Name: count, dtype: int64\n",
      "Training with learning rate: 5e-05\n"
     ]
    },
    {
     "data": {
      "text/html": [
       "\n",
       "    <div>\n",
       "      \n",
       "      <progress value='3102' max='3102' style='width:300px; height:20px; vertical-align: middle;'></progress>\n",
       "      [3102/3102 05:43, Epoch 3/3]\n",
       "    </div>\n",
       "    <table border=\"1\" class=\"dataframe\">\n",
       "  <thead>\n",
       " <tr style=\"text-align: left;\">\n",
       "      <th>Step</th>\n",
       "      <th>Training Loss</th>\n",
       "      <th>Validation Loss</th>\n",
       "    </tr>\n",
       "  </thead>\n",
       "  <tbody>\n",
       "    <tr>\n",
       "      <td>3000</td>\n",
       "      <td>0.050500</td>\n",
       "      <td>0.400942</td>\n",
       "    </tr>\n",
       "  </tbody>\n",
       "</table><p>"
      ],
      "text/plain": [
       "<IPython.core.display.HTML object>"
      ]
     },
     "metadata": {},
     "output_type": "display_data"
    },
    {
     "data": {
      "text/html": [],
      "text/plain": [
       "<IPython.core.display.HTML object>"
      ]
     },
     "metadata": {},
     "output_type": "display_data"
    },
    {
     "name": "stdout",
     "output_type": "stream",
     "text": [
      "Evaluation loss for learning rate 5e-05: 0.40742531418800354\n",
      "[[964  53]\n",
      " [ 50  67]]\n",
      "Accuracy: 0.9091710758377425\n",
      "Precision: 0.5583333333333333\n",
      "Recall: 0.5726495726495726\n",
      "F1 Score: 0.5654008438818565\n"
     ]
    },
    {
     "name": "stderr",
     "output_type": "stream",
     "text": [
      "Some weights of BertForSequenceClassification were not initialized from the model checkpoint at bert-base-german-cased and are newly initialized: ['classifier.bias', 'classifier.weight']\n",
      "You should probably TRAIN this model on a down-stream task to be able to use it for predictions and inference.\n"
     ]
    },
    {
     "name": "stdout",
     "output_type": "stream",
     "text": [
      "Collection Process\n",
      "0    4136\n",
      "1     398\n",
      "Name: count, dtype: int64\n",
      "Collection Process\n",
      "0    4136\n",
      "1    4136\n",
      "Name: count, dtype: int64\n",
      "Training with learning rate: 0.0001\n"
     ]
    },
    {
     "data": {
      "text/html": [
       "\n",
       "    <div>\n",
       "      \n",
       "      <progress value='3102' max='3102' style='width:300px; height:20px; vertical-align: middle;'></progress>\n",
       "      [3102/3102 05:42, Epoch 3/3]\n",
       "    </div>\n",
       "    <table border=\"1\" class=\"dataframe\">\n",
       "  <thead>\n",
       " <tr style=\"text-align: left;\">\n",
       "      <th>Step</th>\n",
       "      <th>Training Loss</th>\n",
       "      <th>Validation Loss</th>\n",
       "    </tr>\n",
       "  </thead>\n",
       "  <tbody>\n",
       "    <tr>\n",
       "      <td>3000</td>\n",
       "      <td>0.048200</td>\n",
       "      <td>0.426697</td>\n",
       "    </tr>\n",
       "  </tbody>\n",
       "</table><p>"
      ],
      "text/plain": [
       "<IPython.core.display.HTML object>"
      ]
     },
     "metadata": {},
     "output_type": "display_data"
    },
    {
     "data": {
      "text/html": [],
      "text/plain": [
       "<IPython.core.display.HTML object>"
      ]
     },
     "metadata": {},
     "output_type": "display_data"
    },
    {
     "name": "stdout",
     "output_type": "stream",
     "text": [
      "Evaluation loss for learning rate 0.0001: 0.42695868015289307\n",
      "[[964  53]\n",
      " [ 50  67]]\n",
      "Accuracy: 0.9091710758377425\n",
      "Precision: 0.5583333333333333\n",
      "Recall: 0.5726495726495726\n",
      "F1 Score: 0.5654008438818565\n"
     ]
    },
    {
     "name": "stderr",
     "output_type": "stream",
     "text": [
      "Some weights of BertForSequenceClassification were not initialized from the model checkpoint at bert-base-german-cased and are newly initialized: ['classifier.bias', 'classifier.weight']\n",
      "You should probably TRAIN this model on a down-stream task to be able to use it for predictions and inference.\n"
     ]
    },
    {
     "name": "stdout",
     "output_type": "stream",
     "text": [
      "Collection Process\n",
      "0    4136\n",
      "1     398\n",
      "Name: count, dtype: int64\n",
      "Collection Process\n",
      "0    4136\n",
      "1    4136\n",
      "Name: count, dtype: int64\n",
      "Training with learning rate: 0.0002\n"
     ]
    },
    {
     "data": {
      "text/html": [
       "\n",
       "    <div>\n",
       "      \n",
       "      <progress value='3102' max='3102' style='width:300px; height:20px; vertical-align: middle;'></progress>\n",
       "      [3102/3102 05:42, Epoch 3/3]\n",
       "    </div>\n",
       "    <table border=\"1\" class=\"dataframe\">\n",
       "  <thead>\n",
       " <tr style=\"text-align: left;\">\n",
       "      <th>Step</th>\n",
       "      <th>Training Loss</th>\n",
       "      <th>Validation Loss</th>\n",
       "    </tr>\n",
       "  </thead>\n",
       "  <tbody>\n",
       "    <tr>\n",
       "      <td>3000</td>\n",
       "      <td>0.081600</td>\n",
       "      <td>0.351737</td>\n",
       "    </tr>\n",
       "  </tbody>\n",
       "</table><p>"
      ],
      "text/plain": [
       "<IPython.core.display.HTML object>"
      ]
     },
     "metadata": {},
     "output_type": "display_data"
    },
    {
     "data": {
      "text/html": [],
      "text/plain": [
       "<IPython.core.display.HTML object>"
      ]
     },
     "metadata": {},
     "output_type": "display_data"
    },
    {
     "name": "stdout",
     "output_type": "stream",
     "text": [
      "Evaluation loss for learning rate 0.0002: 0.355380654335022\n",
      "[[959  58]\n",
      " [ 51  66]]\n",
      "Accuracy: 0.9038800705467372\n",
      "Precision: 0.532258064516129\n",
      "Recall: 0.5641025641025641\n",
      "F1 Score: 0.5477178423236515\n"
     ]
    },
    {
     "name": "stderr",
     "output_type": "stream",
     "text": [
      "Some weights of BertForSequenceClassification were not initialized from the model checkpoint at bert-base-german-cased and are newly initialized: ['classifier.bias', 'classifier.weight']\n",
      "You should probably TRAIN this model on a down-stream task to be able to use it for predictions and inference.\n"
     ]
    },
    {
     "name": "stdout",
     "output_type": "stream",
     "text": [
      "Collection Process\n",
      "0    4136\n",
      "1     398\n",
      "Name: count, dtype: int64\n",
      "Collection Process\n",
      "0    4136\n",
      "1    4136\n",
      "Name: count, dtype: int64\n",
      "Training with learning rate: 0.0003\n"
     ]
    },
    {
     "data": {
      "text/html": [
       "\n",
       "    <div>\n",
       "      \n",
       "      <progress value='3102' max='3102' style='width:300px; height:20px; vertical-align: middle;'></progress>\n",
       "      [3102/3102 05:43, Epoch 3/3]\n",
       "    </div>\n",
       "    <table border=\"1\" class=\"dataframe\">\n",
       "  <thead>\n",
       " <tr style=\"text-align: left;\">\n",
       "      <th>Step</th>\n",
       "      <th>Training Loss</th>\n",
       "      <th>Validation Loss</th>\n",
       "    </tr>\n",
       "  </thead>\n",
       "  <tbody>\n",
       "    <tr>\n",
       "      <td>3000</td>\n",
       "      <td>0.092000</td>\n",
       "      <td>0.323472</td>\n",
       "    </tr>\n",
       "  </tbody>\n",
       "</table><p>"
      ],
      "text/plain": [
       "<IPython.core.display.HTML object>"
      ]
     },
     "metadata": {},
     "output_type": "display_data"
    },
    {
     "data": {
      "text/html": [],
      "text/plain": [
       "<IPython.core.display.HTML object>"
      ]
     },
     "metadata": {},
     "output_type": "display_data"
    },
    {
     "name": "stdout",
     "output_type": "stream",
     "text": [
      "Evaluation loss for learning rate 0.0003: 0.3287490904331207\n",
      "[[961  56]\n",
      " [ 52  65]]\n",
      "Accuracy: 0.9047619047619048\n",
      "Precision: 0.5371900826446281\n",
      "Recall: 0.5555555555555556\n",
      "F1 Score: 0.5462184873949579\n",
      "Best Learning Rate: 0.0003 with loss: 0.3287490904331207\n",
      "Best f1 Learning Rat: 5e-05 with highest f1: 0.5654008438818565\n"
     ]
    }
   ],
   "source": [
    "\n",
    "best_lr = None\n",
    "lowest_eval_loss = float('inf')\n",
    "\n",
    "best_f1_lr = None\n",
    "highest_f1 = 0\n",
    "\n",
    "\n",
    "for lr in learning_rates:\n",
    "    \n",
    "#--------------------------------------------------------------------------------    \n",
    "\n",
    "    tokenizer = AutoTokenizer.from_pretrained(\"bert-base-german-cased\")\n",
    "    model = BertForSequenceClassification.from_pretrained(\"bert-base-german-cased\")\n",
    "\n",
    "\n",
    "\n",
    "    # Freeze all parameters\n",
    "    for param in model.parameters():\n",
    "        param.requires_grad = False\n",
    "\n",
    "    # Unfreeze the last two layers of the BERT model\n",
    "    # BERT uses an encoder structure, so you will need to access its layers accordingly\n",
    "    for module in [ model.bert.encoder.layer[-2], model.bert.encoder.layer[-1]]:\n",
    "        for param in module.parameters():\n",
    "            param.requires_grad = True\n",
    "            \n",
    "#-----------------------------------------------------------------------------------  \n",
    "    df_train = df[['Segment Text',target_column]].loc[df['policy_type'] == 'TRAIN']\n",
    "    \n",
    "    X = df_train['Segment Text']\n",
    "    y = df_train[target_column]\n",
    "\n",
    "\n",
    "    X_train, X_val, y_train, y_val = train_test_split(X, y, test_size=0.20, random_state=0)\n",
    "\n",
    "    df_train = pd.concat([X_train, y_train], axis=1)\n",
    "    print(df_train[target_column].value_counts())\n",
    "\n",
    "    df_train_aug = balance_classes(df_train,target_column,'Segment Text' )\n",
    "    print(df_train_aug[target_column].value_counts())\n",
    "\n",
    "    X_train=list(df_train_aug['Segment Text'])\n",
    "    y_train=list(df_train_aug[target_column])\n",
    "    \n",
    "\n",
    "    X_val=list(X_val)\n",
    "    y_val=list( y_val)\n",
    "\n",
    "\n",
    "    # mapping labels\n",
    "\n",
    "    label_mapping = {0: 0, 1: 1}\n",
    "    y_train_integers = [label_mapping[label] for label in y_train]\n",
    "    y_val_integers = [label_mapping[label] for label in y_val]\n",
    "\n",
    "    train_encodings = tokenizer(X_train, max_length=512, truncation=True, padding='max_length')\n",
    "    val_encodings = tokenizer(X_val, max_length=512, truncation=True, padding='max_length')\n",
    "\n",
    "\n",
    "    #\n",
    "    class TextDataset(torch.utils.data.Dataset):\n",
    "        def __init__(self, encodings, labels):\n",
    "            self.encodings = encodings\n",
    "            self.labels = labels\n",
    "\n",
    "        def __getitem__(self, idx):\n",
    "            item = {key: torch.tensor(val[idx]) for key, val in self.encodings.items()}\n",
    "            item['labels'] = self.labels[idx]  # Removed torch.tensor here\n",
    "            return item\n",
    "\n",
    "        def __len__(self):\n",
    "            return len(self.labels)\n",
    "\n",
    "\n",
    "    train_dataset = TextDataset(train_encodings, y_train_integers)\n",
    "    val_dataset = TextDataset(val_encodings, y_val_integers)\n",
    "\n",
    "\n",
    "\n",
    "#---------------------------------------------------------------------------  \n",
    "    \n",
    "    # Set up training arguments with the current learning rate\n",
    "    training_args = TrainingArguments(\n",
    "        output_dir='./results',\n",
    "        learning_rate=lr,  # Set learning rate here\n",
    "        num_train_epochs=epochs ,\n",
    "        per_device_train_batch_size=batch_size,\n",
    "        per_device_eval_batch_size=8,\n",
    "        warmup_steps=500,\n",
    "        weight_decay=0.01,\n",
    "        logging_dir='./logs',\n",
    "        logging_steps=100,\n",
    "        evaluation_strategy=\"steps\",\n",
    "        eval_steps=3000\n",
    "    )\n",
    "\n",
    "    # Set up the Trainer\n",
    "    trainer = Trainer(\n",
    "        model=model,\n",
    "        args=training_args,\n",
    "        train_dataset=train_dataset,\n",
    "        eval_dataset=val_dataset\n",
    "    )\n",
    "\n",
    "\n",
    "    # Train the model with the current learning rate\n",
    "    print(f\"Training with learning rate: {lr}\")\n",
    "    trainer.train()\n",
    "    \n",
    " # Evaluate the model\n",
    "    eval_result = trainer.evaluate()\n",
    "    print(f\"Evaluation loss for learning rate {lr}: {eval_result['eval_loss']}\")\n",
    "    \n",
    "    \n",
    "    predictions = trainer.predict(val_dataset).predictions\n",
    "    predictions_label = np.argmax(predictions, axis=1)\n",
    "\n",
    "    cm=confusion_matrix( y_val_integers, predictions_label)\n",
    "    print(cm)\n",
    "\n",
    "    accuracy = accuracy_score( y_val_integers, predictions_label)\n",
    "    precision, recall, f1, _ = precision_recall_fscore_support(y_val_integers, predictions_label, average='binary')\n",
    "    print(f\"Accuracy: {accuracy}\")\n",
    "    print(f\"Precision: {precision}\")\n",
    "    print(f\"Recall: {recall}\")\n",
    "    print(f\"F1 Score: {f1}\")\n",
    "\n",
    "    if eval_result['eval_loss'] < lowest_eval_loss:\n",
    "        best_lr = lr\n",
    "        lowest_eval_loss = eval_result['eval_loss']\n",
    "            \n",
    "    if f1 > highest_f1:\n",
    "        best_f1_lr = lr\n",
    "        highest_f1 = f1\n",
    "        \n",
    "\n",
    "print(f\"Best Learning Rate: {best_lr} with loss: {lowest_eval_loss}\")\n",
    "print(f\"Best f1 Learning Rat: {best_f1_lr} with highest f1: { highest_f1}\")"
   ]
  },
  {
   "cell_type": "markdown",
   "id": "a96252fd-27fe-4466-94cd-9a7adf5fb906",
   "metadata": {},
   "source": [
    "### Retrain the model with certain learning rate"
   ]
  },
  {
   "cell_type": "code",
   "execution_count": 15,
   "id": "ea38fd22-f998-4bfe-8be1-9db5020dc22c",
   "metadata": {},
   "outputs": [
    {
     "name": "stderr",
     "output_type": "stream",
     "text": [
      "Some weights of BertForSequenceClassification were not initialized from the model checkpoint at bert-base-german-cased and are newly initialized: ['classifier.bias', 'classifier.weight']\n",
      "You should probably TRAIN this model on a down-stream task to be able to use it for predictions and inference.\n"
     ]
    },
    {
     "name": "stdout",
     "output_type": "stream",
     "text": [
      "Collection Process\n",
      "0    5153\n",
      "1     515\n",
      "Name: count, dtype: int64\n",
      "Collection Process\n",
      "0    5153\n",
      "1    5153\n",
      "Name: count, dtype: int64\n",
      "Counter({0: 5153, 1: 5153})\n",
      "Counter({0: 1063, 1: 140})\n"
     ]
    },
    {
     "data": {
      "text/html": [
       "\n",
       "    <div>\n",
       "      \n",
       "      <progress value='3867' max='3867' style='width:300px; height:20px; vertical-align: middle;'></progress>\n",
       "      [3867/3867 06:59, Epoch 3/3]\n",
       "    </div>\n",
       "    <table border=\"1\" class=\"dataframe\">\n",
       "  <thead>\n",
       " <tr style=\"text-align: left;\">\n",
       "      <th>Step</th>\n",
       "      <th>Training Loss</th>\n",
       "      <th>Validation Loss</th>\n",
       "    </tr>\n",
       "  </thead>\n",
       "  <tbody>\n",
       "    <tr>\n",
       "      <td>3000</td>\n",
       "      <td>0.074100</td>\n",
       "      <td>0.418247</td>\n",
       "    </tr>\n",
       "  </tbody>\n",
       "</table><p>"
      ],
      "text/plain": [
       "<IPython.core.display.HTML object>"
      ]
     },
     "metadata": {},
     "output_type": "display_data"
    },
    {
     "data": {
      "text/html": [],
      "text/plain": [
       "<IPython.core.display.HTML object>"
      ]
     },
     "metadata": {},
     "output_type": "display_data"
    },
    {
     "name": "stdout",
     "output_type": "stream",
     "text": [
      "[[1008   55]\n",
      " [  72   68]]\n",
      "Accuracy: 0.8944305901911886\n",
      "Precision: 0.5528455284552846\n",
      "Recall: 0.4857142857142857\n",
      "F1 Score: 0.5171102661596958\n",
      "Best f1 Learning Rat: 5e-05 \n"
     ]
    }
   ],
   "source": [
    "\n",
    "tokenizer = AutoTokenizer.from_pretrained(\"bert-base-german-cased\")\n",
    "model = BertForSequenceClassification.from_pretrained(\"bert-base-german-cased\")\n",
    "\n",
    "\n",
    "\n",
    "# Freeze all parameters\n",
    "for param in model.parameters():\n",
    "    param.requires_grad = False\n",
    "\n",
    "# Unfreeze the last two layers of the BERT model\n",
    "# BERT uses an encoder structure, so you will need to access its layers accordingly\n",
    "for module in [ model.bert.encoder.layer[-2], model.bert.encoder.layer[-1]]:\n",
    "    for param in module.parameters():\n",
    "        param.requires_grad = True\n",
    "\n",
    "                       \n",
    "#-----------------------------------------------------------------------------------     \n",
    "df_train = df[['Segment Text',target_column]].loc[df['policy_type'] == 'TRAIN']\n",
    "print(df_train[target_column].value_counts())\n",
    "\n",
    "df_train_aug = balance_classes(df_train,target_column,'Segment Text' )\n",
    "print(df_train_aug[target_column].value_counts())\n",
    "\n",
    "\n",
    "X_train=list(df_train_aug['Segment Text'])\n",
    "y_train=list(df_train_aug[target_column])\n",
    "\n",
    "X_test=list(df['Segment Text'].loc[(df['policy_type'] == 'TEST')])\n",
    "y_test=list(df[target_column].loc[(df['policy_type'] == 'TEST')])\n",
    "\n",
    "\n",
    "train_encodings = tokenizer(X_train, max_length=512, truncation=True, padding='max_length')\n",
    "test_encodings = tokenizer(X_test, max_length=512, truncation=True, padding='max_length')\n",
    "\n",
    "\n",
    "label_mapping = {0: 0, 1: 1}\n",
    "y_train_integers = [label_mapping[label] for label in y_train]\n",
    "y_test_integers = [label_mapping[label] for label in y_test]\n",
    "\n",
    "\n",
    "class TextDataset(torch.utils.data.Dataset):\n",
    "    def __init__(self, encodings, labels):\n",
    "        self.encodings = encodings\n",
    "        self.labels = labels\n",
    "\n",
    "    def __getitem__(self, idx):\n",
    "        item = {key: torch.tensor(val[idx]) for key, val in self.encodings.items()}\n",
    "        item['labels'] = self.labels[idx]  # Removed torch.tensor here\n",
    "        return item\n",
    "\n",
    "    def __len__(self):\n",
    "        return len(self.labels)\n",
    "\n",
    "train_dataset = TextDataset(train_encodings, y_train_integers)\n",
    "test_dataset = TextDataset(test_encodings, y_test_integers)\n",
    "\n",
    "\n",
    "#------------------------\n",
    "from collections import Counter\n",
    "print(Counter(y_train))\n",
    "print(Counter(y_test))\n",
    "\n",
    "#--------------------------\n",
    "\n",
    "training_args = TrainingArguments(\n",
    "    output_dir='./results',\n",
    "    learning_rate= best_f1_lr , # Set learning rate here\n",
    "    num_train_epochs=epochs ,\n",
    "    per_device_train_batch_size=batch_size,\n",
    "    per_device_eval_batch_size=8,\n",
    "    warmup_steps=500,\n",
    "    weight_decay=0.01,\n",
    "    logging_dir='./logs',\n",
    "    logging_steps=100,\n",
    "    evaluation_strategy=\"steps\",\n",
    "    eval_steps=3000\n",
    "\n",
    ")\n",
    "\n",
    "trainer = Trainer(\n",
    "    model=model,\n",
    "    args=training_args,\n",
    "    train_dataset=train_dataset,\n",
    "    eval_dataset=test_dataset\n",
    ")\n",
    "\n",
    "trainer.train()\n",
    "\n",
    "predictions = trainer.predict(test_dataset).predictions\n",
    "predictions_label = np.argmax(predictions, axis=1)\n",
    "\n",
    "cm=confusion_matrix(y_test_integers, predictions_label)\n",
    "print(cm)\n",
    "\n",
    "accuracy = accuracy_score(y_test_integers, predictions_label)\n",
    "precision, recall, f1, _ = precision_recall_fscore_support(y_test_integers, predictions_label, average='binary')\n",
    "print(f\"Accuracy: {accuracy}\")\n",
    "print(f\"Precision: {precision}\")\n",
    "print(f\"Recall: {recall}\")\n",
    "print(f\"F1 Score: {f1}\")\n",
    "\n",
    "print(f\"Best f1 Learning Rat: {best_f1_lr} \")"
   ]
  },
  {
   "cell_type": "code",
   "execution_count": null,
   "id": "3b60116d-f2e3-4eb9-9369-7b1d3d274f2f",
   "metadata": {},
   "outputs": [],
   "source": []
  },
  {
   "cell_type": "code",
   "execution_count": null,
   "id": "f2425ac5-f2a7-49e6-a4a6-2e84f0f76321",
   "metadata": {},
   "outputs": [],
   "source": []
  }
 ],
 "metadata": {
  "kernelspec": {
   "display_name": "Python 3 (ipykernel)",
   "language": "python",
   "name": "python3"
  },
  "language_info": {
   "codemirror_mode": {
    "name": "ipython",
    "version": 3
   },
   "file_extension": ".py",
   "mimetype": "text/x-python",
   "name": "python",
   "nbconvert_exporter": "python",
   "pygments_lexer": "ipython3",
   "version": "3.10.13"
  }
 },
 "nbformat": 4,
 "nbformat_minor": 5
}
