{
 "cells": [
  {
   "cell_type": "code",
   "execution_count": 1,
   "id": "a4e3c2ab-aeb9-442b-8250-5bd904d27ec8",
   "metadata": {
    "tags": []
   },
   "outputs": [
    {
     "name": "stderr",
     "output_type": "stream",
     "text": [
      "2024-02-25 12:48:49.764168: E tensorflow/compiler/xla/stream_executor/cuda/cuda_dnn.cc:9342] Unable to register cuDNN factory: Attempting to register factory for plugin cuDNN when one has already been registered\n",
      "2024-02-25 12:48:49.764232: E tensorflow/compiler/xla/stream_executor/cuda/cuda_fft.cc:609] Unable to register cuFFT factory: Attempting to register factory for plugin cuFFT when one has already been registered\n",
      "2024-02-25 12:48:49.764262: E tensorflow/compiler/xla/stream_executor/cuda/cuda_blas.cc:1518] Unable to register cuBLAS factory: Attempting to register factory for plugin cuBLAS when one has already been registered\n",
      "2024-02-25 12:48:49.772609: I tensorflow/core/platform/cpu_feature_guard.cc:182] This TensorFlow binary is optimized to use available CPU instructions in performance-critical operations.\n",
      "To enable the following instructions: AVX2 FMA, in other operations, rebuild TensorFlow with the appropriate compiler flags.\n",
      "2024-02-25 12:48:50.717539: W tensorflow/compiler/tf2tensorrt/utils/py_utils.cc:38] TF-TRT Warning: Could not find TensorRT\n"
     ]
    }
   ],
   "source": [
    "\n",
    "import pandas as pd\n",
    "from sklearn.model_selection import train_test_split\n",
    "from transformers import AutoTokenizer, AutoModelForSequenceClassification\n",
    "import torch\n",
    "torch.cuda.empty_cache()\n",
    "from transformers import Trainer, TrainingArguments\n",
    "from sklearn.metrics import accuracy_score, precision_recall_fscore_support\n",
    "import numpy as np\n",
    "from sklearn.metrics import confusion_matrix\n",
    "from torch.nn import CrossEntropyLoss\n",
    "import random\n",
    "import nlpaug.augmenter.word as naw\n",
    "import nltk\n",
    "from nltk.corpus import wordnet\n",
    "\n",
    "\n",
    "\n",
    "from peft import LoraConfig, TaskType\n",
    "from peft import get_peft_model\n"
   ]
  },
  {
   "cell_type": "code",
   "execution_count": 2,
   "id": "a5885023-6c73-46b3-a724-e69476968b7d",
   "metadata": {
    "tags": []
   },
   "outputs": [
    {
     "data": {
      "text/plain": [
       "Index(['Unnamed: 0', 'policy_id', 'policy_type', 'segments', 'Segment Text',\n",
       "       'First Party', 'Third Party', 'Information Type', 'Purpose',\n",
       "       'Collection Process', 'Legal Basis for Collection',\n",
       "       'Third-Party Entity', 'Information Type_Computer information',\n",
       "       'Information Type_Contact information',\n",
       "       'Information Type_Cookies and tracking elements',\n",
       "       'Information Type_Demographic data', 'Information Type_Financial',\n",
       "       'Information Type_Generic personal information',\n",
       "       'Information Type_IP address and device IDs',\n",
       "       'Information Type_Location', 'Purpose_Advertising or marketing',\n",
       "       'Purpose_Analytics or research', 'Purpose_Essential service or feature',\n",
       "       'Purpose_Legal requirement', 'Purpose_Service operation and security',\n",
       "       'Collection Process_Collected on first-party website/app',\n",
       "       'Legal Basis for Collection_Legitimate interests of first or third party',\n",
       "       'Information Type_User online activities',\n",
       "       'Collection Process_Shared by first party with a third party'],\n",
       "      dtype='object')"
      ]
     },
     "execution_count": 2,
     "metadata": {},
     "output_type": "execute_result"
    }
   ],
   "source": [
    "df = pd.read_csv(\"de_4.0.csv\")\n",
    "df.columns[df.notnull().any()]"
   ]
  },
  {
   "cell_type": "code",
   "execution_count": 6,
   "id": "98e669eb-3946-4d64-b315-192007d03fda",
   "metadata": {
    "tags": []
   },
   "outputs": [],
   "source": [
    "target_column = 'Collection Process_Collected on first-party website/app'\n",
    "batch_size = 8\n",
    "epochs = 3\n",
    "\n",
    "learning_rates =  [1e-5, 2e-5, 3e-5, 5e-5, 1e-4, 2e-4, 3e-4]"
   ]
  },
  {
   "cell_type": "markdown",
   "id": "974cd241-d2d5-4e6d-bae4-ec404ce4c6fd",
   "metadata": {
    "jp-MarkdownHeadingCollapsed": true,
    "tags": []
   },
   "source": [
    "# original"
   ]
  },
  {
   "cell_type": "code",
   "execution_count": 24,
   "id": "22bef454-7c12-45fd-aea8-e389373e72ad",
   "metadata": {
    "tags": []
   },
   "outputs": [
    {
     "name": "stderr",
     "output_type": "stream",
     "text": [
      "Some weights of BertForSequenceClassification were not initialized from the model checkpoint at bert-base-german-cased and are newly initialized: ['classifier.weight', 'classifier.bias']\n",
      "You should probably TRAIN this model on a down-stream task to be able to use it for predictions and inference.\n"
     ]
    },
    {
     "name": "stdout",
     "output_type": "stream",
     "text": [
      "Training with learning rate: 1e-05\n"
     ]
    },
    {
     "data": {
      "text/html": [
       "\n",
       "    <div>\n",
       "      \n",
       "      <progress value='1701' max='1701' style='width:300px; height:20px; vertical-align: middle;'></progress>\n",
       "      [1701/1701 06:40, Epoch 3/3]\n",
       "    </div>\n",
       "    <table border=\"1\" class=\"dataframe\">\n",
       "  <thead>\n",
       " <tr style=\"text-align: left;\">\n",
       "      <th>Step</th>\n",
       "      <th>Training Loss</th>\n",
       "      <th>Validation Loss</th>\n",
       "    </tr>\n",
       "  </thead>\n",
       "  <tbody>\n",
       "  </tbody>\n",
       "</table><p>"
      ],
      "text/plain": [
       "<IPython.core.display.HTML object>"
      ]
     },
     "metadata": {},
     "output_type": "display_data"
    },
    {
     "data": {
      "text/html": [],
      "text/plain": [
       "<IPython.core.display.HTML object>"
      ]
     },
     "metadata": {},
     "output_type": "display_data"
    },
    {
     "name": "stdout",
     "output_type": "stream",
     "text": [
      "Evaluation loss for learning rate 1e-05: 0.16487768292427063\n",
      "[[1039   24]\n",
      " [  16   55]]\n",
      "Accuracy: 0.9647266313932981\n",
      "Precision: 0.6962025316455697\n",
      "Recall: 0.7746478873239436\n",
      "F1 Score: 0.7333333333333333\n"
     ]
    },
    {
     "name": "stderr",
     "output_type": "stream",
     "text": [
      "Some weights of BertForSequenceClassification were not initialized from the model checkpoint at bert-base-german-cased and are newly initialized: ['classifier.weight', 'classifier.bias']\n",
      "You should probably TRAIN this model on a down-stream task to be able to use it for predictions and inference.\n"
     ]
    },
    {
     "name": "stdout",
     "output_type": "stream",
     "text": [
      "Training with learning rate: 2e-05\n"
     ]
    },
    {
     "data": {
      "text/html": [
       "\n",
       "    <div>\n",
       "      \n",
       "      <progress value='1701' max='1701' style='width:300px; height:20px; vertical-align: middle;'></progress>\n",
       "      [1701/1701 06:41, Epoch 3/3]\n",
       "    </div>\n",
       "    <table border=\"1\" class=\"dataframe\">\n",
       "  <thead>\n",
       " <tr style=\"text-align: left;\">\n",
       "      <th>Step</th>\n",
       "      <th>Training Loss</th>\n",
       "      <th>Validation Loss</th>\n",
       "    </tr>\n",
       "  </thead>\n",
       "  <tbody>\n",
       "  </tbody>\n",
       "</table><p>"
      ],
      "text/plain": [
       "<IPython.core.display.HTML object>"
      ]
     },
     "metadata": {},
     "output_type": "display_data"
    },
    {
     "data": {
      "text/html": [],
      "text/plain": [
       "<IPython.core.display.HTML object>"
      ]
     },
     "metadata": {},
     "output_type": "display_data"
    },
    {
     "name": "stdout",
     "output_type": "stream",
     "text": [
      "Evaluation loss for learning rate 2e-05: 0.1583331823348999\n",
      "[[1039   24]\n",
      " [  20   51]]\n",
      "Accuracy: 0.9611992945326279\n",
      "Precision: 0.68\n",
      "Recall: 0.7183098591549296\n",
      "F1 Score: 0.6986301369863014\n"
     ]
    },
    {
     "name": "stderr",
     "output_type": "stream",
     "text": [
      "Some weights of BertForSequenceClassification were not initialized from the model checkpoint at bert-base-german-cased and are newly initialized: ['classifier.weight', 'classifier.bias']\n",
      "You should probably TRAIN this model on a down-stream task to be able to use it for predictions and inference.\n"
     ]
    },
    {
     "name": "stdout",
     "output_type": "stream",
     "text": [
      "Training with learning rate: 3e-05\n"
     ]
    },
    {
     "data": {
      "text/html": [
       "\n",
       "    <div>\n",
       "      \n",
       "      <progress value='1701' max='1701' style='width:300px; height:20px; vertical-align: middle;'></progress>\n",
       "      [1701/1701 06:42, Epoch 3/3]\n",
       "    </div>\n",
       "    <table border=\"1\" class=\"dataframe\">\n",
       "  <thead>\n",
       " <tr style=\"text-align: left;\">\n",
       "      <th>Step</th>\n",
       "      <th>Training Loss</th>\n",
       "      <th>Validation Loss</th>\n",
       "    </tr>\n",
       "  </thead>\n",
       "  <tbody>\n",
       "  </tbody>\n",
       "</table><p>"
      ],
      "text/plain": [
       "<IPython.core.display.HTML object>"
      ]
     },
     "metadata": {},
     "output_type": "display_data"
    },
    {
     "data": {
      "text/html": [],
      "text/plain": [
       "<IPython.core.display.HTML object>"
      ]
     },
     "metadata": {},
     "output_type": "display_data"
    },
    {
     "name": "stdout",
     "output_type": "stream",
     "text": [
      "Evaluation loss for learning rate 3e-05: 0.1545935720205307\n",
      "[[1039   24]\n",
      " [  17   54]]\n",
      "Accuracy: 0.9638447971781305\n",
      "Precision: 0.6923076923076923\n",
      "Recall: 0.7605633802816901\n",
      "F1 Score: 0.7248322147651006\n"
     ]
    },
    {
     "name": "stderr",
     "output_type": "stream",
     "text": [
      "Some weights of BertForSequenceClassification were not initialized from the model checkpoint at bert-base-german-cased and are newly initialized: ['classifier.weight', 'classifier.bias']\n",
      "You should probably TRAIN this model on a down-stream task to be able to use it for predictions and inference.\n"
     ]
    },
    {
     "name": "stdout",
     "output_type": "stream",
     "text": [
      "Training with learning rate: 5e-05\n"
     ]
    },
    {
     "data": {
      "text/html": [
       "\n",
       "    <div>\n",
       "      \n",
       "      <progress value='1701' max='1701' style='width:300px; height:20px; vertical-align: middle;'></progress>\n",
       "      [1701/1701 06:44, Epoch 3/3]\n",
       "    </div>\n",
       "    <table border=\"1\" class=\"dataframe\">\n",
       "  <thead>\n",
       " <tr style=\"text-align: left;\">\n",
       "      <th>Step</th>\n",
       "      <th>Training Loss</th>\n",
       "      <th>Validation Loss</th>\n",
       "    </tr>\n",
       "  </thead>\n",
       "  <tbody>\n",
       "  </tbody>\n",
       "</table><p>"
      ],
      "text/plain": [
       "<IPython.core.display.HTML object>"
      ]
     },
     "metadata": {},
     "output_type": "display_data"
    },
    {
     "data": {
      "text/html": [],
      "text/plain": [
       "<IPython.core.display.HTML object>"
      ]
     },
     "metadata": {},
     "output_type": "display_data"
    },
    {
     "name": "stdout",
     "output_type": "stream",
     "text": [
      "Evaluation loss for learning rate 5e-05: 0.1748676300048828\n",
      "[[1038   25]\n",
      " [  22   49]]\n",
      "Accuracy: 0.9585537918871252\n",
      "Precision: 0.6621621621621622\n",
      "Recall: 0.6901408450704225\n",
      "F1 Score: 0.6758620689655171\n"
     ]
    },
    {
     "name": "stderr",
     "output_type": "stream",
     "text": [
      "Some weights of BertForSequenceClassification were not initialized from the model checkpoint at bert-base-german-cased and are newly initialized: ['classifier.weight', 'classifier.bias']\n",
      "You should probably TRAIN this model on a down-stream task to be able to use it for predictions and inference.\n"
     ]
    },
    {
     "name": "stdout",
     "output_type": "stream",
     "text": [
      "Training with learning rate: 0.0001\n"
     ]
    },
    {
     "data": {
      "text/html": [
       "\n",
       "    <div>\n",
       "      \n",
       "      <progress value='1701' max='1701' style='width:300px; height:20px; vertical-align: middle;'></progress>\n",
       "      [1701/1701 06:44, Epoch 3/3]\n",
       "    </div>\n",
       "    <table border=\"1\" class=\"dataframe\">\n",
       "  <thead>\n",
       " <tr style=\"text-align: left;\">\n",
       "      <th>Step</th>\n",
       "      <th>Training Loss</th>\n",
       "      <th>Validation Loss</th>\n",
       "    </tr>\n",
       "  </thead>\n",
       "  <tbody>\n",
       "  </tbody>\n",
       "</table><p>"
      ],
      "text/plain": [
       "<IPython.core.display.HTML object>"
      ]
     },
     "metadata": {},
     "output_type": "display_data"
    },
    {
     "data": {
      "text/html": [],
      "text/plain": [
       "<IPython.core.display.HTML object>"
      ]
     },
     "metadata": {},
     "output_type": "display_data"
    },
    {
     "name": "stdout",
     "output_type": "stream",
     "text": [
      "Evaluation loss for learning rate 0.0001: 0.2784275412559509\n",
      "[[1063    0]\n",
      " [  71    0]]\n",
      "Accuracy: 0.937389770723104\n",
      "Precision: 0.0\n",
      "Recall: 0.0\n",
      "F1 Score: 0.0\n"
     ]
    },
    {
     "name": "stderr",
     "output_type": "stream",
     "text": [
      "/opt/conda/lib/python3.10/site-packages/sklearn/metrics/_classification.py:1465: UndefinedMetricWarning: Precision and F-score are ill-defined and being set to 0.0 due to no predicted samples. Use `zero_division` parameter to control this behavior.\n",
      "  _warn_prf(average, modifier, msg_start, len(result))\n",
      "Some weights of BertForSequenceClassification were not initialized from the model checkpoint at bert-base-german-cased and are newly initialized: ['classifier.weight', 'classifier.bias']\n",
      "You should probably TRAIN this model on a down-stream task to be able to use it for predictions and inference.\n"
     ]
    },
    {
     "name": "stdout",
     "output_type": "stream",
     "text": [
      "Training with learning rate: 0.0002\n"
     ]
    },
    {
     "data": {
      "text/html": [
       "\n",
       "    <div>\n",
       "      \n",
       "      <progress value='1701' max='1701' style='width:300px; height:20px; vertical-align: middle;'></progress>\n",
       "      [1701/1701 06:42, Epoch 3/3]\n",
       "    </div>\n",
       "    <table border=\"1\" class=\"dataframe\">\n",
       "  <thead>\n",
       " <tr style=\"text-align: left;\">\n",
       "      <th>Step</th>\n",
       "      <th>Training Loss</th>\n",
       "      <th>Validation Loss</th>\n",
       "    </tr>\n",
       "  </thead>\n",
       "  <tbody>\n",
       "  </tbody>\n",
       "</table><p>"
      ],
      "text/plain": [
       "<IPython.core.display.HTML object>"
      ]
     },
     "metadata": {},
     "output_type": "display_data"
    },
    {
     "data": {
      "text/html": [],
      "text/plain": [
       "<IPython.core.display.HTML object>"
      ]
     },
     "metadata": {},
     "output_type": "display_data"
    },
    {
     "name": "stdout",
     "output_type": "stream",
     "text": [
      "Evaluation loss for learning rate 0.0002: 0.27561426162719727\n",
      "[[1063    0]\n",
      " [  71    0]]\n",
      "Accuracy: 0.937389770723104\n",
      "Precision: 0.0\n",
      "Recall: 0.0\n",
      "F1 Score: 0.0\n"
     ]
    },
    {
     "name": "stderr",
     "output_type": "stream",
     "text": [
      "/opt/conda/lib/python3.10/site-packages/sklearn/metrics/_classification.py:1465: UndefinedMetricWarning: Precision and F-score are ill-defined and being set to 0.0 due to no predicted samples. Use `zero_division` parameter to control this behavior.\n",
      "  _warn_prf(average, modifier, msg_start, len(result))\n",
      "Some weights of BertForSequenceClassification were not initialized from the model checkpoint at bert-base-german-cased and are newly initialized: ['classifier.weight', 'classifier.bias']\n",
      "You should probably TRAIN this model on a down-stream task to be able to use it for predictions and inference.\n"
     ]
    },
    {
     "name": "stdout",
     "output_type": "stream",
     "text": [
      "Training with learning rate: 0.0003\n"
     ]
    },
    {
     "data": {
      "text/html": [
       "\n",
       "    <div>\n",
       "      \n",
       "      <progress value='1701' max='1701' style='width:300px; height:20px; vertical-align: middle;'></progress>\n",
       "      [1701/1701 06:46, Epoch 3/3]\n",
       "    </div>\n",
       "    <table border=\"1\" class=\"dataframe\">\n",
       "  <thead>\n",
       " <tr style=\"text-align: left;\">\n",
       "      <th>Step</th>\n",
       "      <th>Training Loss</th>\n",
       "      <th>Validation Loss</th>\n",
       "    </tr>\n",
       "  </thead>\n",
       "  <tbody>\n",
       "  </tbody>\n",
       "</table><p>"
      ],
      "text/plain": [
       "<IPython.core.display.HTML object>"
      ]
     },
     "metadata": {},
     "output_type": "display_data"
    },
    {
     "data": {
      "text/html": [],
      "text/plain": [
       "<IPython.core.display.HTML object>"
      ]
     },
     "metadata": {},
     "output_type": "display_data"
    },
    {
     "name": "stdout",
     "output_type": "stream",
     "text": [
      "Evaluation loss for learning rate 0.0003: 0.27934563159942627\n",
      "[[1063    0]\n",
      " [  71    0]]\n",
      "Accuracy: 0.937389770723104\n",
      "Precision: 0.0\n",
      "Recall: 0.0\n",
      "F1 Score: 0.0\n",
      "Best Learning Rate: 3e-05 with loss: 0.1545935720205307\n",
      "Best f1 Learning Rat: 1e-05 with highest f1: 0.7333333333333333\n"
     ]
    },
    {
     "name": "stderr",
     "output_type": "stream",
     "text": [
      "/opt/conda/lib/python3.10/site-packages/sklearn/metrics/_classification.py:1465: UndefinedMetricWarning: Precision and F-score are ill-defined and being set to 0.0 due to no predicted samples. Use `zero_division` parameter to control this behavior.\n",
      "  _warn_prf(average, modifier, msg_start, len(result))\n"
     ]
    }
   ],
   "source": [
    "best_lr = None\n",
    "lowest_eval_loss = float('inf')\n",
    "\n",
    "\n",
    "best_f1_lr = None\n",
    "highest_f1 = 0\n",
    "\n",
    "\n",
    "for lr in learning_rates:\n",
    "    \n",
    "#--------------------------------------------------------------------------------    \n",
    "    tokenizer = AutoTokenizer.from_pretrained(\"uklfr/gottbert-base\")\n",
    "    model = AutoModelForSequenceClassification.from_pretrained(\"uklfr/gottbert-base\")\n",
    "\n",
    "\n",
    " \n",
    "#-----------------------------------------------------------------------------------           \n",
    "\n",
    "    X_train = list(df['Segment Text'].loc[(df['policy_type'] == 'TRAIN')])\n",
    "    y_train = list(df[target_column].loc[(df['policy_type'] == 'TRAIN')])\n",
    "\n",
    "\n",
    "    # Split the data into training and validation sets\n",
    "    X_train, X_val, y_train, y_val = train_test_split(X_train, y_train, test_size=0.20, random_state=0)\n",
    "\n",
    "\n",
    "    # mapping labels\n",
    "\n",
    "    label_mapping = {0: 0, 1: 1}\n",
    "    y_train_integers = [label_mapping[label] for label in y_train]\n",
    "    y_val_integers = [label_mapping[label] for label in y_val]\n",
    "\n",
    "    train_encodings = tokenizer(X_train, max_length=512, truncation=True, padding='max_length')\n",
    "    val_encodings = tokenizer(X_val, max_length=512, truncation=True, padding='max_length')\n",
    "\n",
    "    #\n",
    "    class TextDataset(torch.utils.data.Dataset):\n",
    "        def __init__(self, encodings, labels):\n",
    "            self.encodings = encodings\n",
    "            self.labels = labels\n",
    "\n",
    "        def __getitem__(self, idx):\n",
    "            item = {key: torch.tensor(val[idx]) for key, val in self.encodings.items()}\n",
    "            item['labels'] = self.labels[idx]  # Removed torch.tensor here\n",
    "            return item\n",
    "\n",
    "        def __len__(self):\n",
    "            return len(self.labels)\n",
    "\n",
    "\n",
    "    train_dataset = TextDataset(train_encodings, y_train_integers)\n",
    "    val_dataset = TextDataset(val_encodings, y_val_integers)\n",
    "    \n",
    "#---------------------------------------------------------------------------  \n",
    "    \n",
    "    # Set up training arguments with the current learning rate\n",
    "    training_args = TrainingArguments(\n",
    "        output_dir='./results',\n",
    "        learning_rate=lr,  # Set learning rate here\n",
    "        num_train_epochs=epochs ,\n",
    "        per_device_train_batch_size=batch_size,\n",
    "        per_device_eval_batch_size=8,\n",
    "        warmup_steps=500,\n",
    "        weight_decay=0.01,\n",
    "        logging_dir='./logs',\n",
    "        logging_steps=100,\n",
    "        evaluation_strategy=\"steps\",\n",
    "        eval_steps=3000\n",
    "    )\n",
    "\n",
    "    # Set up the Trainer\n",
    "    trainer = Trainer(\n",
    "        model=model,\n",
    "        args=training_args,\n",
    "        train_dataset=train_dataset,\n",
    "        eval_dataset=val_dataset\n",
    "    )\n",
    "\n",
    "\n",
    "    # Train the model with the current learning rate\n",
    "    print(f\"Training with learning rate: {lr}\")\n",
    "    trainer.train()\n",
    "    \n",
    " # Evaluate the model\n",
    "    eval_result = trainer.evaluate()\n",
    "    print(f\"Evaluation loss for learning rate {lr}: {eval_result['eval_loss']}\")\n",
    "    \n",
    "    \n",
    "    predictions = trainer.predict(val_dataset).predictions\n",
    "    predictions_label = np.argmax(predictions, axis=1)\n",
    "\n",
    "    cm=confusion_matrix( y_val_integers, predictions_label)\n",
    "    print(cm)\n",
    "\n",
    "    accuracy = accuracy_score( y_val_integers, predictions_label)\n",
    "    precision, recall, f1, _ = precision_recall_fscore_support(y_val_integers, predictions_label, average='binary')\n",
    "    print(f\"Accuracy: {accuracy}\")\n",
    "    print(f\"Precision: {precision}\")\n",
    "    print(f\"Recall: {recall}\")\n",
    "    print(f\"F1 Score: {f1}\")\n",
    "\n",
    "    if eval_result['eval_loss'] < lowest_eval_loss:\n",
    "        best_lr = lr\n",
    "        lowest_eval_loss = eval_result['eval_loss']\n",
    "\n",
    "    if f1 > highest_f1:\n",
    "        best_f1_lr = lr\n",
    "        highest_f1 = f1\n",
    "        \n",
    "\n",
    "print(f\"Best Learning Rate: {best_lr} with loss: {lowest_eval_loss}\")\n",
    "print(f\"Best f1 Learning Rat: {best_f1_lr} with highest f1: { highest_f1}\")\n"
   ]
  },
  {
   "cell_type": "markdown",
   "id": "badac47e-684e-49aa-a088-8c4eb09607b0",
   "metadata": {
    "tags": []
   },
   "source": [
    "### Retrain the model with certain learning rate\n"
   ]
  },
  {
   "cell_type": "code",
   "execution_count": 25,
   "id": "2dfbc969-e0d8-4092-81b3-c1d6b61c5090",
   "metadata": {},
   "outputs": [
    {
     "name": "stderr",
     "output_type": "stream",
     "text": [
      "Some weights of BertForSequenceClassification were not initialized from the model checkpoint at bert-base-german-cased and are newly initialized: ['classifier.weight', 'classifier.bias']\n",
      "You should probably TRAIN this model on a down-stream task to be able to use it for predictions and inference.\n"
     ]
    },
    {
     "data": {
      "text/html": [
       "\n",
       "    <div>\n",
       "      \n",
       "      <progress value='2127' max='2127' style='width:300px; height:20px; vertical-align: middle;'></progress>\n",
       "      [2127/2127 08:26, Epoch 3/3]\n",
       "    </div>\n",
       "    <table border=\"1\" class=\"dataframe\">\n",
       "  <thead>\n",
       " <tr style=\"text-align: left;\">\n",
       "      <th>Step</th>\n",
       "      <th>Training Loss</th>\n",
       "      <th>Validation Loss</th>\n",
       "    </tr>\n",
       "  </thead>\n",
       "  <tbody>\n",
       "  </tbody>\n",
       "</table><p>"
      ],
      "text/plain": [
       "<IPython.core.display.HTML object>"
      ]
     },
     "metadata": {},
     "output_type": "display_data"
    },
    {
     "data": {
      "text/html": [],
      "text/plain": [
       "<IPython.core.display.HTML object>"
      ]
     },
     "metadata": {},
     "output_type": "display_data"
    },
    {
     "name": "stdout",
     "output_type": "stream",
     "text": [
      "[[1134   18]\n",
      " [  10   41]]\n",
      "Accuracy: 0.9767248545303409\n",
      "Precision: 0.6949152542372882\n",
      "Recall: 0.803921568627451\n",
      "F1 Score: 0.7454545454545455\n",
      "Best f1 Learning Rat: 1e-05\n"
     ]
    }
   ],
   "source": [
    "tokenizer = AutoTokenizer.from_pretrained(\"bert-base-german-cased\")\n",
    "model = BertForSequenceClassification.from_pretrained(\"bert-base-german-cased\")\n",
    "\n",
    "#-----------------------------------------------------------------------------------     \n",
    "\n",
    "X_train=list(df['Segment Text'].loc[(df['policy_type'] == 'TRAIN')])\n",
    "X_test=list(df['Segment Text'].loc[(df['policy_type'] == 'TEST')])\n",
    "\n",
    "y_train=list(df[target_column].loc[(df['policy_type'] == 'TRAIN')])\n",
    "y_test=list(df[target_column].loc[(df['policy_type'] == 'TEST')])\n",
    "\n",
    "\n",
    "train_encodings = tokenizer(X_train, max_length=512, truncation=True, padding='max_length')\n",
    "test_encodings = tokenizer(X_test, max_length=512, truncation=True, padding='max_length')\n",
    "\n",
    "#-----------\n",
    "\n",
    "label_mapping = {0: 0, 1: 1}\n",
    "y_train_integers = [label_mapping[label] for label in y_train]\n",
    "y_test_integers = [label_mapping[label] for label in y_test]\n",
    "\n",
    "\n",
    "class TextDataset(torch.utils.data.Dataset):\n",
    "    def __init__(self, encodings, labels):\n",
    "        self.encodings = encodings\n",
    "        self.labels = labels\n",
    "\n",
    "    def __getitem__(self, idx):\n",
    "        item = {key: torch.tensor(val[idx]) for key, val in self.encodings.items()}\n",
    "        item['labels'] = self.labels[idx]  # Removed torch.tensor here\n",
    "        return item\n",
    "\n",
    "    def __len__(self):\n",
    "        return len(self.labels)\n",
    "\n",
    "train_dataset = TextDataset(train_encodings, y_train_integers)\n",
    "test_dataset = TextDataset(test_encodings, y_test_integers)\n",
    "\n",
    "#--------------------------\n",
    "\n",
    "training_args = TrainingArguments(\n",
    "    output_dir='./results',\n",
    "    learning_rate= best_f1_lr , # Set learning rate here\n",
    "    num_train_epochs=epochs ,\n",
    "    per_device_train_batch_size=batch_size,\n",
    "    per_device_eval_batch_size=8,\n",
    "    warmup_steps=500,\n",
    "    weight_decay=0.01,\n",
    "    logging_dir='./logs',\n",
    "    logging_steps=100,\n",
    "    evaluation_strategy=\"steps\",\n",
    "    eval_steps=3000\n",
    "\n",
    ")\n",
    "\n",
    "trainer = Trainer(\n",
    "    model=model,\n",
    "    args=training_args,\n",
    "    train_dataset=train_dataset,\n",
    "    eval_dataset=test_dataset\n",
    ")\n",
    "\n",
    "trainer.train()\n",
    "\n",
    "\n",
    "predictions = trainer.predict(test_dataset).predictions\n",
    "predictions_label = np.argmax(predictions, axis=1)\n",
    "\n",
    "cm=confusion_matrix(y_test_integers, predictions_label)\n",
    "print(cm)\n",
    "\n",
    "accuracy = accuracy_score(y_test_integers, predictions_label)\n",
    "precision, recall, f1, _ = precision_recall_fscore_support(y_test_integers, predictions_label, average='binary')\n",
    "print(f\"Accuracy: {accuracy}\")\n",
    "print(f\"Precision: {precision}\")\n",
    "print(f\"Recall: {recall}\")\n",
    "print(f\"F1 Score: {f1}\")\n",
    "\n",
    "print(f\"Best f1 Learning Rat: {best_f1_lr}\")"
   ]
  },
  {
   "cell_type": "code",
   "execution_count": null,
   "id": "425c7e19-182b-4acf-8bcb-8f7912275825",
   "metadata": {},
   "outputs": [],
   "source": []
  },
  {
   "cell_type": "code",
   "execution_count": null,
   "id": "55069e38-b8da-4792-9e7b-953ee43484fe",
   "metadata": {},
   "outputs": [],
   "source": []
  },
  {
   "cell_type": "markdown",
   "id": "0f55c53f-e21c-4989-b339-db252e8d4121",
   "metadata": {
    "tags": []
   },
   "source": [
    "# Fine Tuning last 2 layers "
   ]
  },
  {
   "cell_type": "code",
   "execution_count": 7,
   "id": "29f9bd88-5644-472b-9472-894f93791f91",
   "metadata": {},
   "outputs": [
    {
     "name": "stderr",
     "output_type": "stream",
     "text": [
      "Some weights of RobertaForSequenceClassification were not initialized from the model checkpoint at uklfr/gottbert-base and are newly initialized: ['classifier.dense.bias', 'classifier.dense.weight', 'classifier.out_proj.weight', 'classifier.out_proj.bias']\n",
      "You should probably TRAIN this model on a down-stream task to be able to use it for predictions and inference.\n"
     ]
    },
    {
     "name": "stdout",
     "output_type": "stream",
     "text": [
      "Training with learning rate: 1e-05\n"
     ]
    },
    {
     "data": {
      "text/html": [
       "\n",
       "    <div>\n",
       "      \n",
       "      <progress value='1701' max='1701' style='width:300px; height:20px; vertical-align: middle;'></progress>\n",
       "      [1701/1701 08:17, Epoch 3/3]\n",
       "    </div>\n",
       "    <table border=\"1\" class=\"dataframe\">\n",
       "  <thead>\n",
       " <tr style=\"text-align: left;\">\n",
       "      <th>Step</th>\n",
       "      <th>Training Loss</th>\n",
       "      <th>Validation Loss</th>\n",
       "    </tr>\n",
       "  </thead>\n",
       "  <tbody>\n",
       "  </tbody>\n",
       "</table><p>"
      ],
      "text/plain": [
       "<IPython.core.display.HTML object>"
      ]
     },
     "metadata": {},
     "output_type": "display_data"
    },
    {
     "data": {
      "text/html": [],
      "text/plain": [
       "<IPython.core.display.HTML object>"
      ]
     },
     "metadata": {},
     "output_type": "display_data"
    },
    {
     "name": "stdout",
     "output_type": "stream",
     "text": [
      "Evaluation loss for learning rate 1e-05: 0.19040130078792572\n",
      "[[1074    0]\n",
      " [  60    0]]\n",
      "Accuracy: 0.9470899470899471\n",
      "Precision: 0.0\n",
      "Recall: 0.0\n",
      "F1 Score: 0.0\n"
     ]
    },
    {
     "name": "stderr",
     "output_type": "stream",
     "text": [
      "/opt/conda/lib/python3.10/site-packages/sklearn/metrics/_classification.py:1465: UndefinedMetricWarning: Precision and F-score are ill-defined and being set to 0.0 due to no predicted samples. Use `zero_division` parameter to control this behavior.\n",
      "  _warn_prf(average, modifier, msg_start, len(result))\n",
      "Some weights of RobertaForSequenceClassification were not initialized from the model checkpoint at uklfr/gottbert-base and are newly initialized: ['classifier.dense.bias', 'classifier.dense.weight', 'classifier.out_proj.weight', 'classifier.out_proj.bias']\n",
      "You should probably TRAIN this model on a down-stream task to be able to use it for predictions and inference.\n"
     ]
    },
    {
     "name": "stdout",
     "output_type": "stream",
     "text": [
      "Training with learning rate: 2e-05\n"
     ]
    },
    {
     "data": {
      "text/html": [
       "\n",
       "    <div>\n",
       "      \n",
       "      <progress value='1701' max='1701' style='width:300px; height:20px; vertical-align: middle;'></progress>\n",
       "      [1701/1701 12:27, Epoch 3/3]\n",
       "    </div>\n",
       "    <table border=\"1\" class=\"dataframe\">\n",
       "  <thead>\n",
       " <tr style=\"text-align: left;\">\n",
       "      <th>Step</th>\n",
       "      <th>Training Loss</th>\n",
       "      <th>Validation Loss</th>\n",
       "    </tr>\n",
       "  </thead>\n",
       "  <tbody>\n",
       "  </tbody>\n",
       "</table><p>"
      ],
      "text/plain": [
       "<IPython.core.display.HTML object>"
      ]
     },
     "metadata": {},
     "output_type": "display_data"
    },
    {
     "data": {
      "text/html": [],
      "text/plain": [
       "<IPython.core.display.HTML object>"
      ]
     },
     "metadata": {},
     "output_type": "display_data"
    },
    {
     "name": "stdout",
     "output_type": "stream",
     "text": [
      "Evaluation loss for learning rate 2e-05: 0.181021049618721\n",
      "[[1074    0]\n",
      " [  60    0]]\n",
      "Accuracy: 0.9470899470899471\n",
      "Precision: 0.0\n",
      "Recall: 0.0\n",
      "F1 Score: 0.0\n"
     ]
    },
    {
     "name": "stderr",
     "output_type": "stream",
     "text": [
      "/opt/conda/lib/python3.10/site-packages/sklearn/metrics/_classification.py:1465: UndefinedMetricWarning: Precision and F-score are ill-defined and being set to 0.0 due to no predicted samples. Use `zero_division` parameter to control this behavior.\n",
      "  _warn_prf(average, modifier, msg_start, len(result))\n",
      "Some weights of RobertaForSequenceClassification were not initialized from the model checkpoint at uklfr/gottbert-base and are newly initialized: ['classifier.dense.bias', 'classifier.dense.weight', 'classifier.out_proj.weight', 'classifier.out_proj.bias']\n",
      "You should probably TRAIN this model on a down-stream task to be able to use it for predictions and inference.\n"
     ]
    },
    {
     "name": "stdout",
     "output_type": "stream",
     "text": [
      "Training with learning rate: 3e-05\n"
     ]
    },
    {
     "data": {
      "text/html": [
       "\n",
       "    <div>\n",
       "      \n",
       "      <progress value='1701' max='1701' style='width:300px; height:20px; vertical-align: middle;'></progress>\n",
       "      [1701/1701 11:47, Epoch 3/3]\n",
       "    </div>\n",
       "    <table border=\"1\" class=\"dataframe\">\n",
       "  <thead>\n",
       " <tr style=\"text-align: left;\">\n",
       "      <th>Step</th>\n",
       "      <th>Training Loss</th>\n",
       "      <th>Validation Loss</th>\n",
       "    </tr>\n",
       "  </thead>\n",
       "  <tbody>\n",
       "  </tbody>\n",
       "</table><p>"
      ],
      "text/plain": [
       "<IPython.core.display.HTML object>"
      ]
     },
     "metadata": {},
     "output_type": "display_data"
    },
    {
     "data": {
      "text/html": [],
      "text/plain": [
       "<IPython.core.display.HTML object>"
      ]
     },
     "metadata": {},
     "output_type": "display_data"
    },
    {
     "name": "stdout",
     "output_type": "stream",
     "text": [
      "Evaluation loss for learning rate 3e-05: 0.1750197410583496\n",
      "[[1071    3]\n",
      " [  56    4]]\n",
      "Accuracy: 0.9479717813051146\n",
      "Precision: 0.5714285714285714\n",
      "Recall: 0.06666666666666667\n",
      "F1 Score: 0.11940298507462686\n"
     ]
    },
    {
     "name": "stderr",
     "output_type": "stream",
     "text": [
      "Some weights of RobertaForSequenceClassification were not initialized from the model checkpoint at uklfr/gottbert-base and are newly initialized: ['classifier.dense.bias', 'classifier.dense.weight', 'classifier.out_proj.weight', 'classifier.out_proj.bias']\n",
      "You should probably TRAIN this model on a down-stream task to be able to use it for predictions and inference.\n"
     ]
    },
    {
     "name": "stdout",
     "output_type": "stream",
     "text": [
      "Training with learning rate: 5e-05\n"
     ]
    },
    {
     "data": {
      "text/html": [
       "\n",
       "    <div>\n",
       "      \n",
       "      <progress value='1701' max='1701' style='width:300px; height:20px; vertical-align: middle;'></progress>\n",
       "      [1701/1701 11:44, Epoch 3/3]\n",
       "    </div>\n",
       "    <table border=\"1\" class=\"dataframe\">\n",
       "  <thead>\n",
       " <tr style=\"text-align: left;\">\n",
       "      <th>Step</th>\n",
       "      <th>Training Loss</th>\n",
       "      <th>Validation Loss</th>\n",
       "    </tr>\n",
       "  </thead>\n",
       "  <tbody>\n",
       "  </tbody>\n",
       "</table><p>"
      ],
      "text/plain": [
       "<IPython.core.display.HTML object>"
      ]
     },
     "metadata": {},
     "output_type": "display_data"
    },
    {
     "data": {
      "text/html": [],
      "text/plain": [
       "<IPython.core.display.HTML object>"
      ]
     },
     "metadata": {},
     "output_type": "display_data"
    },
    {
     "name": "stdout",
     "output_type": "stream",
     "text": [
      "Evaluation loss for learning rate 5e-05: 0.16854016482830048\n",
      "[[1067    7]\n",
      " [  49   11]]\n",
      "Accuracy: 0.9506172839506173\n",
      "Precision: 0.6111111111111112\n",
      "Recall: 0.18333333333333332\n",
      "F1 Score: 0.282051282051282\n"
     ]
    },
    {
     "name": "stderr",
     "output_type": "stream",
     "text": [
      "Some weights of RobertaForSequenceClassification were not initialized from the model checkpoint at uklfr/gottbert-base and are newly initialized: ['classifier.dense.bias', 'classifier.dense.weight', 'classifier.out_proj.weight', 'classifier.out_proj.bias']\n",
      "You should probably TRAIN this model on a down-stream task to be able to use it for predictions and inference.\n"
     ]
    },
    {
     "name": "stdout",
     "output_type": "stream",
     "text": [
      "Training with learning rate: 0.0001\n"
     ]
    },
    {
     "data": {
      "text/html": [
       "\n",
       "    <div>\n",
       "      \n",
       "      <progress value='1701' max='1701' style='width:300px; height:20px; vertical-align: middle;'></progress>\n",
       "      [1701/1701 11:26, Epoch 3/3]\n",
       "    </div>\n",
       "    <table border=\"1\" class=\"dataframe\">\n",
       "  <thead>\n",
       " <tr style=\"text-align: left;\">\n",
       "      <th>Step</th>\n",
       "      <th>Training Loss</th>\n",
       "      <th>Validation Loss</th>\n",
       "    </tr>\n",
       "  </thead>\n",
       "  <tbody>\n",
       "  </tbody>\n",
       "</table><p>"
      ],
      "text/plain": [
       "<IPython.core.display.HTML object>"
      ]
     },
     "metadata": {},
     "output_type": "display_data"
    },
    {
     "data": {
      "text/html": [],
      "text/plain": [
       "<IPython.core.display.HTML object>"
      ]
     },
     "metadata": {},
     "output_type": "display_data"
    },
    {
     "name": "stdout",
     "output_type": "stream",
     "text": [
      "Evaluation loss for learning rate 0.0001: 0.1695026159286499\n",
      "[[1065    9]\n",
      " [  45   15]]\n",
      "Accuracy: 0.9523809523809523\n",
      "Precision: 0.625\n",
      "Recall: 0.25\n",
      "F1 Score: 0.35714285714285715\n"
     ]
    },
    {
     "name": "stderr",
     "output_type": "stream",
     "text": [
      "Some weights of RobertaForSequenceClassification were not initialized from the model checkpoint at uklfr/gottbert-base and are newly initialized: ['classifier.dense.bias', 'classifier.dense.weight', 'classifier.out_proj.weight', 'classifier.out_proj.bias']\n",
      "You should probably TRAIN this model on a down-stream task to be able to use it for predictions and inference.\n"
     ]
    },
    {
     "name": "stdout",
     "output_type": "stream",
     "text": [
      "Training with learning rate: 0.0002\n"
     ]
    },
    {
     "data": {
      "text/html": [
       "\n",
       "    <div>\n",
       "      \n",
       "      <progress value='1701' max='1701' style='width:300px; height:20px; vertical-align: middle;'></progress>\n",
       "      [1701/1701 06:02, Epoch 3/3]\n",
       "    </div>\n",
       "    <table border=\"1\" class=\"dataframe\">\n",
       "  <thead>\n",
       " <tr style=\"text-align: left;\">\n",
       "      <th>Step</th>\n",
       "      <th>Training Loss</th>\n",
       "      <th>Validation Loss</th>\n",
       "    </tr>\n",
       "  </thead>\n",
       "  <tbody>\n",
       "  </tbody>\n",
       "</table><p>"
      ],
      "text/plain": [
       "<IPython.core.display.HTML object>"
      ]
     },
     "metadata": {},
     "output_type": "display_data"
    },
    {
     "data": {
      "text/html": [],
      "text/plain": [
       "<IPython.core.display.HTML object>"
      ]
     },
     "metadata": {},
     "output_type": "display_data"
    },
    {
     "name": "stdout",
     "output_type": "stream",
     "text": [
      "Evaluation loss for learning rate 0.0002: 0.15718339383602142\n",
      "[[1066    8]\n",
      " [  53    7]]\n",
      "Accuracy: 0.9462081128747796\n",
      "Precision: 0.4666666666666667\n",
      "Recall: 0.11666666666666667\n",
      "F1 Score: 0.18666666666666668\n"
     ]
    },
    {
     "name": "stderr",
     "output_type": "stream",
     "text": [
      "Some weights of RobertaForSequenceClassification were not initialized from the model checkpoint at uklfr/gottbert-base and are newly initialized: ['classifier.dense.bias', 'classifier.dense.weight', 'classifier.out_proj.weight', 'classifier.out_proj.bias']\n",
      "You should probably TRAIN this model on a down-stream task to be able to use it for predictions and inference.\n"
     ]
    },
    {
     "name": "stdout",
     "output_type": "stream",
     "text": [
      "Training with learning rate: 0.0003\n"
     ]
    },
    {
     "data": {
      "text/html": [
       "\n",
       "    <div>\n",
       "      \n",
       "      <progress value='1701' max='1701' style='width:300px; height:20px; vertical-align: middle;'></progress>\n",
       "      [1701/1701 02:59, Epoch 3/3]\n",
       "    </div>\n",
       "    <table border=\"1\" class=\"dataframe\">\n",
       "  <thead>\n",
       " <tr style=\"text-align: left;\">\n",
       "      <th>Step</th>\n",
       "      <th>Training Loss</th>\n",
       "      <th>Validation Loss</th>\n",
       "    </tr>\n",
       "  </thead>\n",
       "  <tbody>\n",
       "  </tbody>\n",
       "</table><p>"
      ],
      "text/plain": [
       "<IPython.core.display.HTML object>"
      ]
     },
     "metadata": {},
     "output_type": "display_data"
    },
    {
     "data": {
      "text/html": [],
      "text/plain": [
       "<IPython.core.display.HTML object>"
      ]
     },
     "metadata": {},
     "output_type": "display_data"
    },
    {
     "name": "stdout",
     "output_type": "stream",
     "text": [
      "Evaluation loss for learning rate 0.0003: 0.15607497096061707\n",
      "[[1062   12]\n",
      " [  49   11]]\n",
      "Accuracy: 0.9462081128747796\n",
      "Precision: 0.4782608695652174\n",
      "Recall: 0.18333333333333332\n",
      "F1 Score: 0.2650602409638554\n",
      "Best Learning Rate: 0.0003 with loss: 0.15607497096061707\n",
      "Best f1 Learning Rat: 0.0001 with highest f1: 0.35714285714285715\n"
     ]
    }
   ],
   "source": [
    "\n",
    "best_lr = None\n",
    "lowest_eval_loss = float('inf')\n",
    "\n",
    "best_f1_lr = None\n",
    "highest_f1 = 0\n",
    "\n",
    "\n",
    "\n",
    "for lr in learning_rates:\n",
    "    \n",
    "#--------------------------------------------------------------------------------    \n",
    "    tokenizer = AutoTokenizer.from_pretrained(\"uklfr/gottbert-base\")\n",
    "    model = AutoModelForSequenceClassification.from_pretrained(\"uklfr/gottbert-base\")\n",
    "\n",
    "\n",
    "    # Freeze all parameters\n",
    "    for param in model.parameters():\n",
    "        param.requires_grad = False\n",
    "\n",
    "    # Unfreeze the last two layers of the RoBERTa model\n",
    "    # Access the layers as model.roberta.encoder.layer\n",
    "    for module in [model.roberta.encoder.layer[-2], model.roberta.encoder.layer[-1]]:\n",
    "        for param in module.parameters():\n",
    "            param.requires_grad = True\n",
    "            \n",
    "#-----------------------------------------------------------------------------------           \n",
    "\n",
    "    X_train = list(df['Segment Text'].loc[(df['policy_type'] == 'TRAIN')])\n",
    "    y_train = list(df[target_column].loc[(df['policy_type'] == 'TRAIN')])\n",
    "\n",
    "\n",
    "    # Split the data into training and validation sets\n",
    "    X_train, X_val, y_train, y_val = train_test_split(X_train, y_train, test_size=0.20, random_state=0)\n",
    "\n",
    "\n",
    "    # mapping labels\n",
    "\n",
    "    label_mapping = {0: 0, 1: 1}\n",
    "    y_train_integers = [label_mapping[label] for label in y_train]\n",
    "    y_val_integers = [label_mapping[label] for label in y_val]\n",
    "\n",
    "    train_encodings = tokenizer(X_train, max_length=512, truncation=True, padding='max_length')\n",
    "    val_encodings = tokenizer(X_val, max_length=512, truncation=True, padding='max_length')\n",
    "\n",
    "    #\n",
    "    class TextDataset(torch.utils.data.Dataset):\n",
    "        def __init__(self, encodings, labels):\n",
    "            self.encodings = encodings\n",
    "            self.labels = labels\n",
    "\n",
    "        def __getitem__(self, idx):\n",
    "            item = {key: torch.tensor(val[idx]) for key, val in self.encodings.items()}\n",
    "            item['labels'] = self.labels[idx]  # Removed torch.tensor here\n",
    "            return item\n",
    "\n",
    "        def __len__(self):\n",
    "            return len(self.labels)\n",
    "\n",
    "\n",
    "    train_dataset = TextDataset(train_encodings, y_train_integers)\n",
    "    val_dataset = TextDataset(val_encodings, y_val_integers)\n",
    "    \n",
    "#---------------------------------------------------------------------------  \n",
    "    \n",
    "    # Set up training arguments with the current learning rate\n",
    "    training_args = TrainingArguments(\n",
    "        output_dir='./results',\n",
    "        learning_rate=lr,  # Set learning rate here\n",
    "        num_train_epochs=epochs ,\n",
    "        per_device_train_batch_size=batch_size,\n",
    "        per_device_eval_batch_size=8,\n",
    "        warmup_steps=500,\n",
    "        weight_decay=0.01,\n",
    "        logging_dir='./logs',\n",
    "        logging_steps=100,\n",
    "        evaluation_strategy=\"steps\",\n",
    "        eval_steps=3000\n",
    "    )\n",
    "\n",
    "    # Set up the Trainer\n",
    "    trainer = Trainer(\n",
    "        model=model,\n",
    "        args=training_args,\n",
    "        train_dataset=train_dataset,\n",
    "        eval_dataset=val_dataset\n",
    "    )\n",
    "\n",
    "\n",
    "    # Train the model with the current learning rate\n",
    "    print(f\"Training with learning rate: {lr}\")\n",
    "    trainer.train()\n",
    "    \n",
    " # Evaluate the model\n",
    "    eval_result = trainer.evaluate()\n",
    "    print(f\"Evaluation loss for learning rate {lr}: {eval_result['eval_loss']}\")\n",
    "    \n",
    "    \n",
    "    predictions = trainer.predict(val_dataset).predictions\n",
    "    predictions_label = np.argmax(predictions, axis=1)\n",
    "\n",
    "    cm=confusion_matrix( y_val_integers, predictions_label)\n",
    "    print(cm)\n",
    "\n",
    "    accuracy = accuracy_score( y_val_integers, predictions_label)\n",
    "    precision, recall, f1, _ = precision_recall_fscore_support(y_val_integers, predictions_label, average='binary')\n",
    "    print(f\"Accuracy: {accuracy}\")\n",
    "    print(f\"Precision: {precision}\")\n",
    "    print(f\"Recall: {recall}\")\n",
    "    print(f\"F1 Score: {f1}\")\n",
    "\n",
    "    if eval_result['eval_loss'] < lowest_eval_loss:\n",
    "        best_lr = lr\n",
    "        lowest_eval_loss = eval_result['eval_loss']\n",
    "        \n",
    "    if f1 > highest_f1:\n",
    "        best_f1_lr = lr\n",
    "        highest_f1 = f1\n",
    "        \n",
    "print(f\"Best Learning Rate: {best_lr} with loss: {lowest_eval_loss}\")\n",
    "print(f\"Best f1 Learning Rat: {best_f1_lr} with highest f1: { highest_f1}\")"
   ]
  },
  {
   "cell_type": "markdown",
   "id": "20a9979b-c0cb-4940-869b-18b799bb29fc",
   "metadata": {},
   "source": [
    "### Retrain the model with certain learning rate"
   ]
  },
  {
   "cell_type": "code",
   "execution_count": 8,
   "id": "189c2855-07e8-4417-81a0-9576982dff6b",
   "metadata": {
    "tags": []
   },
   "outputs": [
    {
     "name": "stderr",
     "output_type": "stream",
     "text": [
      "Some weights of RobertaForSequenceClassification were not initialized from the model checkpoint at uklfr/gottbert-base and are newly initialized: ['classifier.dense.bias', 'classifier.dense.weight', 'classifier.out_proj.weight', 'classifier.out_proj.bias']\n",
      "You should probably TRAIN this model on a down-stream task to be able to use it for predictions and inference.\n"
     ]
    },
    {
     "data": {
      "text/html": [
       "\n",
       "    <div>\n",
       "      \n",
       "      <progress value='2127' max='2127' style='width:300px; height:20px; vertical-align: middle;'></progress>\n",
       "      [2127/2127 03:44, Epoch 3/3]\n",
       "    </div>\n",
       "    <table border=\"1\" class=\"dataframe\">\n",
       "  <thead>\n",
       " <tr style=\"text-align: left;\">\n",
       "      <th>Step</th>\n",
       "      <th>Training Loss</th>\n",
       "      <th>Validation Loss</th>\n",
       "    </tr>\n",
       "  </thead>\n",
       "  <tbody>\n",
       "  </tbody>\n",
       "</table><p>"
      ],
      "text/plain": [
       "<IPython.core.display.HTML object>"
      ]
     },
     "metadata": {},
     "output_type": "display_data"
    },
    {
     "data": {
      "text/html": [],
      "text/plain": [
       "<IPython.core.display.HTML object>"
      ]
     },
     "metadata": {},
     "output_type": "display_data"
    },
    {
     "name": "stdout",
     "output_type": "stream",
     "text": [
      "[[1133    7]\n",
      " [  45   18]]\n",
      "Accuracy: 0.9567747298420615\n",
      "Precision: 0.72\n",
      "Recall: 0.2857142857142857\n",
      "F1 Score: 0.409090909090909\n",
      "Best f1 Learning Rat: 0.0001 \n"
     ]
    }
   ],
   "source": [
    "tokenizer = AutoTokenizer.from_pretrained(\"uklfr/gottbert-base\")\n",
    "model = AutoModelForSequenceClassification.from_pretrained(\"uklfr/gottbert-base\")\n",
    "\n",
    "\n",
    "# Freeze all parameters\n",
    "for param in model.parameters():\n",
    "    param.requires_grad = False\n",
    "\n",
    "# Unfreeze the last two layers of the RoBERTa model\n",
    "# Access the layers as model.roberta.encoder.layer\n",
    "for module in [model.roberta.encoder.layer[-2], model.roberta.encoder.layer[-1]]:\n",
    "    for param in module.parameters():\n",
    "        param.requires_grad = True\n",
    "            \n",
    "#-----------------------------------------------------------------------------------     \n",
    "\n",
    "X_train=list(df['Segment Text'].loc[(df['policy_type'] == 'TRAIN')])\n",
    "X_test=list(df['Segment Text'].loc[(df['policy_type'] == 'TEST')])\n",
    "\n",
    "y_train=list(df[target_column].loc[(df['policy_type'] == 'TRAIN')])\n",
    "y_test=list(df[target_column].loc[(df['policy_type'] == 'TEST')])\n",
    "\n",
    "\n",
    "train_encodings = tokenizer(X_train, max_length=512, truncation=True, padding='max_length')\n",
    "test_encodings = tokenizer(X_test, max_length=512, truncation=True, padding='max_length')\n",
    "\n",
    "#-----------\n",
    "\n",
    "label_mapping = {0: 0, 1: 1}\n",
    "y_train_integers = [label_mapping[label] for label in y_train]\n",
    "y_test_integers = [label_mapping[label] for label in y_test]\n",
    "\n",
    "\n",
    "class TextDataset(torch.utils.data.Dataset):\n",
    "    def __init__(self, encodings, labels):\n",
    "        self.encodings = encodings\n",
    "        self.labels = labels\n",
    "\n",
    "    def __getitem__(self, idx):\n",
    "        item = {key: torch.tensor(val[idx]) for key, val in self.encodings.items()}\n",
    "        item['labels'] = self.labels[idx]  # Removed torch.tensor here\n",
    "        return item\n",
    "\n",
    "    def __len__(self):\n",
    "        return len(self.labels)\n",
    "\n",
    "train_dataset = TextDataset(train_encodings, y_train_integers)\n",
    "test_dataset = TextDataset(test_encodings, y_test_integers)\n",
    "\n",
    "#--------------------------\n",
    "\n",
    "training_args = TrainingArguments(\n",
    "    output_dir='./results',\n",
    "    learning_rate= best_f1_lr , # Set learning rate here\n",
    "    num_train_epochs=epochs ,\n",
    "    per_device_train_batch_size=batch_size,\n",
    "    per_device_eval_batch_size=8,\n",
    "    warmup_steps=500,\n",
    "    weight_decay=0.01,\n",
    "    logging_dir='./logs',\n",
    "    logging_steps=100,\n",
    "    evaluation_strategy=\"steps\",\n",
    "    eval_steps=3000\n",
    "\n",
    ")\n",
    "\n",
    "trainer = Trainer(\n",
    "    model=model,\n",
    "    args=training_args,\n",
    "    train_dataset=train_dataset,\n",
    "    eval_dataset=test_dataset\n",
    ")\n",
    "\n",
    "trainer.train()\n",
    "\n",
    "predictions = trainer.predict(test_dataset).predictions\n",
    "predictions_label = np.argmax(predictions, axis=1)\n",
    "\n",
    "cm=confusion_matrix(y_test_integers, predictions_label)\n",
    "print(cm)\n",
    "\n",
    "accuracy = accuracy_score(y_test_integers, predictions_label)\n",
    "precision, recall, f1, _ = precision_recall_fscore_support(y_test_integers, predictions_label, average='binary')\n",
    "print(f\"Accuracy: {accuracy}\")\n",
    "print(f\"Precision: {precision}\")\n",
    "print(f\"Recall: {recall}\")\n",
    "print(f\"F1 Score: {f1}\")\n",
    "\n",
    "print(f\"Best f1 Learning Rat: {best_f1_lr} \")"
   ]
  },
  {
   "cell_type": "code",
   "execution_count": null,
   "id": "3370f43d-3509-41a0-9af9-5dc35f443bab",
   "metadata": {},
   "outputs": [],
   "source": []
  },
  {
   "cell_type": "markdown",
   "id": "e01a27b1-1ed6-424f-a88b-3283e2359d28",
   "metadata": {
    "tags": []
   },
   "source": [
    "# Imbalance / PEFT /Cost sensitve learning"
   ]
  },
  {
   "cell_type": "code",
   "execution_count": 9,
   "id": "121e67b2-b716-40ef-8b1f-d21a20929d7d",
   "metadata": {},
   "outputs": [
    {
     "name": "stderr",
     "output_type": "stream",
     "text": [
      "Some weights of RobertaForSequenceClassification were not initialized from the model checkpoint at uklfr/gottbert-base and are newly initialized: ['classifier.dense.bias', 'classifier.dense.weight', 'classifier.out_proj.weight', 'classifier.out_proj.bias']\n",
      "You should probably TRAIN this model on a down-stream task to be able to use it for predictions and inference.\n"
     ]
    },
    {
     "name": "stdout",
     "output_type": "stream",
     "text": [
      "Counter({0: 4370, 1: 164})\n",
      "Counter({0: 1074, 1: 60})\n",
      "1.037528604118993\n",
      "27.646341463414632\n",
      "Training with learning rate: 1e-05\n"
     ]
    },
    {
     "data": {
      "text/html": [
       "\n",
       "    <div>\n",
       "      \n",
       "      <progress value='1701' max='1701' style='width:300px; height:20px; vertical-align: middle;'></progress>\n",
       "      [1701/1701 02:57, Epoch 3/3]\n",
       "    </div>\n",
       "    <table border=\"1\" class=\"dataframe\">\n",
       "  <thead>\n",
       " <tr style=\"text-align: left;\">\n",
       "      <th>Step</th>\n",
       "      <th>Training Loss</th>\n",
       "      <th>Validation Loss</th>\n",
       "    </tr>\n",
       "  </thead>\n",
       "  <tbody>\n",
       "  </tbody>\n",
       "</table><p>"
      ],
      "text/plain": [
       "<IPython.core.display.HTML object>"
      ]
     },
     "metadata": {},
     "output_type": "display_data"
    },
    {
     "data": {
      "text/html": [],
      "text/plain": [
       "<IPython.core.display.HTML object>"
      ]
     },
     "metadata": {},
     "output_type": "display_data"
    },
    {
     "name": "stdout",
     "output_type": "stream",
     "text": [
      "Evaluation loss for learning rate 1e-05: 0.19040130078792572\n",
      "[[1074    0]\n",
      " [  60    0]]\n",
      "Accuracy: 0.9470899470899471\n",
      "Precision: 0.0\n",
      "Recall: 0.0\n",
      "F1 Score: 0.0\n"
     ]
    },
    {
     "name": "stderr",
     "output_type": "stream",
     "text": [
      "/opt/conda/lib/python3.10/site-packages/sklearn/metrics/_classification.py:1465: UndefinedMetricWarning: Precision and F-score are ill-defined and being set to 0.0 due to no predicted samples. Use `zero_division` parameter to control this behavior.\n",
      "  _warn_prf(average, modifier, msg_start, len(result))\n",
      "Some weights of RobertaForSequenceClassification were not initialized from the model checkpoint at uklfr/gottbert-base and are newly initialized: ['classifier.dense.bias', 'classifier.dense.weight', 'classifier.out_proj.weight', 'classifier.out_proj.bias']\n",
      "You should probably TRAIN this model on a down-stream task to be able to use it for predictions and inference.\n"
     ]
    },
    {
     "name": "stdout",
     "output_type": "stream",
     "text": [
      "Counter({0: 4370, 1: 164})\n",
      "Counter({0: 1074, 1: 60})\n",
      "1.037528604118993\n",
      "27.646341463414632\n",
      "Training with learning rate: 2e-05\n"
     ]
    },
    {
     "data": {
      "text/html": [
       "\n",
       "    <div>\n",
       "      \n",
       "      <progress value='1701' max='1701' style='width:300px; height:20px; vertical-align: middle;'></progress>\n",
       "      [1701/1701 02:57, Epoch 3/3]\n",
       "    </div>\n",
       "    <table border=\"1\" class=\"dataframe\">\n",
       "  <thead>\n",
       " <tr style=\"text-align: left;\">\n",
       "      <th>Step</th>\n",
       "      <th>Training Loss</th>\n",
       "      <th>Validation Loss</th>\n",
       "    </tr>\n",
       "  </thead>\n",
       "  <tbody>\n",
       "  </tbody>\n",
       "</table><p>"
      ],
      "text/plain": [
       "<IPython.core.display.HTML object>"
      ]
     },
     "metadata": {},
     "output_type": "display_data"
    },
    {
     "data": {
      "text/html": [],
      "text/plain": [
       "<IPython.core.display.HTML object>"
      ]
     },
     "metadata": {},
     "output_type": "display_data"
    },
    {
     "name": "stdout",
     "output_type": "stream",
     "text": [
      "Evaluation loss for learning rate 2e-05: 0.181021049618721\n",
      "[[1074    0]\n",
      " [  60    0]]\n",
      "Accuracy: 0.9470899470899471\n",
      "Precision: 0.0\n",
      "Recall: 0.0\n",
      "F1 Score: 0.0\n"
     ]
    },
    {
     "name": "stderr",
     "output_type": "stream",
     "text": [
      "/opt/conda/lib/python3.10/site-packages/sklearn/metrics/_classification.py:1465: UndefinedMetricWarning: Precision and F-score are ill-defined and being set to 0.0 due to no predicted samples. Use `zero_division` parameter to control this behavior.\n",
      "  _warn_prf(average, modifier, msg_start, len(result))\n",
      "Some weights of RobertaForSequenceClassification were not initialized from the model checkpoint at uklfr/gottbert-base and are newly initialized: ['classifier.dense.bias', 'classifier.dense.weight', 'classifier.out_proj.weight', 'classifier.out_proj.bias']\n",
      "You should probably TRAIN this model on a down-stream task to be able to use it for predictions and inference.\n"
     ]
    },
    {
     "name": "stdout",
     "output_type": "stream",
     "text": [
      "Counter({0: 4370, 1: 164})\n",
      "Counter({0: 1074, 1: 60})\n",
      "1.037528604118993\n",
      "27.646341463414632\n",
      "Training with learning rate: 3e-05\n"
     ]
    },
    {
     "data": {
      "text/html": [
       "\n",
       "    <div>\n",
       "      \n",
       "      <progress value='1701' max='1701' style='width:300px; height:20px; vertical-align: middle;'></progress>\n",
       "      [1701/1701 02:57, Epoch 3/3]\n",
       "    </div>\n",
       "    <table border=\"1\" class=\"dataframe\">\n",
       "  <thead>\n",
       " <tr style=\"text-align: left;\">\n",
       "      <th>Step</th>\n",
       "      <th>Training Loss</th>\n",
       "      <th>Validation Loss</th>\n",
       "    </tr>\n",
       "  </thead>\n",
       "  <tbody>\n",
       "  </tbody>\n",
       "</table><p>"
      ],
      "text/plain": [
       "<IPython.core.display.HTML object>"
      ]
     },
     "metadata": {},
     "output_type": "display_data"
    },
    {
     "data": {
      "text/html": [],
      "text/plain": [
       "<IPython.core.display.HTML object>"
      ]
     },
     "metadata": {},
     "output_type": "display_data"
    },
    {
     "name": "stdout",
     "output_type": "stream",
     "text": [
      "Evaluation loss for learning rate 3e-05: 0.1750197410583496\n",
      "[[1071    3]\n",
      " [  56    4]]\n",
      "Accuracy: 0.9479717813051146\n",
      "Precision: 0.5714285714285714\n",
      "Recall: 0.06666666666666667\n",
      "F1 Score: 0.11940298507462686\n"
     ]
    },
    {
     "name": "stderr",
     "output_type": "stream",
     "text": [
      "Some weights of RobertaForSequenceClassification were not initialized from the model checkpoint at uklfr/gottbert-base and are newly initialized: ['classifier.dense.bias', 'classifier.dense.weight', 'classifier.out_proj.weight', 'classifier.out_proj.bias']\n",
      "You should probably TRAIN this model on a down-stream task to be able to use it for predictions and inference.\n"
     ]
    },
    {
     "name": "stdout",
     "output_type": "stream",
     "text": [
      "Counter({0: 4370, 1: 164})\n",
      "Counter({0: 1074, 1: 60})\n",
      "1.037528604118993\n",
      "27.646341463414632\n",
      "Training with learning rate: 5e-05\n"
     ]
    },
    {
     "data": {
      "text/html": [
       "\n",
       "    <div>\n",
       "      \n",
       "      <progress value='1701' max='1701' style='width:300px; height:20px; vertical-align: middle;'></progress>\n",
       "      [1701/1701 02:58, Epoch 3/3]\n",
       "    </div>\n",
       "    <table border=\"1\" class=\"dataframe\">\n",
       "  <thead>\n",
       " <tr style=\"text-align: left;\">\n",
       "      <th>Step</th>\n",
       "      <th>Training Loss</th>\n",
       "      <th>Validation Loss</th>\n",
       "    </tr>\n",
       "  </thead>\n",
       "  <tbody>\n",
       "  </tbody>\n",
       "</table><p>"
      ],
      "text/plain": [
       "<IPython.core.display.HTML object>"
      ]
     },
     "metadata": {},
     "output_type": "display_data"
    },
    {
     "data": {
      "text/html": [],
      "text/plain": [
       "<IPython.core.display.HTML object>"
      ]
     },
     "metadata": {},
     "output_type": "display_data"
    },
    {
     "name": "stdout",
     "output_type": "stream",
     "text": [
      "Evaluation loss for learning rate 5e-05: 0.16854016482830048\n",
      "[[1067    7]\n",
      " [  49   11]]\n",
      "Accuracy: 0.9506172839506173\n",
      "Precision: 0.6111111111111112\n",
      "Recall: 0.18333333333333332\n",
      "F1 Score: 0.282051282051282\n"
     ]
    },
    {
     "name": "stderr",
     "output_type": "stream",
     "text": [
      "Some weights of RobertaForSequenceClassification were not initialized from the model checkpoint at uklfr/gottbert-base and are newly initialized: ['classifier.dense.bias', 'classifier.dense.weight', 'classifier.out_proj.weight', 'classifier.out_proj.bias']\n",
      "You should probably TRAIN this model on a down-stream task to be able to use it for predictions and inference.\n"
     ]
    },
    {
     "name": "stdout",
     "output_type": "stream",
     "text": [
      "Counter({0: 4370, 1: 164})\n",
      "Counter({0: 1074, 1: 60})\n",
      "1.037528604118993\n",
      "27.646341463414632\n",
      "Training with learning rate: 0.0001\n"
     ]
    },
    {
     "data": {
      "text/html": [
       "\n",
       "    <div>\n",
       "      \n",
       "      <progress value='1701' max='1701' style='width:300px; height:20px; vertical-align: middle;'></progress>\n",
       "      [1701/1701 02:58, Epoch 3/3]\n",
       "    </div>\n",
       "    <table border=\"1\" class=\"dataframe\">\n",
       "  <thead>\n",
       " <tr style=\"text-align: left;\">\n",
       "      <th>Step</th>\n",
       "      <th>Training Loss</th>\n",
       "      <th>Validation Loss</th>\n",
       "    </tr>\n",
       "  </thead>\n",
       "  <tbody>\n",
       "  </tbody>\n",
       "</table><p>"
      ],
      "text/plain": [
       "<IPython.core.display.HTML object>"
      ]
     },
     "metadata": {},
     "output_type": "display_data"
    },
    {
     "data": {
      "text/html": [],
      "text/plain": [
       "<IPython.core.display.HTML object>"
      ]
     },
     "metadata": {},
     "output_type": "display_data"
    },
    {
     "name": "stdout",
     "output_type": "stream",
     "text": [
      "Evaluation loss for learning rate 0.0001: 0.1695026159286499\n",
      "[[1065    9]\n",
      " [  45   15]]\n",
      "Accuracy: 0.9523809523809523\n",
      "Precision: 0.625\n",
      "Recall: 0.25\n",
      "F1 Score: 0.35714285714285715\n"
     ]
    },
    {
     "name": "stderr",
     "output_type": "stream",
     "text": [
      "Some weights of RobertaForSequenceClassification were not initialized from the model checkpoint at uklfr/gottbert-base and are newly initialized: ['classifier.dense.bias', 'classifier.dense.weight', 'classifier.out_proj.weight', 'classifier.out_proj.bias']\n",
      "You should probably TRAIN this model on a down-stream task to be able to use it for predictions and inference.\n"
     ]
    },
    {
     "name": "stdout",
     "output_type": "stream",
     "text": [
      "Counter({0: 4370, 1: 164})\n",
      "Counter({0: 1074, 1: 60})\n",
      "1.037528604118993\n",
      "27.646341463414632\n",
      "Training with learning rate: 0.0002\n"
     ]
    },
    {
     "data": {
      "text/html": [
       "\n",
       "    <div>\n",
       "      \n",
       "      <progress value='1701' max='1701' style='width:300px; height:20px; vertical-align: middle;'></progress>\n",
       "      [1701/1701 02:58, Epoch 3/3]\n",
       "    </div>\n",
       "    <table border=\"1\" class=\"dataframe\">\n",
       "  <thead>\n",
       " <tr style=\"text-align: left;\">\n",
       "      <th>Step</th>\n",
       "      <th>Training Loss</th>\n",
       "      <th>Validation Loss</th>\n",
       "    </tr>\n",
       "  </thead>\n",
       "  <tbody>\n",
       "  </tbody>\n",
       "</table><p>"
      ],
      "text/plain": [
       "<IPython.core.display.HTML object>"
      ]
     },
     "metadata": {},
     "output_type": "display_data"
    },
    {
     "data": {
      "text/html": [],
      "text/plain": [
       "<IPython.core.display.HTML object>"
      ]
     },
     "metadata": {},
     "output_type": "display_data"
    },
    {
     "name": "stdout",
     "output_type": "stream",
     "text": [
      "Evaluation loss for learning rate 0.0002: 0.15718339383602142\n",
      "[[1066    8]\n",
      " [  53    7]]\n",
      "Accuracy: 0.9462081128747796\n",
      "Precision: 0.4666666666666667\n",
      "Recall: 0.11666666666666667\n",
      "F1 Score: 0.18666666666666668\n"
     ]
    },
    {
     "name": "stderr",
     "output_type": "stream",
     "text": [
      "Some weights of RobertaForSequenceClassification were not initialized from the model checkpoint at uklfr/gottbert-base and are newly initialized: ['classifier.dense.bias', 'classifier.dense.weight', 'classifier.out_proj.weight', 'classifier.out_proj.bias']\n",
      "You should probably TRAIN this model on a down-stream task to be able to use it for predictions and inference.\n"
     ]
    },
    {
     "name": "stdout",
     "output_type": "stream",
     "text": [
      "Counter({0: 4370, 1: 164})\n",
      "Counter({0: 1074, 1: 60})\n",
      "1.037528604118993\n",
      "27.646341463414632\n",
      "Training with learning rate: 0.0003\n"
     ]
    },
    {
     "data": {
      "text/html": [
       "\n",
       "    <div>\n",
       "      \n",
       "      <progress value='1701' max='1701' style='width:300px; height:20px; vertical-align: middle;'></progress>\n",
       "      [1701/1701 02:57, Epoch 3/3]\n",
       "    </div>\n",
       "    <table border=\"1\" class=\"dataframe\">\n",
       "  <thead>\n",
       " <tr style=\"text-align: left;\">\n",
       "      <th>Step</th>\n",
       "      <th>Training Loss</th>\n",
       "      <th>Validation Loss</th>\n",
       "    </tr>\n",
       "  </thead>\n",
       "  <tbody>\n",
       "  </tbody>\n",
       "</table><p>"
      ],
      "text/plain": [
       "<IPython.core.display.HTML object>"
      ]
     },
     "metadata": {},
     "output_type": "display_data"
    },
    {
     "data": {
      "text/html": [],
      "text/plain": [
       "<IPython.core.display.HTML object>"
      ]
     },
     "metadata": {},
     "output_type": "display_data"
    },
    {
     "name": "stdout",
     "output_type": "stream",
     "text": [
      "Evaluation loss for learning rate 0.0003: 0.15607497096061707\n",
      "[[1062   12]\n",
      " [  49   11]]\n",
      "Accuracy: 0.9462081128747796\n",
      "Precision: 0.4782608695652174\n",
      "Recall: 0.18333333333333332\n",
      "F1 Score: 0.2650602409638554\n",
      "Best Learning Rate: 0.0003 with loss: 0.15607497096061707\n",
      "Best f1 Learning Rat: 0.0001 with highest f1: 0.35714285714285715\n"
     ]
    }
   ],
   "source": [
    "best_lr = None\n",
    "lowest_eval_loss = float('inf')\n",
    "\n",
    "\n",
    "best_f1_lr = None\n",
    "highest_f1 = 0\n",
    "\n",
    "\n",
    "\n",
    "\n",
    "for lr in learning_rates:\n",
    "    \n",
    "#--------------------------------------------------------------------------------    \n",
    "    tokenizer = AutoTokenizer.from_pretrained(\"uklfr/gottbert-base\")\n",
    "    model = AutoModelForSequenceClassification.from_pretrained(\"uklfr/gottbert-base\")\n",
    "\n",
    "\n",
    "    # Freeze all parameters\n",
    "    for param in model.parameters():\n",
    "        param.requires_grad = False\n",
    "\n",
    "    # Unfreeze the last two layers of the RoBERTa model\n",
    "    # Access the layers as model.roberta.encoder.layer\n",
    "    for module in [model.roberta.encoder.layer[-2], model.roberta.encoder.layer[-1]]:\n",
    "        for param in module.parameters():\n",
    "            param.requires_grad = True\n",
    "#-----------------------------------------------------------------------------------           \n",
    "\n",
    "    X_train = list(df['Segment Text'].loc[(df['policy_type'] == 'TRAIN')])\n",
    "    y_train = list(df[target_column].loc[(df['policy_type'] == 'TRAIN')])\n",
    "\n",
    "\n",
    "    # Split the data into training and validation sets\n",
    "    X_train, X_val, y_train, y_val = train_test_split(X_train, y_train, test_size=0.20, random_state=0)\n",
    "\n",
    "\n",
    "    # mapping labels\n",
    "\n",
    "    label_mapping = {0: 0, 1: 1}\n",
    "    y_train_integers = [label_mapping[label] for label in y_train]\n",
    "    y_val_integers = [label_mapping[label] for label in y_val]\n",
    "\n",
    "    train_encodings = tokenizer(X_train, max_length=512, truncation=True, padding='max_length')\n",
    "    val_encodings = tokenizer(X_val, max_length=512, truncation=True, padding='max_length')\n",
    "\n",
    "    #\n",
    "    class TextDataset(torch.utils.data.Dataset):\n",
    "        def __init__(self, encodings, labels):\n",
    "            self.encodings = encodings\n",
    "            self.labels = labels\n",
    "\n",
    "        def __getitem__(self, idx):\n",
    "            item = {key: torch.tensor(val[idx]) for key, val in self.encodings.items()}\n",
    "            item['labels'] = self.labels[idx]  # Removed torch.tensor here\n",
    "            return item\n",
    "\n",
    "        def __len__(self):\n",
    "            return len(self.labels)\n",
    "\n",
    "\n",
    "    train_dataset = TextDataset(train_encodings, y_train_integers)\n",
    "    val_dataset = TextDataset(val_encodings, y_val_integers)\n",
    "    \n",
    "#---------------------------------------------------------------------------  \n",
    "\n",
    "\n",
    "    from collections import Counter\n",
    "    print(Counter(y_train))\n",
    "    print(Counter(y_val))\n",
    "    \n",
    "        # Calculate class weights (example calculation, adjust as needed)\n",
    "\n",
    "    total_samples = Counter(y_train)[0] + Counter(y_train)[1]\n",
    "    class_weights = torch.tensor([total_samples /Counter(y_train)[0], total_samples / Counter(y_train)[1]], dtype=torch.float)\n",
    "\n",
    "    print(total_samples /Counter(y_train)[0])\n",
    "    print(total_samples / Counter(y_train)[1])\n",
    "\n",
    "    # Ensure the model is on the correct device (e.g., GPU or CPU)\n",
    "    device = torch.device(\"cuda\" if torch.cuda.is_available() else \"cpu\")\n",
    "    model.to(device)  # Ensure model is on the correct device\n",
    "\n",
    "    # Move class_weights to the same device as the model\n",
    "    class_weights = class_weights.to(device)\n",
    "\n",
    "\n",
    "\n",
    "    class CustomTrainer(Trainer):\n",
    "        def __init__(self, *args, **kwargs):\n",
    "            super().__init__(*args, **kwargs)\n",
    "            self.loss_fct = CrossEntropyLoss(weight=class_weights).to(device)\n",
    "\n",
    "        def compute_loss(self, model, inputs, return_outputs=False):\n",
    "            inputs = {k: v.to(device) for k, v in inputs.items()}\n",
    "            labels = inputs.get(\"labels\").to(device)\n",
    "\n",
    "            outputs = model(**inputs)\n",
    "            logits = outputs.logits\n",
    "\n",
    "            loss = self.loss_fct(logits, labels)\n",
    "            return (loss, outputs) if return_outputs else loss\n",
    "\n",
    "    #-------------------------------------------------\n",
    "    \n",
    "    \n",
    "    \n",
    "    \n",
    "    # Set up training arguments with the current learning rate\n",
    "    training_args = TrainingArguments(\n",
    "        output_dir='./results',\n",
    "        learning_rate=lr,  # Set learning rate here\n",
    "        num_train_epochs=epochs ,\n",
    "        per_device_train_batch_size=batch_size,\n",
    "        per_device_eval_batch_size=8,\n",
    "        warmup_steps=500,\n",
    "        weight_decay=0.01,\n",
    "        logging_dir='./logs',\n",
    "        logging_steps=100,\n",
    "        evaluation_strategy=\"steps\",\n",
    "        eval_steps=3000\n",
    "    )\n",
    "\n",
    "    # Set up the Trainer\n",
    "    trainer = Trainer(\n",
    "        model=model,\n",
    "        args=training_args,\n",
    "        train_dataset=train_dataset,\n",
    "        eval_dataset=val_dataset\n",
    "    )\n",
    "\n",
    "\n",
    "\n",
    "    # Train the model with the current learning rate\n",
    "    print(f\"Training with learning rate: {lr}\")\n",
    "    trainer.train()\n",
    "    \n",
    " # Evaluate the model\n",
    "    eval_result = trainer.evaluate()\n",
    "    print(f\"Evaluation loss for learning rate {lr}: {eval_result['eval_loss']}\")\n",
    "    \n",
    "    \n",
    "    predictions = trainer.predict(val_dataset).predictions\n",
    "    predictions_label = np.argmax(predictions, axis=1)\n",
    "\n",
    "    cm=confusion_matrix( y_val_integers, predictions_label)\n",
    "    print(cm)\n",
    "\n",
    "    accuracy = accuracy_score( y_val_integers, predictions_label)\n",
    "    precision, recall, f1, _ = precision_recall_fscore_support(y_val_integers, predictions_label, average='binary')\n",
    "    print(f\"Accuracy: {accuracy}\")\n",
    "    print(f\"Precision: {precision}\")\n",
    "    print(f\"Recall: {recall}\")\n",
    "    print(f\"F1 Score: {f1}\")\n",
    "\n",
    "    if eval_result['eval_loss'] < lowest_eval_loss:\n",
    "        best_lr = lr\n",
    "        lowest_eval_loss = eval_result['eval_loss']\n",
    "\n",
    "    if f1 > highest_f1:\n",
    "        best_f1_lr = lr\n",
    "        highest_f1 = f1\n",
    "        \n",
    "\n",
    "print(f\"Best Learning Rate: {best_lr} with loss: {lowest_eval_loss}\")\n",
    "print(f\"Best f1 Learning Rat: {best_f1_lr} with highest f1: { highest_f1}\")\n"
   ]
  },
  {
   "cell_type": "markdown",
   "id": "8833afef-e3e3-4c4b-9ca8-4c8b1555de83",
   "metadata": {},
   "source": [
    "### Retrain the model with certain learning rate"
   ]
  },
  {
   "cell_type": "code",
   "execution_count": 10,
   "id": "5e7f07f8-c834-4581-beb8-e114a67602b0",
   "metadata": {},
   "outputs": [
    {
     "name": "stderr",
     "output_type": "stream",
     "text": [
      "Some weights of RobertaForSequenceClassification were not initialized from the model checkpoint at uklfr/gottbert-base and are newly initialized: ['classifier.dense.bias', 'classifier.dense.weight', 'classifier.out_proj.weight', 'classifier.out_proj.bias']\n",
      "You should probably TRAIN this model on a down-stream task to be able to use it for predictions and inference.\n"
     ]
    },
    {
     "name": "stdout",
     "output_type": "stream",
     "text": [
      "Counter({0: 5444, 1: 224})\n",
      "Counter({0: 1140, 1: 63})\n",
      "1.0411462160176341\n",
      "25.303571428571427\n"
     ]
    },
    {
     "data": {
      "text/html": [
       "\n",
       "    <div>\n",
       "      \n",
       "      <progress value='2127' max='2127' style='width:300px; height:20px; vertical-align: middle;'></progress>\n",
       "      [2127/2127 03:42, Epoch 3/3]\n",
       "    </div>\n",
       "    <table border=\"1\" class=\"dataframe\">\n",
       "  <thead>\n",
       " <tr style=\"text-align: left;\">\n",
       "      <th>Step</th>\n",
       "      <th>Training Loss</th>\n",
       "      <th>Validation Loss</th>\n",
       "    </tr>\n",
       "  </thead>\n",
       "  <tbody>\n",
       "  </tbody>\n",
       "</table><p>"
      ],
      "text/plain": [
       "<IPython.core.display.HTML object>"
      ]
     },
     "metadata": {},
     "output_type": "display_data"
    },
    {
     "data": {
      "text/html": [],
      "text/plain": [
       "<IPython.core.display.HTML object>"
      ]
     },
     "metadata": {},
     "output_type": "display_data"
    },
    {
     "name": "stdout",
     "output_type": "stream",
     "text": [
      "[[1127   13]\n",
      " [  43   20]]\n",
      "Accuracy: 0.9534497090606816\n",
      "Precision: 0.6060606060606061\n",
      "Recall: 0.31746031746031744\n",
      "F1 Score: 0.4166666666666667\n",
      "Best f1 Learning Rat: 0.0001\n"
     ]
    }
   ],
   "source": [
    "tokenizer = AutoTokenizer.from_pretrained(\"uklfr/gottbert-base\")\n",
    "model = AutoModelForSequenceClassification.from_pretrained(\"uklfr/gottbert-base\")\n",
    "\n",
    "\n",
    "# Freeze all parameters\n",
    "for param in model.parameters():\n",
    "    param.requires_grad = False\n",
    "\n",
    "# Unfreeze the last two layers of the RoBERTa model\n",
    "# Access the layers as model.roberta.encoder.layer\n",
    "for module in [model.roberta.encoder.layer[-2], model.roberta.encoder.layer[-1]]:\n",
    "    for param in module.parameters():\n",
    "        param.requires_grad = True\n",
    "            \n",
    "                       \n",
    "#-----------------------------------------------------------------------------------     \n",
    "\n",
    "X_train=list(df['Segment Text'].loc[(df['policy_type'] == 'TRAIN')])\n",
    "X_test=list(df['Segment Text'].loc[(df['policy_type'] == 'TEST')])\n",
    "\n",
    "y_train=list(df[target_column].loc[(df['policy_type'] == 'TRAIN')])\n",
    "y_test=list(df[target_column].loc[(df['policy_type'] == 'TEST')])\n",
    "\n",
    "\n",
    "train_encodings = tokenizer(X_train, max_length=512, truncation=True, padding='max_length')\n",
    "test_encodings = tokenizer(X_test, max_length=512, truncation=True, padding='max_length')\n",
    "\n",
    "#-----------\n",
    "\n",
    "label_mapping = {0: 0, 1: 1}\n",
    "y_train_integers = [label_mapping[label] for label in y_train]\n",
    "y_test_integers = [label_mapping[label] for label in y_test]\n",
    "\n",
    "\n",
    "class TextDataset(torch.utils.data.Dataset):\n",
    "    def __init__(self, encodings, labels):\n",
    "        self.encodings = encodings\n",
    "        self.labels = labels\n",
    "\n",
    "    def __getitem__(self, idx):\n",
    "        item = {key: torch.tensor(val[idx]) for key, val in self.encodings.items()}\n",
    "        item['labels'] = self.labels[idx]  # Removed torch.tensor here\n",
    "        return item\n",
    "\n",
    "    def __len__(self):\n",
    "        return len(self.labels)\n",
    "\n",
    "train_dataset = TextDataset(train_encodings, y_train_integers)\n",
    "test_dataset = TextDataset(test_encodings, y_test_integers)\n",
    "\n",
    "#--------------------------\n",
    "\n",
    "\n",
    "from collections import Counter\n",
    "print(Counter(y_train))\n",
    "print(Counter(y_test))\n",
    "\n",
    "\n",
    "# Calculate class weights (example calculation, adjust as needed)\n",
    "\n",
    "total_samples = Counter(y_train)[0] + Counter(y_train)[1]\n",
    "class_weights = torch.tensor([total_samples /Counter(y_train)[0], total_samples / Counter(y_train)[1]], dtype=torch.float)\n",
    "\n",
    "print(total_samples /Counter(y_train)[0])\n",
    "print(total_samples / Counter(y_train)[1])\n",
    "\n",
    "# Ensure the model is on the correct device (e.g., GPU or CPU)\n",
    "device = torch.device(\"cuda\" if torch.cuda.is_available() else \"cpu\")\n",
    "model.to(device)  # Ensure model is on the correct device\n",
    "\n",
    "# Move class_weights to the same device as the model\n",
    "class_weights = class_weights.to(device)\n",
    "\n",
    "\n",
    "\n",
    "class CustomTrainer(Trainer):\n",
    "    def __init__(self, *args, **kwargs):\n",
    "        super().__init__(*args, **kwargs)\n",
    "        self.loss_fct = CrossEntropyLoss(weight=class_weights).to(device)\n",
    "\n",
    "    def compute_loss(self, model, inputs, return_outputs=False):\n",
    "        inputs = {k: v.to(device) for k, v in inputs.items()}\n",
    "        labels = inputs.get(\"labels\").to(device)\n",
    "\n",
    "        outputs = model(**inputs)\n",
    "        logits = outputs.logits\n",
    "\n",
    "        loss = self.loss_fct(logits, labels)\n",
    "        return (loss, outputs) if return_outputs else loss\n",
    "\n",
    "#-------------------------------------------------\n",
    "\n",
    "\n",
    "training_args = TrainingArguments(\n",
    "    learning_rate= best_f1_lr,\n",
    "    output_dir='./results',\n",
    "    num_train_epochs=epochs,\n",
    "    per_device_train_batch_size=batch_size,\n",
    "    per_device_eval_batch_size=8,\n",
    "    warmup_steps=500,\n",
    "    weight_decay=0.01,\n",
    "    #logging_dir='./logs',\n",
    "    logging_steps=100,\n",
    "    evaluation_strategy=\"steps\",\n",
    "    eval_steps=3000\n",
    "\n",
    ")\n",
    "\n",
    "trainer = CustomTrainer(\n",
    "    model=model,  # Your model\n",
    "    args=training_args,\n",
    "    train_dataset=train_dataset,\n",
    "    eval_dataset=test_dataset\n",
    ")\n",
    "\n",
    "\n",
    "trainer.train()\n",
    "\n",
    "\n",
    "predictions = trainer.predict(test_dataset).predictions\n",
    "predictions_label = np.argmax(predictions, axis=1)\n",
    "\n",
    "cm=confusion_matrix(y_test_integers, predictions_label)\n",
    "print(cm)\n",
    "\n",
    "accuracy = accuracy_score(y_test_integers, predictions_label)\n",
    "precision, recall, f1, _ = precision_recall_fscore_support(y_test_integers, predictions_label, average='binary')\n",
    "\n",
    "print(f\"Accuracy: {accuracy}\")\n",
    "print(f\"Precision: {precision}\")\n",
    "print(f\"Recall: {recall}\")\n",
    "print(f\"F1 Score: {f1}\")\n",
    "\n",
    "print(f\"Best f1 Learning Rat: {best_f1_lr}\")"
   ]
  },
  {
   "cell_type": "code",
   "execution_count": 24,
   "id": "c5d3ed66-e597-45f9-8539-94a50ee6d494",
   "metadata": {},
   "outputs": [
    {
     "data": {
      "text/plain": [
       "'Collection Process_Collected on first-party website/app'"
      ]
     },
     "execution_count": 24,
     "metadata": {},
     "output_type": "execute_result"
    }
   ],
   "source": [
    "target_column"
   ]
  },
  {
   "cell_type": "markdown",
   "id": "1ae1210f-2cb6-4826-86d0-2012d89dece3",
   "metadata": {
    "jp-MarkdownHeadingCollapsed": true,
    "tags": []
   },
   "source": [
    "# Imbalance / AEDA"
   ]
  },
  {
   "cell_type": "code",
   "execution_count": null,
   "id": "0cc8c5bc-ed81-498b-b403-934c35c2cf19",
   "metadata": {},
   "outputs": [],
   "source": []
  },
  {
   "cell_type": "code",
   "execution_count": 13,
   "id": "2595f46e-0c7a-4548-95c4-d57bdbc0cee4",
   "metadata": {},
   "outputs": [],
   "source": [
    "\n",
    "def aeda(text):\n",
    "    \"\"\"\n",
    "    Apply AEDA augmentation to a given text.\n",
    "\n",
    "    :param text: The input text string to be augmented.\n",
    "    :return: Augmented sentence.\n",
    "    \"\"\"\n",
    "    punctuation_marks = [\".\", \";\", \"?\", \":\", \"!\", \"\"]\n",
    "    words = text.split()\n",
    "\n",
    "    n_insertions = random.randint(1, max(1, len(words) // 3))\n",
    "    insert_positions = np.random.choice(len(words), n_insertions, replace=False)\n",
    "\n",
    "    for pos in sorted(insert_positions, reverse=True):\n",
    "        words.insert(pos, random.choice(punctuation_marks))\n",
    "\n",
    "    return ' '.join(words)\n",
    "\n",
    "def balance_classes(df, column_name, text_column , modification_function=aeda):\n",
    "    \"\"\"\n",
    "    Balances the classes in a DataFrame.\n",
    "\n",
    "    Parameters:\n",
    "    - df: pandas DataFrame to balance.\n",
    "    - column_name: the name of the column to balance by (e.g., 'Third Party').\n",
    "    - text_column: the name of the text column to modify (e.g., 'Segment Text').\n",
    "    - modification_function: the function to apply to modify the text (default: aeda).\n",
    "\n",
    "    Returns:\n",
    "    - A balanced DataFrame.\n",
    "    \"\"\"\n",
    "    # Count the instances of each class\n",
    "    class_counts = df[column_name].value_counts()\n",
    "    max_class = class_counts.idxmax()\n",
    "    min_class = class_counts.idxmin()\n",
    "\n",
    "    # Calculate the number of samples needed to balance the classes\n",
    "    count_diff = class_counts[max_class] - class_counts[min_class]\n",
    "\n",
    "\n",
    "    # Select rows of the minority class and duplicate them\n",
    "    df_minority = df[df[column_name] == min_class]\n",
    "    df_minority_augmented = df_minority.sample(count_diff, replace=True)\n",
    "\n",
    "    # Apply the modification function to the text column\n",
    "    df_minority_augmented[text_column] = df_minority_augmented[text_column].apply(modification_function)\n",
    "\n",
    "    # Combine the original DataFrame with the augmented rows\n",
    "    df_balanced = pd.concat([df, df_minority_augmented], ignore_index=True)\n",
    "\n",
    "    return df_balanced\n",
    "\n"
   ]
  },
  {
   "cell_type": "code",
   "execution_count": 14,
   "id": "519f21e0-4bdb-489f-be51-84596dbbf74f",
   "metadata": {},
   "outputs": [
    {
     "name": "stderr",
     "output_type": "stream",
     "text": [
      "Some weights of BertForSequenceClassification were not initialized from the model checkpoint at bert-base-german-cased and are newly initialized: ['classifier.bias', 'classifier.weight']\n",
      "You should probably TRAIN this model on a down-stream task to be able to use it for predictions and inference.\n"
     ]
    },
    {
     "name": "stdout",
     "output_type": "stream",
     "text": [
      "Collection Process\n",
      "0    4136\n",
      "1     398\n",
      "Name: count, dtype: int64\n",
      "Collection Process\n",
      "0    4136\n",
      "1    4136\n",
      "Name: count, dtype: int64\n",
      "Training with learning rate: 1e-05\n"
     ]
    },
    {
     "data": {
      "text/html": [
       "\n",
       "    <div>\n",
       "      \n",
       "      <progress value='3102' max='3102' style='width:300px; height:20px; vertical-align: middle;'></progress>\n",
       "      [3102/3102 05:42, Epoch 3/3]\n",
       "    </div>\n",
       "    <table border=\"1\" class=\"dataframe\">\n",
       "  <thead>\n",
       " <tr style=\"text-align: left;\">\n",
       "      <th>Step</th>\n",
       "      <th>Training Loss</th>\n",
       "      <th>Validation Loss</th>\n",
       "    </tr>\n",
       "  </thead>\n",
       "  <tbody>\n",
       "    <tr>\n",
       "      <td>3000</td>\n",
       "      <td>0.128300</td>\n",
       "      <td>0.371673</td>\n",
       "    </tr>\n",
       "  </tbody>\n",
       "</table><p>"
      ],
      "text/plain": [
       "<IPython.core.display.HTML object>"
      ]
     },
     "metadata": {},
     "output_type": "display_data"
    },
    {
     "data": {
      "text/html": [],
      "text/plain": [
       "<IPython.core.display.HTML object>"
      ]
     },
     "metadata": {},
     "output_type": "display_data"
    },
    {
     "name": "stdout",
     "output_type": "stream",
     "text": [
      "Evaluation loss for learning rate 1e-05: 0.3782637119293213\n",
      "[[950  67]\n",
      " [ 53  64]]\n",
      "Accuracy: 0.8941798941798942\n",
      "Precision: 0.48854961832061067\n",
      "Recall: 0.5470085470085471\n",
      "F1 Score: 0.5161290322580645\n"
     ]
    },
    {
     "name": "stderr",
     "output_type": "stream",
     "text": [
      "Some weights of BertForSequenceClassification were not initialized from the model checkpoint at bert-base-german-cased and are newly initialized: ['classifier.bias', 'classifier.weight']\n",
      "You should probably TRAIN this model on a down-stream task to be able to use it for predictions and inference.\n"
     ]
    },
    {
     "name": "stdout",
     "output_type": "stream",
     "text": [
      "Collection Process\n",
      "0    4136\n",
      "1     398\n",
      "Name: count, dtype: int64\n",
      "Collection Process\n",
      "0    4136\n",
      "1    4136\n",
      "Name: count, dtype: int64\n",
      "Training with learning rate: 2e-05\n"
     ]
    },
    {
     "data": {
      "text/html": [
       "\n",
       "    <div>\n",
       "      \n",
       "      <progress value='3102' max='3102' style='width:300px; height:20px; vertical-align: middle;'></progress>\n",
       "      [3102/3102 05:43, Epoch 3/3]\n",
       "    </div>\n",
       "    <table border=\"1\" class=\"dataframe\">\n",
       "  <thead>\n",
       " <tr style=\"text-align: left;\">\n",
       "      <th>Step</th>\n",
       "      <th>Training Loss</th>\n",
       "      <th>Validation Loss</th>\n",
       "    </tr>\n",
       "  </thead>\n",
       "  <tbody>\n",
       "    <tr>\n",
       "      <td>3000</td>\n",
       "      <td>0.088100</td>\n",
       "      <td>0.385995</td>\n",
       "    </tr>\n",
       "  </tbody>\n",
       "</table><p>"
      ],
      "text/plain": [
       "<IPython.core.display.HTML object>"
      ]
     },
     "metadata": {},
     "output_type": "display_data"
    },
    {
     "data": {
      "text/html": [],
      "text/plain": [
       "<IPython.core.display.HTML object>"
      ]
     },
     "metadata": {},
     "output_type": "display_data"
    },
    {
     "name": "stdout",
     "output_type": "stream",
     "text": [
      "Evaluation loss for learning rate 2e-05: 0.39945146441459656\n",
      "[[952  65]\n",
      " [ 49  68]]\n",
      "Accuracy: 0.8994708994708994\n",
      "Precision: 0.5112781954887218\n",
      "Recall: 0.5811965811965812\n",
      "F1 Score: 0.544\n"
     ]
    },
    {
     "name": "stderr",
     "output_type": "stream",
     "text": [
      "Some weights of BertForSequenceClassification were not initialized from the model checkpoint at bert-base-german-cased and are newly initialized: ['classifier.bias', 'classifier.weight']\n",
      "You should probably TRAIN this model on a down-stream task to be able to use it for predictions and inference.\n"
     ]
    },
    {
     "name": "stdout",
     "output_type": "stream",
     "text": [
      "Collection Process\n",
      "0    4136\n",
      "1     398\n",
      "Name: count, dtype: int64\n",
      "Collection Process\n",
      "0    4136\n",
      "1    4136\n",
      "Name: count, dtype: int64\n",
      "Training with learning rate: 3e-05\n"
     ]
    },
    {
     "data": {
      "text/html": [
       "\n",
       "    <div>\n",
       "      \n",
       "      <progress value='3102' max='3102' style='width:300px; height:20px; vertical-align: middle;'></progress>\n",
       "      [3102/3102 05:41, Epoch 3/3]\n",
       "    </div>\n",
       "    <table border=\"1\" class=\"dataframe\">\n",
       "  <thead>\n",
       " <tr style=\"text-align: left;\">\n",
       "      <th>Step</th>\n",
       "      <th>Training Loss</th>\n",
       "      <th>Validation Loss</th>\n",
       "    </tr>\n",
       "  </thead>\n",
       "  <tbody>\n",
       "    <tr>\n",
       "      <td>3000</td>\n",
       "      <td>0.071200</td>\n",
       "      <td>0.397506</td>\n",
       "    </tr>\n",
       "  </tbody>\n",
       "</table><p>"
      ],
      "text/plain": [
       "<IPython.core.display.HTML object>"
      ]
     },
     "metadata": {},
     "output_type": "display_data"
    },
    {
     "data": {
      "text/html": [],
      "text/plain": [
       "<IPython.core.display.HTML object>"
      ]
     },
     "metadata": {},
     "output_type": "display_data"
    },
    {
     "name": "stdout",
     "output_type": "stream",
     "text": [
      "Evaluation loss for learning rate 3e-05: 0.41345664858818054\n",
      "[[953  64]\n",
      " [ 47  70]]\n",
      "Accuracy: 0.9021164021164021\n",
      "Precision: 0.5223880597014925\n",
      "Recall: 0.5982905982905983\n",
      "F1 Score: 0.5577689243027888\n"
     ]
    },
    {
     "name": "stderr",
     "output_type": "stream",
     "text": [
      "Some weights of BertForSequenceClassification were not initialized from the model checkpoint at bert-base-german-cased and are newly initialized: ['classifier.bias', 'classifier.weight']\n",
      "You should probably TRAIN this model on a down-stream task to be able to use it for predictions and inference.\n"
     ]
    },
    {
     "name": "stdout",
     "output_type": "stream",
     "text": [
      "Collection Process\n",
      "0    4136\n",
      "1     398\n",
      "Name: count, dtype: int64\n",
      "Collection Process\n",
      "0    4136\n",
      "1    4136\n",
      "Name: count, dtype: int64\n",
      "Training with learning rate: 5e-05\n"
     ]
    },
    {
     "data": {
      "text/html": [
       "\n",
       "    <div>\n",
       "      \n",
       "      <progress value='3102' max='3102' style='width:300px; height:20px; vertical-align: middle;'></progress>\n",
       "      [3102/3102 05:43, Epoch 3/3]\n",
       "    </div>\n",
       "    <table border=\"1\" class=\"dataframe\">\n",
       "  <thead>\n",
       " <tr style=\"text-align: left;\">\n",
       "      <th>Step</th>\n",
       "      <th>Training Loss</th>\n",
       "      <th>Validation Loss</th>\n",
       "    </tr>\n",
       "  </thead>\n",
       "  <tbody>\n",
       "    <tr>\n",
       "      <td>3000</td>\n",
       "      <td>0.050500</td>\n",
       "      <td>0.400942</td>\n",
       "    </tr>\n",
       "  </tbody>\n",
       "</table><p>"
      ],
      "text/plain": [
       "<IPython.core.display.HTML object>"
      ]
     },
     "metadata": {},
     "output_type": "display_data"
    },
    {
     "data": {
      "text/html": [],
      "text/plain": [
       "<IPython.core.display.HTML object>"
      ]
     },
     "metadata": {},
     "output_type": "display_data"
    },
    {
     "name": "stdout",
     "output_type": "stream",
     "text": [
      "Evaluation loss for learning rate 5e-05: 0.40742531418800354\n",
      "[[964  53]\n",
      " [ 50  67]]\n",
      "Accuracy: 0.9091710758377425\n",
      "Precision: 0.5583333333333333\n",
      "Recall: 0.5726495726495726\n",
      "F1 Score: 0.5654008438818565\n"
     ]
    },
    {
     "name": "stderr",
     "output_type": "stream",
     "text": [
      "Some weights of BertForSequenceClassification were not initialized from the model checkpoint at bert-base-german-cased and are newly initialized: ['classifier.bias', 'classifier.weight']\n",
      "You should probably TRAIN this model on a down-stream task to be able to use it for predictions and inference.\n"
     ]
    },
    {
     "name": "stdout",
     "output_type": "stream",
     "text": [
      "Collection Process\n",
      "0    4136\n",
      "1     398\n",
      "Name: count, dtype: int64\n",
      "Collection Process\n",
      "0    4136\n",
      "1    4136\n",
      "Name: count, dtype: int64\n",
      "Training with learning rate: 0.0001\n"
     ]
    },
    {
     "data": {
      "text/html": [
       "\n",
       "    <div>\n",
       "      \n",
       "      <progress value='3102' max='3102' style='width:300px; height:20px; vertical-align: middle;'></progress>\n",
       "      [3102/3102 05:42, Epoch 3/3]\n",
       "    </div>\n",
       "    <table border=\"1\" class=\"dataframe\">\n",
       "  <thead>\n",
       " <tr style=\"text-align: left;\">\n",
       "      <th>Step</th>\n",
       "      <th>Training Loss</th>\n",
       "      <th>Validation Loss</th>\n",
       "    </tr>\n",
       "  </thead>\n",
       "  <tbody>\n",
       "    <tr>\n",
       "      <td>3000</td>\n",
       "      <td>0.048200</td>\n",
       "      <td>0.426697</td>\n",
       "    </tr>\n",
       "  </tbody>\n",
       "</table><p>"
      ],
      "text/plain": [
       "<IPython.core.display.HTML object>"
      ]
     },
     "metadata": {},
     "output_type": "display_data"
    },
    {
     "data": {
      "text/html": [],
      "text/plain": [
       "<IPython.core.display.HTML object>"
      ]
     },
     "metadata": {},
     "output_type": "display_data"
    },
    {
     "name": "stdout",
     "output_type": "stream",
     "text": [
      "Evaluation loss for learning rate 0.0001: 0.42695868015289307\n",
      "[[964  53]\n",
      " [ 50  67]]\n",
      "Accuracy: 0.9091710758377425\n",
      "Precision: 0.5583333333333333\n",
      "Recall: 0.5726495726495726\n",
      "F1 Score: 0.5654008438818565\n"
     ]
    },
    {
     "name": "stderr",
     "output_type": "stream",
     "text": [
      "Some weights of BertForSequenceClassification were not initialized from the model checkpoint at bert-base-german-cased and are newly initialized: ['classifier.bias', 'classifier.weight']\n",
      "You should probably TRAIN this model on a down-stream task to be able to use it for predictions and inference.\n"
     ]
    },
    {
     "name": "stdout",
     "output_type": "stream",
     "text": [
      "Collection Process\n",
      "0    4136\n",
      "1     398\n",
      "Name: count, dtype: int64\n",
      "Collection Process\n",
      "0    4136\n",
      "1    4136\n",
      "Name: count, dtype: int64\n",
      "Training with learning rate: 0.0002\n"
     ]
    },
    {
     "data": {
      "text/html": [
       "\n",
       "    <div>\n",
       "      \n",
       "      <progress value='3102' max='3102' style='width:300px; height:20px; vertical-align: middle;'></progress>\n",
       "      [3102/3102 05:42, Epoch 3/3]\n",
       "    </div>\n",
       "    <table border=\"1\" class=\"dataframe\">\n",
       "  <thead>\n",
       " <tr style=\"text-align: left;\">\n",
       "      <th>Step</th>\n",
       "      <th>Training Loss</th>\n",
       "      <th>Validation Loss</th>\n",
       "    </tr>\n",
       "  </thead>\n",
       "  <tbody>\n",
       "    <tr>\n",
       "      <td>3000</td>\n",
       "      <td>0.081600</td>\n",
       "      <td>0.351737</td>\n",
       "    </tr>\n",
       "  </tbody>\n",
       "</table><p>"
      ],
      "text/plain": [
       "<IPython.core.display.HTML object>"
      ]
     },
     "metadata": {},
     "output_type": "display_data"
    },
    {
     "data": {
      "text/html": [],
      "text/plain": [
       "<IPython.core.display.HTML object>"
      ]
     },
     "metadata": {},
     "output_type": "display_data"
    },
    {
     "name": "stdout",
     "output_type": "stream",
     "text": [
      "Evaluation loss for learning rate 0.0002: 0.355380654335022\n",
      "[[959  58]\n",
      " [ 51  66]]\n",
      "Accuracy: 0.9038800705467372\n",
      "Precision: 0.532258064516129\n",
      "Recall: 0.5641025641025641\n",
      "F1 Score: 0.5477178423236515\n"
     ]
    },
    {
     "name": "stderr",
     "output_type": "stream",
     "text": [
      "Some weights of BertForSequenceClassification were not initialized from the model checkpoint at bert-base-german-cased and are newly initialized: ['classifier.bias', 'classifier.weight']\n",
      "You should probably TRAIN this model on a down-stream task to be able to use it for predictions and inference.\n"
     ]
    },
    {
     "name": "stdout",
     "output_type": "stream",
     "text": [
      "Collection Process\n",
      "0    4136\n",
      "1     398\n",
      "Name: count, dtype: int64\n",
      "Collection Process\n",
      "0    4136\n",
      "1    4136\n",
      "Name: count, dtype: int64\n",
      "Training with learning rate: 0.0003\n"
     ]
    },
    {
     "data": {
      "text/html": [
       "\n",
       "    <div>\n",
       "      \n",
       "      <progress value='3102' max='3102' style='width:300px; height:20px; vertical-align: middle;'></progress>\n",
       "      [3102/3102 05:43, Epoch 3/3]\n",
       "    </div>\n",
       "    <table border=\"1\" class=\"dataframe\">\n",
       "  <thead>\n",
       " <tr style=\"text-align: left;\">\n",
       "      <th>Step</th>\n",
       "      <th>Training Loss</th>\n",
       "      <th>Validation Loss</th>\n",
       "    </tr>\n",
       "  </thead>\n",
       "  <tbody>\n",
       "    <tr>\n",
       "      <td>3000</td>\n",
       "      <td>0.092000</td>\n",
       "      <td>0.323472</td>\n",
       "    </tr>\n",
       "  </tbody>\n",
       "</table><p>"
      ],
      "text/plain": [
       "<IPython.core.display.HTML object>"
      ]
     },
     "metadata": {},
     "output_type": "display_data"
    },
    {
     "data": {
      "text/html": [],
      "text/plain": [
       "<IPython.core.display.HTML object>"
      ]
     },
     "metadata": {},
     "output_type": "display_data"
    },
    {
     "name": "stdout",
     "output_type": "stream",
     "text": [
      "Evaluation loss for learning rate 0.0003: 0.3287490904331207\n",
      "[[961  56]\n",
      " [ 52  65]]\n",
      "Accuracy: 0.9047619047619048\n",
      "Precision: 0.5371900826446281\n",
      "Recall: 0.5555555555555556\n",
      "F1 Score: 0.5462184873949579\n",
      "Best Learning Rate: 0.0003 with loss: 0.3287490904331207\n",
      "Best f1 Learning Rat: 5e-05 with highest f1: 0.5654008438818565\n"
     ]
    }
   ],
   "source": [
    "\n",
    "best_lr = None\n",
    "lowest_eval_loss = float('inf')\n",
    "\n",
    "best_f1_lr = None\n",
    "highest_f1 = 0\n",
    "\n",
    "\n",
    "for lr in learning_rates:\n",
    "    \n",
    "#--------------------------------------------------------------------------------    \n",
    "\n",
    "    tokenizer = AutoTokenizer.from_pretrained(\"uklfr/gottbert-base\")\n",
    "    model = AutoModelForSequenceClassification.from_pretrained(\"uklfr/gottbert-base\")\n",
    "\n",
    "\n",
    "    # Freeze all parameters\n",
    "    for param in model.parameters():\n",
    "        param.requires_grad = False\n",
    "\n",
    "    # Unfreeze the last two layers of the RoBERTa model\n",
    "    # Access the layers as model.roberta.encoder.layer\n",
    "    for module in [model.roberta.encoder.layer[-2], model.roberta.encoder.layer[-1]]:\n",
    "        for param in module.parameters():\n",
    "            param.requires_grad = True\n",
    "#-----------------------------------------------------------------------------------  \n",
    "    df_train = df[['Segment Text',target_column]].loc[df['policy_type'] == 'TRAIN']\n",
    "    \n",
    "    X = df_train['Segment Text']\n",
    "    y = df_train[target_column]\n",
    "\n",
    "\n",
    "    X_train, X_val, y_train, y_val = train_test_split(X, y, test_size=0.20, random_state=0)\n",
    "\n",
    "    df_train = pd.concat([X_train, y_train], axis=1)\n",
    "    print(df_train[target_column].value_counts())\n",
    "\n",
    "    df_train_aug = balance_classes(df_train,target_column,'Segment Text' )\n",
    "    print(df_train_aug[target_column].value_counts())\n",
    "\n",
    "    X_train=list(df_train_aug['Segment Text'])\n",
    "    y_train=list(df_train_aug[target_column])\n",
    "    \n",
    "\n",
    "    X_val=list(X_val)\n",
    "    y_val=list( y_val)\n",
    "\n",
    "\n",
    "    # mapping labels\n",
    "\n",
    "    label_mapping = {0: 0, 1: 1}\n",
    "    y_train_integers = [label_mapping[label] for label in y_train]\n",
    "    y_val_integers = [label_mapping[label] for label in y_val]\n",
    "\n",
    "    train_encodings = tokenizer(X_train, max_length=512, truncation=True, padding='max_length')\n",
    "    val_encodings = tokenizer(X_val, max_length=512, truncation=True, padding='max_length')\n",
    "\n",
    "\n",
    "    #\n",
    "    class TextDataset(torch.utils.data.Dataset):\n",
    "        def __init__(self, encodings, labels):\n",
    "            self.encodings = encodings\n",
    "            self.labels = labels\n",
    "\n",
    "        def __getitem__(self, idx):\n",
    "            item = {key: torch.tensor(val[idx]) for key, val in self.encodings.items()}\n",
    "            item['labels'] = self.labels[idx]  # Removed torch.tensor here\n",
    "            return item\n",
    "\n",
    "        def __len__(self):\n",
    "            return len(self.labels)\n",
    "\n",
    "\n",
    "    train_dataset = TextDataset(train_encodings, y_train_integers)\n",
    "    val_dataset = TextDataset(val_encodings, y_val_integers)\n",
    "\n",
    "\n",
    "\n",
    "#---------------------------------------------------------------------------  \n",
    "    \n",
    "    # Set up training arguments with the current learning rate\n",
    "    training_args = TrainingArguments(\n",
    "        output_dir='./results',\n",
    "        learning_rate=lr,  # Set learning rate here\n",
    "        num_train_epochs=epochs ,\n",
    "        per_device_train_batch_size=batch_size,\n",
    "        per_device_eval_batch_size=8,\n",
    "        warmup_steps=500,\n",
    "        weight_decay=0.01,\n",
    "        logging_dir='./logs',\n",
    "        logging_steps=100,\n",
    "        evaluation_strategy=\"steps\",\n",
    "        eval_steps=3000\n",
    "    )\n",
    "\n",
    "    # Set up the Trainer\n",
    "    trainer = Trainer(\n",
    "        model=model,\n",
    "        args=training_args,\n",
    "        train_dataset=train_dataset,\n",
    "        eval_dataset=val_dataset\n",
    "    )\n",
    "\n",
    "\n",
    "    # Train the model with the current learning rate\n",
    "    print(f\"Training with learning rate: {lr}\")\n",
    "    trainer.train()\n",
    "    \n",
    " # Evaluate the model\n",
    "    eval_result = trainer.evaluate()\n",
    "    print(f\"Evaluation loss for learning rate {lr}: {eval_result['eval_loss']}\")\n",
    "    \n",
    "    \n",
    "    predictions = trainer.predict(val_dataset).predictions\n",
    "    predictions_label = np.argmax(predictions, axis=1)\n",
    "\n",
    "    cm=confusion_matrix( y_val_integers, predictions_label)\n",
    "    print(cm)\n",
    "\n",
    "    accuracy = accuracy_score( y_val_integers, predictions_label)\n",
    "    precision, recall, f1, _ = precision_recall_fscore_support(y_val_integers, predictions_label, average='binary')\n",
    "    print(f\"Accuracy: {accuracy}\")\n",
    "    print(f\"Precision: {precision}\")\n",
    "    print(f\"Recall: {recall}\")\n",
    "    print(f\"F1 Score: {f1}\")\n",
    "\n",
    "    if eval_result['eval_loss'] < lowest_eval_loss:\n",
    "        best_lr = lr\n",
    "        lowest_eval_loss = eval_result['eval_loss']\n",
    "            \n",
    "    if f1 > highest_f1:\n",
    "        best_f1_lr = lr\n",
    "        highest_f1 = f1\n",
    "        \n",
    "\n",
    "print(f\"Best Learning Rate: {best_lr} with loss: {lowest_eval_loss}\")\n",
    "print(f\"Best f1 Learning Rat: {best_f1_lr} with highest f1: { highest_f1}\")"
   ]
  },
  {
   "cell_type": "markdown",
   "id": "a96252fd-27fe-4466-94cd-9a7adf5fb906",
   "metadata": {},
   "source": [
    "### Retrain the model with certain learning rate"
   ]
  },
  {
   "cell_type": "code",
   "execution_count": 15,
   "id": "ea38fd22-f998-4bfe-8be1-9db5020dc22c",
   "metadata": {},
   "outputs": [
    {
     "name": "stderr",
     "output_type": "stream",
     "text": [
      "Some weights of BertForSequenceClassification were not initialized from the model checkpoint at bert-base-german-cased and are newly initialized: ['classifier.bias', 'classifier.weight']\n",
      "You should probably TRAIN this model on a down-stream task to be able to use it for predictions and inference.\n"
     ]
    },
    {
     "name": "stdout",
     "output_type": "stream",
     "text": [
      "Collection Process\n",
      "0    5153\n",
      "1     515\n",
      "Name: count, dtype: int64\n",
      "Collection Process\n",
      "0    5153\n",
      "1    5153\n",
      "Name: count, dtype: int64\n",
      "Counter({0: 5153, 1: 5153})\n",
      "Counter({0: 1063, 1: 140})\n"
     ]
    },
    {
     "data": {
      "text/html": [
       "\n",
       "    <div>\n",
       "      \n",
       "      <progress value='3867' max='3867' style='width:300px; height:20px; vertical-align: middle;'></progress>\n",
       "      [3867/3867 06:59, Epoch 3/3]\n",
       "    </div>\n",
       "    <table border=\"1\" class=\"dataframe\">\n",
       "  <thead>\n",
       " <tr style=\"text-align: left;\">\n",
       "      <th>Step</th>\n",
       "      <th>Training Loss</th>\n",
       "      <th>Validation Loss</th>\n",
       "    </tr>\n",
       "  </thead>\n",
       "  <tbody>\n",
       "    <tr>\n",
       "      <td>3000</td>\n",
       "      <td>0.074100</td>\n",
       "      <td>0.418247</td>\n",
       "    </tr>\n",
       "  </tbody>\n",
       "</table><p>"
      ],
      "text/plain": [
       "<IPython.core.display.HTML object>"
      ]
     },
     "metadata": {},
     "output_type": "display_data"
    },
    {
     "data": {
      "text/html": [],
      "text/plain": [
       "<IPython.core.display.HTML object>"
      ]
     },
     "metadata": {},
     "output_type": "display_data"
    },
    {
     "name": "stdout",
     "output_type": "stream",
     "text": [
      "[[1008   55]\n",
      " [  72   68]]\n",
      "Accuracy: 0.8944305901911886\n",
      "Precision: 0.5528455284552846\n",
      "Recall: 0.4857142857142857\n",
      "F1 Score: 0.5171102661596958\n",
      "Best f1 Learning Rat: 5e-05 \n"
     ]
    }
   ],
   "source": [
    "\n",
    "tokenizer = AutoTokenizer.from_pretrained(\"bert-base-german-cased\")\n",
    "model = BertForSequenceClassification.from_pretrained(\"bert-base-german-cased\")\n",
    "\n",
    "\n",
    "\n",
    "# Freeze all parameters\n",
    "for param in model.parameters():\n",
    "    param.requires_grad = False\n",
    "\n",
    "# Unfreeze the last two layers of the BERT model\n",
    "# BERT uses an encoder structure, so you will need to access its layers accordingly\n",
    "for module in [ model.bert.encoder.layer[-2], model.bert.encoder.layer[-1]]:\n",
    "    for param in module.parameters():\n",
    "        param.requires_grad = True\n",
    "\n",
    "                       \n",
    "#-----------------------------------------------------------------------------------     \n",
    "df_train = df[['Segment Text',target_column]].loc[df['policy_type'] == 'TRAIN']\n",
    "print(df_train[target_column].value_counts())\n",
    "\n",
    "df_train_aug = balance_classes(df_train,target_column,'Segment Text' )\n",
    "print(df_train_aug[target_column].value_counts())\n",
    "\n",
    "\n",
    "X_train=list(df_train_aug['Segment Text'])\n",
    "y_train=list(df_train_aug[target_column])\n",
    "\n",
    "X_test=list(df['Segment Text'].loc[(df['policy_type'] == 'TEST')])\n",
    "y_test=list(df[target_column].loc[(df['policy_type'] == 'TEST')])\n",
    "\n",
    "\n",
    "train_encodings = tokenizer(X_train, max_length=512, truncation=True, padding='max_length')\n",
    "test_encodings = tokenizer(X_test, max_length=512, truncation=True, padding='max_length')\n",
    "\n",
    "\n",
    "label_mapping = {0: 0, 1: 1}\n",
    "y_train_integers = [label_mapping[label] for label in y_train]\n",
    "y_test_integers = [label_mapping[label] for label in y_test]\n",
    "\n",
    "\n",
    "class TextDataset(torch.utils.data.Dataset):\n",
    "    def __init__(self, encodings, labels):\n",
    "        self.encodings = encodings\n",
    "        self.labels = labels\n",
    "\n",
    "    def __getitem__(self, idx):\n",
    "        item = {key: torch.tensor(val[idx]) for key, val in self.encodings.items()}\n",
    "        item['labels'] = self.labels[idx]  # Removed torch.tensor here\n",
    "        return item\n",
    "\n",
    "    def __len__(self):\n",
    "        return len(self.labels)\n",
    "\n",
    "train_dataset = TextDataset(train_encodings, y_train_integers)\n",
    "test_dataset = TextDataset(test_encodings, y_test_integers)\n",
    "\n",
    "\n",
    "#------------------------\n",
    "from collections import Counter\n",
    "print(Counter(y_train))\n",
    "print(Counter(y_test))\n",
    "\n",
    "#--------------------------\n",
    "\n",
    "training_args = TrainingArguments(\n",
    "    output_dir='./results',\n",
    "    learning_rate= best_f1_lr , # Set learning rate here\n",
    "    num_train_epochs=epochs ,\n",
    "    per_device_train_batch_size=batch_size,\n",
    "    per_device_eval_batch_size=8,\n",
    "    warmup_steps=500,\n",
    "    weight_decay=0.01,\n",
    "    logging_dir='./logs',\n",
    "    logging_steps=100,\n",
    "    evaluation_strategy=\"steps\",\n",
    "    eval_steps=3000\n",
    "\n",
    ")\n",
    "\n",
    "trainer = Trainer(\n",
    "    model=model,\n",
    "    args=training_args,\n",
    "    train_dataset=train_dataset,\n",
    "    eval_dataset=test_dataset\n",
    ")\n",
    "\n",
    "trainer.train()\n",
    "\n",
    "predictions = trainer.predict(test_dataset).predictions\n",
    "predictions_label = np.argmax(predictions, axis=1)\n",
    "\n",
    "cm=confusion_matrix(y_test_integers, predictions_label)\n",
    "print(cm)\n",
    "\n",
    "accuracy = accuracy_score(y_test_integers, predictions_label)\n",
    "precision, recall, f1, _ = precision_recall_fscore_support(y_test_integers, predictions_label, average='binary')\n",
    "print(f\"Accuracy: {accuracy}\")\n",
    "print(f\"Precision: {precision}\")\n",
    "print(f\"Recall: {recall}\")\n",
    "print(f\"F1 Score: {f1}\")\n",
    "\n",
    "print(f\"Best f1 Learning Rat: {best_f1_lr} \")"
   ]
  },
  {
   "cell_type": "code",
   "execution_count": null,
   "id": "3b60116d-f2e3-4eb9-9369-7b1d3d274f2f",
   "metadata": {},
   "outputs": [],
   "source": []
  },
  {
   "cell_type": "code",
   "execution_count": null,
   "id": "f2425ac5-f2a7-49e6-a4a6-2e84f0f76321",
   "metadata": {},
   "outputs": [],
   "source": []
  }
 ],
 "metadata": {
  "kernelspec": {
   "display_name": "Python 3 (ipykernel)",
   "language": "python",
   "name": "python3"
  },
  "language_info": {
   "codemirror_mode": {
    "name": "ipython",
    "version": 3
   },
   "file_extension": ".py",
   "mimetype": "text/x-python",
   "name": "python",
   "nbconvert_exporter": "python",
   "pygments_lexer": "ipython3",
   "version": "3.10.13"
  }
 },
 "nbformat": 4,
 "nbformat_minor": 5
}
